{
 "cells": [
  {
   "cell_type": "code",
   "execution_count": 1,
   "metadata": {},
   "outputs": [
    {
     "name": "stderr",
     "output_type": "stream",
     "text": [
      " \n",
      "Music21 v.4 is the last version that will support Python 2.\n",
      "Please start using Python 3 instead.\n",
      "\n",
      "Set music21.environment.UserSettings()['warnings'] = 0\n",
      "to disable this message.\n",
      "\n"
     ]
    }
   ],
   "source": [
    "import music21 as m2\n",
    "from mido import MidiFile\n",
    "from multiprocessing import Pool\n",
    "import os\n",
    "from glob2 import iglob, glob\n",
    "from timeout import timeout\n",
    "from tqdm import tqdm\n",
    "from random import shuffle"
   ]
  },
  {
   "cell_type": "code",
   "execution_count": 2,
   "metadata": {},
   "outputs": [],
   "source": [
    "input_regex = '../../local_cache/**/*.[mM][IixX][lLdD]'\n",
    "output_dir = '../../local_cache/alex_midiset/v1/'"
   ]
  },
  {
   "cell_type": "code",
   "execution_count": 3,
   "metadata": {},
   "outputs": [
    {
     "name": "stdout",
     "output_type": "stream",
     "text": [
      "('Converting', 197719, 'midis.')\n"
     ]
    }
   ],
   "source": [
    "batch = glob(input_regex)\n",
    "batch = filter(lambda x: 'alex_midiset' not in x, batch)\n",
    "shuffle(batch)\n",
    "print('Converting', len(batch), 'midis.')"
   ]
  },
  {
   "cell_type": "code",
   "execution_count": null,
   "metadata": {},
   "outputs": [],
   "source": [
    "errors = []\n",
    "\n",
    "def wrapper(tup):\n",
    "    path, id_ = tup\n",
    "    try:\n",
    "        process(path, id_)\n",
    "    except:\n",
    "        errors.append('timeout on '+str(path))\n",
    "\n",
    "@timeout(70)\n",
    "def process(path, id_):\n",
    "    f_name = os.path.split(path)[-1]\n",
    "    out_path = output_dir+str(id_)+'_'+f_name\n",
    "    out_path = out_path.replace('.mxl', '.mid')\n",
    "    if os.path.exists(out_path):\n",
    "        return\n",
    "    \n",
    "    try:\n",
    "        m = MidiFile(path)\n",
    "        m.save(out_path)\n",
    "    except:\n",
    "        try:\n",
    "            m = m2.converter.parse(path)\n",
    "            m.write(fmt='midi', fp=out_path)\n",
    "        except Exception as e:\n",
    "            print(e)\n",
    "            errors.append(e)"
   ]
  },
  {
   "cell_type": "code",
   "execution_count": null,
   "metadata": {
    "scrolled": true
   },
   "outputs": [
    {
     "name": "stderr",
     "output_type": "stream",
     "text": [
      "\r",
      "  0%|          | 0/197719 [00:00<?, ?it/s]"
     ]
    },
    {
     "name": "stdout",
     "output_type": "stream",
     "text": [
      "badly formated midi string, got: STAR DATA V3.00\u001a\u000e\u0001\u0000\u0000\n"
     ]
    },
    {
     "name": "stderr",
     "output_type": "stream",
     "text": [
      "\r",
      " 25%|██▌       | 49434/197719 [00:00<00:00, 458971.35it/s]"
     ]
    },
    {
     "name": "stdout",
     "output_type": "stream",
     "text": [
      "badly formated midi string, got: \u0000\u000b",
      "onethat.mid\u0000\u0000\u0000\u0000\u0000\u0000\u0000\n",
      "Prelude in Gm\u0000\u0000\u0000\u0000\u0000i string, got: \u0000\n",
      "badly formated midi string, got: vti_encoding:SR|utf8\n",
      "badly formated midi string, got: RIFF^�\u0000\u0000RMIDdata��\u0000\u0000\n",
      "badly formed midi string: missing leading MTrk\n"
     ]
    },
    {
     "name": "stderr",
     "output_type": "stream",
     "text": [
      "midi.base.py: WARNING: Conversion error for <MidiEvent PROGRAM_CHANGE, t=0, track=1, channel=1>: Got incorrect data for <MidiEvent PROGRAM_CHANGE, t=0, track=1, channel=1> in .data: None,cannot parse Program Change; ignored.\n",
      "midi.base.py: WARNING: Conversion error for <MidiEvent PROGRAM_CHANGE, t=0, track=1, channel=1>: Got incorrect data for <MidiEvent PROGRAM_CHANGE, t=0, track=1, channel=1> in .data: None,cannot parse Program Change; ignored.\n",
      "midi.base.py: WARNING: Conversion error for <MidiEvent PROGRAM_CHANGE, t=0, track=1, channel=1>: Got incorrect data for <MidiEvent PROGRAM_CHANGE, t=0, track=1, channel=1> in .data: None,cannot parse Program Change; ignored.\n",
      "midi.base.py: WARNING: Conversion error for <MidiEvent PROGRAM_CHANGE, t=0, track=1, channel=1>: Got incorrect data for <MidiEvent PROGRAM_CHANGE, t=0, track=1, channel=1> in .data: None,cannot parse Program Change; ignored.\n",
      "midi.base.py: WARNING: Conversion error for <MidiEvent PROGRAM_CHANGE, t=0, track=1, channel=1>: Got incorrect data for <MidiEvent PROGRAM_CHANGE, t=0, track=1, channel=1> in .data: None,cannot parse Program Change; ignored.\n",
      "midi.base.py: WARNING: Conversion error for <MidiEvent PROGRAM_CHANGE, t=0, track=13, channel=12>: Got incorrect data for <MidiEvent PROGRAM_CHANGE, t=0, track=13, channel=12> in .data: None,cannot parse Program Change; ignored.\n",
      "midi.base.py: WARNING: Conversion error for <MidiEvent PROGRAM_CHANGE, t=0, track=1, channel=1>: Got incorrect data for <MidiEvent PROGRAM_CHANGE, t=0, track=1, channel=1> in .data: None,cannot parse Program Change; ignored.\n",
      "midi.base.py: WARNING: Conversion error for <MidiEvent PROGRAM_CHANGE, t=0, track=2, channel=1>: Got incorrect data for <MidiEvent PROGRAM_CHANGE, t=0, track=2, channel=1> in .data: None,cannot parse Program Change; ignored.\n",
      "midi.base.py: WARNING: Conversion error for <MidiEvent PROGRAM_CHANGE, t=0, track=3, channel=1>: Got incorrect data for <MidiEvent PROGRAM_CHANGE, t=0, track=3, channel=1> in .data: None,cannot parse Program Change; ignored.\n",
      "midi.base.py: WARNING: Conversion error for <MidiEvent PROGRAM_CHANGE, t=0, track=4, channel=1>: Got incorrect data for <MidiEvent PROGRAM_CHANGE, t=0, track=4, channel=1> in .data: None,cannot parse Program Change; ignored.\n",
      "midi.base.py: WARNING: Conversion error for <MidiEvent PROGRAM_CHANGE, t=0, track=5, channel=1>: Got incorrect data for <MidiEvent PROGRAM_CHANGE, t=0, track=5, channel=1> in .data: None,cannot parse Program Change; ignored.\n",
      "midi.base.py: WARNING: Conversion error for <MidiEvent PROGRAM_CHANGE, t=0, track=6, channel=1>: Got incorrect data for <MidiEvent PROGRAM_CHANGE, t=0, track=6, channel=1> in .data: None,cannot parse Program Change; ignored.\n"
     ]
    },
    {
     "name": "stdout",
     "output_type": "stream",
     "text": [
      "badly formated midi string, got: RIFF�\u0012\u0000\u0000RMIDdatag\u0012\u0000\u0000\n"
     ]
    },
    {
     "name": "stderr",
     "output_type": "stream",
     "text": [
      "\r",
      " 25%|██▌       | 49434/197719 [00:20<01:00, 2469.54it/s]  "
     ]
    },
    {
     "name": "stdout",
     "output_type": "stream",
     "text": [
      "badly formated midi string, got: vti_encoding:SR|utf8\n"
     ]
    },
    {
     "name": "stderr",
     "output_type": "stream",
     "text": [
      "midi.base.py: WARNING: Conversion error for <MidiEvent PROGRAM_CHANGE, t=0, track=1, channel=1>: Got incorrect data for <MidiEvent PROGRAM_CHANGE, t=0, track=1, channel=1> in .data: None,cannot parse Program Change; ignored.\n",
      "midi.base.py: WARNING: Conversion error for <MidiEvent PROGRAM_CHANGE, t=0, track=1, channel=1>: Got incorrect data for <MidiEvent PROGRAM_CHANGE, t=0, track=1, channel=1> in .data: None,cannot parse Program Change; ignored.\n",
      "midi.base.py: WARNING: Conversion error for <MidiEvent PROGRAM_CHANGE, t=0, track=1, channel=1>: Got incorrect data for <MidiEvent PROGRAM_CHANGE, t=0, track=1, channel=1> in .data: None,cannot parse Program Change; ignored.\n",
      "midi.base.py: WARNING: Conversion error for <MidiEvent PROGRAM_CHANGE, t=0, track=1, channel=1>: Got incorrect data for <MidiEvent PROGRAM_CHANGE, t=0, track=1, channel=1> in .data: None,cannot parse Program Change; ignored.\n",
      "midi.base.py: WARNING: Conversion error for <MidiEvent PROGRAM_CHANGE, t=0, track=1, channel=1>: Got incorrect data for <MidiEvent PROGRAM_CHANGE, t=0, track=1, channel=1> in .data: None,cannot parse Program Change; ignored.\n",
      "midi.base.py: WARNING: Conversion error for <MidiEvent PROGRAM_CHANGE, t=0, track=1, channel=1>: Got incorrect data for <MidiEvent PROGRAM_CHANGE, t=0, track=1, channel=1> in .data: None,cannot parse Program Change; ignored.\n",
      "midi.base.py: WARNING: Conversion error for <MidiEvent PROGRAM_CHANGE, t=0, track=1, channel=1>: Got incorrect data for <MidiEvent PROGRAM_CHANGE, t=0, track=1, channel=1> in .data: None,cannot parse Program Change; ignored.\n",
      "midi.base.py: WARNING: Conversion error for <MidiEvent PROGRAM_CHANGE, t=0, track=1, channel=1>: Got incorrect data for <MidiEvent PROGRAM_CHANGE, t=0, track=1, channel=1> in .data: None,cannot parse Program Change; ignored.\n",
      "midi.base.py: WARNING: Conversion error for <MidiEvent PROGRAM_CHANGE, t=0, track=1, channel=1>: Got incorrect data for <MidiEvent PROGRAM_CHANGE, t=0, track=1, channel=1> in .data: None,cannot parse Program Change; ignored.\n",
      "midi.base.py: WARNING: Conversion error for <MidiEvent PROGRAM_CHANGE, t=0, track=2, channel=1>: Got incorrect data for <MidiEvent PROGRAM_CHANGE, t=0, track=2, channel=1> in .data: None,cannot parse Program Change; ignored.\n",
      "midi.base.py: WARNING: Conversion error for <MidiEvent PROGRAM_CHANGE, t=0, track=4, channel=1>: Got incorrect data for <MidiEvent PROGRAM_CHANGE, t=0, track=4, channel=1> in .data: None,cannot parse Program Change; ignored.\n",
      "midi.base.py: WARNING: Conversion error for <MidiEvent PROGRAM_CHANGE, t=0, track=7, channel=1>: Got incorrect data for <MidiEvent PROGRAM_CHANGE, t=0, track=7, channel=1> in .data: None,cannot parse Program Change; ignored.\n",
      "midi.base.py: WARNING: Conversion error for <MidiEvent PROGRAM_CHANGE, t=0, track=1, channel=1>: Got incorrect data for <MidiEvent PROGRAM_CHANGE, t=0, track=1, channel=1> in .data: None,cannot parse Program Change; ignored.\n",
      "midi.base.py: WARNING: Conversion error for <MidiEvent PROGRAM_CHANGE, t=0, track=1, channel=1>: Got incorrect data for <MidiEvent PROGRAM_CHANGE, t=0, track=1, channel=1> in .data: None,cannot parse Program Change; ignored.\n",
      "midi.base.py: WARNING: Conversion error for <MidiEvent PROGRAM_CHANGE, t=0, track=1, channel=1>: Got incorrect data for <MidiEvent PROGRAM_CHANGE, t=0, track=1, channel=1> in .data: None,cannot parse Program Change; ignored.\n",
      "midi.base.py: WARNING: Conversion error for <MidiEvent PROGRAM_CHANGE, t=0, track=1, channel=1>: Got incorrect data for <MidiEvent PROGRAM_CHANGE, t=0, track=1, channel=1> in .data: None,cannot parse Program Change; ignored.\n",
      "midi.base.py: WARNING: Conversion error for <MidiEvent PROGRAM_CHANGE, t=0, track=1, channel=1>: Got incorrect data for <MidiEvent PROGRAM_CHANGE, t=0, track=1, channel=1> in .data: None,cannot parse Program Change; ignored.\n",
      "midi.base.py: WARNING: Conversion error for <MidiEvent PROGRAM_CHANGE, t=0, track=1, channel=1>: Got incorrect data for <MidiEvent PROGRAM_CHANGE, t=0, track=1, channel=1> in .data: None,cannot parse Program Change; ignored.\n",
      "midi.base.py: WARNING: Conversion error for <MidiEvent PROGRAM_CHANGE, t=0, track=1, channel=1>: Got incorrect data for <MidiEvent PROGRAM_CHANGE, t=0, track=1, channel=1> in .data: None,cannot parse Program Change; ignored.\n",
      "midi.base.py: WARNING: Conversion error for <MidiEvent PROGRAM_CHANGE, t=0, track=2, channel=2>: Got incorrect data for <MidiEvent PROGRAM_CHANGE, t=0, track=2, channel=2> in .data: None,cannot parse Program Change; ignored.\n",
      "midi.base.py: WARNING: Conversion error for <MidiEvent PROGRAM_CHANGE, t=0, track=7, channel=2>: Got incorrect data for <MidiEvent PROGRAM_CHANGE, t=0, track=7, channel=2> in .data: None,cannot parse Program Change; ignored.\n",
      "midi.base.py: WARNING: Conversion error for <MidiEvent PROGRAM_CHANGE, t=0, track=8, channel=2>: Got incorrect data for <MidiEvent PROGRAM_CHANGE, t=0, track=8, channel=2> in .data: None,cannot parse Program Change; ignored.\n"
     ]
    },
    {
     "name": "stdout",
     "output_type": "stream",
     "text": [
      "badly formated midi string, got: ��\u0018�\"?]]�����c�'\n"
     ]
    },
    {
     "name": "stderr",
     "output_type": "stream",
     "text": [
      "midi.base.py: WARNING: Conversion error for <MidiEvent PROGRAM_CHANGE, t=0, track=1, channel=1>: Got incorrect data for <MidiEvent PROGRAM_CHANGE, t=0, track=1, channel=1> in .data: None,cannot parse Program Change; ignored.\n"
     ]
    },
    {
     "name": "stdout",
     "output_type": "stream",
     "text": [
      "chr() arg not in range(256)\n"
     ]
    },
    {
     "name": "stderr",
     "output_type": "stream",
     "text": [
      "midi.base.py: WARNING: Conversion error for <MidiEvent PROGRAM_CHANGE, t=0, track=2, channel=2>: Got incorrect data for <MidiEvent PROGRAM_CHANGE, t=0, track=2, channel=2> in .data: None,cannot parse Program Change; ignored.\n"
     ]
    },
    {
     "name": "stdout",
     "output_type": "stream",
     "text": [
      "badly formed midi string: missing leading MTrk\n",
      "\n"
     ]
    },
    {
     "name": "stderr",
     "output_type": "stream",
     "text": [
      "midi.base.py: WARNING: Conversion error for <MidiEvent PROGRAM_CHANGE, t=0, track=5, channel=4>: Got incorrect data for <MidiEvent PROGRAM_CHANGE, t=0, track=5, channel=4> in .data: None,cannot parse Program Change; ignored.\n",
      "midi.base.py: WARNING: Conversion error for <MidiEvent PROGRAM_CHANGE, t=0, track=9, channel=4>: Got incorrect data for <MidiEvent PROGRAM_CHANGE, t=0, track=9, channel=4> in .data: None,cannot parse Program Change; ignored.\n",
      "midi.base.py: WARNING: Conversion error for <MidiEvent PROGRAM_CHANGE, t=0, track=10, channel=4>: Got incorrect data for <MidiEvent PROGRAM_CHANGE, t=0, track=10, channel=4> in .data: None,cannot parse Program Change; ignored.\n",
      "midi.base.py: WARNING: Conversion error for <MidiEvent PROGRAM_CHANGE, t=0, track=11, channel=4>: Got incorrect data for <MidiEvent PROGRAM_CHANGE, t=0, track=11, channel=4> in .data: None,cannot parse Program Change; ignored.\n",
      "midi.base.py: WARNING: Conversion error for <MidiEvent PROGRAM_CHANGE, t=0, track=12, channel=4>: Got incorrect data for <MidiEvent PROGRAM_CHANGE, t=0, track=12, channel=4> in .data: None,cannot parse Program Change; ignored.\n",
      "midi.base.py: WARNING: Conversion error for <MidiEvent PROGRAM_CHANGE, t=0, track=14, channel=4>: Got incorrect data for <MidiEvent PROGRAM_CHANGE, t=0, track=14, channel=4> in .data: None,cannot parse Program Change; ignored.\n",
      "midi.base.py: WARNING: Conversion error for <MidiEvent PROGRAM_CHANGE, t=0, track=15, channel=4>: Got incorrect data for <MidiEvent PROGRAM_CHANGE, t=0, track=15, channel=4> in .data: None,cannot parse Program Change; ignored.\n",
      "midi.base.py: WARNING: Conversion error for <MidiEvent PROGRAM_CHANGE, t=0, track=16, channel=4>: Got incorrect data for <MidiEvent PROGRAM_CHANGE, t=0, track=16, channel=4> in .data: None,cannot parse Program Change; ignored.\n"
     ]
    },
    {
     "name": "stdout",
     "output_type": "stream",
     "text": [
      "badly formated midi string, got: <html>\n",
      "<head>\n",
      "    \n",
      "\n",
      "badly formed midi string: missing leading MTrk\n",
      "badly formed midi string: missing leading MTrk\n",
      "badly formed midi string: missing leading MTrk\n"
     ]
    },
    {
     "name": "stderr",
     "output_type": "stream",
     "text": [
      "midi.base.py: WARNING: Conversion error for <MidiEvent PROGRAM_CHANGE, t=0, track=3, channel=3>: Got incorrect data for <MidiEvent PROGRAM_CHANGE, t=0, track=3, channel=3> in .data: None,cannot parse Program Change; ignored.\n",
      "midi.base.py: WARNING: Conversion error for <MidiEvent PROGRAM_CHANGE, t=0, track=5, channel=3>: Got incorrect data for <MidiEvent PROGRAM_CHANGE, t=0, track=5, channel=3> in .data: None,cannot parse Program Change; ignored.\n",
      "midi.base.py: WARNING: Conversion error for <MidiEvent PROGRAM_CHANGE, t=0, track=6, channel=3>: Got incorrect data for <MidiEvent PROGRAM_CHANGE, t=0, track=6, channel=3> in .data: None,cannot parse Program Change; ignored.\n",
      "midi.base.py: WARNING: Conversion error for <MidiEvent PROGRAM_CHANGE, t=0, track=7, channel=3>: Got incorrect data for <MidiEvent PROGRAM_CHANGE, t=0, track=7, channel=3> in .data: None,cannot parse Program Change; ignored.\n"
     ]
    },
    {
     "name": "stdout",
     "output_type": "stream",
     "text": [
      "\n",
      "badly formed midi string: missing leading MTrk\n",
      "chr() arg not in range(256)\n"
     ]
    },
    {
     "name": "stderr",
     "output_type": "stream",
     "text": [
      "midi.base.py: WARNING: Conversion error for <MidiEvent PROGRAM_CHANGE, t=0, track=1, channel=3>: Got incorrect data for <MidiEvent PROGRAM_CHANGE, t=0, track=1, channel=3> in .data: None,cannot parse Program Change; ignored.\n",
      "midi.base.py: WARNING: Conversion error for <MidiEvent PROGRAM_CHANGE, t=0, track=1, channel=3>: Got incorrect data for <MidiEvent PROGRAM_CHANGE, t=0, track=1, channel=3> in .data: None,cannot parse Program Change; ignored.\n",
      "midi.base.py: WARNING: Conversion error for <MidiEvent PROGRAM_CHANGE, t=0, track=1, channel=3>: Got incorrect data for <MidiEvent PROGRAM_CHANGE, t=0, track=1, channel=3> in .data: None,cannot parse Program Change; ignored.\n",
      "midi.base.py: WARNING: Conversion error for <MidiEvent PROGRAM_CHANGE, t=0, track=1, channel=3>: Got incorrect data for <MidiEvent PROGRAM_CHANGE, t=0, track=1, channel=3> in .data: None,cannot parse Program Change; ignored.\n",
      "midi.base.py: WARNING: Conversion error for <MidiEvent PROGRAM_CHANGE, t=0, track=1, channel=3>: Got incorrect data for <MidiEvent PROGRAM_CHANGE, t=0, track=1, channel=3> in .data: None,cannot parse Program Change; ignored.\n",
      "midi.base.py: WARNING: Conversion error for <MidiEvent PROGRAM_CHANGE, t=0, track=1, channel=3>: Got incorrect data for <MidiEvent PROGRAM_CHANGE, t=0, track=1, channel=3> in .data: None,cannot parse Program Change; ignored.\n",
      "midi.base.py: WARNING: Conversion error for <MidiEvent PROGRAM_CHANGE, t=0, track=4, channel=4>: Got incorrect data for <MidiEvent PROGRAM_CHANGE, t=0, track=4, channel=4> in .data: None,cannot parse Program Change; ignored.\n",
      "midi.base.py: WARNING: Conversion error for <MidiEvent PROGRAM_CHANGE, t=0, track=1, channel=1>: Got incorrect data for <MidiEvent PROGRAM_CHANGE, t=0, track=1, channel=1> in .data: None,cannot parse Program Change; ignored.\n",
      "midi.base.py: WARNING: Conversion error for <MidiEvent PROGRAM_CHANGE, t=0, track=1, channel=1>: Got incorrect data for <MidiEvent PROGRAM_CHANGE, t=0, track=1, channel=1> in .data: None,cannot parse Program Change; ignored.\n",
      "midi.base.py: WARNING: Conversion error for <MidiEvent PROGRAM_CHANGE, t=0, track=1, channel=1>: Got incorrect data for <MidiEvent PROGRAM_CHANGE, t=0, track=1, channel=1> in .data: None,cannot parse Program Change; ignored.\n",
      "midi.base.py: WARNING: Conversion error for <MidiEvent PROGRAM_CHANGE, t=0, track=1, channel=1>: Got incorrect data for <MidiEvent PROGRAM_CHANGE, t=0, track=1, channel=1> in .data: None,cannot parse Program Change; ignored.\n",
      "midi.base.py: WARNING: Conversion error for <MidiEvent PROGRAM_CHANGE, t=0, track=1, channel=1>: Got incorrect data for <MidiEvent PROGRAM_CHANGE, t=0, track=1, channel=1> in .data: None,cannot parse Program Change; ignored.\n",
      "midi.base.py: WARNING: Conversion error for <MidiEvent PROGRAM_CHANGE, t=0, track=1, channel=1>: Got incorrect data for <MidiEvent PROGRAM_CHANGE, t=0, track=1, channel=1> in .data: None,cannot parse Program Change; ignored.\n",
      "midi.base.py: WARNING: Conversion error for <MidiEvent PROGRAM_CHANGE, t=0, track=1, channel=1>: Got incorrect data for <MidiEvent PROGRAM_CHANGE, t=0, track=1, channel=1> in .data: None,cannot parse Program Change; ignored.\n",
      "midi.base.py: WARNING: Conversion error for <MidiEvent PROGRAM_CHANGE, t=0, track=1, channel=1>: Got incorrect data for <MidiEvent PROGRAM_CHANGE, t=0, track=1, channel=1> in .data: None,cannot parse Program Change; ignored.\n",
      "midi.base.py: WARNING: Conversion error for <MidiEvent PROGRAM_CHANGE, t=0, track=6, channel=5>: Got incorrect data for <MidiEvent PROGRAM_CHANGE, t=0, track=6, channel=5> in .data: None,cannot parse Program Change; ignored.\n",
      "midi.base.py: WARNING: Conversion error for <MidiEvent PROGRAM_CHANGE, t=0, track=8, channel=5>: Got incorrect data for <MidiEvent PROGRAM_CHANGE, t=0, track=8, channel=5> in .data: None,cannot parse Program Change; ignored.\n",
      "midi.base.py: WARNING: Conversion error for <MidiEvent PROGRAM_CHANGE, t=0, track=1, channel=1>: Got incorrect data for <MidiEvent PROGRAM_CHANGE, t=0, track=1, channel=1> in .data: None,cannot parse Program Change; ignored.\n",
      "midi.base.py: WARNING: Conversion error for <MidiEvent PROGRAM_CHANGE, t=0, track=3, channel=1>: Got incorrect data for <MidiEvent PROGRAM_CHANGE, t=0, track=3, channel=1> in .data: None,cannot parse Program Change; ignored.\n",
      "midi.base.py: WARNING: Conversion error for <MidiEvent PROGRAM_CHANGE, t=0, track=5, channel=5>: Got incorrect data for <MidiEvent PROGRAM_CHANGE, t=0, track=5, channel=5> in .data: None,cannot parse Program Change; ignored.\n"
     ]
    },
    {
     "name": "stdout",
     "output_type": "stream",
     "text": [
      "\n",
      "badly formed midi string: missing leading MTrk\n",
      "string index out of range\n"
     ]
    },
    {
     "name": "stderr",
     "output_type": "stream",
     "text": [
      "midi.base.py: WARNING: Conversion error for <MidiEvent PROGRAM_CHANGE, t=0, track=1, channel=1>: Got incorrect data for <MidiEvent PROGRAM_CHANGE, t=0, track=1, channel=1> in .data: None,cannot parse Program Change; ignored.\n",
      "midi.base.py: WARNING: Conversion error for <MidiEvent PROGRAM_CHANGE, t=0, track=1, channel=1>: Got incorrect data for <MidiEvent PROGRAM_CHANGE, t=0, track=1, channel=1> in .data: None,cannot parse Program Change; ignored.\n",
      "midi.base.py: WARNING: Conversion error for <MidiEvent PROGRAM_CHANGE, t=0, track=1, channel=1>: Got incorrect data for <MidiEvent PROGRAM_CHANGE, t=0, track=1, channel=1> in .data: None,cannot parse Program Change; ignored.\n",
      "midi.base.py: WARNING: Conversion error for <MidiEvent PROGRAM_CHANGE, t=0, track=1, channel=1>: Got incorrect data for <MidiEvent PROGRAM_CHANGE, t=0, track=1, channel=1> in .data: None,cannot parse Program Change; ignored.\n",
      "midi.base.py: WARNING: Conversion error for <MidiEvent PROGRAM_CHANGE, t=0, track=1, channel=1>: Got incorrect data for <MidiEvent PROGRAM_CHANGE, t=0, track=1, channel=1> in .data: None,cannot parse Program Change; ignored.\n",
      "midi.base.py: WARNING: Conversion error for <MidiEvent PROGRAM_CHANGE, t=0, track=1, channel=1>: Got incorrect data for <MidiEvent PROGRAM_CHANGE, t=0, track=1, channel=1> in .data: None,cannot parse Program Change; ignored.\n",
      "midi.base.py: WARNING: Conversion error for <MidiEvent PROGRAM_CHANGE, t=0, track=1, channel=1>: Got incorrect data for <MidiEvent PROGRAM_CHANGE, t=0, track=1, channel=1> in .data: None,cannot parse Program Change; ignored.\n",
      "midi.base.py: WARNING: Conversion error for <MidiEvent PROGRAM_CHANGE, t=0, track=1, channel=1>: Got incorrect data for <MidiEvent PROGRAM_CHANGE, t=0, track=1, channel=1> in .data: None,cannot parse Program Change; ignored.\n",
      "midi.base.py: WARNING: Conversion error for <MidiEvent PROGRAM_CHANGE, t=0, track=1, channel=1>: Got incorrect data for <MidiEvent PROGRAM_CHANGE, t=0, track=1, channel=1> in .data: None,cannot parse Program Change; ignored.\n",
      "midi.base.py: WARNING: Conversion error for <MidiEvent PROGRAM_CHANGE, t=0, track=1, channel=1>: Got incorrect data for <MidiEvent PROGRAM_CHANGE, t=0, track=1, channel=1> in .data: None,cannot parse Program Change; ignored.\n",
      "midi.base.py: WARNING: Conversion error for <MidiEvent PROGRAM_CHANGE, t=0, track=1, channel=1>: Got incorrect data for <MidiEvent PROGRAM_CHANGE, t=0, track=1, channel=1> in .data: None,cannot parse Program Change; ignored.\n",
      "midi.base.py: WARNING: Conversion error for <MidiEvent PROGRAM_CHANGE, t=0, track=1, channel=1>: Got incorrect data for <MidiEvent PROGRAM_CHANGE, t=0, track=1, channel=1> in .data: None,cannot parse Program Change; ignored.\n",
      "midi.base.py: WARNING: Conversion error for <MidiEvent PROGRAM_CHANGE, t=0, track=1, channel=1>: Got incorrect data for <MidiEvent PROGRAM_CHANGE, t=0, track=1, channel=1> in .data: None,cannot parse Program Change; ignored.\n",
      "midi.base.py: WARNING: Conversion error for <MidiEvent PROGRAM_CHANGE, t=0, track=1, channel=1>: Got incorrect data for <MidiEvent PROGRAM_CHANGE, t=0, track=1, channel=1> in .data: None,cannot parse Program Change; ignored.\n",
      "midi.base.py: WARNING: Conversion error for <MidiEvent PROGRAM_CHANGE, t=0, track=1, channel=1>: Got incorrect data for <MidiEvent PROGRAM_CHANGE, t=0, track=1, channel=1> in .data: None,cannot parse Program Change; ignored.\n",
      "midi.base.py: WARNING: Conversion error for <MidiEvent PROGRAM_CHANGE, t=0, track=1, channel=1>: Got incorrect data for <MidiEvent PROGRAM_CHANGE, t=0, track=1, channel=1> in .data: None,cannot parse Program Change; ignored.\n",
      "midi.base.py: WARNING: Conversion error for <MidiEvent PROGRAM_CHANGE, t=0, track=1, channel=1>: Got incorrect data for <MidiEvent PROGRAM_CHANGE, t=0, track=1, channel=1> in .data: None,cannot parse Program Change; ignored.\n",
      "midi.base.py: WARNING: Conversion error for <MidiEvent PROGRAM_CHANGE, t=0, track=1, channel=1>: Got incorrect data for <MidiEvent PROGRAM_CHANGE, t=0, track=1, channel=1> in .data: None,cannot parse Program Change; ignored.\n",
      "midi.base.py: WARNING: Conversion error for <MidiEvent PROGRAM_CHANGE, t=0, track=1, channel=1>: Got incorrect data for <MidiEvent PROGRAM_CHANGE, t=0, track=1, channel=1> in .data: None,cannot parse Program Change; ignored.\n",
      "midi.base.py: WARNING: Conversion error for <MidiEvent PROGRAM_CHANGE, t=0, track=1, channel=1>: Got incorrect data for <MidiEvent PROGRAM_CHANGE, t=0, track=1, channel=1> in .data: None,cannot parse Program Change; ignored.\n",
      "midi.base.py: WARNING: Conversion error for <MidiEvent PROGRAM_CHANGE, t=0, track=1, channel=1>: Got incorrect data for <MidiEvent PROGRAM_CHANGE, t=0, track=1, channel=1> in .data: None,cannot parse Program Change; ignored.\n",
      "midi.base.py: WARNING: Conversion error for <MidiEvent PROGRAM_CHANGE, t=0, track=1, channel=1>: Got incorrect data for <MidiEvent PROGRAM_CHANGE, t=0, track=1, channel=1> in .data: None,cannot parse Program Change; ignored.\n",
      "midi.base.py: WARNING: Conversion error for <MidiEvent PROGRAM_CHANGE, t=0, track=1, channel=1>: Got incorrect data for <MidiEvent PROGRAM_CHANGE, t=0, track=1, channel=1> in .data: None,cannot parse Program Change; ignored.\n",
      "midi.base.py: WARNING: Conversion error for <MidiEvent PROGRAM_CHANGE, t=0, track=1, channel=1>: Got incorrect data for <MidiEvent PROGRAM_CHANGE, t=0, track=1, channel=1> in .data: None,cannot parse Program Change; ignored.\n",
      "midi.base.py: WARNING: Conversion error for <MidiEvent PROGRAM_CHANGE, t=0, track=1, channel=1>: Got incorrect data for <MidiEvent PROGRAM_CHANGE, t=0, track=1, channel=1> in .data: None,cannot parse Program Change; ignored.\n",
      "midi.base.py: WARNING: Conversion error for <MidiEvent PROGRAM_CHANGE, t=0, track=1, channel=1>: Got incorrect data for <MidiEvent PROGRAM_CHANGE, t=0, track=1, channel=1> in .data: None,cannot parse Program Change; ignored.\n",
      "midi.base.py: WARNING: Conversion error for <MidiEvent PROGRAM_CHANGE, t=0, track=1, channel=1>: Got incorrect data for <MidiEvent PROGRAM_CHANGE, t=0, track=1, channel=1> in .data: None,cannot parse Program Change; ignored.\n",
      "midi.base.py: WARNING: Conversion error for <MidiEvent PROGRAM_CHANGE, t=0, track=1, channel=1>: Got incorrect data for <MidiEvent PROGRAM_CHANGE, t=0, track=1, channel=1> in .data: None,cannot parse Program Change; ignored.\n",
      "midi.base.py: WARNING: Conversion error for <MidiEvent PROGRAM_CHANGE, t=0, track=1, channel=1>: Got incorrect data for <MidiEvent PROGRAM_CHANGE, t=0, track=1, channel=1> in .data: None,cannot parse Program Change; ignored.\n",
      "midi.base.py: WARNING: Conversion error for <MidiEvent PROGRAM_CHANGE, t=0, track=1, channel=1>: Got incorrect data for <MidiEvent PROGRAM_CHANGE, t=0, track=1, channel=1> in .data: None,cannot parse Program Change; ignored.\n",
      "midi.base.py: WARNING: Conversion error for <MidiEvent PROGRAM_CHANGE, t=0, track=1, channel=1>: Got incorrect data for <MidiEvent PROGRAM_CHANGE, t=0, track=1, channel=1> in .data: None,cannot parse Program Change; ignored.\n",
      "midi.base.py: WARNING: Conversion error for <MidiEvent PROGRAM_CHANGE, t=0, track=1, channel=1>: Got incorrect data for <MidiEvent PROGRAM_CHANGE, t=0, track=1, channel=1> in .data: None,cannot parse Program Change; ignored.\n",
      "midi.base.py: WARNING: Conversion error for <MidiEvent PROGRAM_CHANGE, t=0, track=1, channel=1>: Got incorrect data for <MidiEvent PROGRAM_CHANGE, t=0, track=1, channel=1> in .data: None,cannot parse Program Change; ignored.\n",
      "midi.base.py: WARNING: Conversion error for <MidiEvent PROGRAM_CHANGE, t=0, track=1, channel=1>: Got incorrect data for <MidiEvent PROGRAM_CHANGE, t=0, track=1, channel=1> in .data: None,cannot parse Program Change; ignored.\n",
      "midi.base.py: WARNING: Conversion error for <MidiEvent PROGRAM_CHANGE, t=0, track=1, channel=1>: Got incorrect data for <MidiEvent PROGRAM_CHANGE, t=0, track=1, channel=1> in .data: None,cannot parse Program Change; ignored.\n",
      "midi.base.py: WARNING: Conversion error for <MidiEvent PROGRAM_CHANGE, t=0, track=1, channel=1>: Got incorrect data for <MidiEvent PROGRAM_CHANGE, t=0, track=1, channel=1> in .data: None,cannot parse Program Change; ignored.\n",
      "midi.base.py: WARNING: Conversion error for <MidiEvent PROGRAM_CHANGE, t=0, track=1, channel=1>: Got incorrect data for <MidiEvent PROGRAM_CHANGE, t=0, track=1, channel=1> in .data: None,cannot parse Program Change; ignored.\n"
     ]
    },
    {
     "name": "stderr",
     "output_type": "stream",
     "text": [
      "midi.base.py: WARNING: Conversion error for <MidiEvent PROGRAM_CHANGE, t=0, track=1, channel=1>: Got incorrect data for <MidiEvent PROGRAM_CHANGE, t=0, track=1, channel=1> in .data: None,cannot parse Program Change; ignored.\n",
      "midi.base.py: WARNING: Conversion error for <MidiEvent PROGRAM_CHANGE, t=0, track=1, channel=1>: Got incorrect data for <MidiEvent PROGRAM_CHANGE, t=0, track=1, channel=1> in .data: None,cannot parse Program Change; ignored.\n",
      "midi.base.py: WARNING: Conversion error for <MidiEvent PROGRAM_CHANGE, t=0, track=1, channel=1>: Got incorrect data for <MidiEvent PROGRAM_CHANGE, t=0, track=1, channel=1> in .data: None,cannot parse Program Change; ignored.\n",
      "midi.base.py: WARNING: Conversion error for <MidiEvent PROGRAM_CHANGE, t=0, track=1, channel=1>: Got incorrect data for <MidiEvent PROGRAM_CHANGE, t=0, track=1, channel=1> in .data: None,cannot parse Program Change; ignored.\n",
      "midi.base.py: WARNING: Conversion error for <MidiEvent PROGRAM_CHANGE, t=0, track=1, channel=1>: Got incorrect data for <MidiEvent PROGRAM_CHANGE, t=0, track=1, channel=1> in .data: None,cannot parse Program Change; ignored.\n",
      "midi.base.py: WARNING: Conversion error for <MidiEvent PROGRAM_CHANGE, t=0, track=1, channel=1>: Got incorrect data for <MidiEvent PROGRAM_CHANGE, t=0, track=1, channel=1> in .data: None,cannot parse Program Change; ignored.\n",
      "midi.base.py: WARNING: Conversion error for <MidiEvent PROGRAM_CHANGE, t=0, track=1, channel=1>: Got incorrect data for <MidiEvent PROGRAM_CHANGE, t=0, track=1, channel=1> in .data: None,cannot parse Program Change; ignored.\n",
      "midi.base.py: WARNING: Conversion error for <MidiEvent PROGRAM_CHANGE, t=0, track=1, channel=1>: Got incorrect data for <MidiEvent PROGRAM_CHANGE, t=0, track=1, channel=1> in .data: None,cannot parse Program Change; ignored.\n",
      "midi.base.py: WARNING: Conversion error for <MidiEvent PROGRAM_CHANGE, t=0, track=1, channel=1>: Got incorrect data for <MidiEvent PROGRAM_CHANGE, t=0, track=1, channel=1> in .data: None,cannot parse Program Change; ignored.\n",
      "midi.base.py: WARNING: Conversion error for <MidiEvent PROGRAM_CHANGE, t=0, track=1, channel=1>: Got incorrect data for <MidiEvent PROGRAM_CHANGE, t=0, track=1, channel=1> in .data: None,cannot parse Program Change; ignored.\n",
      "midi.base.py: WARNING: Conversion error for <MidiEvent PROGRAM_CHANGE, t=0, track=1, channel=1>: Got incorrect data for <MidiEvent PROGRAM_CHANGE, t=0, track=1, channel=1> in .data: None,cannot parse Program Change; ignored.\n",
      "midi.base.py: WARNING: Conversion error for <MidiEvent PROGRAM_CHANGE, t=0, track=1, channel=1>: Got incorrect data for <MidiEvent PROGRAM_CHANGE, t=0, track=1, channel=1> in .data: None,cannot parse Program Change; ignored.\n",
      "midi.base.py: WARNING: Conversion error for <MidiEvent PROGRAM_CHANGE, t=0, track=1, channel=1>: Got incorrect data for <MidiEvent PROGRAM_CHANGE, t=0, track=1, channel=1> in .data: None,cannot parse Program Change; ignored.\n",
      "midi.base.py: WARNING: Conversion error for <MidiEvent PROGRAM_CHANGE, t=0, track=1, channel=1>: Got incorrect data for <MidiEvent PROGRAM_CHANGE, t=0, track=1, channel=1> in .data: None,cannot parse Program Change; ignored.\n",
      "midi.base.py: WARNING: Conversion error for <MidiEvent PROGRAM_CHANGE, t=0, track=1, channel=1>: Got incorrect data for <MidiEvent PROGRAM_CHANGE, t=0, track=1, channel=1> in .data: None,cannot parse Program Change; ignored.\n",
      "midi.base.py: WARNING: Conversion error for <MidiEvent PROGRAM_CHANGE, t=0, track=1, channel=1>: Got incorrect data for <MidiEvent PROGRAM_CHANGE, t=0, track=1, channel=1> in .data: None,cannot parse Program Change; ignored.\n",
      "midi.base.py: WARNING: Conversion error for <MidiEvent PROGRAM_CHANGE, t=0, track=1, channel=1>: Got incorrect data for <MidiEvent PROGRAM_CHANGE, t=0, track=1, channel=1> in .data: None,cannot parse Program Change; ignored.\n",
      "midi.base.py: WARNING: Conversion error for <MidiEvent PROGRAM_CHANGE, t=0, track=1, channel=1>: Got incorrect data for <MidiEvent PROGRAM_CHANGE, t=0, track=1, channel=1> in .data: None,cannot parse Program Change; ignored.\n",
      "midi.base.py: WARNING: Conversion error for <MidiEvent PROGRAM_CHANGE, t=0, track=1, channel=1>: Got incorrect data for <MidiEvent PROGRAM_CHANGE, t=0, track=1, channel=1> in .data: None,cannot parse Program Change; ignored.\n",
      "midi.base.py: WARNING: Conversion error for <MidiEvent PROGRAM_CHANGE, t=0, track=1, channel=1>: Got incorrect data for <MidiEvent PROGRAM_CHANGE, t=0, track=1, channel=1> in .data: None,cannot parse Program Change; ignored.\n",
      "midi.base.py: WARNING: Conversion error for <MidiEvent PROGRAM_CHANGE, t=0, track=1, channel=1>: Got incorrect data for <MidiEvent PROGRAM_CHANGE, t=0, track=1, channel=1> in .data: None,cannot parse Program Change; ignored.\n",
      "midi.base.py: WARNING: Conversion error for <MidiEvent PROGRAM_CHANGE, t=0, track=1, channel=1>: Got incorrect data for <MidiEvent PROGRAM_CHANGE, t=0, track=1, channel=1> in .data: None,cannot parse Program Change; ignored.\n",
      "midi.base.py: WARNING: Conversion error for <MidiEvent PROGRAM_CHANGE, t=0, track=1, channel=1>: Got incorrect data for <MidiEvent PROGRAM_CHANGE, t=0, track=1, channel=1> in .data: None,cannot parse Program Change; ignored.\n",
      "midi.base.py: WARNING: Conversion error for <MidiEvent PROGRAM_CHANGE, t=0, track=1, channel=1>: Got incorrect data for <MidiEvent PROGRAM_CHANGE, t=0, track=1, channel=1> in .data: None,cannot parse Program Change; ignored.\n",
      "midi.base.py: WARNING: Conversion error for <MidiEvent PROGRAM_CHANGE, t=0, track=1, channel=1>: Got incorrect data for <MidiEvent PROGRAM_CHANGE, t=0, track=1, channel=1> in .data: None,cannot parse Program Change; ignored.\n",
      "midi.base.py: WARNING: Conversion error for <MidiEvent PROGRAM_CHANGE, t=0, track=1, channel=1>: Got incorrect data for <MidiEvent PROGRAM_CHANGE, t=0, track=1, channel=1> in .data: None,cannot parse Program Change; ignored.\n",
      "midi.base.py: WARNING: Conversion error for <MidiEvent PROGRAM_CHANGE, t=0, track=1, channel=1>: Got incorrect data for <MidiEvent PROGRAM_CHANGE, t=0, track=1, channel=1> in .data: None,cannot parse Program Change; ignored.\n",
      "midi.base.py: WARNING: Conversion error for <MidiEvent PROGRAM_CHANGE, t=0, track=1, channel=1>: Got incorrect data for <MidiEvent PROGRAM_CHANGE, t=0, track=1, channel=1> in .data: None,cannot parse Program Change; ignored.\n",
      "midi.base.py: WARNING: Conversion error for <MidiEvent PROGRAM_CHANGE, t=0, track=1, channel=1>: Got incorrect data for <MidiEvent PROGRAM_CHANGE, t=0, track=1, channel=1> in .data: None,cannot parse Program Change; ignored.\n",
      "midi.base.py: WARNING: Conversion error for <MidiEvent PROGRAM_CHANGE, t=0, track=1, channel=1>: Got incorrect data for <MidiEvent PROGRAM_CHANGE, t=0, track=1, channel=1> in .data: None,cannot parse Program Change; ignored.\n",
      "midi.base.py: WARNING: Conversion error for <MidiEvent PROGRAM_CHANGE, t=0, track=1, channel=1>: Got incorrect data for <MidiEvent PROGRAM_CHANGE, t=0, track=1, channel=1> in .data: None,cannot parse Program Change; ignored.\n",
      "midi.base.py: WARNING: Conversion error for <MidiEvent PROGRAM_CHANGE, t=0, track=1, channel=1>: Got incorrect data for <MidiEvent PROGRAM_CHANGE, t=0, track=1, channel=1> in .data: None,cannot parse Program Change; ignored.\n",
      "midi.base.py: WARNING: Conversion error for <MidiEvent PROGRAM_CHANGE, t=0, track=1, channel=1>: Got incorrect data for <MidiEvent PROGRAM_CHANGE, t=0, track=1, channel=1> in .data: None,cannot parse Program Change; ignored.\n",
      "midi.base.py: WARNING: Conversion error for <MidiEvent PROGRAM_CHANGE, t=0, track=1, channel=1>: Got incorrect data for <MidiEvent PROGRAM_CHANGE, t=0, track=1, channel=1> in .data: None,cannot parse Program Change; ignored.\n",
      "midi.base.py: WARNING: Conversion error for <MidiEvent PROGRAM_CHANGE, t=0, track=1, channel=1>: Got incorrect data for <MidiEvent PROGRAM_CHANGE, t=0, track=1, channel=1> in .data: None,cannot parse Program Change; ignored.\n",
      "midi.base.py: WARNING: Conversion error for <MidiEvent PROGRAM_CHANGE, t=0, track=1, channel=1>: Got incorrect data for <MidiEvent PROGRAM_CHANGE, t=0, track=1, channel=1> in .data: None,cannot parse Program Change; ignored.\n",
      "midi.base.py: WARNING: Conversion error for <MidiEvent PROGRAM_CHANGE, t=0, track=1, channel=1>: Got incorrect data for <MidiEvent PROGRAM_CHANGE, t=0, track=1, channel=1> in .data: None,cannot parse Program Change; ignored.\n"
     ]
    },
    {
     "name": "stderr",
     "output_type": "stream",
     "text": [
      "midi.base.py: WARNING: Conversion error for <MidiEvent PROGRAM_CHANGE, t=0, track=1, channel=1>: Got incorrect data for <MidiEvent PROGRAM_CHANGE, t=0, track=1, channel=1> in .data: None,cannot parse Program Change; ignored.\n",
      "midi.base.py: WARNING: Conversion error for <MidiEvent PROGRAM_CHANGE, t=0, track=1, channel=1>: Got incorrect data for <MidiEvent PROGRAM_CHANGE, t=0, track=1, channel=1> in .data: None,cannot parse Program Change; ignored.\n",
      "midi.base.py: WARNING: Conversion error for <MidiEvent PROGRAM_CHANGE, t=0, track=1, channel=1>: Got incorrect data for <MidiEvent PROGRAM_CHANGE, t=0, track=1, channel=1> in .data: None,cannot parse Program Change; ignored.\n",
      "midi.base.py: WARNING: Conversion error for <MidiEvent PROGRAM_CHANGE, t=0, track=1, channel=1>: Got incorrect data for <MidiEvent PROGRAM_CHANGE, t=0, track=1, channel=1> in .data: None,cannot parse Program Change; ignored.\n",
      "midi.base.py: WARNING: Conversion error for <MidiEvent PROGRAM_CHANGE, t=0, track=1, channel=1>: Got incorrect data for <MidiEvent PROGRAM_CHANGE, t=0, track=1, channel=1> in .data: None,cannot parse Program Change; ignored.\n",
      "midi.base.py: WARNING: Conversion error for <MidiEvent PROGRAM_CHANGE, t=0, track=1, channel=1>: Got incorrect data for <MidiEvent PROGRAM_CHANGE, t=0, track=1, channel=1> in .data: None,cannot parse Program Change; ignored.\n",
      "midi.base.py: WARNING: Conversion error for <MidiEvent PROGRAM_CHANGE, t=0, track=1, channel=1>: Got incorrect data for <MidiEvent PROGRAM_CHANGE, t=0, track=1, channel=1> in .data: None,cannot parse Program Change; ignored.\n",
      "midi.base.py: WARNING: Conversion error for <MidiEvent PROGRAM_CHANGE, t=0, track=1, channel=1>: Got incorrect data for <MidiEvent PROGRAM_CHANGE, t=0, track=1, channel=1> in .data: None,cannot parse Program Change; ignored.\n",
      "midi.base.py: WARNING: Conversion error for <MidiEvent PROGRAM_CHANGE, t=0, track=1, channel=1>: Got incorrect data for <MidiEvent PROGRAM_CHANGE, t=0, track=1, channel=1> in .data: None,cannot parse Program Change; ignored.\n",
      "midi.base.py: WARNING: Conversion error for <MidiEvent PROGRAM_CHANGE, t=0, track=1, channel=1>: Got incorrect data for <MidiEvent PROGRAM_CHANGE, t=0, track=1, channel=1> in .data: None,cannot parse Program Change; ignored.\n",
      "midi.base.py: WARNING: Conversion error for <MidiEvent PROGRAM_CHANGE, t=0, track=2, channel=2>: Got incorrect data for <MidiEvent PROGRAM_CHANGE, t=0, track=2, channel=2> in .data: None,cannot parse Program Change; ignored.\n",
      "midi.base.py: WARNING: Conversion error for <MidiEvent PROGRAM_CHANGE, t=0, track=2, channel=2>: Got incorrect data for <MidiEvent PROGRAM_CHANGE, t=0, track=2, channel=2> in .data: None,cannot parse Program Change; ignored.\n",
      "midi.base.py: WARNING: Conversion error for <MidiEvent PROGRAM_CHANGE, t=0, track=3, channel=2>: Got incorrect data for <MidiEvent PROGRAM_CHANGE, t=0, track=3, channel=2> in .data: None,cannot parse Program Change; ignored.\n"
     ]
    },
    {
     "name": "stdout",
     "output_type": "stream",
     "text": [
      "badly formed midi string: missing leading MTrk\n",
      "badly formed midi string: missing leading MTrk\n",
      "badly formed midi string: missing leading MTrk\n",
      "badly formed midi string: missing leading MTrk\n",
      "\n"
     ]
    },
    {
     "name": "stderr",
     "output_type": "stream",
     "text": [
      "midi.base.py: WARNING: Conversion error for <MidiEvent PROGRAM_CHANGE, t=0, track=1, channel=1>: Got incorrect data for <MidiEvent PROGRAM_CHANGE, t=0, track=1, channel=1> in .data: None,cannot parse Program Change; ignored.\n",
      "midi.base.py: WARNING: Conversion error for <MidiEvent PROGRAM_CHANGE, t=0, track=1, channel=1>: Got incorrect data for <MidiEvent PROGRAM_CHANGE, t=0, track=1, channel=1> in .data: None,cannot parse Program Change; ignored.\n",
      "midi.base.py: WARNING: Conversion error for <MidiEvent PROGRAM_CHANGE, t=0, track=1, channel=1>: Got incorrect data for <MidiEvent PROGRAM_CHANGE, t=0, track=1, channel=1> in .data: None,cannot parse Program Change; ignored.\n",
      "midi.base.py: WARNING: Conversion error for <MidiEvent PROGRAM_CHANGE, t=0, track=1, channel=1>: Got incorrect data for <MidiEvent PROGRAM_CHANGE, t=0, track=1, channel=1> in .data: None,cannot parse Program Change; ignored.\n",
      "midi.base.py: WARNING: Conversion error for <MidiEvent PROGRAM_CHANGE, t=0, track=1, channel=1>: Got incorrect data for <MidiEvent PROGRAM_CHANGE, t=0, track=1, channel=1> in .data: None,cannot parse Program Change; ignored.\n",
      "midi.base.py: WARNING: Conversion error for <MidiEvent PROGRAM_CHANGE, t=0, track=1, channel=1>: Got incorrect data for <MidiEvent PROGRAM_CHANGE, t=0, track=1, channel=1> in .data: None,cannot parse Program Change; ignored.\n",
      "midi.base.py: WARNING: Conversion error for <MidiEvent PROGRAM_CHANGE, t=0, track=1, channel=1>: Got incorrect data for <MidiEvent PROGRAM_CHANGE, t=0, track=1, channel=1> in .data: None,cannot parse Program Change; ignored.\n",
      "midi.base.py: WARNING: Conversion error for <MidiEvent PROGRAM_CHANGE, t=0, track=3, channel=3>: Got incorrect data for <MidiEvent PROGRAM_CHANGE, t=0, track=3, channel=3> in .data: None,cannot parse Program Change; ignored.\n",
      "midi.base.py: WARNING: Conversion error for <MidiEvent PROGRAM_CHANGE, t=0, track=7, channel=3>: Got incorrect data for <MidiEvent PROGRAM_CHANGE, t=0, track=7, channel=3> in .data: None,cannot parse Program Change; ignored.\n",
      "midi.base.py: WARNING: Conversion error for <MidiEvent PROGRAM_CHANGE, t=0, track=8, channel=3>: Got incorrect data for <MidiEvent PROGRAM_CHANGE, t=0, track=8, channel=3> in .data: None,cannot parse Program Change; ignored.\n",
      "midi.base.py: WARNING: Conversion error for <MidiEvent PROGRAM_CHANGE, t=0, track=1, channel=1>: Got incorrect data for <MidiEvent PROGRAM_CHANGE, t=0, track=1, channel=1> in .data: None,cannot parse Program Change; ignored.\n",
      "midi.base.py: WARNING: Conversion error for <MidiEvent PROGRAM_CHANGE, t=0, track=2, channel=1>: Got incorrect data for <MidiEvent PROGRAM_CHANGE, t=0, track=2, channel=1> in .data: None,cannot parse Program Change; ignored.\n",
      "midi.base.py: WARNING: Conversion error for <MidiEvent PROGRAM_CHANGE, t=0, track=3, channel=1>: Got incorrect data for <MidiEvent PROGRAM_CHANGE, t=0, track=3, channel=1> in .data: None,cannot parse Program Change; ignored.\n",
      "midi.base.py: WARNING: Conversion error for <MidiEvent PROGRAM_CHANGE, t=0, track=4, channel=1>: Got incorrect data for <MidiEvent PROGRAM_CHANGE, t=0, track=4, channel=1> in .data: None,cannot parse Program Change; ignored.\n",
      "midi.base.py: WARNING: Conversion error for <MidiEvent PROGRAM_CHANGE, t=0, track=5, channel=1>: Got incorrect data for <MidiEvent PROGRAM_CHANGE, t=0, track=5, channel=1> in .data: None,cannot parse Program Change; ignored.\n",
      "midi.base.py: WARNING: Conversion error for <MidiEvent PROGRAM_CHANGE, t=0, track=6, channel=1>: Got incorrect data for <MidiEvent PROGRAM_CHANGE, t=0, track=6, channel=1> in .data: None,cannot parse Program Change; ignored.\n",
      "midi.base.py: WARNING: Conversion error for <MidiEvent PROGRAM_CHANGE, t=0, track=6, channel=1>: Got incorrect data for <MidiEvent PROGRAM_CHANGE, t=0, track=6, channel=1> in .data: None,cannot parse Program Change; ignored.\n",
      "midi.base.py: WARNING: Conversion error for <MidiEvent PROGRAM_CHANGE, t=0, track=1, channel=1>: Got incorrect data for <MidiEvent PROGRAM_CHANGE, t=0, track=1, channel=1> in .data: None,cannot parse Program Change; ignored.\n",
      "midi.base.py: WARNING: Conversion error for <MidiEvent PROGRAM_CHANGE, t=0, track=1, channel=1>: Got incorrect data for <MidiEvent PROGRAM_CHANGE, t=0, track=1, channel=1> in .data: None,cannot parse Program Change; ignored.\n",
      "midi.base.py: WARNING: Conversion error for <MidiEvent PROGRAM_CHANGE, t=0, track=1, channel=1>: Got incorrect data for <MidiEvent PROGRAM_CHANGE, t=0, track=1, channel=1> in .data: None,cannot parse Program Change; ignored.\n",
      "midi.base.py: WARNING: Conversion error for <MidiEvent PROGRAM_CHANGE, t=0, track=1, channel=1>: Got incorrect data for <MidiEvent PROGRAM_CHANGE, t=0, track=1, channel=1> in .data: None,cannot parse Program Change; ignored.\n",
      "midi.base.py: WARNING: Conversion error for <MidiEvent PROGRAM_CHANGE, t=0, track=1, channel=1>: Got incorrect data for <MidiEvent PROGRAM_CHANGE, t=0, track=1, channel=1> in .data: None,cannot parse Program Change; ignored.\n",
      "midi.base.py: WARNING: Conversion error for <MidiEvent PROGRAM_CHANGE, t=0, track=1, channel=1>: Got incorrect data for <MidiEvent PROGRAM_CHANGE, t=0, track=1, channel=1> in .data: None,cannot parse Program Change; ignored.\n",
      "midi.base.py: WARNING: Conversion error for <MidiEvent PROGRAM_CHANGE, t=0, track=1, channel=1>: Got incorrect data for <MidiEvent PROGRAM_CHANGE, t=0, track=1, channel=1> in .data: None,cannot parse Program Change; ignored.\n",
      "midi.base.py: WARNING: Conversion error for <MidiEvent PROGRAM_CHANGE, t=0, track=1, channel=1>: Got incorrect data for <MidiEvent PROGRAM_CHANGE, t=0, track=1, channel=1> in .data: None,cannot parse Program Change; ignored.\n",
      "midi.base.py: WARNING: Conversion error for <MidiEvent PROGRAM_CHANGE, t=0, track=1, channel=1>: Got incorrect data for <MidiEvent PROGRAM_CHANGE, t=0, track=1, channel=1> in .data: None,cannot parse Program Change; ignored.\n",
      "midi.base.py: WARNING: Conversion error for <MidiEvent PROGRAM_CHANGE, t=0, track=1, channel=1>: Got incorrect data for <MidiEvent PROGRAM_CHANGE, t=0, track=1, channel=1> in .data: None,cannot parse Program Change; ignored.\n",
      "midi.base.py: WARNING: Conversion error for <MidiEvent PROGRAM_CHANGE, t=0, track=1, channel=1>: Got incorrect data for <MidiEvent PROGRAM_CHANGE, t=0, track=1, channel=1> in .data: None,cannot parse Program Change; ignored.\n",
      "midi.base.py: WARNING: Conversion error for <MidiEvent PROGRAM_CHANGE, t=0, track=1, channel=1>: Got incorrect data for <MidiEvent PROGRAM_CHANGE, t=0, track=1, channel=1> in .data: None,cannot parse Program Change; ignored.\n",
      "midi.base.py: WARNING: Conversion error for <MidiEvent PROGRAM_CHANGE, t=0, track=1, channel=1>: Got incorrect data for <MidiEvent PROGRAM_CHANGE, t=0, track=1, channel=1> in .data: None,cannot parse Program Change; ignored.\n",
      "midi.base.py: WARNING: Conversion error for <MidiEvent PROGRAM_CHANGE, t=0, track=1, channel=1>: Got incorrect data for <MidiEvent PROGRAM_CHANGE, t=0, track=1, channel=1> in .data: None,cannot parse Program Change; ignored.\n"
     ]
    },
    {
     "name": "stdout",
     "output_type": "stream",
     "text": [
      "chr() arg not in range(256)\n",
      "badly formated midi string, got: vti_encoding:SR|utf8\n"
     ]
    },
    {
     "name": "stderr",
     "output_type": "stream",
     "text": [
      "midi.base.py: WARNING: Conversion error for <MidiEvent PROGRAM_CHANGE, t=0, track=1, channel=1>: Got incorrect data for <MidiEvent PROGRAM_CHANGE, t=0, track=1, channel=1> in .data: None,cannot parse Program Change; ignored.\n",
      "midi.base.py: WARNING: Conversion error for <MidiEvent PROGRAM_CHANGE, t=0, track=1, channel=1>: Got incorrect data for <MidiEvent PROGRAM_CHANGE, t=0, track=1, channel=1> in .data: None,cannot parse Program Change; ignored.\n",
      "midi.base.py: WARNING: Conversion error for <MidiEvent PROGRAM_CHANGE, t=0, track=1, channel=1>: Got incorrect data for <MidiEvent PROGRAM_CHANGE, t=0, track=1, channel=1> in .data: None,cannot parse Program Change; ignored.\n",
      "midi.base.py: WARNING: Conversion error for <MidiEvent PROGRAM_CHANGE, t=0, track=1, channel=1>: Got incorrect data for <MidiEvent PROGRAM_CHANGE, t=0, track=1, channel=1> in .data: None,cannot parse Program Change; ignored.\n",
      "midi.base.py: WARNING: Conversion error for <MidiEvent PROGRAM_CHANGE, t=0, track=1, channel=1>: Got incorrect data for <MidiEvent PROGRAM_CHANGE, t=0, track=1, channel=1> in .data: None,cannot parse Program Change; ignored.\n",
      "midi.base.py: WARNING: Conversion error for <MidiEvent PROGRAM_CHANGE, t=0, track=1, channel=1>: Got incorrect data for <MidiEvent PROGRAM_CHANGE, t=0, track=1, channel=1> in .data: None,cannot parse Program Change; ignored.\n",
      "midi.base.py: WARNING: Conversion error for <MidiEvent PROGRAM_CHANGE, t=0, track=1, channel=1>: Got incorrect data for <MidiEvent PROGRAM_CHANGE, t=0, track=1, channel=1> in .data: None,cannot parse Program Change; ignored.\n",
      "midi.base.py: WARNING: Conversion error for <MidiEvent PROGRAM_CHANGE, t=0, track=1, channel=1>: Got incorrect data for <MidiEvent PROGRAM_CHANGE, t=0, track=1, channel=1> in .data: None,cannot parse Program Change; ignored.\n",
      "midi.base.py: WARNING: Conversion error for <MidiEvent PROGRAM_CHANGE, t=0, track=1, channel=1>: Got incorrect data for <MidiEvent PROGRAM_CHANGE, t=0, track=1, channel=1> in .data: None,cannot parse Program Change; ignored.\n",
      "midi.base.py: WARNING: Conversion error for <MidiEvent PROGRAM_CHANGE, t=0, track=1, channel=1>: Got incorrect data for <MidiEvent PROGRAM_CHANGE, t=0, track=1, channel=1> in .data: None,cannot parse Program Change; ignored.\n",
      "midi.base.py: WARNING: Conversion error for <MidiEvent PROGRAM_CHANGE, t=0, track=1, channel=1>: Got incorrect data for <MidiEvent PROGRAM_CHANGE, t=0, track=1, channel=1> in .data: None,cannot parse Program Change; ignored.\n",
      "midi.base.py: WARNING: Conversion error for <MidiEvent PROGRAM_CHANGE, t=0, track=1, channel=1>: Got incorrect data for <MidiEvent PROGRAM_CHANGE, t=0, track=1, channel=1> in .data: None,cannot parse Program Change; ignored.\n",
      "midi.base.py: WARNING: Conversion error for <MidiEvent PROGRAM_CHANGE, t=0, track=1, channel=1>: Got incorrect data for <MidiEvent PROGRAM_CHANGE, t=0, track=1, channel=1> in .data: None,cannot parse Program Change; ignored.\n",
      "midi.base.py: WARNING: Conversion error for <MidiEvent PROGRAM_CHANGE, t=0, track=1, channel=1>: Got incorrect data for <MidiEvent PROGRAM_CHANGE, t=0, track=1, channel=1> in .data: None,cannot parse Program Change; ignored.\n",
      "midi.base.py: WARNING: Conversion error for <MidiEvent PROGRAM_CHANGE, t=0, track=1, channel=1>: Got incorrect data for <MidiEvent PROGRAM_CHANGE, t=0, track=1, channel=1> in .data: None,cannot parse Program Change; ignored.\n",
      "midi.base.py: WARNING: Conversion error for <MidiEvent PROGRAM_CHANGE, t=0, track=1, channel=1>: Got incorrect data for <MidiEvent PROGRAM_CHANGE, t=0, track=1, channel=1> in .data: None,cannot parse Program Change; ignored.\n",
      "midi.base.py: WARNING: Conversion error for <MidiEvent PROGRAM_CHANGE, t=0, track=1, channel=1>: Got incorrect data for <MidiEvent PROGRAM_CHANGE, t=0, track=1, channel=1> in .data: None,cannot parse Program Change; ignored.\n",
      "midi.base.py: WARNING: Conversion error for <MidiEvent PROGRAM_CHANGE, t=0, track=1, channel=1>: Got incorrect data for <MidiEvent PROGRAM_CHANGE, t=0, track=1, channel=1> in .data: None,cannot parse Program Change; ignored.\n",
      "midi.base.py: WARNING: Conversion error for <MidiEvent PROGRAM_CHANGE, t=0, track=1, channel=1>: Got incorrect data for <MidiEvent PROGRAM_CHANGE, t=0, track=1, channel=1> in .data: None,cannot parse Program Change; ignored.\n",
      "midi.base.py: WARNING: Conversion error for <MidiEvent PROGRAM_CHANGE, t=0, track=1, channel=1>: Got incorrect data for <MidiEvent PROGRAM_CHANGE, t=0, track=1, channel=1> in .data: None,cannot parse Program Change; ignored.\n",
      "midi.base.py: WARNING: Conversion error for <MidiEvent PROGRAM_CHANGE, t=0, track=1, channel=1>: Got incorrect data for <MidiEvent PROGRAM_CHANGE, t=0, track=1, channel=1> in .data: None,cannot parse Program Change; ignored.\n",
      "midi.base.py: WARNING: Conversion error for <MidiEvent PROGRAM_CHANGE, t=0, track=1, channel=1>: Got incorrect data for <MidiEvent PROGRAM_CHANGE, t=0, track=1, channel=1> in .data: None,cannot parse Program Change; ignored.\n",
      "midi.base.py: WARNING: Conversion error for <MidiEvent PROGRAM_CHANGE, t=0, track=1, channel=1>: Got incorrect data for <MidiEvent PROGRAM_CHANGE, t=0, track=1, channel=1> in .data: None,cannot parse Program Change; ignored.\n",
      "midi.base.py: WARNING: Conversion error for <MidiEvent PROGRAM_CHANGE, t=0, track=2, channel=1>: Got incorrect data for <MidiEvent PROGRAM_CHANGE, t=0, track=2, channel=1> in .data: None,cannot parse Program Change; ignored.\n",
      "midi.base.py: WARNING: Conversion error for <MidiEvent PROGRAM_CHANGE, t=0, track=3, channel=1>: Got incorrect data for <MidiEvent PROGRAM_CHANGE, t=0, track=3, channel=1> in .data: None,cannot parse Program Change; ignored.\n",
      "midi.base.py: WARNING: Conversion error for <MidiEvent PROGRAM_CHANGE, t=0, track=4, channel=1>: Got incorrect data for <MidiEvent PROGRAM_CHANGE, t=0, track=4, channel=1> in .data: None,cannot parse Program Change; ignored.\n"
     ]
    },
    {
     "name": "stdout",
     "output_type": "stream",
     "text": [
      "\n"
     ]
    },
    {
     "name": "stderr",
     "output_type": "stream",
     "text": [
      "midi.base.py: WARNING: Conversion error for <MidiEvent PROGRAM_CHANGE, t=0, track=2, channel=2>: Got incorrect data for <MidiEvent PROGRAM_CHANGE, t=0, track=2, channel=2> in .data: None,cannot parse Program Change; ignored.\n",
      "midi.base.py: WARNING: Conversion error for <MidiEvent PROGRAM_CHANGE, t=0, track=2, channel=2>: Got incorrect data for <MidiEvent PROGRAM_CHANGE, t=0, track=2, channel=2> in .data: None,cannot parse Program Change; ignored.\n",
      "midi.base.py: WARNING: Conversion error for <MidiEvent PROGRAM_CHANGE, t=0, track=3, channel=2>: Got incorrect data for <MidiEvent PROGRAM_CHANGE, t=0, track=3, channel=2> in .data: None,cannot parse Program Change; ignored.\n",
      "midi.base.py: WARNING: Conversion error for <MidiEvent PROGRAM_CHANGE, t=0, track=5, channel=2>: Got incorrect data for <MidiEvent PROGRAM_CHANGE, t=0, track=5, channel=2> in .data: None,cannot parse Program Change; ignored.\n",
      "midi.base.py: WARNING: Conversion error for <MidiEvent PROGRAM_CHANGE, t=0, track=5, channel=2>: Got incorrect data for <MidiEvent PROGRAM_CHANGE, t=0, track=5, channel=2> in .data: None,cannot parse Program Change; ignored.\n",
      "midi.base.py: WARNING: Conversion error for <MidiEvent PROGRAM_CHANGE, t=0, track=5, channel=2>: Got incorrect data for <MidiEvent PROGRAM_CHANGE, t=0, track=5, channel=2> in .data: None,cannot parse Program Change; ignored.\n",
      "midi.base.py: WARNING: Conversion error for <MidiEvent PROGRAM_CHANGE, t=0, track=5, channel=2>: Got incorrect data for <MidiEvent PROGRAM_CHANGE, t=0, track=5, channel=2> in .data: None,cannot parse Program Change; ignored.\n",
      "midi.base.py: WARNING: Conversion error for <MidiEvent PROGRAM_CHANGE, t=0, track=5, channel=2>: Got incorrect data for <MidiEvent PROGRAM_CHANGE, t=0, track=5, channel=2> in .data: None,cannot parse Program Change; ignored.\n",
      "midi.base.py: WARNING: Conversion error for <MidiEvent PROGRAM_CHANGE, t=0, track=6, channel=2>: Got incorrect data for <MidiEvent PROGRAM_CHANGE, t=0, track=6, channel=2> in .data: None,cannot parse Program Change; ignored.\n",
      "midi.base.py: WARNING: Conversion error for <MidiEvent PROGRAM_CHANGE, t=0, track=6, channel=2>: Got incorrect data for <MidiEvent PROGRAM_CHANGE, t=0, track=6, channel=2> in .data: None,cannot parse Program Change; ignored.\n",
      "midi.base.py: WARNING: Conversion error for <MidiEvent PROGRAM_CHANGE, t=0, track=6, channel=2>: Got incorrect data for <MidiEvent PROGRAM_CHANGE, t=0, track=6, channel=2> in .data: None,cannot parse Program Change; ignored.\n",
      "midi.base.py: WARNING: Conversion error for <MidiEvent PROGRAM_CHANGE, t=0, track=6, channel=2>: Got incorrect data for <MidiEvent PROGRAM_CHANGE, t=0, track=6, channel=2> in .data: None,cannot parse Program Change; ignored.\n",
      "midi.base.py: WARNING: Conversion error for <MidiEvent PROGRAM_CHANGE, t=0, track=6, channel=2>: Got incorrect data for <MidiEvent PROGRAM_CHANGE, t=0, track=6, channel=2> in .data: None,cannot parse Program Change; ignored.\n",
      "midi.base.py: WARNING: Conversion error for <MidiEvent PROGRAM_CHANGE, t=0, track=6, channel=2>: Got incorrect data for <MidiEvent PROGRAM_CHANGE, t=0, track=6, channel=2> in .data: None,cannot parse Program Change; ignored.\n",
      "midi.base.py: WARNING: Conversion error for <MidiEvent PROGRAM_CHANGE, t=0, track=6, channel=2>: Got incorrect data for <MidiEvent PROGRAM_CHANGE, t=0, track=6, channel=2> in .data: None,cannot parse Program Change; ignored.\n",
      "midi.base.py: WARNING: Conversion error for <MidiEvent PROGRAM_CHANGE, t=0, track=6, channel=2>: Got incorrect data for <MidiEvent PROGRAM_CHANGE, t=0, track=6, channel=2> in .data: None,cannot parse Program Change; ignored.\n",
      "midi.base.py: WARNING: Conversion error for <MidiEvent PROGRAM_CHANGE, t=0, track=9, channel=2>: Got incorrect data for <MidiEvent PROGRAM_CHANGE, t=0, track=9, channel=2> in .data: None,cannot parse Program Change; ignored.\n",
      "midi.base.py: WARNING: Conversion error for <MidiEvent PROGRAM_CHANGE, t=0, track=9, channel=2>: Got incorrect data for <MidiEvent PROGRAM_CHANGE, t=0, track=9, channel=2> in .data: None,cannot parse Program Change; ignored.\n",
      "midi.base.py: WARNING: Conversion error for <MidiEvent PROGRAM_CHANGE, t=0, track=9, channel=2>: Got incorrect data for <MidiEvent PROGRAM_CHANGE, t=0, track=9, channel=2> in .data: None,cannot parse Program Change; ignored.\n",
      "midi.base.py: WARNING: Conversion error for <MidiEvent PROGRAM_CHANGE, t=0, track=9, channel=2>: Got incorrect data for <MidiEvent PROGRAM_CHANGE, t=0, track=9, channel=2> in .data: None,cannot parse Program Change; ignored.\n",
      "midi.base.py: WARNING: Conversion error for <MidiEvent PROGRAM_CHANGE, t=0, track=12, channel=2>: Got incorrect data for <MidiEvent PROGRAM_CHANGE, t=0, track=12, channel=2> in .data: None,cannot parse Program Change; ignored.\n",
      "midi.base.py: WARNING: Conversion error for <MidiEvent PROGRAM_CHANGE, t=0, track=12, channel=2>: Got incorrect data for <MidiEvent PROGRAM_CHANGE, t=0, track=12, channel=2> in .data: None,cannot parse Program Change; ignored.\n",
      "midi.base.py: WARNING: Conversion error for <MidiEvent PROGRAM_CHANGE, t=0, track=12, channel=2>: Got incorrect data for <MidiEvent PROGRAM_CHANGE, t=0, track=12, channel=2> in .data: None,cannot parse Program Change; ignored.\n",
      "midi.base.py: WARNING: Conversion error for <MidiEvent PROGRAM_CHANGE, t=0, track=12, channel=2>: Got incorrect data for <MidiEvent PROGRAM_CHANGE, t=0, track=12, channel=2> in .data: None,cannot parse Program Change; ignored.\n",
      "midi.base.py: WARNING: Conversion error for <MidiEvent PROGRAM_CHANGE, t=0, track=12, channel=2>: Got incorrect data for <MidiEvent PROGRAM_CHANGE, t=0, track=12, channel=2> in .data: None,cannot parse Program Change; ignored.\n",
      "midi.base.py: WARNING: Conversion error for <MidiEvent PROGRAM_CHANGE, t=0, track=12, channel=2>: Got incorrect data for <MidiEvent PROGRAM_CHANGE, t=0, track=12, channel=2> in .data: None,cannot parse Program Change; ignored.\n",
      "midi.base.py: WARNING: Conversion error for <MidiEvent PROGRAM_CHANGE, t=0, track=13, channel=2>: Got incorrect data for <MidiEvent PROGRAM_CHANGE, t=0, track=13, channel=2> in .data: None,cannot parse Program Change; ignored.\n",
      "midi.base.py: WARNING: Conversion error for <MidiEvent PROGRAM_CHANGE, t=0, track=14, channel=2>: Got incorrect data for <MidiEvent PROGRAM_CHANGE, t=0, track=14, channel=2> in .data: None,cannot parse Program Change; ignored.\n",
      "midi.base.py: WARNING: Conversion error for <MidiEvent PROGRAM_CHANGE, t=0, track=15, channel=2>: Got incorrect data for <MidiEvent PROGRAM_CHANGE, t=0, track=15, channel=2> in .data: None,cannot parse Program Change; ignored.\n"
     ]
    },
    {
     "name": "stdout",
     "output_type": "stream",
     "text": [
      "badly formated midi string, got: <HEAD><TITLE>Sorry, \n"
     ]
    },
    {
     "name": "stderr",
     "output_type": "stream",
     "text": [
      "midi.base.py: WARNING: Conversion error for <MidiEvent PROGRAM_CHANGE, t=0, track=1, channel=1>: Got incorrect data for <MidiEvent PROGRAM_CHANGE, t=0, track=1, channel=1> in .data: None,cannot parse Program Change; ignored.\n"
     ]
    },
    {
     "name": "stdout",
     "output_type": "stream",
     "text": [
      "\n"
     ]
    },
    {
     "name": "stderr",
     "output_type": "stream",
     "text": [
      "midi.base.py: WARNING: Conversion error for <MidiEvent PROGRAM_CHANGE, t=0, track=2, channel=2>: Got incorrect data for <MidiEvent PROGRAM_CHANGE, t=0, track=2, channel=2> in .data: None,cannot parse Program Change; ignored.\n"
     ]
    },
    {
     "name": "stdout",
     "output_type": "stream",
     "text": [
      "\n"
     ]
    },
    {
     "name": "stderr",
     "output_type": "stream",
     "text": [
      "midi.base.py: WARNING: Conversion error for <MidiEvent PROGRAM_CHANGE, t=0, track=1, channel=1>: Got incorrect data for <MidiEvent PROGRAM_CHANGE, t=0, track=1, channel=1> in .data: None,cannot parse Program Change; ignored.\n",
      "midi.base.py: WARNING: Conversion error for <MidiEvent PROGRAM_CHANGE, t=0, track=1, channel=1>: Got incorrect data for <MidiEvent PROGRAM_CHANGE, t=0, track=1, channel=1> in .data: None,cannot parse Program Change; ignored.\n",
      "midi.base.py: WARNING: Conversion error for <MidiEvent PROGRAM_CHANGE, t=0, track=1, channel=1>: Got incorrect data for <MidiEvent PROGRAM_CHANGE, t=0, track=1, channel=1> in .data: None,cannot parse Program Change; ignored.\n",
      "midi.base.py: WARNING: Conversion error for <MidiEvent PROGRAM_CHANGE, t=0, track=1, channel=1>: Got incorrect data for <MidiEvent PROGRAM_CHANGE, t=0, track=1, channel=1> in .data: None,cannot parse Program Change; ignored.\n",
      "midi.base.py: WARNING: Conversion error for <MidiEvent PROGRAM_CHANGE, t=0, track=1, channel=1>: Got incorrect data for <MidiEvent PROGRAM_CHANGE, t=0, track=1, channel=1> in .data: None,cannot parse Program Change; ignored.\n",
      "midi.base.py: WARNING: Conversion error for <MidiEvent PROGRAM_CHANGE, t=0, track=1, channel=1>: Got incorrect data for <MidiEvent PROGRAM_CHANGE, t=0, track=1, channel=1> in .data: None,cannot parse Program Change; ignored.\n",
      "midi.base.py: WARNING: Conversion error for <MidiEvent PROGRAM_CHANGE, t=0, track=1, channel=1>: Got incorrect data for <MidiEvent PROGRAM_CHANGE, t=0, track=1, channel=1> in .data: None,cannot parse Program Change; ignored.\n",
      "midi.base.py: WARNING: Conversion error for <MidiEvent PROGRAM_CHANGE, t=0, track=1, channel=2>: Got incorrect data for <MidiEvent PROGRAM_CHANGE, t=0, track=1, channel=2> in .data: None,cannot parse Program Change; ignored.\n",
      "midi.base.py: WARNING: Conversion error for <MidiEvent PROGRAM_CHANGE, t=0, track=1, channel=2>: Got incorrect data for <MidiEvent PROGRAM_CHANGE, t=0, track=1, channel=2> in .data: None,cannot parse Program Change; ignored.\n",
      "midi.base.py: WARNING: Conversion error for <MidiEvent PROGRAM_CHANGE, t=0, track=1, channel=2>: Got incorrect data for <MidiEvent PROGRAM_CHANGE, t=0, track=1, channel=2> in .data: None,cannot parse Program Change; ignored.\n",
      "midi.base.py: WARNING: Conversion error for <MidiEvent PROGRAM_CHANGE, t=0, track=1, channel=2>: Got incorrect data for <MidiEvent PROGRAM_CHANGE, t=0, track=1, channel=2> in .data: None,cannot parse Program Change; ignored.\n",
      "midi.base.py: WARNING: Conversion error for <MidiEvent PROGRAM_CHANGE, t=0, track=1, channel=2>: Got incorrect data for <MidiEvent PROGRAM_CHANGE, t=0, track=1, channel=2> in .data: None,cannot parse Program Change; ignored.\n",
      "midi.base.py: WARNING: Conversion error for <MidiEvent PROGRAM_CHANGE, t=0, track=1, channel=2>: Got incorrect data for <MidiEvent PROGRAM_CHANGE, t=0, track=1, channel=2> in .data: None,cannot parse Program Change; ignored.\n",
      "midi.base.py: WARNING: Conversion error for <MidiEvent PROGRAM_CHANGE, t=0, track=1, channel=2>: Got incorrect data for <MidiEvent PROGRAM_CHANGE, t=0, track=1, channel=2> in .data: None,cannot parse Program Change; ignored.\n",
      "midi.base.py: WARNING: Conversion error for <MidiEvent PROGRAM_CHANGE, t=0, track=1, channel=2>: Got incorrect data for <MidiEvent PROGRAM_CHANGE, t=0, track=1, channel=2> in .data: None,cannot parse Program Change; ignored.\n",
      "midi.base.py: WARNING: Conversion error for <MidiEvent PROGRAM_CHANGE, t=0, track=1, channel=2>: Got incorrect data for <MidiEvent PROGRAM_CHANGE, t=0, track=1, channel=2> in .data: None,cannot parse Program Change; ignored.\n",
      "midi.base.py: WARNING: Conversion error for <MidiEvent PROGRAM_CHANGE, t=0, track=1, channel=2>: Got incorrect data for <MidiEvent PROGRAM_CHANGE, t=0, track=1, channel=2> in .data: None,cannot parse Program Change; ignored.\n",
      "midi.base.py: WARNING: Conversion error for <MidiEvent PROGRAM_CHANGE, t=0, track=1, channel=2>: Got incorrect data for <MidiEvent PROGRAM_CHANGE, t=0, track=1, channel=2> in .data: None,cannot parse Program Change; ignored.\n",
      "midi.base.py: WARNING: Conversion error for <MidiEvent PROGRAM_CHANGE, t=0, track=1, channel=2>: Got incorrect data for <MidiEvent PROGRAM_CHANGE, t=0, track=1, channel=2> in .data: None,cannot parse Program Change; ignored.\n",
      "midi.base.py: WARNING: Conversion error for <MidiEvent PROGRAM_CHANGE, t=0, track=1, channel=2>: Got incorrect data for <MidiEvent PROGRAM_CHANGE, t=0, track=1, channel=2> in .data: None,cannot parse Program Change; ignored.\n",
      "midi.base.py: WARNING: Conversion error for <MidiEvent PROGRAM_CHANGE, t=0, track=1, channel=2>: Got incorrect data for <MidiEvent PROGRAM_CHANGE, t=0, track=1, channel=2> in .data: None,cannot parse Program Change; ignored.\n",
      "midi.base.py: WARNING: Conversion error for <MidiEvent PROGRAM_CHANGE, t=0, track=1, channel=2>: Got incorrect data for <MidiEvent PROGRAM_CHANGE, t=0, track=1, channel=2> in .data: None,cannot parse Program Change; ignored.\n",
      "midi.base.py: WARNING: Conversion error for <MidiEvent PROGRAM_CHANGE, t=0, track=1, channel=2>: Got incorrect data for <MidiEvent PROGRAM_CHANGE, t=0, track=1, channel=2> in .data: None,cannot parse Program Change; ignored.\n",
      "midi.base.py: WARNING: Conversion error for <MidiEvent PROGRAM_CHANGE, t=0, track=1, channel=2>: Got incorrect data for <MidiEvent PROGRAM_CHANGE, t=0, track=1, channel=2> in .data: None,cannot parse Program Change; ignored.\n",
      "midi.base.py: WARNING: Conversion error for <MidiEvent PROGRAM_CHANGE, t=0, track=1, channel=2>: Got incorrect data for <MidiEvent PROGRAM_CHANGE, t=0, track=1, channel=2> in .data: None,cannot parse Program Change; ignored.\n",
      "midi.base.py: WARNING: Conversion error for <MidiEvent PROGRAM_CHANGE, t=0, track=1, channel=2>: Got incorrect data for <MidiEvent PROGRAM_CHANGE, t=0, track=1, channel=2> in .data: None,cannot parse Program Change; ignored.\n",
      "midi.base.py: WARNING: Conversion error for <MidiEvent PROGRAM_CHANGE, t=0, track=1, channel=2>: Got incorrect data for <MidiEvent PROGRAM_CHANGE, t=0, track=1, channel=2> in .data: None,cannot parse Program Change; ignored.\n",
      "midi.base.py: WARNING: Conversion error for <MidiEvent PROGRAM_CHANGE, t=0, track=1, channel=2>: Got incorrect data for <MidiEvent PROGRAM_CHANGE, t=0, track=1, channel=2> in .data: None,cannot parse Program Change; ignored.\n",
      "midi.base.py: WARNING: Conversion error for <MidiEvent PROGRAM_CHANGE, t=0, track=1, channel=2>: Got incorrect data for <MidiEvent PROGRAM_CHANGE, t=0, track=1, channel=2> in .data: None,cannot parse Program Change; ignored.\n",
      "midi.base.py: WARNING: Conversion error for <MidiEvent PROGRAM_CHANGE, t=0, track=1, channel=2>: Got incorrect data for <MidiEvent PROGRAM_CHANGE, t=0, track=1, channel=2> in .data: None,cannot parse Program Change; ignored.\n",
      "midi.base.py: WARNING: Conversion error for <MidiEvent PROGRAM_CHANGE, t=0, track=1, channel=2>: Got incorrect data for <MidiEvent PROGRAM_CHANGE, t=0, track=1, channel=2> in .data: None,cannot parse Program Change; ignored.\n",
      "midi.base.py: WARNING: Conversion error for <MidiEvent PROGRAM_CHANGE, t=0, track=1, channel=2>: Got incorrect data for <MidiEvent PROGRAM_CHANGE, t=0, track=1, channel=2> in .data: None,cannot parse Program Change; ignored.\n",
      "midi.base.py: WARNING: Conversion error for <MidiEvent PROGRAM_CHANGE, t=0, track=1, channel=2>: Got incorrect data for <MidiEvent PROGRAM_CHANGE, t=0, track=1, channel=2> in .data: None,cannot parse Program Change; ignored.\n",
      "midi.base.py: WARNING: Conversion error for <MidiEvent PROGRAM_CHANGE, t=0, track=2, channel=2>: Got incorrect data for <MidiEvent PROGRAM_CHANGE, t=0, track=2, channel=2> in .data: None,cannot parse Program Change; ignored.\n",
      "midi.base.py: WARNING: Conversion error for <MidiEvent PROGRAM_CHANGE, t=0, track=2, channel=2>: Got incorrect data for <MidiEvent PROGRAM_CHANGE, t=0, track=2, channel=2> in .data: None,cannot parse Program Change; ignored.\n",
      "midi.base.py: WARNING: Conversion error for <MidiEvent PROGRAM_CHANGE, t=0, track=2, channel=2>: Got incorrect data for <MidiEvent PROGRAM_CHANGE, t=0, track=2, channel=2> in .data: None,cannot parse Program Change; ignored.\n",
      "midi.base.py: WARNING: Conversion error for <MidiEvent PROGRAM_CHANGE, t=0, track=2, channel=2>: Got incorrect data for <MidiEvent PROGRAM_CHANGE, t=0, track=2, channel=2> in .data: None,cannot parse Program Change; ignored.\n"
     ]
    },
    {
     "name": "stderr",
     "output_type": "stream",
     "text": [
      "midi.base.py: WARNING: Conversion error for <MidiEvent PROGRAM_CHANGE, t=0, track=2, channel=2>: Got incorrect data for <MidiEvent PROGRAM_CHANGE, t=0, track=2, channel=2> in .data: None,cannot parse Program Change; ignored.\n",
      "midi.base.py: WARNING: Conversion error for <MidiEvent PROGRAM_CHANGE, t=0, track=2, channel=2>: Got incorrect data for <MidiEvent PROGRAM_CHANGE, t=0, track=2, channel=2> in .data: None,cannot parse Program Change; ignored.\n",
      "midi.base.py: WARNING: Conversion error for <MidiEvent PROGRAM_CHANGE, t=0, track=2, channel=2>: Got incorrect data for <MidiEvent PROGRAM_CHANGE, t=0, track=2, channel=2> in .data: None,cannot parse Program Change; ignored.\n",
      "midi.base.py: WARNING: Conversion error for <MidiEvent PROGRAM_CHANGE, t=0, track=2, channel=2>: Got incorrect data for <MidiEvent PROGRAM_CHANGE, t=0, track=2, channel=2> in .data: None,cannot parse Program Change; ignored.\n",
      "midi.base.py: WARNING: Conversion error for <MidiEvent PROGRAM_CHANGE, t=0, track=2, channel=2>: Got incorrect data for <MidiEvent PROGRAM_CHANGE, t=0, track=2, channel=2> in .data: None,cannot parse Program Change; ignored.\n",
      "midi.base.py: WARNING: Conversion error for <MidiEvent PROGRAM_CHANGE, t=0, track=2, channel=2>: Got incorrect data for <MidiEvent PROGRAM_CHANGE, t=0, track=2, channel=2> in .data: None,cannot parse Program Change; ignored.\n",
      "midi.base.py: WARNING: Conversion error for <MidiEvent PROGRAM_CHANGE, t=0, track=2, channel=2>: Got incorrect data for <MidiEvent PROGRAM_CHANGE, t=0, track=2, channel=2> in .data: None,cannot parse Program Change; ignored.\n",
      "midi.base.py: WARNING: Conversion error for <MidiEvent PROGRAM_CHANGE, t=0, track=2, channel=2>: Got incorrect data for <MidiEvent PROGRAM_CHANGE, t=0, track=2, channel=2> in .data: None,cannot parse Program Change; ignored.\n",
      "midi.base.py: WARNING: Conversion error for <MidiEvent PROGRAM_CHANGE, t=0, track=2, channel=2>: Got incorrect data for <MidiEvent PROGRAM_CHANGE, t=0, track=2, channel=2> in .data: None,cannot parse Program Change; ignored.\n",
      "midi.base.py: WARNING: Conversion error for <MidiEvent PROGRAM_CHANGE, t=0, track=2, channel=2>: Got incorrect data for <MidiEvent PROGRAM_CHANGE, t=0, track=2, channel=2> in .data: None,cannot parse Program Change; ignored.\n",
      "midi.base.py: WARNING: Conversion error for <MidiEvent PROGRAM_CHANGE, t=0, track=2, channel=2>: Got incorrect data for <MidiEvent PROGRAM_CHANGE, t=0, track=2, channel=2> in .data: None,cannot parse Program Change; ignored.\n",
      "midi.base.py: WARNING: Conversion error for <MidiEvent PROGRAM_CHANGE, t=0, track=2, channel=2>: Got incorrect data for <MidiEvent PROGRAM_CHANGE, t=0, track=2, channel=2> in .data: None,cannot parse Program Change; ignored.\n",
      "midi.base.py: WARNING: Conversion error for <MidiEvent PROGRAM_CHANGE, t=0, track=2, channel=2>: Got incorrect data for <MidiEvent PROGRAM_CHANGE, t=0, track=2, channel=2> in .data: None,cannot parse Program Change; ignored.\n",
      "midi.base.py: WARNING: Conversion error for <MidiEvent PROGRAM_CHANGE, t=0, track=2, channel=2>: Got incorrect data for <MidiEvent PROGRAM_CHANGE, t=0, track=2, channel=2> in .data: None,cannot parse Program Change; ignored.\n",
      "midi.base.py: WARNING: Conversion error for <MidiEvent PROGRAM_CHANGE, t=0, track=2, channel=2>: Got incorrect data for <MidiEvent PROGRAM_CHANGE, t=0, track=2, channel=2> in .data: None,cannot parse Program Change; ignored.\n",
      "midi.base.py: WARNING: Conversion error for <MidiEvent PROGRAM_CHANGE, t=0, track=2, channel=2>: Got incorrect data for <MidiEvent PROGRAM_CHANGE, t=0, track=2, channel=2> in .data: None,cannot parse Program Change; ignored.\n",
      "midi.base.py: WARNING: Conversion error for <MidiEvent PROGRAM_CHANGE, t=0, track=2, channel=2>: Got incorrect data for <MidiEvent PROGRAM_CHANGE, t=0, track=2, channel=2> in .data: None,cannot parse Program Change; ignored.\n",
      "midi.base.py: WARNING: Conversion error for <MidiEvent PROGRAM_CHANGE, t=0, track=2, channel=2>: Got incorrect data for <MidiEvent PROGRAM_CHANGE, t=0, track=2, channel=2> in .data: None,cannot parse Program Change; ignored.\n",
      "midi.base.py: WARNING: Conversion error for <MidiEvent PROGRAM_CHANGE, t=0, track=2, channel=2>: Got incorrect data for <MidiEvent PROGRAM_CHANGE, t=0, track=2, channel=2> in .data: None,cannot parse Program Change; ignored.\n",
      "midi.base.py: WARNING: Conversion error for <MidiEvent PROGRAM_CHANGE, t=0, track=2, channel=2>: Got incorrect data for <MidiEvent PROGRAM_CHANGE, t=0, track=2, channel=2> in .data: None,cannot parse Program Change; ignored.\n",
      "midi.base.py: WARNING: Conversion error for <MidiEvent PROGRAM_CHANGE, t=0, track=2, channel=2>: Got incorrect data for <MidiEvent PROGRAM_CHANGE, t=0, track=2, channel=2> in .data: None,cannot parse Program Change; ignored.\n",
      "midi.base.py: WARNING: Conversion error for <MidiEvent PROGRAM_CHANGE, t=0, track=2, channel=2>: Got incorrect data for <MidiEvent PROGRAM_CHANGE, t=0, track=2, channel=2> in .data: None,cannot parse Program Change; ignored.\n",
      "midi.base.py: WARNING: Conversion error for <MidiEvent PROGRAM_CHANGE, t=0, track=2, channel=2>: Got incorrect data for <MidiEvent PROGRAM_CHANGE, t=0, track=2, channel=2> in .data: None,cannot parse Program Change; ignored.\n",
      "midi.base.py: WARNING: Conversion error for <MidiEvent PROGRAM_CHANGE, t=0, track=2, channel=2>: Got incorrect data for <MidiEvent PROGRAM_CHANGE, t=0, track=2, channel=2> in .data: None,cannot parse Program Change; ignored.\n",
      "midi.base.py: WARNING: Conversion error for <MidiEvent PROGRAM_CHANGE, t=0, track=2, channel=2>: Got incorrect data for <MidiEvent PROGRAM_CHANGE, t=0, track=2, channel=2> in .data: None,cannot parse Program Change; ignored.\n",
      "midi.base.py: WARNING: Conversion error for <MidiEvent PROGRAM_CHANGE, t=0, track=2, channel=2>: Got incorrect data for <MidiEvent PROGRAM_CHANGE, t=0, track=2, channel=2> in .data: None,cannot parse Program Change; ignored.\n",
      "midi.base.py: WARNING: Conversion error for <MidiEvent PROGRAM_CHANGE, t=0, track=2, channel=2>: Got incorrect data for <MidiEvent PROGRAM_CHANGE, t=0, track=2, channel=2> in .data: None,cannot parse Program Change; ignored.\n",
      "midi.base.py: WARNING: Conversion error for <MidiEvent PROGRAM_CHANGE, t=0, track=2, channel=2>: Got incorrect data for <MidiEvent PROGRAM_CHANGE, t=0, track=2, channel=2> in .data: None,cannot parse Program Change; ignored.\n",
      "midi.base.py: WARNING: Conversion error for <MidiEvent PROGRAM_CHANGE, t=0, track=2, channel=2>: Got incorrect data for <MidiEvent PROGRAM_CHANGE, t=0, track=2, channel=2> in .data: None,cannot parse Program Change; ignored.\n",
      "midi.base.py: WARNING: Conversion error for <MidiEvent PROGRAM_CHANGE, t=0, track=2, channel=2>: Got incorrect data for <MidiEvent PROGRAM_CHANGE, t=0, track=2, channel=2> in .data: None,cannot parse Program Change; ignored.\n",
      "midi.base.py: WARNING: Conversion error for <MidiEvent PROGRAM_CHANGE, t=0, track=2, channel=2>: Got incorrect data for <MidiEvent PROGRAM_CHANGE, t=0, track=2, channel=2> in .data: None,cannot parse Program Change; ignored.\n",
      "midi.base.py: WARNING: Conversion error for <MidiEvent PROGRAM_CHANGE, t=0, track=2, channel=2>: Got incorrect data for <MidiEvent PROGRAM_CHANGE, t=0, track=2, channel=2> in .data: None,cannot parse Program Change; ignored.\n",
      "midi.base.py: WARNING: Conversion error for <MidiEvent PROGRAM_CHANGE, t=0, track=2, channel=2>: Got incorrect data for <MidiEvent PROGRAM_CHANGE, t=0, track=2, channel=2> in .data: None,cannot parse Program Change; ignored.\n",
      "midi.base.py: WARNING: Conversion error for <MidiEvent PROGRAM_CHANGE, t=0, track=2, channel=2>: Got incorrect data for <MidiEvent PROGRAM_CHANGE, t=0, track=2, channel=2> in .data: None,cannot parse Program Change; ignored.\n",
      "midi.base.py: WARNING: Conversion error for <MidiEvent PROGRAM_CHANGE, t=0, track=2, channel=2>: Got incorrect data for <MidiEvent PROGRAM_CHANGE, t=0, track=2, channel=2> in .data: None,cannot parse Program Change; ignored.\n",
      "midi.base.py: WARNING: Conversion error for <MidiEvent PROGRAM_CHANGE, t=0, track=2, channel=2>: Got incorrect data for <MidiEvent PROGRAM_CHANGE, t=0, track=2, channel=2> in .data: None,cannot parse Program Change; ignored.\n",
      "midi.base.py: WARNING: Conversion error for <MidiEvent PROGRAM_CHANGE, t=0, track=2, channel=2>: Got incorrect data for <MidiEvent PROGRAM_CHANGE, t=0, track=2, channel=2> in .data: None,cannot parse Program Change; ignored.\n"
     ]
    },
    {
     "name": "stderr",
     "output_type": "stream",
     "text": [
      "midi.base.py: WARNING: Conversion error for <MidiEvent PROGRAM_CHANGE, t=0, track=2, channel=2>: Got incorrect data for <MidiEvent PROGRAM_CHANGE, t=0, track=2, channel=2> in .data: None,cannot parse Program Change; ignored.\n",
      "midi.base.py: WARNING: Conversion error for <MidiEvent PROGRAM_CHANGE, t=0, track=2, channel=2>: Got incorrect data for <MidiEvent PROGRAM_CHANGE, t=0, track=2, channel=2> in .data: None,cannot parse Program Change; ignored.\n",
      "midi.base.py: WARNING: Conversion error for <MidiEvent PROGRAM_CHANGE, t=0, track=2, channel=2>: Got incorrect data for <MidiEvent PROGRAM_CHANGE, t=0, track=2, channel=2> in .data: None,cannot parse Program Change; ignored.\n",
      "midi.base.py: WARNING: Conversion error for <MidiEvent PROGRAM_CHANGE, t=0, track=2, channel=2>: Got incorrect data for <MidiEvent PROGRAM_CHANGE, t=0, track=2, channel=2> in .data: None,cannot parse Program Change; ignored.\n",
      "midi.base.py: WARNING: Conversion error for <MidiEvent PROGRAM_CHANGE, t=0, track=2, channel=2>: Got incorrect data for <MidiEvent PROGRAM_CHANGE, t=0, track=2, channel=2> in .data: None,cannot parse Program Change; ignored.\n",
      "midi.base.py: WARNING: Conversion error for <MidiEvent PROGRAM_CHANGE, t=0, track=2, channel=2>: Got incorrect data for <MidiEvent PROGRAM_CHANGE, t=0, track=2, channel=2> in .data: None,cannot parse Program Change; ignored.\n",
      "midi.base.py: WARNING: Conversion error for <MidiEvent PROGRAM_CHANGE, t=0, track=2, channel=2>: Got incorrect data for <MidiEvent PROGRAM_CHANGE, t=0, track=2, channel=2> in .data: None,cannot parse Program Change; ignored.\n",
      "midi.base.py: WARNING: Conversion error for <MidiEvent PROGRAM_CHANGE, t=0, track=2, channel=2>: Got incorrect data for <MidiEvent PROGRAM_CHANGE, t=0, track=2, channel=2> in .data: None,cannot parse Program Change; ignored.\n",
      "midi.base.py: WARNING: Conversion error for <MidiEvent PROGRAM_CHANGE, t=0, track=2, channel=2>: Got incorrect data for <MidiEvent PROGRAM_CHANGE, t=0, track=2, channel=2> in .data: None,cannot parse Program Change; ignored.\n",
      "midi.base.py: WARNING: Conversion error for <MidiEvent PROGRAM_CHANGE, t=0, track=2, channel=2>: Got incorrect data for <MidiEvent PROGRAM_CHANGE, t=0, track=2, channel=2> in .data: None,cannot parse Program Change; ignored.\n",
      "midi.base.py: WARNING: Conversion error for <MidiEvent PROGRAM_CHANGE, t=0, track=2, channel=2>: Got incorrect data for <MidiEvent PROGRAM_CHANGE, t=0, track=2, channel=2> in .data: None,cannot parse Program Change; ignored.\n",
      "midi.base.py: WARNING: Conversion error for <MidiEvent PROGRAM_CHANGE, t=0, track=2, channel=2>: Got incorrect data for <MidiEvent PROGRAM_CHANGE, t=0, track=2, channel=2> in .data: None,cannot parse Program Change; ignored.\n",
      "midi.base.py: WARNING: Conversion error for <MidiEvent PROGRAM_CHANGE, t=0, track=2, channel=2>: Got incorrect data for <MidiEvent PROGRAM_CHANGE, t=0, track=2, channel=2> in .data: None,cannot parse Program Change; ignored.\n",
      "midi.base.py: WARNING: Conversion error for <MidiEvent PROGRAM_CHANGE, t=0, track=2, channel=2>: Got incorrect data for <MidiEvent PROGRAM_CHANGE, t=0, track=2, channel=2> in .data: None,cannot parse Program Change; ignored.\n",
      "midi.base.py: WARNING: Conversion error for <MidiEvent PROGRAM_CHANGE, t=0, track=2, channel=2>: Got incorrect data for <MidiEvent PROGRAM_CHANGE, t=0, track=2, channel=2> in .data: None,cannot parse Program Change; ignored.\n",
      "midi.base.py: WARNING: Conversion error for <MidiEvent PROGRAM_CHANGE, t=0, track=2, channel=2>: Got incorrect data for <MidiEvent PROGRAM_CHANGE, t=0, track=2, channel=2> in .data: None,cannot parse Program Change; ignored.\n",
      "midi.base.py: WARNING: Conversion error for <MidiEvent PROGRAM_CHANGE, t=0, track=2, channel=2>: Got incorrect data for <MidiEvent PROGRAM_CHANGE, t=0, track=2, channel=2> in .data: None,cannot parse Program Change; ignored.\n",
      "midi.base.py: WARNING: Conversion error for <MidiEvent PROGRAM_CHANGE, t=0, track=2, channel=2>: Got incorrect data for <MidiEvent PROGRAM_CHANGE, t=0, track=2, channel=2> in .data: None,cannot parse Program Change; ignored.\n",
      "midi.base.py: WARNING: Conversion error for <MidiEvent PROGRAM_CHANGE, t=0, track=2, channel=2>: Got incorrect data for <MidiEvent PROGRAM_CHANGE, t=0, track=2, channel=2> in .data: None,cannot parse Program Change; ignored.\n",
      "midi.base.py: WARNING: Conversion error for <MidiEvent PROGRAM_CHANGE, t=0, track=2, channel=2>: Got incorrect data for <MidiEvent PROGRAM_CHANGE, t=0, track=2, channel=2> in .data: None,cannot parse Program Change; ignored.\n",
      "midi.base.py: WARNING: Conversion error for <MidiEvent PROGRAM_CHANGE, t=0, track=2, channel=2>: Got incorrect data for <MidiEvent PROGRAM_CHANGE, t=0, track=2, channel=2> in .data: None,cannot parse Program Change; ignored.\n",
      "midi.base.py: WARNING: Conversion error for <MidiEvent PROGRAM_CHANGE, t=0, track=2, channel=2>: Got incorrect data for <MidiEvent PROGRAM_CHANGE, t=0, track=2, channel=2> in .data: None,cannot parse Program Change; ignored.\n",
      "midi.base.py: WARNING: Conversion error for <MidiEvent PROGRAM_CHANGE, t=0, track=2, channel=2>: Got incorrect data for <MidiEvent PROGRAM_CHANGE, t=0, track=2, channel=2> in .data: None,cannot parse Program Change; ignored.\n",
      "midi.base.py: WARNING: Conversion error for <MidiEvent PROGRAM_CHANGE, t=0, track=2, channel=2>: Got incorrect data for <MidiEvent PROGRAM_CHANGE, t=0, track=2, channel=2> in .data: None,cannot parse Program Change; ignored.\n",
      "midi.base.py: WARNING: Conversion error for <MidiEvent PROGRAM_CHANGE, t=0, track=2, channel=2>: Got incorrect data for <MidiEvent PROGRAM_CHANGE, t=0, track=2, channel=2> in .data: None,cannot parse Program Change; ignored.\n",
      "midi.base.py: WARNING: Conversion error for <MidiEvent PROGRAM_CHANGE, t=0, track=2, channel=2>: Got incorrect data for <MidiEvent PROGRAM_CHANGE, t=0, track=2, channel=2> in .data: None,cannot parse Program Change; ignored.\n",
      "midi.base.py: WARNING: Conversion error for <MidiEvent PROGRAM_CHANGE, t=0, track=2, channel=2>: Got incorrect data for <MidiEvent PROGRAM_CHANGE, t=0, track=2, channel=2> in .data: None,cannot parse Program Change; ignored.\n",
      "midi.base.py: WARNING: Conversion error for <MidiEvent PROGRAM_CHANGE, t=0, track=2, channel=2>: Got incorrect data for <MidiEvent PROGRAM_CHANGE, t=0, track=2, channel=2> in .data: None,cannot parse Program Change; ignored.\n",
      "midi.base.py: WARNING: Conversion error for <MidiEvent PROGRAM_CHANGE, t=0, track=2, channel=2>: Got incorrect data for <MidiEvent PROGRAM_CHANGE, t=0, track=2, channel=2> in .data: None,cannot parse Program Change; ignored.\n",
      "midi.base.py: WARNING: Conversion error for <MidiEvent PROGRAM_CHANGE, t=0, track=2, channel=2>: Got incorrect data for <MidiEvent PROGRAM_CHANGE, t=0, track=2, channel=2> in .data: None,cannot parse Program Change; ignored.\n",
      "midi.base.py: WARNING: Conversion error for <MidiEvent PROGRAM_CHANGE, t=0, track=2, channel=2>: Got incorrect data for <MidiEvent PROGRAM_CHANGE, t=0, track=2, channel=2> in .data: None,cannot parse Program Change; ignored.\n",
      "midi.base.py: WARNING: Conversion error for <MidiEvent PROGRAM_CHANGE, t=0, track=2, channel=2>: Got incorrect data for <MidiEvent PROGRAM_CHANGE, t=0, track=2, channel=2> in .data: None,cannot parse Program Change; ignored.\n",
      "midi.base.py: WARNING: Conversion error for <MidiEvent PROGRAM_CHANGE, t=0, track=2, channel=2>: Got incorrect data for <MidiEvent PROGRAM_CHANGE, t=0, track=2, channel=2> in .data: None,cannot parse Program Change; ignored.\n",
      "midi.base.py: WARNING: Conversion error for <MidiEvent PROGRAM_CHANGE, t=0, track=2, channel=2>: Got incorrect data for <MidiEvent PROGRAM_CHANGE, t=0, track=2, channel=2> in .data: None,cannot parse Program Change; ignored.\n",
      "midi.base.py: WARNING: Conversion error for <MidiEvent PROGRAM_CHANGE, t=0, track=2, channel=2>: Got incorrect data for <MidiEvent PROGRAM_CHANGE, t=0, track=2, channel=2> in .data: None,cannot parse Program Change; ignored.\n",
      "midi.base.py: WARNING: Conversion error for <MidiEvent PROGRAM_CHANGE, t=0, track=2, channel=2>: Got incorrect data for <MidiEvent PROGRAM_CHANGE, t=0, track=2, channel=2> in .data: None,cannot parse Program Change; ignored.\n",
      "midi.base.py: WARNING: Conversion error for <MidiEvent PROGRAM_CHANGE, t=0, track=2, channel=2>: Got incorrect data for <MidiEvent PROGRAM_CHANGE, t=0, track=2, channel=2> in .data: None,cannot parse Program Change; ignored.\n"
     ]
    },
    {
     "name": "stderr",
     "output_type": "stream",
     "text": [
      "midi.base.py: WARNING: Conversion error for <MidiEvent PROGRAM_CHANGE, t=0, track=2, channel=2>: Got incorrect data for <MidiEvent PROGRAM_CHANGE, t=0, track=2, channel=2> in .data: None,cannot parse Program Change; ignored.\n",
      "midi.base.py: WARNING: Conversion error for <MidiEvent PROGRAM_CHANGE, t=0, track=2, channel=2>: Got incorrect data for <MidiEvent PROGRAM_CHANGE, t=0, track=2, channel=2> in .data: None,cannot parse Program Change; ignored.\n",
      "midi.base.py: WARNING: Conversion error for <MidiEvent PROGRAM_CHANGE, t=0, track=2, channel=2>: Got incorrect data for <MidiEvent PROGRAM_CHANGE, t=0, track=2, channel=2> in .data: None,cannot parse Program Change; ignored.\n",
      "midi.base.py: WARNING: Conversion error for <MidiEvent PROGRAM_CHANGE, t=0, track=2, channel=2>: Got incorrect data for <MidiEvent PROGRAM_CHANGE, t=0, track=2, channel=2> in .data: None,cannot parse Program Change; ignored.\n",
      "midi.base.py: WARNING: Conversion error for <MidiEvent PROGRAM_CHANGE, t=0, track=2, channel=2>: Got incorrect data for <MidiEvent PROGRAM_CHANGE, t=0, track=2, channel=2> in .data: None,cannot parse Program Change; ignored.\n",
      "midi.base.py: WARNING: Conversion error for <MidiEvent PROGRAM_CHANGE, t=0, track=2, channel=2>: Got incorrect data for <MidiEvent PROGRAM_CHANGE, t=0, track=2, channel=2> in .data: None,cannot parse Program Change; ignored.\n",
      "midi.base.py: WARNING: Conversion error for <MidiEvent PROGRAM_CHANGE, t=0, track=2, channel=2>: Got incorrect data for <MidiEvent PROGRAM_CHANGE, t=0, track=2, channel=2> in .data: None,cannot parse Program Change; ignored.\n",
      "midi.base.py: WARNING: Conversion error for <MidiEvent PROGRAM_CHANGE, t=0, track=2, channel=2>: Got incorrect data for <MidiEvent PROGRAM_CHANGE, t=0, track=2, channel=2> in .data: None,cannot parse Program Change; ignored.\n",
      "midi.base.py: WARNING: Conversion error for <MidiEvent PROGRAM_CHANGE, t=0, track=3, channel=2>: Got incorrect data for <MidiEvent PROGRAM_CHANGE, t=0, track=3, channel=2> in .data: None,cannot parse Program Change; ignored.\n",
      "midi.base.py: WARNING: Conversion error for <MidiEvent PROGRAM_CHANGE, t=0, track=3, channel=2>: Got incorrect data for <MidiEvent PROGRAM_CHANGE, t=0, track=3, channel=2> in .data: None,cannot parse Program Change; ignored.\n",
      "midi.base.py: WARNING: Conversion error for <MidiEvent PROGRAM_CHANGE, t=0, track=3, channel=2>: Got incorrect data for <MidiEvent PROGRAM_CHANGE, t=0, track=3, channel=2> in .data: None,cannot parse Program Change; ignored.\n",
      "midi.base.py: WARNING: Conversion error for <MidiEvent PROGRAM_CHANGE, t=0, track=1, channel=1>: Got incorrect data for <MidiEvent PROGRAM_CHANGE, t=0, track=1, channel=1> in .data: None,cannot parse Program Change; ignored.\n",
      "midi.base.py: WARNING: Conversion error for <MidiEvent PROGRAM_CHANGE, t=0, track=3, channel=1>: Got incorrect data for <MidiEvent PROGRAM_CHANGE, t=0, track=3, channel=1> in .data: None,cannot parse Program Change; ignored.\n",
      "midi.base.py: WARNING: Conversion error for <MidiEvent PROGRAM_CHANGE, t=0, track=4, channel=1>: Got incorrect data for <MidiEvent PROGRAM_CHANGE, t=0, track=4, channel=1> in .data: None,cannot parse Program Change; ignored.\n",
      "midi.base.py: WARNING: Conversion error for <MidiEvent PROGRAM_CHANGE, t=0, track=6, channel=1>: Got incorrect data for <MidiEvent PROGRAM_CHANGE, t=0, track=6, channel=1> in .data: None,cannot parse Program Change; ignored.\n",
      "midi.base.py: WARNING: Conversion error for <MidiEvent PROGRAM_CHANGE, t=0, track=7, channel=1>: Got incorrect data for <MidiEvent PROGRAM_CHANGE, t=0, track=7, channel=1> in .data: None,cannot parse Program Change; ignored.\n",
      "midi.base.py: WARNING: Conversion error for <MidiEvent PROGRAM_CHANGE, t=0, track=1, channel=1>: Got incorrect data for <MidiEvent PROGRAM_CHANGE, t=0, track=1, channel=1> in .data: None,cannot parse Program Change; ignored.\n",
      "midi.base.py: WARNING: Conversion error for <MidiEvent PROGRAM_CHANGE, t=0, track=9, channel=4>: Got incorrect data for <MidiEvent PROGRAM_CHANGE, t=0, track=9, channel=4> in .data: None,cannot parse Program Change; ignored.\n",
      "midi.base.py: WARNING: Conversion error for <MidiEvent PROGRAM_CHANGE, t=0, track=10, channel=4>: Got incorrect data for <MidiEvent PROGRAM_CHANGE, t=0, track=10, channel=4> in .data: None,cannot parse Program Change; ignored.\n",
      "midi.base.py: WARNING: Conversion error for <MidiEvent PROGRAM_CHANGE, t=0, track=12, channel=4>: Got incorrect data for <MidiEvent PROGRAM_CHANGE, t=0, track=12, channel=4> in .data: None,cannot parse Program Change; ignored.\n",
      "midi.base.py: WARNING: Conversion error for <MidiEvent PROGRAM_CHANGE, t=0, track=1, channel=1>: Got incorrect data for <MidiEvent PROGRAM_CHANGE, t=0, track=1, channel=1> in .data: None,cannot parse Program Change; ignored.\n"
     ]
    },
    {
     "name": "stdout",
     "output_type": "stream",
     "text": [
      "badly formated midi string, got: \u0000\u0006GERSH2\u0000\u0000\u0000\u0000\u0000\u0000\u0000\u0000\u0000\u0000\u0000\u0000\n",
      "chr() arg not in range(256)\n"
     ]
    },
    {
     "name": "stderr",
     "output_type": "stream",
     "text": [
      "midi.base.py: WARNING: Conversion error for <MidiEvent PROGRAM_CHANGE, t=0, track=1, channel=1>: Got incorrect data for <MidiEvent PROGRAM_CHANGE, t=0, track=1, channel=1> in .data: None,cannot parse Program Change; ignored.\n",
      "midi.base.py: WARNING: Conversion error for <MidiEvent PROGRAM_CHANGE, t=0, track=1, channel=1>: Got incorrect data for <MidiEvent PROGRAM_CHANGE, t=0, track=1, channel=1> in .data: None,cannot parse Program Change; ignored.\n",
      "midi.base.py: WARNING: Conversion error for <MidiEvent PROGRAM_CHANGE, t=0, track=1, channel=1>: Got incorrect data for <MidiEvent PROGRAM_CHANGE, t=0, track=1, channel=1> in .data: None,cannot parse Program Change; ignored.\n",
      "midi.base.py: WARNING: Conversion error for <MidiEvent PROGRAM_CHANGE, t=0, track=1, channel=1>: Got incorrect data for <MidiEvent PROGRAM_CHANGE, t=0, track=1, channel=1> in .data: None,cannot parse Program Change; ignored.\n",
      "midi.base.py: WARNING: Conversion error for <MidiEvent PROGRAM_CHANGE, t=0, track=1, channel=1>: Got incorrect data for <MidiEvent PROGRAM_CHANGE, t=0, track=1, channel=1> in .data: None,cannot parse Program Change; ignored.\n",
      "midi.base.py: WARNING: Conversion error for <MidiEvent PROGRAM_CHANGE, t=0, track=1, channel=1>: Got incorrect data for <MidiEvent PROGRAM_CHANGE, t=0, track=1, channel=1> in .data: None,cannot parse Program Change; ignored.\n",
      "midi.base.py: WARNING: Conversion error for <MidiEvent PROGRAM_CHANGE, t=0, track=1, channel=1>: Got incorrect data for <MidiEvent PROGRAM_CHANGE, t=0, track=1, channel=1> in .data: None,cannot parse Program Change; ignored.\n",
      "midi.base.py: WARNING: Conversion error for <MidiEvent PROGRAM_CHANGE, t=0, track=5, channel=1>: Got incorrect data for <MidiEvent PROGRAM_CHANGE, t=0, track=5, channel=1> in .data: None,cannot parse Program Change; ignored.\n",
      "midi.base.py: WARNING: Conversion error for <MidiEvent PROGRAM_CHANGE, t=0, track=1, channel=1>: Got incorrect data for <MidiEvent PROGRAM_CHANGE, t=0, track=1, channel=1> in .data: None,cannot parse Program Change; ignored.\n",
      "midi.base.py: WARNING: Conversion error for <MidiEvent PROGRAM_CHANGE, t=0, track=1, channel=1>: Got incorrect data for <MidiEvent PROGRAM_CHANGE, t=0, track=1, channel=1> in .data: None,cannot parse Program Change; ignored.\n",
      "midi.base.py: WARNING: Conversion error for <MidiEvent PROGRAM_CHANGE, t=0, track=1, channel=1>: Got incorrect data for <MidiEvent PROGRAM_CHANGE, t=0, track=1, channel=1> in .data: None,cannot parse Program Change; ignored.\n",
      "midi.base.py: WARNING: Conversion error for <MidiEvent PROGRAM_CHANGE, t=0, track=1, channel=1>: Got incorrect data for <MidiEvent PROGRAM_CHANGE, t=0, track=1, channel=1> in .data: None,cannot parse Program Change; ignored.\n",
      "midi.base.py: WARNING: Conversion error for <MidiEvent PROGRAM_CHANGE, t=0, track=1, channel=1>: Got incorrect data for <MidiEvent PROGRAM_CHANGE, t=0, track=1, channel=1> in .data: None,cannot parse Program Change; ignored.\n",
      "midi.base.py: WARNING: Conversion error for <MidiEvent PROGRAM_CHANGE, t=0, track=1, channel=1>: Got incorrect data for <MidiEvent PROGRAM_CHANGE, t=0, track=1, channel=1> in .data: None,cannot parse Program Change; ignored.\n",
      "midi.base.py: WARNING: Conversion error for <MidiEvent PROGRAM_CHANGE, t=0, track=1, channel=1>: Got incorrect data for <MidiEvent PROGRAM_CHANGE, t=0, track=1, channel=1> in .data: None,cannot parse Program Change; ignored.\n",
      "midi.base.py: WARNING: Conversion error for <MidiEvent PROGRAM_CHANGE, t=0, track=1, channel=1>: Got incorrect data for <MidiEvent PROGRAM_CHANGE, t=0, track=1, channel=1> in .data: None,cannot parse Program Change; ignored.\n",
      "midi.base.py: WARNING: Conversion error for <MidiEvent PROGRAM_CHANGE, t=0, track=1, channel=1>: Got incorrect data for <MidiEvent PROGRAM_CHANGE, t=0, track=1, channel=1> in .data: None,cannot parse Program Change; ignored.\n",
      "midi.base.py: WARNING: Conversion error for <MidiEvent PROGRAM_CHANGE, t=0, track=1, channel=1>: Got incorrect data for <MidiEvent PROGRAM_CHANGE, t=0, track=1, channel=1> in .data: None,cannot parse Program Change; ignored.\n",
      "midi.base.py: WARNING: Conversion error for <MidiEvent PROGRAM_CHANGE, t=0, track=1, channel=1>: Got incorrect data for <MidiEvent PROGRAM_CHANGE, t=0, track=1, channel=1> in .data: None,cannot parse Program Change; ignored.\n",
      "midi.base.py: WARNING: Conversion error for <MidiEvent PROGRAM_CHANGE, t=0, track=1, channel=1>: Got incorrect data for <MidiEvent PROGRAM_CHANGE, t=0, track=1, channel=1> in .data: None,cannot parse Program Change; ignored.\n",
      "midi.base.py: WARNING: Conversion error for <MidiEvent PROGRAM_CHANGE, t=0, track=1, channel=1>: Got incorrect data for <MidiEvent PROGRAM_CHANGE, t=0, track=1, channel=1> in .data: None,cannot parse Program Change; ignored.\n",
      "midi.base.py: WARNING: Conversion error for <MidiEvent PROGRAM_CHANGE, t=0, track=1, channel=1>: Got incorrect data for <MidiEvent PROGRAM_CHANGE, t=0, track=1, channel=1> in .data: None,cannot parse Program Change; ignored.\n",
      "midi.base.py: WARNING: Conversion error for <MidiEvent PROGRAM_CHANGE, t=0, track=1, channel=1>: Got incorrect data for <MidiEvent PROGRAM_CHANGE, t=0, track=1, channel=1> in .data: None,cannot parse Program Change; ignored.\n",
      "midi.base.py: WARNING: Conversion error for <MidiEvent PROGRAM_CHANGE, t=0, track=1, channel=1>: Got incorrect data for <MidiEvent PROGRAM_CHANGE, t=0, track=1, channel=1> in .data: None,cannot parse Program Change; ignored.\n",
      "midi.base.py: WARNING: Conversion error for <MidiEvent PROGRAM_CHANGE, t=0, track=1, channel=1>: Got incorrect data for <MidiEvent PROGRAM_CHANGE, t=0, track=1, channel=1> in .data: None,cannot parse Program Change; ignored.\n",
      "midi.base.py: WARNING: Conversion error for <MidiEvent PROGRAM_CHANGE, t=0, track=5, channel=5>: Got incorrect data for <MidiEvent PROGRAM_CHANGE, t=0, track=5, channel=5> in .data: None,cannot parse Program Change; ignored.\n"
     ]
    },
    {
     "name": "stdout",
     "output_type": "stream",
     "text": [
      "chr() arg not in range(256)\n",
      "badly formated midi string, got: RIFF�\u0006\u0000\u0000RMIDdata�\u0006\u0000\u0000\n",
      "\n",
      "\n",
      "badly formated midi string, got: vti_encoding:SR|utf8\n",
      "string index out of range\n"
     ]
    },
    {
     "name": "stderr",
     "output_type": "stream",
     "text": [
      "midi.base.py: WARNING: Conversion error for <MidiEvent PROGRAM_CHANGE, t=0, track=1, channel=1>: Got incorrect data for <MidiEvent PROGRAM_CHANGE, t=0, track=1, channel=1> in .data: None,cannot parse Program Change; ignored.\n",
      "midi.base.py: WARNING: Conversion error for <MidiEvent PROGRAM_CHANGE, t=0, track=1, channel=1>: Got incorrect data for <MidiEvent PROGRAM_CHANGE, t=0, track=1, channel=1> in .data: None,cannot parse Program Change; ignored.\n",
      "midi.base.py: WARNING: Conversion error for <MidiEvent PROGRAM_CHANGE, t=0, track=1, channel=1>: Got incorrect data for <MidiEvent PROGRAM_CHANGE, t=0, track=1, channel=1> in .data: None,cannot parse Program Change; ignored.\n",
      "midi.base.py: WARNING: Conversion error for <MidiEvent PROGRAM_CHANGE, t=0, track=1, channel=1>: Got incorrect data for <MidiEvent PROGRAM_CHANGE, t=0, track=1, channel=1> in .data: None,cannot parse Program Change; ignored.\n",
      "midi.base.py: WARNING: Conversion error for <MidiEvent PROGRAM_CHANGE, t=0, track=1, channel=1>: Got incorrect data for <MidiEvent PROGRAM_CHANGE, t=0, track=1, channel=1> in .data: None,cannot parse Program Change; ignored.\n",
      "midi.base.py: WARNING: Conversion error for <MidiEvent PROGRAM_CHANGE, t=0, track=1, channel=1>: Got incorrect data for <MidiEvent PROGRAM_CHANGE, t=0, track=1, channel=1> in .data: None,cannot parse Program Change; ignored.\n"
     ]
    },
    {
     "name": "stdout",
     "output_type": "stream",
     "text": [
      "badly formated midi string, got: <!DOCTYPE HTML PUBLI\n",
      "badly formated midi string, got: \u0000\u000eMzrt K.550.mid788\u0000\n",
      "badly formated midi string, got: RIFFdH\u0000\u0000RMIDdataXH\u0000\u0000\n"
     ]
    },
    {
     "name": "stderr",
     "output_type": "stream",
     "text": [
      "midi.base.py: WARNING: Conversion error for <MidiEvent PROGRAM_CHANGE, t=0, track=1, channel=1>: Got incorrect data for <MidiEvent PROGRAM_CHANGE, t=0, track=1, channel=1> in .data: None,cannot parse Program Change; ignored.\n",
      "midi.base.py: WARNING: Conversion error for <MidiEvent PROGRAM_CHANGE, t=0, track=2, channel=1>: Got incorrect data for <MidiEvent PROGRAM_CHANGE, t=0, track=2, channel=1> in .data: None,cannot parse Program Change; ignored.\n",
      "midi.base.py: WARNING: Conversion error for <MidiEvent PROGRAM_CHANGE, t=0, track=5, channel=1>: Got incorrect data for <MidiEvent PROGRAM_CHANGE, t=0, track=5, channel=1> in .data: None,cannot parse Program Change; ignored.\n",
      "midi.base.py: WARNING: Conversion error for <MidiEvent PROGRAM_CHANGE, t=0, track=7, channel=1>: Got incorrect data for <MidiEvent PROGRAM_CHANGE, t=0, track=7, channel=1> in .data: None,cannot parse Program Change; ignored.\n",
      "midi.base.py: WARNING: Conversion error for <MidiEvent PROGRAM_CHANGE, t=0, track=9, channel=1>: Got incorrect data for <MidiEvent PROGRAM_CHANGE, t=0, track=9, channel=1> in .data: None,cannot parse Program Change; ignored.\n"
     ]
    },
    {
     "name": "stdout",
     "output_type": "stream",
     "text": [
      "badly formated midi string, got: <HTML> \n",
      "<HEAD><TITL\n",
      "badly formated midi string, got: MTM\u0010Digital Harmonic\n"
     ]
    },
    {
     "name": "stderr",
     "output_type": "stream",
     "text": [
      "midi.base.py: WARNING: Conversion error for <MidiEvent PROGRAM_CHANGE, t=0, track=6, channel=6>: Got incorrect data for <MidiEvent PROGRAM_CHANGE, t=0, track=6, channel=6> in .data: None,cannot parse Program Change; ignored.\n",
      "midi.base.py: WARNING: Conversion error for <MidiEvent PROGRAM_CHANGE, t=0, track=3, channel=2>: Got incorrect data for <MidiEvent PROGRAM_CHANGE, t=0, track=3, channel=2> in .data: None,cannot parse Program Change; ignored.\n",
      "midi.base.py: WARNING: Conversion error for <MidiEvent PROGRAM_CHANGE, t=0, track=3, channel=2>: Got incorrect data for <MidiEvent PROGRAM_CHANGE, t=0, track=3, channel=2> in .data: None,cannot parse Program Change; ignored.\n",
      "midi.base.py: WARNING: Conversion error for <MidiEvent PROGRAM_CHANGE, t=0, track=4, channel=2>: Got incorrect data for <MidiEvent PROGRAM_CHANGE, t=0, track=4, channel=2> in .data: None,cannot parse Program Change; ignored.\n",
      "midi.base.py: WARNING: Conversion error for <MidiEvent PROGRAM_CHANGE, t=0, track=4, channel=2>: Got incorrect data for <MidiEvent PROGRAM_CHANGE, t=0, track=4, channel=2> in .data: None,cannot parse Program Change; ignored.\n",
      "midi.base.py: WARNING: Conversion error for <MidiEvent PROGRAM_CHANGE, t=0, track=5, channel=2>: Got incorrect data for <MidiEvent PROGRAM_CHANGE, t=0, track=5, channel=2> in .data: None,cannot parse Program Change; ignored.\n",
      "midi.base.py: WARNING: Conversion error for <MidiEvent PROGRAM_CHANGE, t=0, track=5, channel=2>: Got incorrect data for <MidiEvent PROGRAM_CHANGE, t=0, track=5, channel=2> in .data: None,cannot parse Program Change; ignored.\n",
      "midi.base.py: WARNING: Conversion error for <MidiEvent PROGRAM_CHANGE, t=0, track=6, channel=2>: Got incorrect data for <MidiEvent PROGRAM_CHANGE, t=0, track=6, channel=2> in .data: None,cannot parse Program Change; ignored.\n",
      "midi.base.py: WARNING: Conversion error for <MidiEvent PROGRAM_CHANGE, t=0, track=6, channel=2>: Got incorrect data for <MidiEvent PROGRAM_CHANGE, t=0, track=6, channel=2> in .data: None,cannot parse Program Change; ignored.\n",
      "midi.base.py: WARNING: Conversion error for <MidiEvent PROGRAM_CHANGE, t=0, track=7, channel=2>: Got incorrect data for <MidiEvent PROGRAM_CHANGE, t=0, track=7, channel=2> in .data: None,cannot parse Program Change; ignored.\n",
      "midi.base.py: WARNING: Conversion error for <MidiEvent PROGRAM_CHANGE, t=0, track=7, channel=2>: Got incorrect data for <MidiEvent PROGRAM_CHANGE, t=0, track=7, channel=2> in .data: None,cannot parse Program Change; ignored.\n",
      "midi.base.py: WARNING: Conversion error for <MidiEvent PROGRAM_CHANGE, t=0, track=8, channel=2>: Got incorrect data for <MidiEvent PROGRAM_CHANGE, t=0, track=8, channel=2> in .data: None,cannot parse Program Change; ignored.\n",
      "midi.base.py: WARNING: Conversion error for <MidiEvent PROGRAM_CHANGE, t=0, track=8, channel=2>: Got incorrect data for <MidiEvent PROGRAM_CHANGE, t=0, track=8, channel=2> in .data: None,cannot parse Program Change; ignored.\n",
      "midi.base.py: WARNING: Conversion error for <MidiEvent PROGRAM_CHANGE, t=0, track=12, channel=2>: Got incorrect data for <MidiEvent PROGRAM_CHANGE, t=0, track=12, channel=2> in .data: None,cannot parse Program Change; ignored.\n",
      "midi.base.py: WARNING: Conversion error for <MidiEvent PROGRAM_CHANGE, t=0, track=12, channel=2>: Got incorrect data for <MidiEvent PROGRAM_CHANGE, t=0, track=12, channel=2> in .data: None,cannot parse Program Change; ignored.\n"
     ]
    },
    {
     "name": "stdout",
     "output_type": "stream",
     "text": [
      "\n"
     ]
    },
    {
     "name": "stderr",
     "output_type": "stream",
     "text": [
      "midi.base.py: WARNING: Conversion error for <MidiEvent PROGRAM_CHANGE, t=0, track=1, channel=1>: Got incorrect data for <MidiEvent PROGRAM_CHANGE, t=0, track=1, channel=1> in .data: None,cannot parse Program Change; ignored.\n",
      "midi.base.py: WARNING: Conversion error for <MidiEvent PROGRAM_CHANGE, t=0, track=6, channel=6>: Got incorrect data for <MidiEvent PROGRAM_CHANGE, t=0, track=6, channel=6> in .data: None,cannot parse Program Change; ignored.\n",
      "midi.base.py: WARNING: Conversion error for <MidiEvent PROGRAM_CHANGE, t=0, track=6, channel=6>: Got incorrect data for <MidiEvent PROGRAM_CHANGE, t=0, track=6, channel=6> in .data: None,cannot parse Program Change; ignored.\n",
      "midi.base.py: WARNING: Conversion error for <MidiEvent PROGRAM_CHANGE, t=0, track=1, channel=1>: Got incorrect data for <MidiEvent PROGRAM_CHANGE, t=0, track=1, channel=1> in .data: None,cannot parse Program Change; ignored.\n",
      "midi.base.py: WARNING: Conversion error for <MidiEvent PROGRAM_CHANGE, t=0, track=3, channel=1>: Got incorrect data for <MidiEvent PROGRAM_CHANGE, t=0, track=3, channel=1> in .data: None,cannot parse Program Change; ignored.\n",
      "midi.base.py: WARNING: Conversion error for <MidiEvent PROGRAM_CHANGE, t=0, track=5, channel=1>: Got incorrect data for <MidiEvent PROGRAM_CHANGE, t=0, track=5, channel=1> in .data: None,cannot parse Program Change; ignored.\n",
      "midi.base.py: WARNING: Conversion error for <MidiEvent PROGRAM_CHANGE, t=0, track=7, channel=1>: Got incorrect data for <MidiEvent PROGRAM_CHANGE, t=0, track=7, channel=1> in .data: None,cannot parse Program Change; ignored.\n"
     ]
    },
    {
     "name": "stdout",
     "output_type": "stream",
     "text": [
      "badly formed midi string: missing leading MTrk\n"
     ]
    },
    {
     "name": "stderr",
     "output_type": "stream",
     "text": [
      "midi.base.py: WARNING: Conversion error for <MidiEvent PROGRAM_CHANGE, t=0, track=1, channel=1>: Got incorrect data for <MidiEvent PROGRAM_CHANGE, t=0, track=1, channel=1> in .data: None,cannot parse Program Change; ignored.\n",
      "midi.base.py: WARNING: Conversion error for <MidiEvent PROGRAM_CHANGE, t=0, track=4, channel=2>: Got incorrect data for <MidiEvent PROGRAM_CHANGE, t=0, track=4, channel=2> in .data: None,cannot parse Program Change; ignored.\n",
      "midi.base.py: WARNING: Conversion error for <MidiEvent PROGRAM_CHANGE, t=0, track=5, channel=2>: Got incorrect data for <MidiEvent PROGRAM_CHANGE, t=0, track=5, channel=2> in .data: None,cannot parse Program Change; ignored.\n",
      "midi.base.py: WARNING: Conversion error for <MidiEvent PROGRAM_CHANGE, t=0, track=9, channel=2>: Got incorrect data for <MidiEvent PROGRAM_CHANGE, t=0, track=9, channel=2> in .data: None,cannot parse Program Change; ignored.\n"
     ]
    },
    {
     "name": "stdout",
     "output_type": "stream",
     "text": [
      "badly formated midi string, got: RIFF,L\u0001\u0000WAVEfmt \u0010\u0000\u0000\u0000\n",
      "badly formated midi string, got: RIFF�.\u0001\u0000WAVEfmt 2\u0000\u0000\u0000\n",
      "badly formated midi string, got: vti_encoding:SR|utf8\n"
     ]
    },
    {
     "name": "stderr",
     "output_type": "stream",
     "text": [
      "midi.base.py: WARNING: Conversion error for <MidiEvent PROGRAM_CHANGE, t=0, track=1, channel=1>: Got incorrect data for <MidiEvent PROGRAM_CHANGE, t=0, track=1, channel=1> in .data: None,cannot parse Program Change; ignored.\n"
     ]
    },
    {
     "name": "stdout",
     "output_type": "stream",
     "text": [
      "\n"
     ]
    },
    {
     "name": "stderr",
     "output_type": "stream",
     "text": [
      "midi.base.py: WARNING: Conversion error for <MidiEvent PROGRAM_CHANGE, t=0, track=1, channel=1>: Got incorrect data for <MidiEvent PROGRAM_CHANGE, t=0, track=1, channel=1> in .data: None,cannot parse Program Change; ignored.\n",
      "midi.base.py: WARNING: Conversion error for <MidiEvent PROGRAM_CHANGE, t=0, track=3, channel=2>: Got incorrect data for <MidiEvent PROGRAM_CHANGE, t=0, track=3, channel=2> in .data: None,cannot parse Program Change; ignored.\n",
      "midi.base.py: WARNING: Conversion error for <MidiEvent PROGRAM_CHANGE, t=0, track=4, channel=2>: Got incorrect data for <MidiEvent PROGRAM_CHANGE, t=0, track=4, channel=2> in .data: None,cannot parse Program Change; ignored.\n"
     ]
    },
    {
     "name": "stdout",
     "output_type": "stream",
     "text": [
      "badly formated midi string, got: vti_encoding:SR|utf8\n"
     ]
    },
    {
     "name": "stderr",
     "output_type": "stream",
     "text": [
      "midi.base.py: WARNING: Conversion error for <MidiEvent PROGRAM_CHANGE, t=0, track=1, channel=1>: Got incorrect data for <MidiEvent PROGRAM_CHANGE, t=0, track=1, channel=1> in .data: None,cannot parse Program Change; ignored.\n"
     ]
    },
    {
     "name": "stdout",
     "output_type": "stream",
     "text": [
      "badly formated midi string, got: \n",
      "<HTML>\n",
      "<HEAD><T\n",
      "\n",
      "badly formated midi string, got: PK\u0003\u0004\u0014\u0000\u0002\u0000)zm1OTrvk\u0014\n"
     ]
    },
    {
     "name": "stderr",
     "output_type": "stream",
     "text": [
      "midi.base.py: WARNING: Conversion error for <MidiEvent PROGRAM_CHANGE, t=0, track=2, channel=2>: Got incorrect data for <MidiEvent PROGRAM_CHANGE, t=0, track=2, channel=2> in .data: None,cannot parse Program Change; ignored.\n"
     ]
    },
    {
     "name": "stdout",
     "output_type": "stream",
     "text": [
      "badly formed midi string: missing leading MTrk\n"
     ]
    },
    {
     "name": "stderr",
     "output_type": "stream",
     "text": [
      "midi.base.py: WARNING: Conversion error for <MidiEvent PROGRAM_CHANGE, t=0, track=1, channel=1>: Got incorrect data for <MidiEvent PROGRAM_CHANGE, t=0, track=1, channel=1> in .data: None,cannot parse Program Change; ignored.\n",
      "midi.base.py: WARNING: Conversion error for <MidiEvent PROGRAM_CHANGE, t=0, track=2, channel=1>: Got incorrect data for <MidiEvent PROGRAM_CHANGE, t=0, track=2, channel=1> in .data: None,cannot parse Program Change; ignored.\n",
      "midi.base.py: WARNING: Conversion error for <MidiEvent PROGRAM_CHANGE, t=0, track=4, channel=1>: Got incorrect data for <MidiEvent PROGRAM_CHANGE, t=0, track=4, channel=1> in .data: None,cannot parse Program Change; ignored.\n",
      "midi.base.py: WARNING: Conversion error for <MidiEvent PROGRAM_CHANGE, t=0, track=6, channel=1>: Got incorrect data for <MidiEvent PROGRAM_CHANGE, t=0, track=6, channel=1> in .data: None,cannot parse Program Change; ignored.\n",
      "midi.base.py: WARNING: Conversion error for <MidiEvent PROGRAM_CHANGE, t=0, track=7, channel=1>: Got incorrect data for <MidiEvent PROGRAM_CHANGE, t=0, track=7, channel=1> in .data: None,cannot parse Program Change; ignored.\n",
      "midi.base.py: WARNING: Conversion error for <MidiEvent PROGRAM_CHANGE, t=0, track=10, channel=1>: Got incorrect data for <MidiEvent PROGRAM_CHANGE, t=0, track=10, channel=1> in .data: None,cannot parse Program Change; ignored.\n",
      "midi.base.py: WARNING: Conversion error for <MidiEvent PROGRAM_CHANGE, t=0, track=1, channel=1>: Got incorrect data for <MidiEvent PROGRAM_CHANGE, t=0, track=1, channel=1> in .data: None,cannot parse Program Change; ignored.\n",
      "midi.base.py: WARNING: Conversion error for <MidiEvent PROGRAM_CHANGE, t=0, track=2, channel=1>: Got incorrect data for <MidiEvent PROGRAM_CHANGE, t=0, track=2, channel=1> in .data: None,cannot parse Program Change; ignored.\n",
      "midi.base.py: WARNING: Conversion error for <MidiEvent PROGRAM_CHANGE, t=0, track=4, channel=1>: Got incorrect data for <MidiEvent PROGRAM_CHANGE, t=0, track=4, channel=1> in .data: None,cannot parse Program Change; ignored.\n",
      "midi.base.py: WARNING: Conversion error for <MidiEvent PROGRAM_CHANGE, t=0, track=6, channel=1>: Got incorrect data for <MidiEvent PROGRAM_CHANGE, t=0, track=6, channel=1> in .data: None,cannot parse Program Change; ignored.\n",
      "midi.base.py: WARNING: Conversion error for <MidiEvent PROGRAM_CHANGE, t=0, track=6, channel=1>: Got incorrect data for <MidiEvent PROGRAM_CHANGE, t=0, track=6, channel=1> in .data: None,cannot parse Program Change; ignored.\n",
      "midi.base.py: WARNING: Conversion error for <MidiEvent PROGRAM_CHANGE, t=0, track=8, channel=1>: Got incorrect data for <MidiEvent PROGRAM_CHANGE, t=0, track=8, channel=1> in .data: None,cannot parse Program Change; ignored.\n",
      "midi.base.py: WARNING: Conversion error for <MidiEvent PROGRAM_CHANGE, t=0, track=9, channel=1>: Got incorrect data for <MidiEvent PROGRAM_CHANGE, t=0, track=9, channel=1> in .data: None,cannot parse Program Change; ignored.\n",
      "midi.base.py: WARNING: Conversion error for <MidiEvent PROGRAM_CHANGE, t=0, track=11, channel=1>: Got incorrect data for <MidiEvent PROGRAM_CHANGE, t=0, track=11, channel=1> in .data: None,cannot parse Program Change; ignored.\n",
      "midi.base.py: WARNING: Conversion error for <MidiEvent PROGRAM_CHANGE, t=0, track=1, channel=1>: Got incorrect data for <MidiEvent PROGRAM_CHANGE, t=0, track=1, channel=1> in .data: None,cannot parse Program Change; ignored.\n",
      "midi.base.py: WARNING: Conversion error for <MidiEvent PROGRAM_CHANGE, t=0, track=3, channel=2>: Got incorrect data for <MidiEvent PROGRAM_CHANGE, t=0, track=3, channel=2> in .data: None,cannot parse Program Change; ignored.\n",
      "midi.base.py: WARNING: Conversion error for <MidiEvent PROGRAM_CHANGE, t=0, track=3, channel=2>: Got incorrect data for <MidiEvent PROGRAM_CHANGE, t=0, track=3, channel=2> in .data: None,cannot parse Program Change; ignored.\n",
      "midi.base.py: WARNING: Conversion error for <MidiEvent PROGRAM_CHANGE, t=0, track=4, channel=1>: Got incorrect data for <MidiEvent PROGRAM_CHANGE, t=0, track=4, channel=1> in .data: None,cannot parse Program Change; ignored.\n",
      "midi.base.py: WARNING: Conversion error for <MidiEvent PROGRAM_CHANGE, t=0, track=6, channel=5>: Got incorrect data for <MidiEvent PROGRAM_CHANGE, t=0, track=6, channel=5> in .data: None,cannot parse Program Change; ignored.\n",
      "midi.base.py: WARNING: Conversion error for <MidiEvent PROGRAM_CHANGE, t=0, track=7, channel=5>: Got incorrect data for <MidiEvent PROGRAM_CHANGE, t=0, track=7, channel=5> in .data: None,cannot parse Program Change; ignored.\n",
      "midi.base.py: WARNING: Conversion error for <MidiEvent PROGRAM_CHANGE, t=0, track=9, channel=2>: Got incorrect data for <MidiEvent PROGRAM_CHANGE, t=0, track=9, channel=2> in .data: None,cannot parse Program Change; ignored.\n",
      "midi.base.py: WARNING: Conversion error for <MidiEvent PROGRAM_CHANGE, t=0, track=11, channel=2>: Got incorrect data for <MidiEvent PROGRAM_CHANGE, t=0, track=11, channel=2> in .data: None,cannot parse Program Change; ignored.\n",
      "midi.base.py: WARNING: Conversion error for <MidiEvent PROGRAM_CHANGE, t=0, track=13, channel=2>: Got incorrect data for <MidiEvent PROGRAM_CHANGE, t=0, track=13, channel=2> in .data: None,cannot parse Program Change; ignored.\n",
      "midi.base.py: WARNING: Conversion error for <MidiEvent PROGRAM_CHANGE, t=0, track=1, channel=1>: Got incorrect data for <MidiEvent PROGRAM_CHANGE, t=0, track=1, channel=1> in .data: None,cannot parse Program Change; ignored.\n",
      "midi.base.py: WARNING: Conversion error for <MidiEvent PROGRAM_CHANGE, t=0, track=1, channel=1>: Got incorrect data for <MidiEvent PROGRAM_CHANGE, t=0, track=1, channel=1> in .data: None,cannot parse Program Change; ignored.\n",
      "midi.base.py: WARNING: Conversion error for <MidiEvent PROGRAM_CHANGE, t=0, track=1, channel=1>: Got incorrect data for <MidiEvent PROGRAM_CHANGE, t=0, track=1, channel=1> in .data: None,cannot parse Program Change; ignored.\n"
     ]
    },
    {
     "name": "stdout",
     "output_type": "stream",
     "text": [
      "badly formated midi string, got: RIFF:�\u0000\u0000RMIDdata-�\u0000\u0000\n",
      "\n",
      "\n",
      "\n",
      "string index out of range\n",
      "chr() arg not in range(256)\n"
     ]
    },
    {
     "name": "stderr",
     "output_type": "stream",
     "text": [
      "midi.base.py: WARNING: Conversion error for <MidiEvent PROGRAM_CHANGE, t=0, track=1, channel=1>: Got incorrect data for <MidiEvent PROGRAM_CHANGE, t=0, track=1, channel=1> in .data: None,cannot parse Program Change; ignored.\n",
      "midi.base.py: WARNING: Conversion error for <MidiEvent PROGRAM_CHANGE, t=0, track=1, channel=1>: Got incorrect data for <MidiEvent PROGRAM_CHANGE, t=0, track=1, channel=1> in .data: None,cannot parse Program Change; ignored.\n",
      "midi.base.py: WARNING: Conversion error for <MidiEvent PROGRAM_CHANGE, t=0, track=1, channel=1>: Got incorrect data for <MidiEvent PROGRAM_CHANGE, t=0, track=1, channel=1> in .data: None,cannot parse Program Change; ignored.\n",
      "midi.base.py: WARNING: Conversion error for <MidiEvent PROGRAM_CHANGE, t=0, track=1, channel=1>: Got incorrect data for <MidiEvent PROGRAM_CHANGE, t=0, track=1, channel=1> in .data: None,cannot parse Program Change; ignored.\n",
      "midi.base.py: WARNING: Conversion error for <MidiEvent PROGRAM_CHANGE, t=0, track=1, channel=1>: Got incorrect data for <MidiEvent PROGRAM_CHANGE, t=0, track=1, channel=1> in .data: None,cannot parse Program Change; ignored.\n",
      "midi.base.py: WARNING: Conversion error for <MidiEvent PROGRAM_CHANGE, t=0, track=1, channel=1>: Got incorrect data for <MidiEvent PROGRAM_CHANGE, t=0, track=1, channel=1> in .data: None,cannot parse Program Change; ignored.\n",
      "midi.base.py: WARNING: Conversion error for <MidiEvent PROGRAM_CHANGE, t=0, track=1, channel=1>: Got incorrect data for <MidiEvent PROGRAM_CHANGE, t=0, track=1, channel=1> in .data: None,cannot parse Program Change; ignored.\n"
     ]
    },
    {
     "name": "stdout",
     "output_type": "stream",
     "text": [
      "badly formed midi string: missing leading MTrk\n",
      "\n",
      "badly formated midi string, got: MTM\u0010Weird Vocals\u0000ale\n",
      "badly formated midi string, got: %��O\u0015�+�\u001e",
      "i�W\u00150֭\u001c",
      "��Q\n"
     ]
    },
    {
     "name": "stderr",
     "output_type": "stream",
     "text": [
      "midi.base.py: WARNING: Conversion error for <MidiEvent PROGRAM_CHANGE, t=0, track=1, channel=3>: Got incorrect data for <MidiEvent PROGRAM_CHANGE, t=0, track=1, channel=3> in .data: None,cannot parse Program Change; ignored.\n"
     ]
    },
    {
     "name": "stdout",
     "output_type": "stream",
     "text": [
      "chr() arg not in range(256)\n",
      "badly formated midi string, got: RIFF(i\u0001\u0000RMIDdata�e\u0001\u0000\n"
     ]
    },
    {
     "name": "stderr",
     "output_type": "stream",
     "text": [
      "midi.base.py: WARNING: Conversion error for <MidiEvent PROGRAM_CHANGE, t=0, track=1, channel=1>: Got incorrect data for <MidiEvent PROGRAM_CHANGE, t=0, track=1, channel=1> in .data: None,cannot parse Program Change; ignored.\n",
      "midi.base.py: WARNING: Conversion error for <MidiEvent PROGRAM_CHANGE, t=0, track=1, channel=1>: Got incorrect data for <MidiEvent PROGRAM_CHANGE, t=0, track=1, channel=1> in .data: None,cannot parse Program Change; ignored.\n",
      "midi.base.py: WARNING: Conversion error for <MidiEvent PROGRAM_CHANGE, t=0, track=1, channel=1>: Got incorrect data for <MidiEvent PROGRAM_CHANGE, t=0, track=1, channel=1> in .data: None,cannot parse Program Change; ignored.\n",
      "midi.base.py: WARNING: Conversion error for <MidiEvent PROGRAM_CHANGE, t=0, track=1, channel=1>: Got incorrect data for <MidiEvent PROGRAM_CHANGE, t=0, track=1, channel=1> in .data: None,cannot parse Program Change; ignored.\n",
      "midi.base.py: WARNING: Conversion error for <MidiEvent PROGRAM_CHANGE, t=0, track=1, channel=1>: Got incorrect data for <MidiEvent PROGRAM_CHANGE, t=0, track=1, channel=1> in .data: None,cannot parse Program Change; ignored.\n",
      "midi.base.py: WARNING: Conversion error for <MidiEvent PROGRAM_CHANGE, t=0, track=1, channel=1>: Got incorrect data for <MidiEvent PROGRAM_CHANGE, t=0, track=1, channel=1> in .data: None,cannot parse Program Change; ignored.\n",
      "midi.base.py: WARNING: Conversion error for <MidiEvent PROGRAM_CHANGE, t=0, track=1, channel=1>: Got incorrect data for <MidiEvent PROGRAM_CHANGE, t=0, track=1, channel=1> in .data: None,cannot parse Program Change; ignored.\n",
      "midi.base.py: WARNING: Conversion error for <MidiEvent PROGRAM_CHANGE, t=0, track=1, channel=1>: Got incorrect data for <MidiEvent PROGRAM_CHANGE, t=0, track=1, channel=1> in .data: None,cannot parse Program Change; ignored.\n",
      "midi.base.py: WARNING: Conversion error for <MidiEvent PROGRAM_CHANGE, t=0, track=1, channel=1>: Got incorrect data for <MidiEvent PROGRAM_CHANGE, t=0, track=1, channel=1> in .data: None,cannot parse Program Change; ignored.\n",
      "midi.base.py: WARNING: Conversion error for <MidiEvent PROGRAM_CHANGE, t=0, track=1, channel=1>: Got incorrect data for <MidiEvent PROGRAM_CHANGE, t=0, track=1, channel=1> in .data: None,cannot parse Program Change; ignored.\n",
      "midi.base.py: WARNING: Conversion error for <MidiEvent PROGRAM_CHANGE, t=0, track=1, channel=1>: Got incorrect data for <MidiEvent PROGRAM_CHANGE, t=0, track=1, channel=1> in .data: None,cannot parse Program Change; ignored.\n",
      "midi.base.py: WARNING: Conversion error for <MidiEvent PROGRAM_CHANGE, t=0, track=1, channel=1>: Got incorrect data for <MidiEvent PROGRAM_CHANGE, t=0, track=1, channel=1> in .data: None,cannot parse Program Change; ignored.\n",
      "midi.base.py: WARNING: Conversion error for <MidiEvent PROGRAM_CHANGE, t=0, track=1, channel=1>: Got incorrect data for <MidiEvent PROGRAM_CHANGE, t=0, track=1, channel=1> in .data: None,cannot parse Program Change; ignored.\n",
      "midi.base.py: WARNING: Conversion error for <MidiEvent PROGRAM_CHANGE, t=0, track=1, channel=1>: Got incorrect data for <MidiEvent PROGRAM_CHANGE, t=0, track=1, channel=1> in .data: None,cannot parse Program Change; ignored.\n",
      "midi.base.py: WARNING: Conversion error for <MidiEvent PROGRAM_CHANGE, t=0, track=1, channel=1>: Got incorrect data for <MidiEvent PROGRAM_CHANGE, t=0, track=1, channel=1> in .data: None,cannot parse Program Change; ignored.\n",
      "midi.base.py: WARNING: Conversion error for <MidiEvent PROGRAM_CHANGE, t=0, track=1, channel=1>: Got incorrect data for <MidiEvent PROGRAM_CHANGE, t=0, track=1, channel=1> in .data: None,cannot parse Program Change; ignored.\n",
      "midi.base.py: WARNING: Conversion error for <MidiEvent PROGRAM_CHANGE, t=0, track=1, channel=1>: Got incorrect data for <MidiEvent PROGRAM_CHANGE, t=0, track=1, channel=1> in .data: None,cannot parse Program Change; ignored.\n",
      "midi.base.py: WARNING: Conversion error for <MidiEvent PROGRAM_CHANGE, t=0, track=1, channel=1>: Got incorrect data for <MidiEvent PROGRAM_CHANGE, t=0, track=1, channel=1> in .data: None,cannot parse Program Change; ignored.\n",
      "midi.base.py: WARNING: Conversion error for <MidiEvent PROGRAM_CHANGE, t=0, track=2, channel=1>: Got incorrect data for <MidiEvent PROGRAM_CHANGE, t=0, track=2, channel=1> in .data: None,cannot parse Program Change; ignored.\n",
      "midi.base.py: WARNING: Conversion error for <MidiEvent PROGRAM_CHANGE, t=0, track=2, channel=1>: Got incorrect data for <MidiEvent PROGRAM_CHANGE, t=0, track=2, channel=1> in .data: None,cannot parse Program Change; ignored.\n",
      "midi.base.py: WARNING: Conversion error for <MidiEvent PROGRAM_CHANGE, t=0, track=2, channel=1>: Got incorrect data for <MidiEvent PROGRAM_CHANGE, t=0, track=2, channel=1> in .data: None,cannot parse Program Change; ignored.\n",
      "midi.base.py: WARNING: Conversion error for <MidiEvent PROGRAM_CHANGE, t=0, track=2, channel=1>: Got incorrect data for <MidiEvent PROGRAM_CHANGE, t=0, track=2, channel=1> in .data: None,cannot parse Program Change; ignored.\n"
     ]
    },
    {
     "name": "stdout",
     "output_type": "stream",
     "text": [
      "badly formated midi string, got: RIFFX\u0018\u0000\u0000RMIDdataL\u0018\u0000\u0000\n",
      "badly formed midi string: missing leading MTrk\n",
      "chr() arg not in range(256)\n",
      "badly formed midi string: missing leading MTrk\n"
     ]
    },
    {
     "name": "stderr",
     "output_type": "stream",
     "text": [
      "midi.base.py: WARNING: Conversion error for <MidiEvent PROGRAM_CHANGE, t=0, track=1, channel=1>: Got incorrect data for <MidiEvent PROGRAM_CHANGE, t=0, track=1, channel=1> in .data: None,cannot parse Program Change; ignored.\n",
      "midi.base.py: WARNING: Conversion error for <MidiEvent PROGRAM_CHANGE, t=0, track=1, channel=1>: Got incorrect data for <MidiEvent PROGRAM_CHANGE, t=0, track=1, channel=1> in .data: None,cannot parse Program Change; ignored.\n",
      "midi.base.py: WARNING: Conversion error for <MidiEvent PROGRAM_CHANGE, t=0, track=1, channel=1>: Got incorrect data for <MidiEvent PROGRAM_CHANGE, t=0, track=1, channel=1> in .data: None,cannot parse Program Change; ignored.\n",
      "midi.base.py: WARNING: Conversion error for <MidiEvent PROGRAM_CHANGE, t=0, track=1, channel=1>: Got incorrect data for <MidiEvent PROGRAM_CHANGE, t=0, track=1, channel=1> in .data: None,cannot parse Program Change; ignored.\n",
      "midi.base.py: WARNING: Conversion error for <MidiEvent PROGRAM_CHANGE, t=0, track=1, channel=1>: Got incorrect data for <MidiEvent PROGRAM_CHANGE, t=0, track=1, channel=1> in .data: None,cannot parse Program Change; ignored.\n",
      "midi.base.py: WARNING: Conversion error for <MidiEvent PROGRAM_CHANGE, t=0, track=1, channel=1>: Got incorrect data for <MidiEvent PROGRAM_CHANGE, t=0, track=1, channel=1> in .data: None,cannot parse Program Change; ignored.\n"
     ]
    },
    {
     "name": "stdout",
     "output_type": "stream",
     "text": [
      "badly formed midi string: missing leading MTrk\n",
      "badly formated midi string, got: vti_encoding:SR|utf8\n",
      "badly formated midi string, got: <!DOCTYPE HTML PUBLI\n",
      "badly formated midi string, got: RIFFj-\u0000\u0000RMIDdata]-\u0000\u0000\n"
     ]
    },
    {
     "name": "stderr",
     "output_type": "stream",
     "text": [
      "midi.base.py: WARNING: Conversion error for <MidiEvent PROGRAM_CHANGE, t=0, track=1, channel=1>: Got incorrect data for <MidiEvent PROGRAM_CHANGE, t=0, track=1, channel=1> in .data: None,cannot parse Program Change; ignored.\n",
      "midi.base.py: WARNING: Conversion error for <MidiEvent PROGRAM_CHANGE, t=0, track=1, channel=1>: Got incorrect data for <MidiEvent PROGRAM_CHANGE, t=0, track=1, channel=1> in .data: None,cannot parse Program Change; ignored.\n",
      "midi.base.py: WARNING: Conversion error for <MidiEvent PROGRAM_CHANGE, t=0, track=1, channel=1>: Got incorrect data for <MidiEvent PROGRAM_CHANGE, t=0, track=1, channel=1> in .data: None,cannot parse Program Change; ignored.\n",
      "midi.base.py: WARNING: Conversion error for <MidiEvent PROGRAM_CHANGE, t=0, track=1, channel=1>: Got incorrect data for <MidiEvent PROGRAM_CHANGE, t=0, track=1, channel=1> in .data: None,cannot parse Program Change; ignored.\n",
      "midi.base.py: WARNING: Conversion error for <MidiEvent PROGRAM_CHANGE, t=0, track=1, channel=1>: Got incorrect data for <MidiEvent PROGRAM_CHANGE, t=0, track=1, channel=1> in .data: None,cannot parse Program Change; ignored.\n"
     ]
    },
    {
     "name": "stdout",
     "output_type": "stream",
     "text": [
      "badly formed midi string: missing leading MTrk\n"
     ]
    },
    {
     "name": "stderr",
     "output_type": "stream",
     "text": [
      "midi.base.py: WARNING: Conversion error for <MidiEvent PROGRAM_CHANGE, t=0, track=1, channel=2>: Got incorrect data for <MidiEvent PROGRAM_CHANGE, t=0, track=1, channel=2> in .data: None,cannot parse Program Change; ignored.\n",
      "midi.base.py: WARNING: Conversion error for <MidiEvent PROGRAM_CHANGE, t=0, track=1, channel=2>: Got incorrect data for <MidiEvent PROGRAM_CHANGE, t=0, track=1, channel=2> in .data: None,cannot parse Program Change; ignored.\n",
      "midi.base.py: WARNING: Conversion error for <MidiEvent PROGRAM_CHANGE, t=0, track=1, channel=2>: Got incorrect data for <MidiEvent PROGRAM_CHANGE, t=0, track=1, channel=2> in .data: None,cannot parse Program Change; ignored.\n",
      "midi.base.py: WARNING: Conversion error for <MidiEvent PROGRAM_CHANGE, t=0, track=3, channel=3>: Got incorrect data for <MidiEvent PROGRAM_CHANGE, t=0, track=3, channel=3> in .data: None,cannot parse Program Change; ignored.\n",
      "midi.base.py: WARNING: Conversion error for <MidiEvent PROGRAM_CHANGE, t=0, track=4, channel=3>: Got incorrect data for <MidiEvent PROGRAM_CHANGE, t=0, track=4, channel=3> in .data: None,cannot parse Program Change; ignored.\n",
      "midi.base.py: WARNING: Conversion error for <MidiEvent PROGRAM_CHANGE, t=0, track=5, channel=3>: Got incorrect data for <MidiEvent PROGRAM_CHANGE, t=0, track=5, channel=3> in .data: None,cannot parse Program Change; ignored.\n",
      "midi.base.py: WARNING: Conversion error for <MidiEvent PROGRAM_CHANGE, t=0, track=6, channel=3>: Got incorrect data for <MidiEvent PROGRAM_CHANGE, t=0, track=6, channel=3> in .data: None,cannot parse Program Change; ignored.\n",
      "midi.base.py: WARNING: Conversion error for <MidiEvent PROGRAM_CHANGE, t=0, track=7, channel=3>: Got incorrect data for <MidiEvent PROGRAM_CHANGE, t=0, track=7, channel=3> in .data: None,cannot parse Program Change; ignored.\n",
      "midi.base.py: WARNING: Conversion error for <MidiEvent PROGRAM_CHANGE, t=0, track=8, channel=3>: Got incorrect data for <MidiEvent PROGRAM_CHANGE, t=0, track=8, channel=3> in .data: None,cannot parse Program Change; ignored.\n",
      "midi.base.py: WARNING: Conversion error for <MidiEvent PROGRAM_CHANGE, t=0, track=14, channel=3>: Got incorrect data for <MidiEvent PROGRAM_CHANGE, t=0, track=14, channel=3> in .data: None,cannot parse Program Change; ignored.\n",
      "midi.base.py: WARNING: Conversion error for <MidiEvent PROGRAM_CHANGE, t=0, track=1, channel=1>: Got incorrect data for <MidiEvent PROGRAM_CHANGE, t=0, track=1, channel=1> in .data: None,cannot parse Program Change; ignored.\n",
      "midi.base.py: WARNING: Conversion error for <MidiEvent PROGRAM_CHANGE, t=0, track=1, channel=1>: Got incorrect data for <MidiEvent PROGRAM_CHANGE, t=0, track=1, channel=1> in .data: None,cannot parse Program Change; ignored.\n",
      "midi.base.py: WARNING: Conversion error for <MidiEvent PROGRAM_CHANGE, t=0, track=1, channel=1>: Got incorrect data for <MidiEvent PROGRAM_CHANGE, t=0, track=1, channel=1> in .data: None,cannot parse Program Change; ignored.\n",
      "midi.base.py: WARNING: Conversion error for <MidiEvent PROGRAM_CHANGE, t=0, track=1, channel=1>: Got incorrect data for <MidiEvent PROGRAM_CHANGE, t=0, track=1, channel=1> in .data: None,cannot parse Program Change; ignored.\n",
      "midi.base.py: WARNING: Conversion error for <MidiEvent PROGRAM_CHANGE, t=0, track=1, channel=1>: Got incorrect data for <MidiEvent PROGRAM_CHANGE, t=0, track=1, channel=1> in .data: None,cannot parse Program Change; ignored.\n",
      "midi.base.py: WARNING: Conversion error for <MidiEvent PROGRAM_CHANGE, t=0, track=1, channel=1>: Got incorrect data for <MidiEvent PROGRAM_CHANGE, t=0, track=1, channel=1> in .data: None,cannot parse Program Change; ignored.\n",
      "midi.base.py: WARNING: Conversion error for <MidiEvent PROGRAM_CHANGE, t=0, track=1, channel=1>: Got incorrect data for <MidiEvent PROGRAM_CHANGE, t=0, track=1, channel=1> in .data: None,cannot parse Program Change; ignored.\n",
      "midi.base.py: WARNING: Conversion error for <MidiEvent PROGRAM_CHANGE, t=0, track=1, channel=1>: Got incorrect data for <MidiEvent PROGRAM_CHANGE, t=0, track=1, channel=1> in .data: None,cannot parse Program Change; ignored.\n",
      "midi.base.py: WARNING: Conversion error for <MidiEvent PROGRAM_CHANGE, t=0, track=1, channel=1>: Got incorrect data for <MidiEvent PROGRAM_CHANGE, t=0, track=1, channel=1> in .data: None,cannot parse Program Change; ignored.\n",
      "midi.base.py: WARNING: Conversion error for <MidiEvent PROGRAM_CHANGE, t=0, track=1, channel=1>: Got incorrect data for <MidiEvent PROGRAM_CHANGE, t=0, track=1, channel=1> in .data: None,cannot parse Program Change; ignored.\n",
      "midi.base.py: WARNING: Conversion error for <MidiEvent PROGRAM_CHANGE, t=0, track=1, channel=1>: Got incorrect data for <MidiEvent PROGRAM_CHANGE, t=0, track=1, channel=1> in .data: None,cannot parse Program Change; ignored.\n",
      "midi.base.py: WARNING: Conversion error for <MidiEvent PROGRAM_CHANGE, t=0, track=1, channel=1>: Got incorrect data for <MidiEvent PROGRAM_CHANGE, t=0, track=1, channel=1> in .data: None,cannot parse Program Change; ignored.\n",
      "midi.base.py: WARNING: Conversion error for <MidiEvent PROGRAM_CHANGE, t=0, track=1, channel=1>: Got incorrect data for <MidiEvent PROGRAM_CHANGE, t=0, track=1, channel=1> in .data: None,cannot parse Program Change; ignored.\n",
      "midi.base.py: WARNING: Conversion error for <MidiEvent PROGRAM_CHANGE, t=0, track=1, channel=1>: Got incorrect data for <MidiEvent PROGRAM_CHANGE, t=0, track=1, channel=1> in .data: None,cannot parse Program Change; ignored.\n",
      "midi.base.py: WARNING: Conversion error for <MidiEvent PROGRAM_CHANGE, t=0, track=1, channel=1>: Got incorrect data for <MidiEvent PROGRAM_CHANGE, t=0, track=1, channel=1> in .data: None,cannot parse Program Change; ignored.\n"
     ]
    },
    {
     "name": "stdout",
     "output_type": "stream",
     "text": [
      "\n",
      "\n",
      "badly formated midi string, got: <!doctype html publi\n",
      "\n"
     ]
    },
    {
     "name": "stderr",
     "output_type": "stream",
     "text": [
      "midi.base.py: WARNING: Conversion error for <MidiEvent PROGRAM_CHANGE, t=0, track=1, channel=1>: Got incorrect data for <MidiEvent PROGRAM_CHANGE, t=0, track=1, channel=1> in .data: None,cannot parse Program Change; ignored.\n"
     ]
    },
    {
     "name": "stdout",
     "output_type": "stream",
     "text": [
      "badly formated midi string, got: RIFF\u0002\"\u0000\u0000RMIDdata�!\u0000\u0000\n",
      "badly formed midi string: missing leading MTrk\n",
      "badly formed midi string: missing leading MTrk\n",
      "badly formed midi string: missing leading MTrk\n",
      "badly formed midi string: missing leading MTrk\n",
      "\n"
     ]
    },
    {
     "name": "stderr",
     "output_type": "stream",
     "text": [
      "midi.base.py: WARNING: Conversion error for <MidiEvent PROGRAM_CHANGE, t=0, track=3, channel=3>: Got incorrect data for <MidiEvent PROGRAM_CHANGE, t=0, track=3, channel=3> in .data: None,cannot parse Program Change; ignored.\n",
      "midi.base.py: WARNING: Conversion error for <MidiEvent PROGRAM_CHANGE, t=0, track=5, channel=3>: Got incorrect data for <MidiEvent PROGRAM_CHANGE, t=0, track=5, channel=3> in .data: None,cannot parse Program Change; ignored.\n",
      "midi.base.py: WARNING: Conversion error for <MidiEvent PROGRAM_CHANGE, t=0, track=7, channel=3>: Got incorrect data for <MidiEvent PROGRAM_CHANGE, t=0, track=7, channel=3> in .data: None,cannot parse Program Change; ignored.\n",
      "midi.base.py: WARNING: Conversion error for <MidiEvent PROGRAM_CHANGE, t=0, track=10, channel=3>: Got incorrect data for <MidiEvent PROGRAM_CHANGE, t=0, track=10, channel=3> in .data: None,cannot parse Program Change; ignored.\n"
     ]
    },
    {
     "name": "stdout",
     "output_type": "stream",
     "text": [
      "\n",
      "badly formed midi string: missing leading MTrk\n",
      "badly formated midi string, got: vti_encoding:SR|utf8\n",
      "\n"
     ]
    },
    {
     "name": "stderr",
     "output_type": "stream",
     "text": [
      "midi.base.py: WARNING: Conversion error for <MidiEvent PROGRAM_CHANGE, t=0, track=3, channel=3>: Got incorrect data for <MidiEvent PROGRAM_CHANGE, t=0, track=3, channel=3> in .data: None,cannot parse Program Change; ignored.\n"
     ]
    },
    {
     "name": "stdout",
     "output_type": "stream",
     "text": [
      "badly formated midi string, got: ��0�\u0000\u0019\u0001Q�YO`\u0002mI\u001b�[@\u0010\n",
      "badly formated midi string, got: vti_encoding:SR|utf8\n",
      "badly formated midi string\n",
      "chr() arg not in range(256)\n"
     ]
    },
    {
     "name": "stderr",
     "output_type": "stream",
     "text": [
      "midi.base.py: WARNING: Conversion error for <MidiEvent PROGRAM_CHANGE, t=0, track=1, channel=4>: Got incorrect data for <MidiEvent PROGRAM_CHANGE, t=0, track=1, channel=4> in .data: None,cannot parse Program Change; ignored.\n",
      "midi.base.py: WARNING: Conversion error for <MidiEvent PROGRAM_CHANGE, t=0, track=1, channel=4>: Got incorrect data for <MidiEvent PROGRAM_CHANGE, t=0, track=1, channel=4> in .data: None,cannot parse Program Change; ignored.\n",
      "midi.base.py: WARNING: Conversion error for <MidiEvent PROGRAM_CHANGE, t=0, track=1, channel=4>: Got incorrect data for <MidiEvent PROGRAM_CHANGE, t=0, track=1, channel=4> in .data: None,cannot parse Program Change; ignored.\n",
      "midi.base.py: WARNING: Conversion error for <MidiEvent PROGRAM_CHANGE, t=0, track=1, channel=4>: Got incorrect data for <MidiEvent PROGRAM_CHANGE, t=0, track=1, channel=4> in .data: None,cannot parse Program Change; ignored.\n",
      "midi.base.py: WARNING: Conversion error for <MidiEvent PROGRAM_CHANGE, t=0, track=1, channel=4>: Got incorrect data for <MidiEvent PROGRAM_CHANGE, t=0, track=1, channel=4> in .data: None,cannot parse Program Change; ignored.\n",
      "midi.base.py: WARNING: Conversion error for <MidiEvent PROGRAM_CHANGE, t=0, track=1, channel=4>: Got incorrect data for <MidiEvent PROGRAM_CHANGE, t=0, track=1, channel=4> in .data: None,cannot parse Program Change; ignored.\n",
      "midi.base.py: WARNING: Conversion error for <MidiEvent PROGRAM_CHANGE, t=0, track=1, channel=4>: Got incorrect data for <MidiEvent PROGRAM_CHANGE, t=0, track=1, channel=4> in .data: None,cannot parse Program Change; ignored.\n",
      "midi.base.py: WARNING: Conversion error for <MidiEvent PROGRAM_CHANGE, t=0, track=1, channel=1>: Got incorrect data for <MidiEvent PROGRAM_CHANGE, t=0, track=1, channel=1> in .data: None,cannot parse Program Change; ignored.\n",
      "midi.base.py: WARNING: Conversion error for <MidiEvent PROGRAM_CHANGE, t=0, track=1, channel=1>: Got incorrect data for <MidiEvent PROGRAM_CHANGE, t=0, track=1, channel=1> in .data: None,cannot parse Program Change; ignored.\n",
      "midi.base.py: WARNING: Conversion error for <MidiEvent PROGRAM_CHANGE, t=0, track=4, channel=2>: Got incorrect data for <MidiEvent PROGRAM_CHANGE, t=0, track=4, channel=2> in .data: None,cannot parse Program Change; ignored.\n",
      "midi.base.py: WARNING: Conversion error for <MidiEvent PROGRAM_CHANGE, t=0, track=4, channel=2>: Got incorrect data for <MidiEvent PROGRAM_CHANGE, t=0, track=4, channel=2> in .data: None,cannot parse Program Change; ignored.\n",
      "midi.base.py: WARNING: Conversion error for <MidiEvent PROGRAM_CHANGE, t=0, track=6, channel=2>: Got incorrect data for <MidiEvent PROGRAM_CHANGE, t=0, track=6, channel=2> in .data: None,cannot parse Program Change; ignored.\n",
      "midi.base.py: WARNING: Conversion error for <MidiEvent PROGRAM_CHANGE, t=0, track=8, channel=2>: Got incorrect data for <MidiEvent PROGRAM_CHANGE, t=0, track=8, channel=2> in .data: None,cannot parse Program Change; ignored.\n",
      "midi.base.py: WARNING: Conversion error for <MidiEvent PROGRAM_CHANGE, t=0, track=8, channel=2>: Got incorrect data for <MidiEvent PROGRAM_CHANGE, t=0, track=8, channel=2> in .data: None,cannot parse Program Change; ignored.\n",
      "midi.base.py: WARNING: Conversion error for <MidiEvent PROGRAM_CHANGE, t=0, track=9, channel=2>: Got incorrect data for <MidiEvent PROGRAM_CHANGE, t=0, track=9, channel=2> in .data: None,cannot parse Program Change; ignored.\n",
      "midi.base.py: WARNING: Conversion error for <MidiEvent PROGRAM_CHANGE, t=0, track=1, channel=1>: Got incorrect data for <MidiEvent PROGRAM_CHANGE, t=0, track=1, channel=1> in .data: None,cannot parse Program Change; ignored.\n",
      "midi.base.py: WARNING: Conversion error for <MidiEvent PROGRAM_CHANGE, t=0, track=1, channel=1>: Got incorrect data for <MidiEvent PROGRAM_CHANGE, t=0, track=1, channel=1> in .data: None,cannot parse Program Change; ignored.\n",
      "midi.base.py: WARNING: Conversion error for <MidiEvent PROGRAM_CHANGE, t=0, track=1, channel=1>: Got incorrect data for <MidiEvent PROGRAM_CHANGE, t=0, track=1, channel=1> in .data: None,cannot parse Program Change; ignored.\n",
      "midi.base.py: WARNING: Conversion error for <MidiEvent PROGRAM_CHANGE, t=0, track=1, channel=1>: Got incorrect data for <MidiEvent PROGRAM_CHANGE, t=0, track=1, channel=1> in .data: None,cannot parse Program Change; ignored.\n",
      "midi.base.py: WARNING: Conversion error for <MidiEvent PROGRAM_CHANGE, t=0, track=1, channel=1>: Got incorrect data for <MidiEvent PROGRAM_CHANGE, t=0, track=1, channel=1> in .data: None,cannot parse Program Change; ignored.\n",
      "midi.base.py: WARNING: Conversion error for <MidiEvent PROGRAM_CHANGE, t=0, track=1, channel=1>: Got incorrect data for <MidiEvent PROGRAM_CHANGE, t=0, track=1, channel=1> in .data: None,cannot parse Program Change; ignored.\n",
      "midi.base.py: WARNING: Conversion error for <MidiEvent PROGRAM_CHANGE, t=0, track=1, channel=1>: Got incorrect data for <MidiEvent PROGRAM_CHANGE, t=0, track=1, channel=1> in .data: None,cannot parse Program Change; ignored.\n",
      "midi.base.py: WARNING: Conversion error for <MidiEvent PROGRAM_CHANGE, t=0, track=1, channel=1>: Got incorrect data for <MidiEvent PROGRAM_CHANGE, t=0, track=1, channel=1> in .data: None,cannot parse Program Change; ignored.\n",
      "midi.base.py: WARNING: Conversion error for <MidiEvent PROGRAM_CHANGE, t=0, track=1, channel=1>: Got incorrect data for <MidiEvent PROGRAM_CHANGE, t=0, track=1, channel=1> in .data: None,cannot parse Program Change; ignored.\n",
      "midi.base.py: WARNING: Conversion error for <MidiEvent PROGRAM_CHANGE, t=0, track=1, channel=1>: Got incorrect data for <MidiEvent PROGRAM_CHANGE, t=0, track=1, channel=1> in .data: None,cannot parse Program Change; ignored.\n",
      "midi.base.py: WARNING: Conversion error for <MidiEvent PROGRAM_CHANGE, t=0, track=1, channel=1>: Got incorrect data for <MidiEvent PROGRAM_CHANGE, t=0, track=1, channel=1> in .data: None,cannot parse Program Change; ignored.\n",
      "midi.base.py: WARNING: Conversion error for <MidiEvent PROGRAM_CHANGE, t=0, track=1, channel=1>: Got incorrect data for <MidiEvent PROGRAM_CHANGE, t=0, track=1, channel=1> in .data: None,cannot parse Program Change; ignored.\n",
      "midi.base.py: WARNING: Conversion error for <MidiEvent PROGRAM_CHANGE, t=0, track=1, channel=1>: Got incorrect data for <MidiEvent PROGRAM_CHANGE, t=0, track=1, channel=1> in .data: None,cannot parse Program Change; ignored.\n",
      "midi.base.py: WARNING: Conversion error for <MidiEvent PROGRAM_CHANGE, t=0, track=1, channel=1>: Got incorrect data for <MidiEvent PROGRAM_CHANGE, t=0, track=1, channel=1> in .data: None,cannot parse Program Change; ignored.\n",
      "midi.base.py: WARNING: Conversion error for <MidiEvent PROGRAM_CHANGE, t=0, track=1, channel=1>: Got incorrect data for <MidiEvent PROGRAM_CHANGE, t=0, track=1, channel=1> in .data: None,cannot parse Program Change; ignored.\n",
      "midi.base.py: WARNING: Conversion error for <MidiEvent PROGRAM_CHANGE, t=0, track=1, channel=1>: Got incorrect data for <MidiEvent PROGRAM_CHANGE, t=0, track=1, channel=1> in .data: None,cannot parse Program Change; ignored.\n"
     ]
    },
    {
     "name": "stdout",
     "output_type": "stream",
     "text": [
      "\n",
      "badly formated midi string, got: vti_encoding:SR|utf8\n",
      "badly formated midi string, got: <HTML>\n",
      "<HEAD>\n",
      "<TITLE\n"
     ]
    },
    {
     "name": "stderr",
     "output_type": "stream",
     "text": [
      "midi.base.py: WARNING: Conversion error for <MidiEvent PROGRAM_CHANGE, t=0, track=1, channel=1>: Got incorrect data for <MidiEvent PROGRAM_CHANGE, t=0, track=1, channel=1> in .data: None,cannot parse Program Change; ignored.\n",
      "midi.base.py: WARNING: Conversion error for <MidiEvent PROGRAM_CHANGE, t=0, track=1, channel=1>: Got incorrect data for <MidiEvent PROGRAM_CHANGE, t=0, track=1, channel=1> in .data: None,cannot parse Program Change; ignored.\n",
      "midi.base.py: WARNING: Conversion error for <MidiEvent PROGRAM_CHANGE, t=0, track=6, channel=6>: Got incorrect data for <MidiEvent PROGRAM_CHANGE, t=0, track=6, channel=6> in .data: None,cannot parse Program Change; ignored.\n",
      "midi.base.py: WARNING: Conversion error for <MidiEvent PROGRAM_CHANGE, t=0, track=7, channel=6>: Got incorrect data for <MidiEvent PROGRAM_CHANGE, t=0, track=7, channel=6> in .data: None,cannot parse Program Change; ignored.\n"
     ]
    },
    {
     "name": "stdout",
     "output_type": "stream",
     "text": [
      "\n"
     ]
    },
    {
     "name": "stderr",
     "output_type": "stream",
     "text": [
      "midi.base.py: WARNING: Conversion error for <MidiEvent PROGRAM_CHANGE, t=0, track=6, channel=6>: Got incorrect data for <MidiEvent PROGRAM_CHANGE, t=0, track=6, channel=6> in .data: None,cannot parse Program Change; ignored.\n",
      "midi.base.py: WARNING: Conversion error for <MidiEvent PROGRAM_CHANGE, t=0, track=6, channel=6>: Got incorrect data for <MidiEvent PROGRAM_CHANGE, t=0, track=6, channel=6> in .data: None,cannot parse Program Change; ignored.\n",
      "midi.base.py: WARNING: Conversion error for <MidiEvent PROGRAM_CHANGE, t=0, track=6, channel=6>: Got incorrect data for <MidiEvent PROGRAM_CHANGE, t=0, track=6, channel=6> in .data: None,cannot parse Program Change; ignored.\n",
      "midi.base.py: WARNING: Conversion error for <MidiEvent PROGRAM_CHANGE, t=0, track=9, channel=9>: Got incorrect data for <MidiEvent PROGRAM_CHANGE, t=0, track=9, channel=9> in .data: None,cannot parse Program Change; ignored.\n"
     ]
    },
    {
     "name": "stdout",
     "output_type": "stream",
     "text": [
      "\n",
      "chr() arg not in range(256)\n"
     ]
    },
    {
     "name": "stderr",
     "output_type": "stream",
     "text": [
      "midi.base.py: WARNING: Conversion error for <MidiEvent PROGRAM_CHANGE, t=0, track=1, channel=1>: Got incorrect data for <MidiEvent PROGRAM_CHANGE, t=0, track=1, channel=1> in .data: None,cannot parse Program Change; ignored.\n"
     ]
    },
    {
     "name": "stdout",
     "output_type": "stream",
     "text": [
      "badly formed midi string: missing leading MTrk\n"
     ]
    },
    {
     "name": "stderr",
     "output_type": "stream",
     "text": [
      "midi.base.py: WARNING: Conversion error for <MidiEvent PROGRAM_CHANGE, t=0, track=1, channel=1>: Got incorrect data for <MidiEvent PROGRAM_CHANGE, t=0, track=1, channel=1> in .data: None,cannot parse Program Change; ignored.\n",
      "midi.base.py: WARNING: Conversion error for <MidiEvent PROGRAM_CHANGE, t=0, track=1, channel=1>: Got incorrect data for <MidiEvent PROGRAM_CHANGE, t=0, track=1, channel=1> in .data: None,cannot parse Program Change; ignored.\n",
      "midi.base.py: WARNING: Conversion error for <MidiEvent PROGRAM_CHANGE, t=0, track=1, channel=1>: Got incorrect data for <MidiEvent PROGRAM_CHANGE, t=0, track=1, channel=1> in .data: None,cannot parse Program Change; ignored.\n",
      "midi.base.py: WARNING: Conversion error for <MidiEvent PROGRAM_CHANGE, t=0, track=3, channel=3>: Got incorrect data for <MidiEvent PROGRAM_CHANGE, t=0, track=3, channel=3> in .data: None,cannot parse Program Change; ignored.\n"
     ]
    },
    {
     "name": "stdout",
     "output_type": "stream",
     "text": [
      "badly formated midi string, got: vti_encoding:SR|utf8\n",
      "badly formed midi string: missing leading MTrk\n",
      "list index out of range\n"
     ]
    },
    {
     "name": "stderr",
     "output_type": "stream",
     "text": [
      "midi.base.py: WARNING: Conversion error for <MidiEvent PROGRAM_CHANGE, t=0, track=1, channel=1>: Got incorrect data for <MidiEvent PROGRAM_CHANGE, t=0, track=1, channel=1> in .data: None,cannot parse Program Change; ignored.\n",
      "midi.base.py: WARNING: Conversion error for <MidiEvent PROGRAM_CHANGE, t=0, track=1, channel=1>: Got incorrect data for <MidiEvent PROGRAM_CHANGE, t=0, track=1, channel=1> in .data: None,cannot parse Program Change; ignored.\n"
     ]
    },
    {
     "name": "stdout",
     "output_type": "stream",
     "text": [
      "chr() arg not in range(256)\n",
      "\n",
      "\n",
      "badly formed midi string: missing leading MTrk\n",
      "badly formated midi string, got: RIFF��\u0000\u0000RMIDdata�\u0000\u0000\n"
     ]
    },
    {
     "name": "stderr",
     "output_type": "stream",
     "text": [
      "midi.base.py: WARNING: Conversion error for <MidiEvent PROGRAM_CHANGE, t=0, track=1, channel=1>: Got incorrect data for <MidiEvent PROGRAM_CHANGE, t=0, track=1, channel=1> in .data: None,cannot parse Program Change; ignored.\n",
      "midi.base.py: WARNING: Conversion error for <MidiEvent PROGRAM_CHANGE, t=0, track=1, channel=1>: Got incorrect data for <MidiEvent PROGRAM_CHANGE, t=0, track=1, channel=1> in .data: None,cannot parse Program Change; ignored.\n",
      "midi.base.py: WARNING: Conversion error for <MidiEvent PROGRAM_CHANGE, t=0, track=1, channel=1>: Got incorrect data for <MidiEvent PROGRAM_CHANGE, t=0, track=1, channel=1> in .data: None,cannot parse Program Change; ignored.\n",
      "midi.base.py: WARNING: Conversion error for <MidiEvent PROGRAM_CHANGE, t=0, track=1, channel=1>: Got incorrect data for <MidiEvent PROGRAM_CHANGE, t=0, track=1, channel=1> in .data: None,cannot parse Program Change; ignored.\n"
     ]
    },
    {
     "name": "stdout",
     "output_type": "stream",
     "text": [
      "badly formed midi string: missing leading MTrk\n",
      "\n"
     ]
    },
    {
     "name": "stderr",
     "output_type": "stream",
     "text": [
      "midi.base.py: WARNING: Conversion error for <MidiEvent PROGRAM_CHANGE, t=0, track=1, channel=1>: Got incorrect data for <MidiEvent PROGRAM_CHANGE, t=0, track=1, channel=1> in .data: None,cannot parse Program Change; ignored.\n",
      "midi.base.py: WARNING: Conversion error for <MidiEvent PROGRAM_CHANGE, t=0, track=1, channel=1>: Got incorrect data for <MidiEvent PROGRAM_CHANGE, t=0, track=1, channel=1> in .data: None,cannot parse Program Change; ignored.\n"
     ]
    },
    {
     "name": "stdout",
     "output_type": "stream",
     "text": [
      "badly formated midi string, got: RIFF��\u0000\u0000RMIDdata��\u0000\u0000\n"
     ]
    },
    {
     "name": "stderr",
     "output_type": "stream",
     "text": [
      "midi.base.py: WARNING: Conversion error for <MidiEvent PROGRAM_CHANGE, t=0, track=1, channel=1>: Got incorrect data for <MidiEvent PROGRAM_CHANGE, t=0, track=1, channel=1> in .data: None,cannot parse Program Change; ignored.\n",
      "midi.base.py: WARNING: Conversion error for <MidiEvent PROGRAM_CHANGE, t=0, track=1, channel=1>: Got incorrect data for <MidiEvent PROGRAM_CHANGE, t=0, track=1, channel=1> in .data: None,cannot parse Program Change; ignored.\n",
      "midi.base.py: WARNING: Conversion error for <MidiEvent PROGRAM_CHANGE, t=0, track=1, channel=6>: Got incorrect data for <MidiEvent PROGRAM_CHANGE, t=0, track=1, channel=6> in .data: None,cannot parse Program Change; ignored.\n",
      "midi.base.py: WARNING: Conversion error for <MidiEvent PROGRAM_CHANGE, t=0, track=2, channel=2>: Got incorrect data for <MidiEvent PROGRAM_CHANGE, t=0, track=2, channel=2> in .data: None,cannot parse Program Change; ignored.\n",
      "midi.base.py: WARNING: Conversion error for <MidiEvent PROGRAM_CHANGE, t=0, track=3, channel=2>: Got incorrect data for <MidiEvent PROGRAM_CHANGE, t=0, track=3, channel=2> in .data: None,cannot parse Program Change; ignored.\n",
      "midi.base.py: WARNING: Conversion error for <MidiEvent PROGRAM_CHANGE, t=0, track=4, channel=2>: Got incorrect data for <MidiEvent PROGRAM_CHANGE, t=0, track=4, channel=2> in .data: None,cannot parse Program Change; ignored.\n",
      "midi.base.py: WARNING: Conversion error for <MidiEvent PROGRAM_CHANGE, t=0, track=5, channel=2>: Got incorrect data for <MidiEvent PROGRAM_CHANGE, t=0, track=5, channel=2> in .data: None,cannot parse Program Change; ignored.\n",
      "midi.base.py: WARNING: Conversion error for <MidiEvent PROGRAM_CHANGE, t=0, track=6, channel=2>: Got incorrect data for <MidiEvent PROGRAM_CHANGE, t=0, track=6, channel=2> in .data: None,cannot parse Program Change; ignored.\n",
      "midi.base.py: WARNING: Conversion error for <MidiEvent PROGRAM_CHANGE, t=0, track=7, channel=2>: Got incorrect data for <MidiEvent PROGRAM_CHANGE, t=0, track=7, channel=2> in .data: None,cannot parse Program Change; ignored.\n",
      "midi.base.py: WARNING: Conversion error for <MidiEvent PROGRAM_CHANGE, t=0, track=1, channel=1>: Got incorrect data for <MidiEvent PROGRAM_CHANGE, t=0, track=1, channel=1> in .data: None,cannot parse Program Change; ignored.\n",
      "midi.base.py: WARNING: Conversion error for <MidiEvent PROGRAM_CHANGE, t=0, track=1, channel=1>: Got incorrect data for <MidiEvent PROGRAM_CHANGE, t=0, track=1, channel=1> in .data: None,cannot parse Program Change; ignored.\n",
      "midi.base.py: WARNING: Conversion error for <MidiEvent PROGRAM_CHANGE, t=0, track=2, channel=1>: Got incorrect data for <MidiEvent PROGRAM_CHANGE, t=0, track=2, channel=1> in .data: None,cannot parse Program Change; ignored.\n",
      "midi.base.py: WARNING: Conversion error for <MidiEvent PROGRAM_CHANGE, t=0, track=2, channel=1>: Got incorrect data for <MidiEvent PROGRAM_CHANGE, t=0, track=2, channel=1> in .data: None,cannot parse Program Change; ignored.\n",
      "midi.base.py: WARNING: Conversion error for <MidiEvent PROGRAM_CHANGE, t=0, track=6, channel=1>: Got incorrect data for <MidiEvent PROGRAM_CHANGE, t=0, track=6, channel=1> in .data: None,cannot parse Program Change; ignored.\n",
      "midi.base.py: WARNING: Conversion error for <MidiEvent PROGRAM_CHANGE, t=0, track=1, channel=1>: Got incorrect data for <MidiEvent PROGRAM_CHANGE, t=0, track=1, channel=1> in .data: None,cannot parse Program Change; ignored.\n",
      "midi.base.py: WARNING: Conversion error for <MidiEvent PROGRAM_CHANGE, t=0, track=1, channel=1>: Got incorrect data for <MidiEvent PROGRAM_CHANGE, t=0, track=1, channel=1> in .data: None,cannot parse Program Change; ignored.\n",
      "midi.base.py: WARNING: Conversion error for <MidiEvent PROGRAM_CHANGE, t=0, track=1, channel=1>: Got incorrect data for <MidiEvent PROGRAM_CHANGE, t=0, track=1, channel=1> in .data: None,cannot parse Program Change; ignored.\n",
      "midi.base.py: WARNING: Conversion error for <MidiEvent PROGRAM_CHANGE, t=0, track=1, channel=1>: Got incorrect data for <MidiEvent PROGRAM_CHANGE, t=0, track=1, channel=1> in .data: None,cannot parse Program Change; ignored.\n"
     ]
    },
    {
     "name": "stdout",
     "output_type": "stream",
     "text": [
      "badly formed midi string: missing leading MTrk\n",
      "badly formated midi string, got: RIFF�f\u0000\u0000RMIDdata�]\u0000\u0000\n",
      "string index out of range\n",
      "badly formated midi string, got: RIFF\u00026\u0002\u0000RMIDdataw2\u0002\u0000\n",
      "badly formed midi string: missing leading MTrk\n",
      "badly formed midi string: missing leading MTrk\n",
      "badly formed midi string: missing leading MTrk\n"
     ]
    },
    {
     "name": "stderr",
     "output_type": "stream",
     "text": [
      "midi.base.py: WARNING: Conversion error for <MidiEvent PROGRAM_CHANGE, t=0, track=2, channel=2>: Got incorrect data for <MidiEvent PROGRAM_CHANGE, t=0, track=2, channel=2> in .data: None,cannot parse Program Change; ignored.\n",
      "midi.base.py: WARNING: Conversion error for <MidiEvent PROGRAM_CHANGE, t=0, track=3, channel=2>: Got incorrect data for <MidiEvent PROGRAM_CHANGE, t=0, track=3, channel=2> in .data: None,cannot parse Program Change; ignored.\n",
      "midi.base.py: WARNING: Conversion error for <MidiEvent PROGRAM_CHANGE, t=0, track=3, channel=2>: Got incorrect data for <MidiEvent PROGRAM_CHANGE, t=0, track=3, channel=2> in .data: None,cannot parse Program Change; ignored.\n",
      "midi.base.py: WARNING: Conversion error for <MidiEvent PROGRAM_CHANGE, t=0, track=3, channel=2>: Got incorrect data for <MidiEvent PROGRAM_CHANGE, t=0, track=3, channel=2> in .data: None,cannot parse Program Change; ignored.\n",
      "midi.base.py: WARNING: Conversion error for <MidiEvent PROGRAM_CHANGE, t=0, track=4, channel=2>: Got incorrect data for <MidiEvent PROGRAM_CHANGE, t=0, track=4, channel=2> in .data: None,cannot parse Program Change; ignored.\n",
      "midi.base.py: WARNING: Conversion error for <MidiEvent PROGRAM_CHANGE, t=0, track=4, channel=2>: Got incorrect data for <MidiEvent PROGRAM_CHANGE, t=0, track=4, channel=2> in .data: None,cannot parse Program Change; ignored.\n",
      "midi.base.py: WARNING: Conversion error for <MidiEvent PROGRAM_CHANGE, t=0, track=4, channel=2>: Got incorrect data for <MidiEvent PROGRAM_CHANGE, t=0, track=4, channel=2> in .data: None,cannot parse Program Change; ignored.\n",
      "midi.base.py: WARNING: Conversion error for <MidiEvent PROGRAM_CHANGE, t=0, track=4, channel=4>: Got incorrect data for <MidiEvent PROGRAM_CHANGE, t=0, track=4, channel=4> in .data: None,cannot parse Program Change; ignored.\n"
     ]
    },
    {
     "name": "stdout",
     "output_type": "stream",
     "text": [
      "\n"
     ]
    },
    {
     "name": "stderr",
     "output_type": "stream",
     "text": [
      "midi.base.py: WARNING: Conversion error for <MidiEvent PROGRAM_CHANGE, t=0, track=2, channel=2>: Got incorrect data for <MidiEvent PROGRAM_CHANGE, t=0, track=2, channel=2> in .data: None,cannot parse Program Change; ignored.\n",
      "midi.base.py: WARNING: Conversion error for <MidiEvent PROGRAM_CHANGE, t=0, track=5, channel=2>: Got incorrect data for <MidiEvent PROGRAM_CHANGE, t=0, track=5, channel=2> in .data: None,cannot parse Program Change; ignored.\n",
      "midi.base.py: WARNING: Conversion error for <MidiEvent PROGRAM_CHANGE, t=0, track=1, channel=1>: Got incorrect data for <MidiEvent PROGRAM_CHANGE, t=0, track=1, channel=1> in .data: None,cannot parse Program Change; ignored.\n",
      "midi.base.py: WARNING: Conversion error for <MidiEvent PROGRAM_CHANGE, t=0, track=2, channel=1>: Got incorrect data for <MidiEvent PROGRAM_CHANGE, t=0, track=2, channel=1> in .data: None,cannot parse Program Change; ignored.\n",
      "midi.base.py: WARNING: Conversion error for <MidiEvent PROGRAM_CHANGE, t=0, track=3, channel=1>: Got incorrect data for <MidiEvent PROGRAM_CHANGE, t=0, track=3, channel=1> in .data: None,cannot parse Program Change; ignored.\n",
      "midi.base.py: WARNING: Conversion error for <MidiEvent PROGRAM_CHANGE, t=0, track=4, channel=1>: Got incorrect data for <MidiEvent PROGRAM_CHANGE, t=0, track=4, channel=1> in .data: None,cannot parse Program Change; ignored.\n"
     ]
    },
    {
     "name": "stdout",
     "output_type": "stream",
     "text": [
      "badly formated midi string, got: RIFF�9\u0000\u0000RMIDdata*9\u0000\u0000\n",
      "badly formated midi string, got: vti_encoding:SR|utf8\n"
     ]
    },
    {
     "name": "stderr",
     "output_type": "stream",
     "text": [
      "midi.base.py: WARNING: Conversion error for <MidiEvent PROGRAM_CHANGE, t=0, track=1, channel=1>: Got incorrect data for <MidiEvent PROGRAM_CHANGE, t=0, track=1, channel=1> in .data: None,cannot parse Program Change; ignored.\n"
     ]
    },
    {
     "name": "stdout",
     "output_type": "stream",
     "text": [
      "\n"
     ]
    },
    {
     "name": "stderr",
     "output_type": "stream",
     "text": [
      "midi.base.py: WARNING: Conversion error for <MidiEvent PROGRAM_CHANGE, t=0, track=1, channel=1>: Got incorrect data for <MidiEvent PROGRAM_CHANGE, t=0, track=1, channel=1> in .data: None,cannot parse Program Change; ignored.\n",
      "midi.base.py: WARNING: Conversion error for <MidiEvent PROGRAM_CHANGE, t=0, track=1, channel=1>: Got incorrect data for <MidiEvent PROGRAM_CHANGE, t=0, track=1, channel=1> in .data: None,cannot parse Program Change; ignored.\n",
      "midi.base.py: WARNING: Conversion error for <MidiEvent PROGRAM_CHANGE, t=0, track=1, channel=1>: Got incorrect data for <MidiEvent PROGRAM_CHANGE, t=0, track=1, channel=1> in .data: None,cannot parse Program Change; ignored.\n",
      "midi.base.py: WARNING: Conversion error for <MidiEvent PROGRAM_CHANGE, t=0, track=1, channel=1>: Got incorrect data for <MidiEvent PROGRAM_CHANGE, t=0, track=1, channel=1> in .data: None,cannot parse Program Change; ignored.\n",
      "midi.base.py: WARNING: Conversion error for <MidiEvent PROGRAM_CHANGE, t=0, track=1, channel=1>: Got incorrect data for <MidiEvent PROGRAM_CHANGE, t=0, track=1, channel=1> in .data: None,cannot parse Program Change; ignored.\n",
      "midi.base.py: WARNING: Conversion error for <MidiEvent PROGRAM_CHANGE, t=0, track=1, channel=1>: Got incorrect data for <MidiEvent PROGRAM_CHANGE, t=0, track=1, channel=1> in .data: None,cannot parse Program Change; ignored.\n",
      "midi.base.py: WARNING: Conversion error for <MidiEvent PROGRAM_CHANGE, t=0, track=1, channel=1>: Got incorrect data for <MidiEvent PROGRAM_CHANGE, t=0, track=1, channel=1> in .data: None,cannot parse Program Change; ignored.\n",
      "midi.base.py: WARNING: Conversion error for <MidiEvent PROGRAM_CHANGE, t=0, track=1, channel=1>: Got incorrect data for <MidiEvent PROGRAM_CHANGE, t=0, track=1, channel=1> in .data: None,cannot parse Program Change; ignored.\n",
      "midi.base.py: WARNING: Conversion error for <MidiEvent PROGRAM_CHANGE, t=0, track=1, channel=1>: Got incorrect data for <MidiEvent PROGRAM_CHANGE, t=0, track=1, channel=1> in .data: None,cannot parse Program Change; ignored.\n",
      "midi.base.py: WARNING: Conversion error for <MidiEvent PROGRAM_CHANGE, t=0, track=1, channel=1>: Got incorrect data for <MidiEvent PROGRAM_CHANGE, t=0, track=1, channel=1> in .data: None,cannot parse Program Change; ignored.\n",
      "midi.base.py: WARNING: Conversion error for <MidiEvent PROGRAM_CHANGE, t=0, track=1, channel=1>: Got incorrect data for <MidiEvent PROGRAM_CHANGE, t=0, track=1, channel=1> in .data: None,cannot parse Program Change; ignored.\n",
      "midi.base.py: WARNING: Conversion error for <MidiEvent PROGRAM_CHANGE, t=0, track=9, channel=5>: Got incorrect data for <MidiEvent PROGRAM_CHANGE, t=0, track=9, channel=5> in .data: None,cannot parse Program Change; ignored.\n",
      "midi.base.py: WARNING: Conversion error for <MidiEvent PROGRAM_CHANGE, t=0, track=10, channel=5>: Got incorrect data for <MidiEvent PROGRAM_CHANGE, t=0, track=10, channel=5> in .data: None,cannot parse Program Change; ignored.\n",
      "midi.base.py: WARNING: Conversion error for <MidiEvent PROGRAM_CHANGE, t=0, track=11, channel=5>: Got incorrect data for <MidiEvent PROGRAM_CHANGE, t=0, track=11, channel=5> in .data: None,cannot parse Program Change; ignored.\n",
      "midi.base.py: WARNING: Conversion error for <MidiEvent PROGRAM_CHANGE, t=0, track=12, channel=5>: Got incorrect data for <MidiEvent PROGRAM_CHANGE, t=0, track=12, channel=5> in .data: None,cannot parse Program Change; ignored.\n",
      "midi.base.py: WARNING: Conversion error for <MidiEvent PROGRAM_CHANGE, t=0, track=13, channel=5>: Got incorrect data for <MidiEvent PROGRAM_CHANGE, t=0, track=13, channel=5> in .data: None,cannot parse Program Change; ignored.\n"
     ]
    },
    {
     "name": "stdout",
     "output_type": "stream",
     "text": [
      "badly formated midi string, got: <html>\n",
      "<header><titl\n"
     ]
    },
    {
     "name": "stderr",
     "output_type": "stream",
     "text": [
      "midi.base.py: WARNING: Conversion error for <MidiEvent PROGRAM_CHANGE, t=0, track=1, channel=1>: Got incorrect data for <MidiEvent PROGRAM_CHANGE, t=0, track=1, channel=1> in .data: None,cannot parse Program Change; ignored.\n",
      "midi.base.py: WARNING: Conversion error for <MidiEvent PROGRAM_CHANGE, t=0, track=1, channel=1>: Got incorrect data for <MidiEvent PROGRAM_CHANGE, t=0, track=1, channel=1> in .data: None,cannot parse Program Change; ignored.\n",
      "midi.base.py: WARNING: Conversion error for <MidiEvent PROGRAM_CHANGE, t=0, track=2, channel=1>: Got incorrect data for <MidiEvent PROGRAM_CHANGE, t=0, track=2, channel=1> in .data: None,cannot parse Program Change; ignored.\n",
      "midi.base.py: WARNING: Conversion error for <MidiEvent PROGRAM_CHANGE, t=0, track=2, channel=1>: Got incorrect data for <MidiEvent PROGRAM_CHANGE, t=0, track=2, channel=1> in .data: None,cannot parse Program Change; ignored.\n",
      "midi.base.py: WARNING: Conversion error for <MidiEvent PROGRAM_CHANGE, t=0, track=3, channel=1>: Got incorrect data for <MidiEvent PROGRAM_CHANGE, t=0, track=3, channel=1> in .data: None,cannot parse Program Change; ignored.\n",
      "midi.base.py: WARNING: Conversion error for <MidiEvent PROGRAM_CHANGE, t=0, track=1, channel=1>: Got incorrect data for <MidiEvent PROGRAM_CHANGE, t=0, track=1, channel=1> in .data: None,cannot parse Program Change; ignored.\n",
      "midi.base.py: WARNING: Conversion error for <MidiEvent PROGRAM_CHANGE, t=0, track=1, channel=1>: Got incorrect data for <MidiEvent PROGRAM_CHANGE, t=0, track=1, channel=1> in .data: None,cannot parse Program Change; ignored.\n",
      "midi.base.py: WARNING: Conversion error for <MidiEvent PROGRAM_CHANGE, t=0, track=1, channel=1>: Got incorrect data for <MidiEvent PROGRAM_CHANGE, t=0, track=1, channel=1> in .data: None,cannot parse Program Change; ignored.\n",
      "midi.base.py: WARNING: Conversion error for <MidiEvent PROGRAM_CHANGE, t=0, track=1, channel=1>: Got incorrect data for <MidiEvent PROGRAM_CHANGE, t=0, track=1, channel=1> in .data: None,cannot parse Program Change; ignored.\n",
      "midi.base.py: WARNING: Conversion error for <MidiEvent PROGRAM_CHANGE, t=0, track=1, channel=1>: Got incorrect data for <MidiEvent PROGRAM_CHANGE, t=0, track=1, channel=1> in .data: None,cannot parse Program Change; ignored.\n",
      "midi.base.py: WARNING: Conversion error for <MidiEvent PROGRAM_CHANGE, t=0, track=1, channel=1>: Got incorrect data for <MidiEvent PROGRAM_CHANGE, t=0, track=1, channel=1> in .data: None,cannot parse Program Change; ignored.\n"
     ]
    },
    {
     "name": "stdout",
     "output_type": "stream",
     "text": [
      "badly formated midi string, got: vti_encoding:SR|utf8\n"
     ]
    },
    {
     "name": "stderr",
     "output_type": "stream",
     "text": [
      "midi.base.py: WARNING: Conversion error for <MidiEvent PROGRAM_CHANGE, t=0, track=1, channel=3>: Got incorrect data for <MidiEvent PROGRAM_CHANGE, t=0, track=1, channel=3> in .data: None,cannot parse Program Change; ignored.\n",
      "midi.base.py: WARNING: Conversion error for <MidiEvent PROGRAM_CHANGE, t=0, track=1, channel=3>: Got incorrect data for <MidiEvent PROGRAM_CHANGE, t=0, track=1, channel=3> in .data: None,cannot parse Program Change; ignored.\n",
      "midi.base.py: WARNING: Conversion error for <MidiEvent PROGRAM_CHANGE, t=0, track=1, channel=3>: Got incorrect data for <MidiEvent PROGRAM_CHANGE, t=0, track=1, channel=3> in .data: None,cannot parse Program Change; ignored.\n"
     ]
    },
    {
     "name": "stdout",
     "output_type": "stream",
     "text": [
      "badly formed midi string: missing leading MTrk\n"
     ]
    },
    {
     "name": "stderr",
     "output_type": "stream",
     "text": [
      "midi.base.py: WARNING: Conversion error for <MidiEvent PROGRAM_CHANGE, t=0, track=1, channel=1>: Got incorrect data for <MidiEvent PROGRAM_CHANGE, t=0, track=1, channel=1> in .data: None,cannot parse Program Change; ignored.\n",
      "midi.base.py: WARNING: Conversion error for <MidiEvent PROGRAM_CHANGE, t=0, track=1, channel=1>: Got incorrect data for <MidiEvent PROGRAM_CHANGE, t=0, track=1, channel=1> in .data: None,cannot parse Program Change; ignored.\n",
      "midi.base.py: WARNING: Conversion error for <MidiEvent PROGRAM_CHANGE, t=0, track=1, channel=1>: Got incorrect data for <MidiEvent PROGRAM_CHANGE, t=0, track=1, channel=1> in .data: None,cannot parse Program Change; ignored.\n",
      "midi.base.py: WARNING: Conversion error for <MidiEvent PROGRAM_CHANGE, t=0, track=4, channel=3>: Got incorrect data for <MidiEvent PROGRAM_CHANGE, t=0, track=4, channel=3> in .data: None,cannot parse Program Change; ignored.\n",
      "midi.base.py: WARNING: Conversion error for <MidiEvent PROGRAM_CHANGE, t=0, track=11, channel=3>: Got incorrect data for <MidiEvent PROGRAM_CHANGE, t=0, track=11, channel=3> in .data: None,cannot parse Program Change; ignored.\n",
      "midi.base.py: WARNING: Conversion error for <MidiEvent PROGRAM_CHANGE, t=0, track=12, channel=3>: Got incorrect data for <MidiEvent PROGRAM_CHANGE, t=0, track=12, channel=3> in .data: None,cannot parse Program Change; ignored.\n",
      "midi.base.py: WARNING: Conversion error for <MidiEvent PROGRAM_CHANGE, t=0, track=13, channel=3>: Got incorrect data for <MidiEvent PROGRAM_CHANGE, t=0, track=13, channel=3> in .data: None,cannot parse Program Change; ignored.\n",
      "midi.base.py: WARNING: Conversion error for <MidiEvent PROGRAM_CHANGE, t=0, track=1, channel=1>: Got incorrect data for <MidiEvent PROGRAM_CHANGE, t=0, track=1, channel=1> in .data: None,cannot parse Program Change; ignored.\n",
      "midi.base.py: WARNING: Conversion error for <MidiEvent PROGRAM_CHANGE, t=0, track=2, channel=1>: Got incorrect data for <MidiEvent PROGRAM_CHANGE, t=0, track=2, channel=1> in .data: None,cannot parse Program Change; ignored.\n",
      "midi.base.py: WARNING: Conversion error for <MidiEvent PROGRAM_CHANGE, t=0, track=3, channel=1>: Got incorrect data for <MidiEvent PROGRAM_CHANGE, t=0, track=3, channel=1> in .data: None,cannot parse Program Change; ignored.\n",
      "midi.base.py: WARNING: Conversion error for <MidiEvent PROGRAM_CHANGE, t=0, track=4, channel=1>: Got incorrect data for <MidiEvent PROGRAM_CHANGE, t=0, track=4, channel=1> in .data: None,cannot parse Program Change; ignored.\n",
      "midi.base.py: WARNING: Conversion error for <MidiEvent PROGRAM_CHANGE, t=0, track=5, channel=1>: Got incorrect data for <MidiEvent PROGRAM_CHANGE, t=0, track=5, channel=1> in .data: None,cannot parse Program Change; ignored.\n"
     ]
    },
    {
     "name": "stdout",
     "output_type": "stream",
     "text": [
      "badly formated midi string, got: <HTML>\n",
      "<HEAD>\n",
      "    \n"
     ]
    },
    {
     "name": "stderr",
     "output_type": "stream",
     "text": [
      "midi.base.py: WARNING: Conversion error for <MidiEvent PROGRAM_CHANGE, t=0, track=3, channel=1>: Got incorrect data for <MidiEvent PROGRAM_CHANGE, t=0, track=3, channel=1> in .data: None,cannot parse Program Change; ignored.\n",
      "midi.base.py: WARNING: Conversion error for <MidiEvent PROGRAM_CHANGE, t=0, track=4, channel=1>: Got incorrect data for <MidiEvent PROGRAM_CHANGE, t=0, track=4, channel=1> in .data: None,cannot parse Program Change; ignored.\n",
      "midi.base.py: WARNING: Conversion error for <MidiEvent PROGRAM_CHANGE, t=0, track=5, channel=1>: Got incorrect data for <MidiEvent PROGRAM_CHANGE, t=0, track=5, channel=1> in .data: None,cannot parse Program Change; ignored.\n",
      "midi.base.py: WARNING: Conversion error for <MidiEvent PROGRAM_CHANGE, t=0, track=6, channel=1>: Got incorrect data for <MidiEvent PROGRAM_CHANGE, t=0, track=6, channel=1> in .data: None,cannot parse Program Change; ignored.\n",
      "midi.base.py: WARNING: Conversion error for <MidiEvent PROGRAM_CHANGE, t=0, track=7, channel=1>: Got incorrect data for <MidiEvent PROGRAM_CHANGE, t=0, track=7, channel=1> in .data: None,cannot parse Program Change; ignored.\n",
      "midi.base.py: WARNING: Conversion error for <MidiEvent PROGRAM_CHANGE, t=0, track=8, channel=1>: Got incorrect data for <MidiEvent PROGRAM_CHANGE, t=0, track=8, channel=1> in .data: None,cannot parse Program Change; ignored.\n"
     ]
    },
    {
     "name": "stdout",
     "output_type": "stream",
     "text": [
      "\n",
      "badly formated midi string, got: RIFF�5\u0002\u0000RMIDdataw2\u0002\u0000\n",
      "badly formated midi string, got: TVRoZAAAAAYAAQAcAeBN\n",
      "badly formated midi string, got: <HTML>\n",
      "<HEAD>\n",
      "<TIT\n",
      "string index out of range\n",
      "badly formed midi string: missing leading MTrk\n"
     ]
    },
    {
     "name": "stderr",
     "output_type": "stream",
     "text": [
      "midi.base.py: WARNING: Conversion error for <MidiEvent PROGRAM_CHANGE, t=0, track=2, channel=2>: Got incorrect data for <MidiEvent PROGRAM_CHANGE, t=0, track=2, channel=2> in .data: None,cannot parse Program Change; ignored.\n",
      "midi.base.py: WARNING: Conversion error for <MidiEvent PROGRAM_CHANGE, t=0, track=3, channel=4>: Got incorrect data for <MidiEvent PROGRAM_CHANGE, t=0, track=3, channel=4> in .data: None,cannot parse Program Change; ignored.\n",
      "midi.base.py: WARNING: Conversion error for <MidiEvent PROGRAM_CHANGE, t=0, track=4, channel=4>: Got incorrect data for <MidiEvent PROGRAM_CHANGE, t=0, track=4, channel=4> in .data: None,cannot parse Program Change; ignored.\n",
      "midi.base.py: WARNING: Conversion error for <MidiEvent PROGRAM_CHANGE, t=0, track=6, channel=4>: Got incorrect data for <MidiEvent PROGRAM_CHANGE, t=0, track=6, channel=4> in .data: None,cannot parse Program Change; ignored.\n",
      "midi.base.py: WARNING: Conversion error for <MidiEvent PROGRAM_CHANGE, t=0, track=7, channel=4>: Got incorrect data for <MidiEvent PROGRAM_CHANGE, t=0, track=7, channel=4> in .data: None,cannot parse Program Change; ignored.\n"
     ]
    },
    {
     "name": "stdout",
     "output_type": "stream",
     "text": [
      "badly formated midi string, got: <!DOCTYPE HTML PUBLI\n",
      "badly formed midi string: missing leading MTrk\n"
     ]
    },
    {
     "name": "stderr",
     "output_type": "stream",
     "text": [
      "midi.base.py: WARNING: Conversion error for <MidiEvent PROGRAM_CHANGE, t=0, track=1, channel=1>: Got incorrect data for <MidiEvent PROGRAM_CHANGE, t=0, track=1, channel=1> in .data: None,cannot parse Program Change; ignored.\n",
      "midi.base.py: WARNING: Conversion error for <MidiEvent PROGRAM_CHANGE, t=0, track=1, channel=1>: Got incorrect data for <MidiEvent PROGRAM_CHANGE, t=0, track=1, channel=1> in .data: None,cannot parse Program Change; ignored.\n",
      "midi.base.py: WARNING: Conversion error for <MidiEvent PROGRAM_CHANGE, t=0, track=1, channel=1>: Got incorrect data for <MidiEvent PROGRAM_CHANGE, t=0, track=1, channel=1> in .data: None,cannot parse Program Change; ignored.\n",
      "midi.base.py: WARNING: Conversion error for <MidiEvent PROGRAM_CHANGE, t=0, track=1, channel=1>: Got incorrect data for <MidiEvent PROGRAM_CHANGE, t=0, track=1, channel=1> in .data: None,cannot parse Program Change; ignored.\n"
     ]
    },
    {
     "name": "stdout",
     "output_type": "stream",
     "text": [
      "badly formed midi string: missing leading MTrk\n"
     ]
    },
    {
     "name": "stderr",
     "output_type": "stream",
     "text": [
      "midi.base.py: WARNING: Conversion error for <MidiEvent PROGRAM_CHANGE, t=0, track=3, channel=2>: Got incorrect data for <MidiEvent PROGRAM_CHANGE, t=0, track=3, channel=2> in .data: None,cannot parse Program Change; ignored.\n",
      "midi.base.py: WARNING: Conversion error for <MidiEvent PROGRAM_CHANGE, t=0, track=5, channel=2>: Got incorrect data for <MidiEvent PROGRAM_CHANGE, t=0, track=5, channel=2> in .data: None,cannot parse Program Change; ignored.\n",
      "midi.base.py: WARNING: Conversion error for <MidiEvent PROGRAM_CHANGE, t=0, track=7, channel=2>: Got incorrect data for <MidiEvent PROGRAM_CHANGE, t=0, track=7, channel=2> in .data: None,cannot parse Program Change; ignored.\n",
      "midi.base.py: WARNING: Conversion error for <MidiEvent PROGRAM_CHANGE, t=0, track=9, channel=2>: Got incorrect data for <MidiEvent PROGRAM_CHANGE, t=0, track=9, channel=2> in .data: None,cannot parse Program Change; ignored.\n",
      "midi.base.py: WARNING: Conversion error for <MidiEvent PROGRAM_CHANGE, t=0, track=10, channel=2>: Got incorrect data for <MidiEvent PROGRAM_CHANGE, t=0, track=10, channel=2> in .data: None,cannot parse Program Change; ignored.\n",
      "midi.base.py: WARNING: Conversion error for <MidiEvent PROGRAM_CHANGE, t=0, track=1, channel=2>: Got incorrect data for <MidiEvent PROGRAM_CHANGE, t=0, track=1, channel=2> in .data: None,cannot parse Program Change; ignored.\n",
      "midi.base.py: WARNING: Conversion error for <MidiEvent PROGRAM_CHANGE, t=0, track=1, channel=1>: Got incorrect data for <MidiEvent PROGRAM_CHANGE, t=0, track=1, channel=1> in .data: None,cannot parse Program Change; ignored.\n",
      "midi.base.py: WARNING: Conversion error for <MidiEvent PROGRAM_CHANGE, t=0, track=1, channel=1>: Got incorrect data for <MidiEvent PROGRAM_CHANGE, t=0, track=1, channel=1> in .data: None,cannot parse Program Change; ignored.\n",
      "midi.base.py: WARNING: Conversion error for <MidiEvent PROGRAM_CHANGE, t=0, track=3, channel=1>: Got incorrect data for <MidiEvent PROGRAM_CHANGE, t=0, track=3, channel=1> in .data: None,cannot parse Program Change; ignored.\n",
      "midi.base.py: WARNING: Conversion error for <MidiEvent PROGRAM_CHANGE, t=0, track=1, channel=1>: Got incorrect data for <MidiEvent PROGRAM_CHANGE, t=0, track=1, channel=1> in .data: None,cannot parse Program Change; ignored.\n",
      "midi.base.py: WARNING: Conversion error for <MidiEvent PROGRAM_CHANGE, t=0, track=1, channel=1>: Got incorrect data for <MidiEvent PROGRAM_CHANGE, t=0, track=1, channel=1> in .data: None,cannot parse Program Change; ignored.\n",
      "midi.base.py: WARNING: Conversion error for <MidiEvent PROGRAM_CHANGE, t=0, track=1, channel=1>: Got incorrect data for <MidiEvent PROGRAM_CHANGE, t=0, track=1, channel=1> in .data: None,cannot parse Program Change; ignored.\n",
      "midi.base.py: WARNING: Conversion error for <MidiEvent PROGRAM_CHANGE, t=0, track=1, channel=1>: Got incorrect data for <MidiEvent PROGRAM_CHANGE, t=0, track=1, channel=1> in .data: None,cannot parse Program Change; ignored.\n",
      "midi.base.py: WARNING: Conversion error for <MidiEvent PROGRAM_CHANGE, t=0, track=1, channel=1>: Got incorrect data for <MidiEvent PROGRAM_CHANGE, t=0, track=1, channel=1> in .data: None,cannot parse Program Change; ignored.\n",
      "midi.base.py: WARNING: Conversion error for <MidiEvent PROGRAM_CHANGE, t=0, track=1, channel=1>: Got incorrect data for <MidiEvent PROGRAM_CHANGE, t=0, track=1, channel=1> in .data: None,cannot parse Program Change; ignored.\n",
      "midi.base.py: WARNING: Conversion error for <MidiEvent PROGRAM_CHANGE, t=0, track=1, channel=1>: Got incorrect data for <MidiEvent PROGRAM_CHANGE, t=0, track=1, channel=1> in .data: None,cannot parse Program Change; ignored.\n",
      "midi.base.py: WARNING: Conversion error for <MidiEvent PROGRAM_CHANGE, t=0, track=1, channel=1>: Got incorrect data for <MidiEvent PROGRAM_CHANGE, t=0, track=1, channel=1> in .data: None,cannot parse Program Change; ignored.\n",
      "midi.base.py: WARNING: Conversion error for <MidiEvent PROGRAM_CHANGE, t=0, track=1, channel=1>: Got incorrect data for <MidiEvent PROGRAM_CHANGE, t=0, track=1, channel=1> in .data: None,cannot parse Program Change; ignored.\n",
      "midi.base.py: WARNING: Conversion error for <MidiEvent PROGRAM_CHANGE, t=0, track=1, channel=1>: Got incorrect data for <MidiEvent PROGRAM_CHANGE, t=0, track=1, channel=1> in .data: None,cannot parse Program Change; ignored.\n",
      "midi.base.py: WARNING: Conversion error for <MidiEvent PROGRAM_CHANGE, t=0, track=1, channel=1>: Got incorrect data for <MidiEvent PROGRAM_CHANGE, t=0, track=1, channel=1> in .data: None,cannot parse Program Change; ignored.\n",
      "midi.base.py: WARNING: Conversion error for <MidiEvent PROGRAM_CHANGE, t=0, track=1, channel=1>: Got incorrect data for <MidiEvent PROGRAM_CHANGE, t=0, track=1, channel=1> in .data: None,cannot parse Program Change; ignored.\n",
      "midi.base.py: WARNING: Conversion error for <MidiEvent PROGRAM_CHANGE, t=0, track=1, channel=1>: Got incorrect data for <MidiEvent PROGRAM_CHANGE, t=0, track=1, channel=1> in .data: None,cannot parse Program Change; ignored.\n"
     ]
    },
    {
     "name": "stdout",
     "output_type": "stream",
     "text": [
      "chr() arg not in range(256)\n",
      "badly formed midi string: missing leading MTrk\n"
     ]
    },
    {
     "name": "stderr",
     "output_type": "stream",
     "text": [
      "midi.base.py: WARNING: Conversion error for <MidiEvent PROGRAM_CHANGE, t=0, track=3, channel=3>: Got incorrect data for <MidiEvent PROGRAM_CHANGE, t=0, track=3, channel=3> in .data: None,cannot parse Program Change; ignored.\n",
      "midi.base.py: WARNING: Conversion error for <MidiEvent PROGRAM_CHANGE, t=0, track=4, channel=3>: Got incorrect data for <MidiEvent PROGRAM_CHANGE, t=0, track=4, channel=3> in .data: None,cannot parse Program Change; ignored.\n",
      "midi.base.py: WARNING: Conversion error for <MidiEvent PROGRAM_CHANGE, t=0, track=5, channel=3>: Got incorrect data for <MidiEvent PROGRAM_CHANGE, t=0, track=5, channel=3> in .data: None,cannot parse Program Change; ignored.\n",
      "midi.base.py: WARNING: Conversion error for <MidiEvent PROGRAM_CHANGE, t=0, track=6, channel=3>: Got incorrect data for <MidiEvent PROGRAM_CHANGE, t=0, track=6, channel=3> in .data: None,cannot parse Program Change; ignored.\n",
      "midi.base.py: WARNING: Conversion error for <MidiEvent PROGRAM_CHANGE, t=0, track=5, channel=4>: Got incorrect data for <MidiEvent PROGRAM_CHANGE, t=0, track=5, channel=4> in .data: None,cannot parse Program Change; ignored.\n",
      "midi.base.py: WARNING: Conversion error for <MidiEvent PROGRAM_CHANGE, t=0, track=7, channel=4>: Got incorrect data for <MidiEvent PROGRAM_CHANGE, t=0, track=7, channel=4> in .data: None,cannot parse Program Change; ignored.\n",
      "midi.base.py: WARNING: Conversion error for <MidiEvent PROGRAM_CHANGE, t=0, track=8, channel=4>: Got incorrect data for <MidiEvent PROGRAM_CHANGE, t=0, track=8, channel=4> in .data: None,cannot parse Program Change; ignored.\n",
      "midi.base.py: WARNING: Conversion error for <MidiEvent PROGRAM_CHANGE, t=0, track=1, channel=4>: Got incorrect data for <MidiEvent PROGRAM_CHANGE, t=0, track=1, channel=4> in .data: None,cannot parse Program Change; ignored.\n"
     ]
    },
    {
     "name": "stdout",
     "output_type": "stream",
     "text": [
      "\n",
      "badly formated midi string, got: vti_encoding:SR|utf8\n"
     ]
    },
    {
     "name": "stderr",
     "output_type": "stream",
     "text": [
      "midi.base.py: WARNING: Conversion error for <MidiEvent PROGRAM_CHANGE, t=0, track=2, channel=2>: Got incorrect data for <MidiEvent PROGRAM_CHANGE, t=0, track=2, channel=2> in .data: None,cannot parse Program Change; ignored.\n",
      "midi.base.py: WARNING: Conversion error for <MidiEvent PROGRAM_CHANGE, t=0, track=3, channel=2>: Got incorrect data for <MidiEvent PROGRAM_CHANGE, t=0, track=3, channel=2> in .data: None,cannot parse Program Change; ignored.\n",
      "midi.base.py: WARNING: Conversion error for <MidiEvent PROGRAM_CHANGE, t=0, track=5, channel=2>: Got incorrect data for <MidiEvent PROGRAM_CHANGE, t=0, track=5, channel=2> in .data: None,cannot parse Program Change; ignored.\n",
      "midi.base.py: WARNING: Conversion error for <MidiEvent PROGRAM_CHANGE, t=0, track=6, channel=2>: Got incorrect data for <MidiEvent PROGRAM_CHANGE, t=0, track=6, channel=2> in .data: None,cannot parse Program Change; ignored.\n",
      "midi.base.py: WARNING: Conversion error for <MidiEvent PROGRAM_CHANGE, t=0, track=10, channel=2>: Got incorrect data for <MidiEvent PROGRAM_CHANGE, t=0, track=10, channel=2> in .data: None,cannot parse Program Change; ignored.\n"
     ]
    },
    {
     "name": "stdout",
     "output_type": "stream",
     "text": [
      "badly formated midi string, got: RIFFPa\u0000\u0000RMIDdata�`\u0000\u0000\n"
     ]
    },
    {
     "name": "stderr",
     "output_type": "stream",
     "text": [
      "midi.base.py: WARNING: Conversion error for <MidiEvent PROGRAM_CHANGE, t=0, track=1, channel=1>: Got incorrect data for <MidiEvent PROGRAM_CHANGE, t=0, track=1, channel=1> in .data: None,cannot parse Program Change; ignored.\n",
      "midi.base.py: WARNING: Conversion error for <MidiEvent PROGRAM_CHANGE, t=0, track=1, channel=1>: Got incorrect data for <MidiEvent PROGRAM_CHANGE, t=0, track=1, channel=1> in .data: None,cannot parse Program Change; ignored.\n",
      "midi.base.py: WARNING: Conversion error for <MidiEvent PROGRAM_CHANGE, t=0, track=1, channel=1>: Got incorrect data for <MidiEvent PROGRAM_CHANGE, t=0, track=1, channel=1> in .data: None,cannot parse Program Change; ignored.\n",
      "midi.base.py: WARNING: Conversion error for <MidiEvent PROGRAM_CHANGE, t=0, track=1, channel=1>: Got incorrect data for <MidiEvent PROGRAM_CHANGE, t=0, track=1, channel=1> in .data: None,cannot parse Program Change; ignored.\n",
      "midi.base.py: WARNING: Conversion error for <MidiEvent PROGRAM_CHANGE, t=0, track=1, channel=1>: Got incorrect data for <MidiEvent PROGRAM_CHANGE, t=0, track=1, channel=1> in .data: None,cannot parse Program Change; ignored.\n",
      "midi.base.py: WARNING: Conversion error for <MidiEvent PROGRAM_CHANGE, t=0, track=1, channel=1>: Got incorrect data for <MidiEvent PROGRAM_CHANGE, t=0, track=1, channel=1> in .data: None,cannot parse Program Change; ignored.\n"
     ]
    },
    {
     "name": "stdout",
     "output_type": "stream",
     "text": [
      "badly formed midi string: missing leading MTrk\n",
      "chr() arg not in range(256)\n",
      "badly formated midi string, got: ��u\u0011�\u0015�\u0010pm=�\u0003\u0000\u0000\u000f�fo\u0000\n",
      "badly formed midi string: missing leading MTrk\n"
     ]
    },
    {
     "name": "stderr",
     "output_type": "stream",
     "text": [
      "midi.base.py: WARNING: Conversion error for <MidiEvent PROGRAM_CHANGE, t=0, track=1, channel=1>: Got incorrect data for <MidiEvent PROGRAM_CHANGE, t=0, track=1, channel=1> in .data: None,cannot parse Program Change; ignored.\n",
      "midi.base.py: WARNING: Conversion error for <MidiEvent PROGRAM_CHANGE, t=0, track=1, channel=1>: Got incorrect data for <MidiEvent PROGRAM_CHANGE, t=0, track=1, channel=1> in .data: None,cannot parse Program Change; ignored.\n",
      "midi.base.py: WARNING: Conversion error for <MidiEvent PROGRAM_CHANGE, t=0, track=1, channel=1>: Got incorrect data for <MidiEvent PROGRAM_CHANGE, t=0, track=1, channel=1> in .data: None,cannot parse Program Change; ignored.\n",
      "midi.base.py: WARNING: Conversion error for <MidiEvent PROGRAM_CHANGE, t=0, track=1, channel=1>: Got incorrect data for <MidiEvent PROGRAM_CHANGE, t=0, track=1, channel=1> in .data: None,cannot parse Program Change; ignored.\n",
      "midi.base.py: WARNING: Conversion error for <MidiEvent PROGRAM_CHANGE, t=0, track=1, channel=1>: Got incorrect data for <MidiEvent PROGRAM_CHANGE, t=0, track=1, channel=1> in .data: None,cannot parse Program Change; ignored.\n",
      "midi.base.py: WARNING: Conversion error for <MidiEvent PROGRAM_CHANGE, t=0, track=1, channel=1>: Got incorrect data for <MidiEvent PROGRAM_CHANGE, t=0, track=1, channel=1> in .data: None,cannot parse Program Change; ignored.\n",
      "midi.base.py: WARNING: Conversion error for <MidiEvent PROGRAM_CHANGE, t=0, track=1, channel=1>: Got incorrect data for <MidiEvent PROGRAM_CHANGE, t=0, track=1, channel=1> in .data: None,cannot parse Program Change; ignored.\n",
      "midi.base.py: WARNING: Conversion error for <MidiEvent PROGRAM_CHANGE, t=0, track=1, channel=1>: Got incorrect data for <MidiEvent PROGRAM_CHANGE, t=0, track=1, channel=1> in .data: None,cannot parse Program Change; ignored.\n",
      "midi.base.py: WARNING: Conversion error for <MidiEvent PROGRAM_CHANGE, t=0, track=3, channel=1>: Got incorrect data for <MidiEvent PROGRAM_CHANGE, t=0, track=3, channel=1> in .data: None,cannot parse Program Change; ignored.\n"
     ]
    },
    {
     "name": "stdout",
     "output_type": "stream",
     "text": [
      "badly formed midi string: missing leading MTrk\n"
     ]
    },
    {
     "name": "stderr",
     "output_type": "stream",
     "text": [
      "midi.base.py: WARNING: Conversion error for <MidiEvent PROGRAM_CHANGE, t=0, track=1, channel=1>: Got incorrect data for <MidiEvent PROGRAM_CHANGE, t=0, track=1, channel=1> in .data: None,cannot parse Program Change; ignored.\n",
      "midi.base.py: WARNING: Conversion error for <MidiEvent PROGRAM_CHANGE, t=0, track=1, channel=1>: Got incorrect data for <MidiEvent PROGRAM_CHANGE, t=0, track=1, channel=1> in .data: None,cannot parse Program Change; ignored.\n",
      "midi.base.py: WARNING: Conversion error for <MidiEvent PROGRAM_CHANGE, t=0, track=1, channel=1>: Got incorrect data for <MidiEvent PROGRAM_CHANGE, t=0, track=1, channel=1> in .data: None,cannot parse Program Change; ignored.\n",
      "midi.base.py: WARNING: Conversion error for <MidiEvent PROGRAM_CHANGE, t=0, track=1, channel=1>: Got incorrect data for <MidiEvent PROGRAM_CHANGE, t=0, track=1, channel=1> in .data: None,cannot parse Program Change; ignored.\n",
      "midi.base.py: WARNING: Conversion error for <MidiEvent PROGRAM_CHANGE, t=0, track=1, channel=1>: Got incorrect data for <MidiEvent PROGRAM_CHANGE, t=0, track=1, channel=1> in .data: None,cannot parse Program Change; ignored.\n",
      "midi.base.py: WARNING: Conversion error for <MidiEvent PROGRAM_CHANGE, t=0, track=1, channel=1>: Got incorrect data for <MidiEvent PROGRAM_CHANGE, t=0, track=1, channel=1> in .data: None,cannot parse Program Change; ignored.\n"
     ]
    },
    {
     "name": "stdout",
     "output_type": "stream",
     "text": [
      "badly formated midi string, got: <body><h1>HTTP/1.0 4\n",
      "chr() arg not in range(256)\n",
      "\n",
      "\n",
      "badly formed midi string: missing leading MTrk\n",
      "\n"
     ]
    },
    {
     "name": "stderr",
     "output_type": "stream",
     "text": [
      "midi.base.py: WARNING: Conversion error for <MidiEvent PROGRAM_CHANGE, t=0, track=1, channel=1>: Got incorrect data for <MidiEvent PROGRAM_CHANGE, t=0, track=1, channel=1> in .data: None,cannot parse Program Change; ignored.\n",
      "midi.base.py: WARNING: Conversion error for <MidiEvent PROGRAM_CHANGE, t=0, track=5, channel=1>: Got incorrect data for <MidiEvent PROGRAM_CHANGE, t=0, track=5, channel=1> in .data: None,cannot parse Program Change; ignored.\n"
     ]
    },
    {
     "name": "stdout",
     "output_type": "stream",
     "text": [
      "badly formated midi string, got: �,Z\u0000�$P\u0000�(n5�,@C�,4\u001d",
      "\n"
     ]
    },
    {
     "name": "stderr",
     "output_type": "stream",
     "text": [
      "midi.base.py: WARNING: Conversion error for <MidiEvent PROGRAM_CHANGE, t=0, track=1, channel=1>: Got incorrect data for <MidiEvent PROGRAM_CHANGE, t=0, track=1, channel=1> in .data: None,cannot parse Program Change; ignored.\n"
     ]
    },
    {
     "name": "stdout",
     "output_type": "stream",
     "text": [
      "badly formed midi string: missing leading MTrk\n"
     ]
    },
    {
     "name": "stderr",
     "output_type": "stream",
     "text": [
      "midi.base.py: WARNING: Conversion error for <MidiEvent PROGRAM_CHANGE, t=0, track=1, channel=1>: Got incorrect data for <MidiEvent PROGRAM_CHANGE, t=0, track=1, channel=1> in .data: None,cannot parse Program Change; ignored.\n",
      "midi.base.py: WARNING: Conversion error for <MidiEvent PROGRAM_CHANGE, t=0, track=1, channel=1>: Got incorrect data for <MidiEvent PROGRAM_CHANGE, t=0, track=1, channel=1> in .data: None,cannot parse Program Change; ignored.\n",
      "midi.base.py: WARNING: Conversion error for <MidiEvent PROGRAM_CHANGE, t=0, track=1, channel=1>: Got incorrect data for <MidiEvent PROGRAM_CHANGE, t=0, track=1, channel=1> in .data: None,cannot parse Program Change; ignored.\n",
      "midi.base.py: WARNING: Conversion error for <MidiEvent PROGRAM_CHANGE, t=0, track=1, channel=1>: Got incorrect data for <MidiEvent PROGRAM_CHANGE, t=0, track=1, channel=1> in .data: None,cannot parse Program Change; ignored.\n",
      "midi.base.py: WARNING: Conversion error for <MidiEvent PROGRAM_CHANGE, t=0, track=1, channel=1>: Got incorrect data for <MidiEvent PROGRAM_CHANGE, t=0, track=1, channel=1> in .data: None,cannot parse Program Change; ignored.\n",
      "midi.base.py: WARNING: Conversion error for <MidiEvent PROGRAM_CHANGE, t=0, track=1, channel=1>: Got incorrect data for <MidiEvent PROGRAM_CHANGE, t=0, track=1, channel=1> in .data: None,cannot parse Program Change; ignored.\n",
      "midi.base.py: WARNING: Conversion error for <MidiEvent PROGRAM_CHANGE, t=0, track=1, channel=1>: Got incorrect data for <MidiEvent PROGRAM_CHANGE, t=0, track=1, channel=1> in .data: None,cannot parse Program Change; ignored.\n",
      "midi.base.py: WARNING: Conversion error for <MidiEvent PROGRAM_CHANGE, t=0, track=1, channel=1>: Got incorrect data for <MidiEvent PROGRAM_CHANGE, t=0, track=1, channel=1> in .data: None,cannot parse Program Change; ignored.\n",
      "midi.base.py: WARNING: Conversion error for <MidiEvent PROGRAM_CHANGE, t=0, track=1, channel=1>: Got incorrect data for <MidiEvent PROGRAM_CHANGE, t=0, track=1, channel=1> in .data: None,cannot parse Program Change; ignored.\n",
      "midi.base.py: WARNING: Conversion error for <MidiEvent PROGRAM_CHANGE, t=0, track=1, channel=1>: Got incorrect data for <MidiEvent PROGRAM_CHANGE, t=0, track=1, channel=1> in .data: None,cannot parse Program Change; ignored.\n",
      "midi.base.py: WARNING: Conversion error for <MidiEvent PROGRAM_CHANGE, t=0, track=1, channel=1>: Got incorrect data for <MidiEvent PROGRAM_CHANGE, t=0, track=1, channel=1> in .data: None,cannot parse Program Change; ignored.\n",
      "midi.base.py: WARNING: Conversion error for <MidiEvent PROGRAM_CHANGE, t=0, track=1, channel=1>: Got incorrect data for <MidiEvent PROGRAM_CHANGE, t=0, track=1, channel=1> in .data: None,cannot parse Program Change; ignored.\n",
      "midi.base.py: WARNING: Conversion error for <MidiEvent PROGRAM_CHANGE, t=0, track=1, channel=1>: Got incorrect data for <MidiEvent PROGRAM_CHANGE, t=0, track=1, channel=1> in .data: None,cannot parse Program Change; ignored.\n",
      "midi.base.py: WARNING: Conversion error for <MidiEvent PROGRAM_CHANGE, t=0, track=1, channel=1>: Got incorrect data for <MidiEvent PROGRAM_CHANGE, t=0, track=1, channel=1> in .data: None,cannot parse Program Change; ignored.\n",
      "midi.base.py: WARNING: Conversion error for <MidiEvent PROGRAM_CHANGE, t=0, track=1, channel=1>: Got incorrect data for <MidiEvent PROGRAM_CHANGE, t=0, track=1, channel=1> in .data: None,cannot parse Program Change; ignored.\n",
      "midi.base.py: WARNING: Conversion error for <MidiEvent PROGRAM_CHANGE, t=0, track=1, channel=1>: Got incorrect data for <MidiEvent PROGRAM_CHANGE, t=0, track=1, channel=1> in .data: None,cannot parse Program Change; ignored.\n"
     ]
    },
    {
     "name": "stdout",
     "output_type": "stream",
     "text": [
      "badly formated midi string, got: RIFF�[\u0000\u0000RMIDdata�[\u0000\u0000\n",
      "badly formed midi string: missing leading MTrk\n"
     ]
    },
    {
     "name": "stderr",
     "output_type": "stream",
     "text": [
      "midi.base.py: WARNING: Conversion error for <MidiEvent PROGRAM_CHANGE, t=0, track=4, channel=4>: Got incorrect data for <MidiEvent PROGRAM_CHANGE, t=0, track=4, channel=4> in .data: None,cannot parse Program Change; ignored.\n",
      "midi.base.py: WARNING: Conversion error for <MidiEvent PROGRAM_CHANGE, t=0, track=5, channel=4>: Got incorrect data for <MidiEvent PROGRAM_CHANGE, t=0, track=5, channel=4> in .data: None,cannot parse Program Change; ignored.\n"
     ]
    },
    {
     "name": "stdout",
     "output_type": "stream",
     "text": [
      "list index out of range\n"
     ]
    },
    {
     "name": "stderr",
     "output_type": "stream",
     "text": [
      "midi.base.py: WARNING: Conversion error for <MidiEvent PROGRAM_CHANGE, t=0, track=1, channel=1>: Got incorrect data for <MidiEvent PROGRAM_CHANGE, t=0, track=1, channel=1> in .data: None,cannot parse Program Change; ignored.\n",
      "midi.base.py: WARNING: Conversion error for <MidiEvent PROGRAM_CHANGE, t=0, track=1, channel=1>: Got incorrect data for <MidiEvent PROGRAM_CHANGE, t=0, track=1, channel=1> in .data: None,cannot parse Program Change; ignored.\n",
      "midi.base.py: WARNING: Conversion error for <MidiEvent PROGRAM_CHANGE, t=0, track=1, channel=1>: Got incorrect data for <MidiEvent PROGRAM_CHANGE, t=0, track=1, channel=1> in .data: None,cannot parse Program Change; ignored.\n",
      "midi.base.py: WARNING: Conversion error for <MidiEvent PROGRAM_CHANGE, t=0, track=1, channel=1>: Got incorrect data for <MidiEvent PROGRAM_CHANGE, t=0, track=1, channel=1> in .data: None,cannot parse Program Change; ignored.\n",
      "midi.base.py: WARNING: Conversion error for <MidiEvent PROGRAM_CHANGE, t=0, track=1, channel=1>: Got incorrect data for <MidiEvent PROGRAM_CHANGE, t=0, track=1, channel=1> in .data: None,cannot parse Program Change; ignored.\n"
     ]
    },
    {
     "name": "stdout",
     "output_type": "stream",
     "text": [
      "badly formated midi string, got: RIFF2o\u0001\u0000RMIDdata&o\u0001\u0000\n"
     ]
    },
    {
     "name": "stderr",
     "output_type": "stream",
     "text": [
      "midi.base.py: WARNING: Conversion error for <MidiEvent PROGRAM_CHANGE, t=0, track=1, channel=1>: Got incorrect data for <MidiEvent PROGRAM_CHANGE, t=0, track=1, channel=1> in .data: None,cannot parse Program Change; ignored.\n",
      "midi.base.py: WARNING: Conversion error for <MidiEvent PROGRAM_CHANGE, t=0, track=1, channel=1>: Got incorrect data for <MidiEvent PROGRAM_CHANGE, t=0, track=1, channel=1> in .data: None,cannot parse Program Change; ignored.\n",
      "midi.base.py: WARNING: Conversion error for <MidiEvent PROGRAM_CHANGE, t=0, track=1, channel=1>: Got incorrect data for <MidiEvent PROGRAM_CHANGE, t=0, track=1, channel=1> in .data: None,cannot parse Program Change; ignored.\n"
     ]
    },
    {
     "name": "stdout",
     "output_type": "stream",
     "text": [
      "badly formated midi string, got: CAKEWALK\u001a\u0000\u0002\n",
      "\u0002\u0000\u0000\u0000�\u0001\u0003Y\n",
      "unsupported operand type(s) for +: 'NoneType' and 'int'\n",
      "\n",
      "badly formated midi string, got: RIFFRv\u0000\u0000RMIDdata�u\u0000\u0000\n"
     ]
    },
    {
     "name": "stderr",
     "output_type": "stream",
     "text": [
      "midi.base.py: WARNING: Conversion error for <MidiEvent PROGRAM_CHANGE, t=0, track=1, channel=1>: Got incorrect data for <MidiEvent PROGRAM_CHANGE, t=0, track=1, channel=1> in .data: None,cannot parse Program Change; ignored.\n",
      "midi.base.py: WARNING: Conversion error for <MidiEvent PROGRAM_CHANGE, t=0, track=2, channel=3>: Got incorrect data for <MidiEvent PROGRAM_CHANGE, t=0, track=2, channel=3> in .data: None,cannot parse Program Change; ignored.\n",
      "midi.base.py: WARNING: Conversion error for <MidiEvent PROGRAM_CHANGE, t=0, track=3, channel=1>: Got incorrect data for <MidiEvent PROGRAM_CHANGE, t=0, track=3, channel=1> in .data: None,cannot parse Program Change; ignored.\n",
      "midi.base.py: WARNING: Conversion error for <MidiEvent PROGRAM_CHANGE, t=0, track=4, channel=1>: Got incorrect data for <MidiEvent PROGRAM_CHANGE, t=0, track=4, channel=1> in .data: None,cannot parse Program Change; ignored.\n",
      "midi.base.py: WARNING: Conversion error for <MidiEvent PROGRAM_CHANGE, t=0, track=5, channel=6>: Got incorrect data for <MidiEvent PROGRAM_CHANGE, t=0, track=5, channel=6> in .data: None,cannot parse Program Change; ignored.\n",
      "midi.base.py: WARNING: Conversion error for <MidiEvent PROGRAM_CHANGE, t=0, track=6, channel=1>: Got incorrect data for <MidiEvent PROGRAM_CHANGE, t=0, track=6, channel=1> in .data: None,cannot parse Program Change; ignored.\n",
      "midi.base.py: WARNING: Conversion error for <MidiEvent PROGRAM_CHANGE, t=0, track=6, channel=1>: Got incorrect data for <MidiEvent PROGRAM_CHANGE, t=0, track=6, channel=1> in .data: None,cannot parse Program Change; ignored.\n",
      "midi.base.py: WARNING: Conversion error for <MidiEvent PROGRAM_CHANGE, t=0, track=7, channel=1>: Got incorrect data for <MidiEvent PROGRAM_CHANGE, t=0, track=7, channel=1> in .data: None,cannot parse Program Change; ignored.\n",
      "midi.base.py: WARNING: Conversion error for <MidiEvent PROGRAM_CHANGE, t=0, track=7, channel=1>: Got incorrect data for <MidiEvent PROGRAM_CHANGE, t=0, track=7, channel=1> in .data: None,cannot parse Program Change; ignored.\n",
      "midi.base.py: WARNING: Conversion error for <MidiEvent PROGRAM_CHANGE, t=0, track=8, channel=1>: Got incorrect data for <MidiEvent PROGRAM_CHANGE, t=0, track=8, channel=1> in .data: None,cannot parse Program Change; ignored.\n",
      "midi.base.py: WARNING: Conversion error for <MidiEvent PROGRAM_CHANGE, t=0, track=1, channel=1>: Got incorrect data for <MidiEvent PROGRAM_CHANGE, t=0, track=1, channel=1> in .data: None,cannot parse Program Change; ignored.\n",
      "midi.base.py: WARNING: Conversion error for <MidiEvent PROGRAM_CHANGE, t=0, track=4, channel=1>: Got incorrect data for <MidiEvent PROGRAM_CHANGE, t=0, track=4, channel=1> in .data: None,cannot parse Program Change; ignored.\n",
      "midi.base.py: WARNING: Conversion error for <MidiEvent PROGRAM_CHANGE, t=0, track=5, channel=1>: Got incorrect data for <MidiEvent PROGRAM_CHANGE, t=0, track=5, channel=1> in .data: None,cannot parse Program Change; ignored.\n",
      "midi.base.py: WARNING: Conversion error for <MidiEvent PROGRAM_CHANGE, t=0, track=3, channel=3>: Got incorrect data for <MidiEvent PROGRAM_CHANGE, t=0, track=3, channel=3> in .data: None,cannot parse Program Change; ignored.\n",
      "midi.base.py: WARNING: Conversion error for <MidiEvent PROGRAM_CHANGE, t=0, track=8, channel=3>: Got incorrect data for <MidiEvent PROGRAM_CHANGE, t=0, track=8, channel=3> in .data: None,cannot parse Program Change; ignored.\n",
      "midi.base.py: WARNING: Conversion error for <MidiEvent PROGRAM_CHANGE, t=0, track=12, channel=3>: Got incorrect data for <MidiEvent PROGRAM_CHANGE, t=0, track=12, channel=3> in .data: None,cannot parse Program Change; ignored.\n",
      "midi.base.py: WARNING: Conversion error for <MidiEvent PROGRAM_CHANGE, t=0, track=13, channel=3>: Got incorrect data for <MidiEvent PROGRAM_CHANGE, t=0, track=13, channel=3> in .data: None,cannot parse Program Change; ignored.\n"
     ]
    },
    {
     "name": "stdout",
     "output_type": "stream",
     "text": [
      "string index out of range\n",
      "\n",
      "badly formed midi string: missing leading MTrk\n"
     ]
    },
    {
     "name": "stderr",
     "output_type": "stream",
     "text": [
      "midi.base.py: WARNING: Conversion error for <MidiEvent PROGRAM_CHANGE, t=0, track=1, channel=1>: Got incorrect data for <MidiEvent PROGRAM_CHANGE, t=0, track=1, channel=1> in .data: None,cannot parse Program Change; ignored.\n",
      "midi.base.py: WARNING: Conversion error for <MidiEvent PROGRAM_CHANGE, t=0, track=5, channel=1>: Got incorrect data for <MidiEvent PROGRAM_CHANGE, t=0, track=5, channel=1> in .data: None,cannot parse Program Change; ignored.\n",
      "midi.base.py: WARNING: Conversion error for <MidiEvent PROGRAM_CHANGE, t=0, track=6, channel=1>: Got incorrect data for <MidiEvent PROGRAM_CHANGE, t=0, track=6, channel=1> in .data: None,cannot parse Program Change; ignored.\n",
      "midi.base.py: WARNING: Conversion error for <MidiEvent PROGRAM_CHANGE, t=0, track=8, channel=1>: Got incorrect data for <MidiEvent PROGRAM_CHANGE, t=0, track=8, channel=1> in .data: None,cannot parse Program Change; ignored.\n",
      "midi.base.py: WARNING: Conversion error for <MidiEvent PROGRAM_CHANGE, t=0, track=9, channel=1>: Got incorrect data for <MidiEvent PROGRAM_CHANGE, t=0, track=9, channel=1> in .data: None,cannot parse Program Change; ignored.\n",
      "midi.base.py: WARNING: Conversion error for <MidiEvent PROGRAM_CHANGE, t=0, track=11, channel=1>: Got incorrect data for <MidiEvent PROGRAM_CHANGE, t=0, track=11, channel=1> in .data: None,cannot parse Program Change; ignored.\n",
      "midi.base.py: WARNING: Conversion error for <MidiEvent PROGRAM_CHANGE, t=0, track=12, channel=1>: Got incorrect data for <MidiEvent PROGRAM_CHANGE, t=0, track=12, channel=1> in .data: None,cannot parse Program Change; ignored.\n",
      "midi.base.py: WARNING: Conversion error for <MidiEvent PROGRAM_CHANGE, t=0, track=13, channel=1>: Got incorrect data for <MidiEvent PROGRAM_CHANGE, t=0, track=13, channel=1> in .data: None,cannot parse Program Change; ignored.\n"
     ]
    },
    {
     "name": "stdout",
     "output_type": "stream",
     "text": [
      "badly formated midi string, got: \u0000\u0000\u0000\u0000\u0000\u0000\u0000\u0000 \u0000A�\u0000\u0000�\u0017\u0001\u0000\u0000\n"
     ]
    },
    {
     "name": "stderr",
     "output_type": "stream",
     "text": [
      "midi.base.py: WARNING: Conversion error for <MidiEvent PROGRAM_CHANGE, t=0, track=1, channel=1>: Got incorrect data for <MidiEvent PROGRAM_CHANGE, t=0, track=1, channel=1> in .data: None,cannot parse Program Change; ignored.\n",
      "midi.base.py: WARNING: Conversion error for <MidiEvent PROGRAM_CHANGE, t=0, track=1, channel=1>: Got incorrect data for <MidiEvent PROGRAM_CHANGE, t=0, track=1, channel=1> in .data: None,cannot parse Program Change; ignored.\n"
     ]
    },
    {
     "name": "stdout",
     "output_type": "stream",
     "text": [
      "badly formated midi string, got: \u0000\u0007Scherzo\u0000\u0000\u0000\u0000\u0000\u0000\u0000\u0000\u0000\u0000\u0000\n"
     ]
    },
    {
     "name": "stderr",
     "output_type": "stream",
     "text": [
      "midi.base.py: WARNING: Conversion error for <MidiEvent PROGRAM_CHANGE, t=0, track=3, channel=2>: Got incorrect data for <MidiEvent PROGRAM_CHANGE, t=0, track=3, channel=2> in .data: None,cannot parse Program Change; ignored.\n",
      "midi.base.py: WARNING: Conversion error for <MidiEvent PROGRAM_CHANGE, t=0, track=4, channel=2>: Got incorrect data for <MidiEvent PROGRAM_CHANGE, t=0, track=4, channel=2> in .data: None,cannot parse Program Change; ignored.\n",
      "midi.base.py: WARNING: Conversion error for <MidiEvent PROGRAM_CHANGE, t=0, track=5, channel=2>: Got incorrect data for <MidiEvent PROGRAM_CHANGE, t=0, track=5, channel=2> in .data: None,cannot parse Program Change; ignored.\n",
      "midi.base.py: WARNING: Conversion error for <MidiEvent PROGRAM_CHANGE, t=0, track=6, channel=2>: Got incorrect data for <MidiEvent PROGRAM_CHANGE, t=0, track=6, channel=2> in .data: None,cannot parse Program Change; ignored.\n",
      "midi.base.py: WARNING: Conversion error for <MidiEvent PROGRAM_CHANGE, t=0, track=7, channel=2>: Got incorrect data for <MidiEvent PROGRAM_CHANGE, t=0, track=7, channel=2> in .data: None,cannot parse Program Change; ignored.\n",
      "midi.base.py: WARNING: Conversion error for <MidiEvent PROGRAM_CHANGE, t=0, track=8, channel=2>: Got incorrect data for <MidiEvent PROGRAM_CHANGE, t=0, track=8, channel=2> in .data: None,cannot parse Program Change; ignored.\n",
      "midi.base.py: WARNING: Conversion error for <MidiEvent PROGRAM_CHANGE, t=0, track=9, channel=2>: Got incorrect data for <MidiEvent PROGRAM_CHANGE, t=0, track=9, channel=2> in .data: None,cannot parse Program Change; ignored.\n",
      "midi.base.py: WARNING: Conversion error for <MidiEvent PROGRAM_CHANGE, t=0, track=10, channel=2>: Got incorrect data for <MidiEvent PROGRAM_CHANGE, t=0, track=10, channel=2> in .data: None,cannot parse Program Change; ignored.\n"
     ]
    },
    {
     "name": "stdout",
     "output_type": "stream",
     "text": [
      "string index out of range\n"
     ]
    },
    {
     "name": "stderr",
     "output_type": "stream",
     "text": [
      "midi.base.py: WARNING: Conversion error for <MidiEvent PROGRAM_CHANGE, t=0, track=1, channel=1>: Got incorrect data for <MidiEvent PROGRAM_CHANGE, t=0, track=1, channel=1> in .data: None,cannot parse Program Change; ignored.\n",
      "midi.base.py: WARNING: Conversion error for <MidiEvent PROGRAM_CHANGE, t=0, track=1, channel=1>: Got incorrect data for <MidiEvent PROGRAM_CHANGE, t=0, track=1, channel=1> in .data: None,cannot parse Program Change; ignored.\n",
      "midi.base.py: WARNING: Conversion error for <MidiEvent PROGRAM_CHANGE, t=0, track=1, channel=1>: Got incorrect data for <MidiEvent PROGRAM_CHANGE, t=0, track=1, channel=1> in .data: None,cannot parse Program Change; ignored.\n",
      "midi.base.py: WARNING: Conversion error for <MidiEvent PROGRAM_CHANGE, t=0, track=2, channel=1>: Got incorrect data for <MidiEvent PROGRAM_CHANGE, t=0, track=2, channel=1> in .data: None,cannot parse Program Change; ignored.\n",
      "midi.base.py: WARNING: Conversion error for <MidiEvent PROGRAM_CHANGE, t=0, track=5, channel=1>: Got incorrect data for <MidiEvent PROGRAM_CHANGE, t=0, track=5, channel=1> in .data: None,cannot parse Program Change; ignored.\n",
      "midi.base.py: WARNING: Conversion error for <MidiEvent PROGRAM_CHANGE, t=0, track=6, channel=1>: Got incorrect data for <MidiEvent PROGRAM_CHANGE, t=0, track=6, channel=1> in .data: None,cannot parse Program Change; ignored.\n",
      "midi.base.py: WARNING: Conversion error for <MidiEvent PROGRAM_CHANGE, t=0, track=7, channel=1>: Got incorrect data for <MidiEvent PROGRAM_CHANGE, t=0, track=7, channel=1> in .data: None,cannot parse Program Change; ignored.\n"
     ]
    },
    {
     "name": "stdout",
     "output_type": "stream",
     "text": [
      "badly formed midi string: missing leading MTrk\n",
      "list index out of range\n"
     ]
    },
    {
     "name": "stderr",
     "output_type": "stream",
     "text": [
      "midi.base.py: WARNING: Conversion error for <MidiEvent PROGRAM_CHANGE, t=0, track=2, channel=2>: Got incorrect data for <MidiEvent PROGRAM_CHANGE, t=0, track=2, channel=2> in .data: None,cannot parse Program Change; ignored.\n",
      "midi.base.py: WARNING: Conversion error for <MidiEvent PROGRAM_CHANGE, t=0, track=3, channel=2>: Got incorrect data for <MidiEvent PROGRAM_CHANGE, t=0, track=3, channel=2> in .data: None,cannot parse Program Change; ignored.\n",
      "midi.base.py: WARNING: Conversion error for <MidiEvent PROGRAM_CHANGE, t=0, track=7, channel=2>: Got incorrect data for <MidiEvent PROGRAM_CHANGE, t=0, track=7, channel=2> in .data: None,cannot parse Program Change; ignored.\n",
      "midi.base.py: WARNING: Conversion error for <MidiEvent PROGRAM_CHANGE, t=0, track=8, channel=2>: Got incorrect data for <MidiEvent PROGRAM_CHANGE, t=0, track=8, channel=2> in .data: None,cannot parse Program Change; ignored.\n",
      "midi.base.py: WARNING: Conversion error for <MidiEvent PROGRAM_CHANGE, t=0, track=1, channel=1>: Got incorrect data for <MidiEvent PROGRAM_CHANGE, t=0, track=1, channel=1> in .data: None,cannot parse Program Change; ignored.\n",
      "midi.base.py: WARNING: Conversion error for <MidiEvent PROGRAM_CHANGE, t=0, track=3, channel=1>: Got incorrect data for <MidiEvent PROGRAM_CHANGE, t=0, track=3, channel=1> in .data: None,cannot parse Program Change; ignored.\n",
      "midi.base.py: WARNING: Conversion error for <MidiEvent PROGRAM_CHANGE, t=0, track=4, channel=1>: Got incorrect data for <MidiEvent PROGRAM_CHANGE, t=0, track=4, channel=1> in .data: None,cannot parse Program Change; ignored.\n",
      "midi.base.py: WARNING: Conversion error for <MidiEvent PROGRAM_CHANGE, t=0, track=6, channel=1>: Got incorrect data for <MidiEvent PROGRAM_CHANGE, t=0, track=6, channel=1> in .data: None,cannot parse Program Change; ignored.\n",
      "midi.base.py: WARNING: Conversion error for <MidiEvent PROGRAM_CHANGE, t=0, track=7, channel=1>: Got incorrect data for <MidiEvent PROGRAM_CHANGE, t=0, track=7, channel=1> in .data: None,cannot parse Program Change; ignored.\n",
      "midi.base.py: WARNING: Conversion error for <MidiEvent PROGRAM_CHANGE, t=0, track=11, channel=1>: Got incorrect data for <MidiEvent PROGRAM_CHANGE, t=0, track=11, channel=1> in .data: None,cannot parse Program Change; ignored.\n",
      "midi.base.py: WARNING: Conversion error for <MidiEvent PROGRAM_CHANGE, t=0, track=13, channel=1>: Got incorrect data for <MidiEvent PROGRAM_CHANGE, t=0, track=13, channel=1> in .data: None,cannot parse Program Change; ignored.\n",
      "midi.base.py: WARNING: Conversion error for <MidiEvent PROGRAM_CHANGE, t=0, track=14, channel=1>: Got incorrect data for <MidiEvent PROGRAM_CHANGE, t=0, track=14, channel=1> in .data: None,cannot parse Program Change; ignored.\n"
     ]
    },
    {
     "name": "stdout",
     "output_type": "stream",
     "text": [
      "badly formated midi string, got: RIFFP\u0003\u0000\u0000RMIDdataC\u0003\u0000\u0000\n"
     ]
    },
    {
     "name": "stderr",
     "output_type": "stream",
     "text": [
      "midi.base.py: WARNING: Conversion error for <MidiEvent PROGRAM_CHANGE, t=0, track=1, channel=2>: Got incorrect data for <MidiEvent PROGRAM_CHANGE, t=0, track=1, channel=2> in .data: None,cannot parse Program Change; ignored.\n",
      "midi.base.py: WARNING: Conversion error for <MidiEvent PROGRAM_CHANGE, t=0, track=1, channel=1>: Got incorrect data for <MidiEvent PROGRAM_CHANGE, t=0, track=1, channel=1> in .data: None,cannot parse Program Change; ignored.\n",
      "midi.base.py: WARNING: Conversion error for <MidiEvent PROGRAM_CHANGE, t=0, track=1, channel=1>: Got incorrect data for <MidiEvent PROGRAM_CHANGE, t=0, track=1, channel=1> in .data: None,cannot parse Program Change; ignored.\n",
      "midi.base.py: WARNING: Conversion error for <MidiEvent PROGRAM_CHANGE, t=0, track=1, channel=1>: Got incorrect data for <MidiEvent PROGRAM_CHANGE, t=0, track=1, channel=1> in .data: None,cannot parse Program Change; ignored.\n",
      "midi.base.py: WARNING: Conversion error for <MidiEvent PROGRAM_CHANGE, t=0, track=2, channel=1>: Got incorrect data for <MidiEvent PROGRAM_CHANGE, t=0, track=2, channel=1> in .data: None,cannot parse Program Change; ignored.\n",
      "midi.base.py: WARNING: Conversion error for <MidiEvent PROGRAM_CHANGE, t=0, track=6, channel=1>: Got incorrect data for <MidiEvent PROGRAM_CHANGE, t=0, track=6, channel=1> in .data: None,cannot parse Program Change; ignored.\n",
      "midi.base.py: WARNING: Conversion error for <MidiEvent PROGRAM_CHANGE, t=0, track=6, channel=1>: Got incorrect data for <MidiEvent PROGRAM_CHANGE, t=0, track=6, channel=1> in .data: None,cannot parse Program Change; ignored.\n",
      "midi.base.py: WARNING: Conversion error for <MidiEvent PROGRAM_CHANGE, t=0, track=6, channel=1>: Got incorrect data for <MidiEvent PROGRAM_CHANGE, t=0, track=6, channel=1> in .data: None,cannot parse Program Change; ignored.\n",
      "midi.base.py: WARNING: Conversion error for <MidiEvent PROGRAM_CHANGE, t=0, track=6, channel=1>: Got incorrect data for <MidiEvent PROGRAM_CHANGE, t=0, track=6, channel=1> in .data: None,cannot parse Program Change; ignored.\n",
      "midi.base.py: WARNING: Conversion error for <MidiEvent PROGRAM_CHANGE, t=0, track=6, channel=1>: Got incorrect data for <MidiEvent PROGRAM_CHANGE, t=0, track=6, channel=1> in .data: None,cannot parse Program Change; ignored.\n",
      "midi.base.py: WARNING: Conversion error for <MidiEvent PROGRAM_CHANGE, t=0, track=6, channel=1>: Got incorrect data for <MidiEvent PROGRAM_CHANGE, t=0, track=6, channel=1> in .data: None,cannot parse Program Change; ignored.\n",
      "midi.base.py: WARNING: Conversion error for <MidiEvent PROGRAM_CHANGE, t=0, track=6, channel=1>: Got incorrect data for <MidiEvent PROGRAM_CHANGE, t=0, track=6, channel=1> in .data: None,cannot parse Program Change; ignored.\n",
      "midi.base.py: WARNING: Conversion error for <MidiEvent PROGRAM_CHANGE, t=0, track=6, channel=1>: Got incorrect data for <MidiEvent PROGRAM_CHANGE, t=0, track=6, channel=1> in .data: None,cannot parse Program Change; ignored.\n",
      "midi.base.py: WARNING: Conversion error for <MidiEvent PROGRAM_CHANGE, t=0, track=6, channel=1>: Got incorrect data for <MidiEvent PROGRAM_CHANGE, t=0, track=6, channel=1> in .data: None,cannot parse Program Change; ignored.\n",
      "midi.base.py: WARNING: Conversion error for <MidiEvent PROGRAM_CHANGE, t=0, track=6, channel=1>: Got incorrect data for <MidiEvent PROGRAM_CHANGE, t=0, track=6, channel=1> in .data: None,cannot parse Program Change; ignored.\n",
      "midi.base.py: WARNING: Conversion error for <MidiEvent PROGRAM_CHANGE, t=0, track=6, channel=1>: Got incorrect data for <MidiEvent PROGRAM_CHANGE, t=0, track=6, channel=1> in .data: None,cannot parse Program Change; ignored.\n",
      "midi.base.py: WARNING: Conversion error for <MidiEvent PROGRAM_CHANGE, t=0, track=6, channel=1>: Got incorrect data for <MidiEvent PROGRAM_CHANGE, t=0, track=6, channel=1> in .data: None,cannot parse Program Change; ignored.\n",
      "midi.base.py: WARNING: Conversion error for <MidiEvent PROGRAM_CHANGE, t=0, track=6, channel=1>: Got incorrect data for <MidiEvent PROGRAM_CHANGE, t=0, track=6, channel=1> in .data: None,cannot parse Program Change; ignored.\n",
      "midi.base.py: WARNING: Conversion error for <MidiEvent PROGRAM_CHANGE, t=0, track=7, channel=1>: Got incorrect data for <MidiEvent PROGRAM_CHANGE, t=0, track=7, channel=1> in .data: None,cannot parse Program Change; ignored.\n",
      "midi.base.py: WARNING: Conversion error for <MidiEvent PROGRAM_CHANGE, t=0, track=7, channel=1>: Got incorrect data for <MidiEvent PROGRAM_CHANGE, t=0, track=7, channel=1> in .data: None,cannot parse Program Change; ignored.\n",
      "midi.base.py: WARNING: Conversion error for <MidiEvent PROGRAM_CHANGE, t=0, track=7, channel=1>: Got incorrect data for <MidiEvent PROGRAM_CHANGE, t=0, track=7, channel=1> in .data: None,cannot parse Program Change; ignored.\n",
      "midi.base.py: WARNING: Conversion error for <MidiEvent PROGRAM_CHANGE, t=0, track=7, channel=1>: Got incorrect data for <MidiEvent PROGRAM_CHANGE, t=0, track=7, channel=1> in .data: None,cannot parse Program Change; ignored.\n",
      "midi.base.py: WARNING: Conversion error for <MidiEvent PROGRAM_CHANGE, t=0, track=8, channel=1>: Got incorrect data for <MidiEvent PROGRAM_CHANGE, t=0, track=8, channel=1> in .data: None,cannot parse Program Change; ignored.\n",
      "midi.base.py: WARNING: Conversion error for <MidiEvent PROGRAM_CHANGE, t=0, track=8, channel=1>: Got incorrect data for <MidiEvent PROGRAM_CHANGE, t=0, track=8, channel=1> in .data: None,cannot parse Program Change; ignored.\n",
      "midi.base.py: WARNING: Conversion error for <MidiEvent PROGRAM_CHANGE, t=0, track=8, channel=1>: Got incorrect data for <MidiEvent PROGRAM_CHANGE, t=0, track=8, channel=1> in .data: None,cannot parse Program Change; ignored.\n",
      "midi.base.py: WARNING: Conversion error for <MidiEvent PROGRAM_CHANGE, t=0, track=8, channel=1>: Got incorrect data for <MidiEvent PROGRAM_CHANGE, t=0, track=8, channel=1> in .data: None,cannot parse Program Change; ignored.\n",
      "midi.base.py: WARNING: Conversion error for <MidiEvent PROGRAM_CHANGE, t=0, track=9, channel=1>: Got incorrect data for <MidiEvent PROGRAM_CHANGE, t=0, track=9, channel=1> in .data: None,cannot parse Program Change; ignored.\n",
      "midi.base.py: WARNING: Conversion error for <MidiEvent PROGRAM_CHANGE, t=0, track=9, channel=1>: Got incorrect data for <MidiEvent PROGRAM_CHANGE, t=0, track=9, channel=1> in .data: None,cannot parse Program Change; ignored.\n",
      "midi.base.py: WARNING: Conversion error for <MidiEvent PROGRAM_CHANGE, t=0, track=9, channel=1>: Got incorrect data for <MidiEvent PROGRAM_CHANGE, t=0, track=9, channel=1> in .data: None,cannot parse Program Change; ignored.\n",
      "midi.base.py: WARNING: Conversion error for <MidiEvent PROGRAM_CHANGE, t=0, track=9, channel=1>: Got incorrect data for <MidiEvent PROGRAM_CHANGE, t=0, track=9, channel=1> in .data: None,cannot parse Program Change; ignored.\n",
      "midi.base.py: WARNING: Conversion error for <MidiEvent PROGRAM_CHANGE, t=0, track=10, channel=1>: Got incorrect data for <MidiEvent PROGRAM_CHANGE, t=0, track=10, channel=1> in .data: None,cannot parse Program Change; ignored.\n",
      "midi.base.py: WARNING: Conversion error for <MidiEvent PROGRAM_CHANGE, t=0, track=10, channel=1>: Got incorrect data for <MidiEvent PROGRAM_CHANGE, t=0, track=10, channel=1> in .data: None,cannot parse Program Change; ignored.\n",
      "midi.base.py: WARNING: Conversion error for <MidiEvent PROGRAM_CHANGE, t=0, track=10, channel=1>: Got incorrect data for <MidiEvent PROGRAM_CHANGE, t=0, track=10, channel=1> in .data: None,cannot parse Program Change; ignored.\n",
      "midi.base.py: WARNING: Conversion error for <MidiEvent PROGRAM_CHANGE, t=0, track=10, channel=1>: Got incorrect data for <MidiEvent PROGRAM_CHANGE, t=0, track=10, channel=1> in .data: None,cannot parse Program Change; ignored.\n",
      "midi.base.py: WARNING: Conversion error for <MidiEvent PROGRAM_CHANGE, t=0, track=10, channel=1>: Got incorrect data for <MidiEvent PROGRAM_CHANGE, t=0, track=10, channel=1> in .data: None,cannot parse Program Change; ignored.\n",
      "midi.base.py: WARNING: Conversion error for <MidiEvent PROGRAM_CHANGE, t=0, track=10, channel=1>: Got incorrect data for <MidiEvent PROGRAM_CHANGE, t=0, track=10, channel=1> in .data: None,cannot parse Program Change; ignored.\n",
      "midi.base.py: WARNING: Conversion error for <MidiEvent PROGRAM_CHANGE, t=0, track=10, channel=1>: Got incorrect data for <MidiEvent PROGRAM_CHANGE, t=0, track=10, channel=1> in .data: None,cannot parse Program Change; ignored.\n"
     ]
    },
    {
     "name": "stderr",
     "output_type": "stream",
     "text": [
      "midi.base.py: WARNING: Conversion error for <MidiEvent PROGRAM_CHANGE, t=0, track=10, channel=1>: Got incorrect data for <MidiEvent PROGRAM_CHANGE, t=0, track=10, channel=1> in .data: None,cannot parse Program Change; ignored.\n",
      "midi.base.py: WARNING: Conversion error for <MidiEvent PROGRAM_CHANGE, t=0, track=12, channel=1>: Got incorrect data for <MidiEvent PROGRAM_CHANGE, t=0, track=12, channel=1> in .data: None,cannot parse Program Change; ignored.\n",
      "midi.base.py: WARNING: Conversion error for <MidiEvent PROGRAM_CHANGE, t=0, track=13, channel=1>: Got incorrect data for <MidiEvent PROGRAM_CHANGE, t=0, track=13, channel=1> in .data: None,cannot parse Program Change; ignored.\n",
      "midi.base.py: WARNING: Conversion error for <MidiEvent PROGRAM_CHANGE, t=0, track=13, channel=1>: Got incorrect data for <MidiEvent PROGRAM_CHANGE, t=0, track=13, channel=1> in .data: None,cannot parse Program Change; ignored.\n"
     ]
    },
    {
     "name": "stdout",
     "output_type": "stream",
     "text": [
      "badly formated midi string, got: <Asx Version = \"3.0\"\n",
      "badly formed midi string: missing leading MTrk\n",
      "badly formated midi string, got: vti_encoding:SR|utf8\n",
      "chr() arg not in range(256)\n",
      "badly formated midi string, got: <HTML>\n",
      "\n",
      "<!--COLOR-\n"
     ]
    },
    {
     "name": "stderr",
     "output_type": "stream",
     "text": [
      "midi.base.py: WARNING: Conversion error for <MidiEvent PROGRAM_CHANGE, t=0, track=3, channel=3>: Got incorrect data for <MidiEvent PROGRAM_CHANGE, t=0, track=3, channel=3> in .data: None,cannot parse Program Change; ignored.\n",
      "midi.base.py: WARNING: Conversion error for <MidiEvent PROGRAM_CHANGE, t=0, track=4, channel=3>: Got incorrect data for <MidiEvent PROGRAM_CHANGE, t=0, track=4, channel=3> in .data: None,cannot parse Program Change; ignored.\n",
      "midi.base.py: WARNING: Conversion error for <MidiEvent PROGRAM_CHANGE, t=0, track=9, channel=3>: Got incorrect data for <MidiEvent PROGRAM_CHANGE, t=0, track=9, channel=3> in .data: None,cannot parse Program Change; ignored.\n",
      "midi.base.py: WARNING: Conversion error for <MidiEvent PROGRAM_CHANGE, t=0, track=3, channel=3>: Got incorrect data for <MidiEvent PROGRAM_CHANGE, t=0, track=3, channel=3> in .data: None,cannot parse Program Change; ignored.\n",
      "midi.base.py: WARNING: Conversion error for <MidiEvent PROGRAM_CHANGE, t=0, track=4, channel=3>: Got incorrect data for <MidiEvent PROGRAM_CHANGE, t=0, track=4, channel=3> in .data: None,cannot parse Program Change; ignored.\n",
      "midi.base.py: WARNING: Conversion error for <MidiEvent PROGRAM_CHANGE, t=0, track=5, channel=3>: Got incorrect data for <MidiEvent PROGRAM_CHANGE, t=0, track=5, channel=3> in .data: None,cannot parse Program Change; ignored.\n",
      "midi.base.py: WARNING: Conversion error for <MidiEvent PROGRAM_CHANGE, t=0, track=1, channel=1>: Got incorrect data for <MidiEvent PROGRAM_CHANGE, t=0, track=1, channel=1> in .data: None,cannot parse Program Change; ignored.\n",
      "midi.base.py: WARNING: Conversion error for <MidiEvent PROGRAM_CHANGE, t=0, track=1, channel=1>: Got incorrect data for <MidiEvent PROGRAM_CHANGE, t=0, track=1, channel=1> in .data: None,cannot parse Program Change; ignored.\n",
      "midi.base.py: WARNING: Conversion error for <MidiEvent PROGRAM_CHANGE, t=0, track=1, channel=1>: Got incorrect data for <MidiEvent PROGRAM_CHANGE, t=0, track=1, channel=1> in .data: None,cannot parse Program Change; ignored.\n",
      "midi.base.py: WARNING: Conversion error for <MidiEvent PROGRAM_CHANGE, t=0, track=1, channel=1>: Got incorrect data for <MidiEvent PROGRAM_CHANGE, t=0, track=1, channel=1> in .data: None,cannot parse Program Change; ignored.\n"
     ]
    },
    {
     "name": "stdout",
     "output_type": "stream",
     "text": [
      "badly formated midi string, got: \u0000\u0000\u0001\u0000\u0000\u0000\u0001\u0000\u0000\u0000\u0000\u0000\u0000\u0000\u0000\u001e",
      "\u0000\u0000\u0000\u0000\n"
     ]
    },
    {
     "name": "stderr",
     "output_type": "stream",
     "text": [
      "midi.base.py: WARNING: Conversion error for <MidiEvent PROGRAM_CHANGE, t=0, track=1, channel=1>: Got incorrect data for <MidiEvent PROGRAM_CHANGE, t=0, track=1, channel=1> in .data: None,cannot parse Program Change; ignored.\n",
      "midi.base.py: WARNING: Conversion error for <MidiEvent PROGRAM_CHANGE, t=0, track=3, channel=1>: Got incorrect data for <MidiEvent PROGRAM_CHANGE, t=0, track=3, channel=1> in .data: None,cannot parse Program Change; ignored.\n",
      "midi.base.py: WARNING: Conversion error for <MidiEvent PROGRAM_CHANGE, t=0, track=1, channel=3>: Got incorrect data for <MidiEvent PROGRAM_CHANGE, t=0, track=1, channel=3> in .data: None,cannot parse Program Change; ignored.\n",
      "midi.base.py: WARNING: Conversion error for <MidiEvent PROGRAM_CHANGE, t=0, track=1, channel=3>: Got incorrect data for <MidiEvent PROGRAM_CHANGE, t=0, track=1, channel=3> in .data: None,cannot parse Program Change; ignored.\n"
     ]
    },
    {
     "name": "stdout",
     "output_type": "stream",
     "text": [
      "badly formed midi string: missing leading MTrk\n",
      "badly formated midi string, got: s\n",
      "�\u0000\u0000\u0000��\u0007���\u000f��\u0010�G\u0004[\n",
      "chr() arg not in range(256)\n"
     ]
    },
    {
     "name": "stderr",
     "output_type": "stream",
     "text": [
      "midi.base.py: WARNING: Conversion error for <MidiEvent PROGRAM_CHANGE, t=0, track=1, channel=1>: Got incorrect data for <MidiEvent PROGRAM_CHANGE, t=0, track=1, channel=1> in .data: None,cannot parse Program Change; ignored.\n",
      "midi.base.py: WARNING: Conversion error for <MidiEvent PROGRAM_CHANGE, t=0, track=1, channel=1>: Got incorrect data for <MidiEvent PROGRAM_CHANGE, t=0, track=1, channel=1> in .data: None,cannot parse Program Change; ignored.\n"
     ]
    },
    {
     "name": "stdout",
     "output_type": "stream",
     "text": [
      "\n",
      "\n",
      "badly formated midi string, got: RIFF\u000em\u0000\u0000RMIDdata�i\u0000\u0000\n",
      "\n",
      "badly formated midi string, got: RIFF�3\u0015\u0000WAVEfmt \u001e",
      "\u0000\u0000\u0000\n",
      "badly formated midi string, got: RIFF2�\u0000\u0000RMIDdataê\u0000\u0000\n"
     ]
    },
    {
     "name": "stderr",
     "output_type": "stream",
     "text": [
      "midi.base.py: WARNING: Conversion error for <MidiEvent PROGRAM_CHANGE, t=0, track=1, channel=1>: Got incorrect data for <MidiEvent PROGRAM_CHANGE, t=0, track=1, channel=1> in .data: None,cannot parse Program Change; ignored.\n",
      "midi.base.py: WARNING: Conversion error for <MidiEvent PROGRAM_CHANGE, t=0, track=3, channel=1>: Got incorrect data for <MidiEvent PROGRAM_CHANGE, t=0, track=3, channel=1> in .data: None,cannot parse Program Change; ignored.\n",
      "midi.base.py: WARNING: Conversion error for <MidiEvent PROGRAM_CHANGE, t=0, track=4, channel=1>: Got incorrect data for <MidiEvent PROGRAM_CHANGE, t=0, track=4, channel=1> in .data: None,cannot parse Program Change; ignored.\n",
      "midi.base.py: WARNING: Conversion error for <MidiEvent PROGRAM_CHANGE, t=0, track=5, channel=1>: Got incorrect data for <MidiEvent PROGRAM_CHANGE, t=0, track=5, channel=1> in .data: None,cannot parse Program Change; ignored.\n",
      "midi.base.py: WARNING: Conversion error for <MidiEvent PROGRAM_CHANGE, t=0, track=6, channel=1>: Got incorrect data for <MidiEvent PROGRAM_CHANGE, t=0, track=6, channel=1> in .data: None,cannot parse Program Change; ignored.\n"
     ]
    },
    {
     "name": "stdout",
     "output_type": "stream",
     "text": [
      "\u0000\u0000\u0000\u0000\u0000\u0000\u0000ormated midi string, got: Rar!\u001a\u0007\u0000ϐs\u0000\u0000\n",
      "badly formed midi string: missing leading MTrk\n",
      "\n",
      "badly formated midi string, got: ��0�\u0000\u0019\u0001Q}�Lx\u0002��6�p\u0001�\n",
      "badly formated midi string, got: http://downloads11.m\n"
     ]
    },
    {
     "name": "stderr",
     "output_type": "stream",
     "text": [
      "midi.base.py: WARNING: Conversion error for <MidiEvent PROGRAM_CHANGE, t=0, track=1, channel=1>: Got incorrect data for <MidiEvent PROGRAM_CHANGE, t=0, track=1, channel=1> in .data: None,cannot parse Program Change; ignored.\n",
      "midi.base.py: WARNING: Conversion error for <MidiEvent PROGRAM_CHANGE, t=0, track=2, channel=1>: Got incorrect data for <MidiEvent PROGRAM_CHANGE, t=0, track=2, channel=1> in .data: None,cannot parse Program Change; ignored.\n",
      "midi.base.py: WARNING: Conversion error for <MidiEvent PROGRAM_CHANGE, t=0, track=3, channel=1>: Got incorrect data for <MidiEvent PROGRAM_CHANGE, t=0, track=3, channel=1> in .data: None,cannot parse Program Change; ignored.\n",
      "midi.base.py: WARNING: Conversion error for <MidiEvent PROGRAM_CHANGE, t=0, track=4, channel=1>: Got incorrect data for <MidiEvent PROGRAM_CHANGE, t=0, track=4, channel=1> in .data: None,cannot parse Program Change; ignored.\n",
      "midi.base.py: WARNING: Conversion error for <MidiEvent PROGRAM_CHANGE, t=0, track=5, channel=1>: Got incorrect data for <MidiEvent PROGRAM_CHANGE, t=0, track=5, channel=1> in .data: None,cannot parse Program Change; ignored.\n",
      "midi.base.py: WARNING: Conversion error for <MidiEvent PROGRAM_CHANGE, t=0, track=7, channel=1>: Got incorrect data for <MidiEvent PROGRAM_CHANGE, t=0, track=7, channel=1> in .data: None,cannot parse Program Change; ignored.\n",
      "midi.base.py: WARNING: Conversion error for <MidiEvent PROGRAM_CHANGE, t=0, track=8, channel=1>: Got incorrect data for <MidiEvent PROGRAM_CHANGE, t=0, track=8, channel=1> in .data: None,cannot parse Program Change; ignored.\n",
      "midi.base.py: WARNING: Conversion error for <MidiEvent PROGRAM_CHANGE, t=0, track=9, channel=1>: Got incorrect data for <MidiEvent PROGRAM_CHANGE, t=0, track=9, channel=1> in .data: None,cannot parse Program Change; ignored.\n",
      "midi.base.py: WARNING: Conversion error for <MidiEvent PROGRAM_CHANGE, t=0, track=10, channel=1>: Got incorrect data for <MidiEvent PROGRAM_CHANGE, t=0, track=10, channel=1> in .data: None,cannot parse Program Change; ignored.\n",
      "midi.base.py: WARNING: Conversion error for <MidiEvent PROGRAM_CHANGE, t=0, track=11, channel=1>: Got incorrect data for <MidiEvent PROGRAM_CHANGE, t=0, track=11, channel=1> in .data: None,cannot parse Program Change; ignored.\n",
      "midi.base.py: WARNING: Conversion error for <MidiEvent PROGRAM_CHANGE, t=0, track=12, channel=1>: Got incorrect data for <MidiEvent PROGRAM_CHANGE, t=0, track=12, channel=1> in .data: None,cannot parse Program Change; ignored.\n",
      "midi.base.py: WARNING: Conversion error for <MidiEvent PROGRAM_CHANGE, t=0, track=13, channel=1>: Got incorrect data for <MidiEvent PROGRAM_CHANGE, t=0, track=13, channel=1> in .data: None,cannot parse Program Change; ignored.\n"
     ]
    },
    {
     "name": "stdout",
     "output_type": "stream",
     "text": [
      "string index out of range\n",
      "badly formed midi string: missing leading MTrk\n",
      "badly formed midi string: missing leading MTrk\n",
      "badly formated midi string, got: \u0000\u0010CompWithBlue.mid\u0000\u0000\n",
      "badly formated midi string, got: \u0000\u0000wide\u0000\u0000��mdat`\u0002\u0000\u0000\n"
     ]
    },
    {
     "name": "stderr",
     "output_type": "stream",
     "text": [
      "midi.base.py: WARNING: Conversion error for <MidiEvent PROGRAM_CHANGE, t=0, track=2, channel=2>: Got incorrect data for <MidiEvent PROGRAM_CHANGE, t=0, track=2, channel=2> in .data: None,cannot parse Program Change; ignored.\n",
      "midi.base.py: WARNING: Conversion error for <MidiEvent PROGRAM_CHANGE, t=0, track=5, channel=2>: Got incorrect data for <MidiEvent PROGRAM_CHANGE, t=0, track=5, channel=2> in .data: None,cannot parse Program Change; ignored.\n",
      "midi.base.py: WARNING: Conversion error for <MidiEvent PROGRAM_CHANGE, t=0, track=1, channel=1>: Got incorrect data for <MidiEvent PROGRAM_CHANGE, t=0, track=1, channel=1> in .data: None,cannot parse Program Change; ignored.\n",
      "midi.base.py: WARNING: Conversion error for <MidiEvent PROGRAM_CHANGE, t=0, track=1, channel=1>: Got incorrect data for <MidiEvent PROGRAM_CHANGE, t=0, track=1, channel=1> in .data: None,cannot parse Program Change; ignored.\n",
      "midi.base.py: WARNING: Conversion error for <MidiEvent PROGRAM_CHANGE, t=0, track=5, channel=1>: Got incorrect data for <MidiEvent PROGRAM_CHANGE, t=0, track=5, channel=1> in .data: None,cannot parse Program Change; ignored.\n",
      "midi.base.py: WARNING: Conversion error for <MidiEvent PROGRAM_CHANGE, t=0, track=7, channel=1>: Got incorrect data for <MidiEvent PROGRAM_CHANGE, t=0, track=7, channel=1> in .data: None,cannot parse Program Change; ignored.\n",
      "midi.base.py: WARNING: Conversion error for <MidiEvent PROGRAM_CHANGE, t=0, track=1, channel=1>: Got incorrect data for <MidiEvent PROGRAM_CHANGE, t=0, track=1, channel=1> in .data: None,cannot parse Program Change; ignored.\n",
      "midi.base.py: WARNING: Conversion error for <MidiEvent PROGRAM_CHANGE, t=0, track=1, channel=1>: Got incorrect data for <MidiEvent PROGRAM_CHANGE, t=0, track=1, channel=1> in .data: None,cannot parse Program Change; ignored.\n",
      "midi.base.py: WARNING: Conversion error for <MidiEvent PROGRAM_CHANGE, t=0, track=1, channel=1>: Got incorrect data for <MidiEvent PROGRAM_CHANGE, t=0, track=1, channel=1> in .data: None,cannot parse Program Change; ignored.\n",
      "midi.base.py: WARNING: Conversion error for <MidiEvent PROGRAM_CHANGE, t=0, track=1, channel=1>: Got incorrect data for <MidiEvent PROGRAM_CHANGE, t=0, track=1, channel=1> in .data: None,cannot parse Program Change; ignored.\n"
     ]
    },
    {
     "name": "stdout",
     "output_type": "stream",
     "text": [
      "string index out of range\n",
      "badly formated midi string, got: vti_encoding:SR|utf8\n"
     ]
    },
    {
     "name": "stderr",
     "output_type": "stream",
     "text": [
      "midi.base.py: WARNING: Conversion error for <MidiEvent PROGRAM_CHANGE, t=0, track=1, channel=1>: Got incorrect data for <MidiEvent PROGRAM_CHANGE, t=0, track=1, channel=1> in .data: None,cannot parse Program Change; ignored.\n",
      "midi.base.py: WARNING: Conversion error for <MidiEvent PROGRAM_CHANGE, t=0, track=2, channel=1>: Got incorrect data for <MidiEvent PROGRAM_CHANGE, t=0, track=2, channel=1> in .data: None,cannot parse Program Change; ignored.\n",
      "midi.base.py: WARNING: Conversion error for <MidiEvent PROGRAM_CHANGE, t=0, track=3, channel=1>: Got incorrect data for <MidiEvent PROGRAM_CHANGE, t=0, track=3, channel=1> in .data: None,cannot parse Program Change; ignored.\n",
      "midi.base.py: WARNING: Conversion error for <MidiEvent PROGRAM_CHANGE, t=0, track=4, channel=1>: Got incorrect data for <MidiEvent PROGRAM_CHANGE, t=0, track=4, channel=1> in .data: None,cannot parse Program Change; ignored.\n",
      "midi.base.py: WARNING: Conversion error for <MidiEvent PROGRAM_CHANGE, t=0, track=1, channel=1>: Got incorrect data for <MidiEvent PROGRAM_CHANGE, t=0, track=1, channel=1> in .data: None,cannot parse Program Change; ignored.\n"
     ]
    },
    {
     "name": "stdout",
     "output_type": "stream",
     "text": [
      "\n",
      "badly formed midi string: missing leading MTrk\n",
      "badly formated midi string, got: RIFF.4\u0001\u0000RMIDdata�3\u0001\u0000\n",
      "badly formed midi string: missing leading MTrk\n",
      "badly formed midi string: missing leading MTrk\n"
     ]
    },
    {
     "name": "stderr",
     "output_type": "stream",
     "text": [
      "midi.base.py: WARNING: Conversion error for <MidiEvent PROGRAM_CHANGE, t=0, track=1, channel=1>: Got incorrect data for <MidiEvent PROGRAM_CHANGE, t=0, track=1, channel=1> in .data: None,cannot parse Program Change; ignored.\n",
      "midi.base.py: WARNING: Conversion error for <MidiEvent PROGRAM_CHANGE, t=0, track=1, channel=1>: Got incorrect data for <MidiEvent PROGRAM_CHANGE, t=0, track=1, channel=1> in .data: None,cannot parse Program Change; ignored.\n",
      "midi.base.py: WARNING: Conversion error for <MidiEvent PROGRAM_CHANGE, t=0, track=1, channel=1>: Got incorrect data for <MidiEvent PROGRAM_CHANGE, t=0, track=1, channel=1> in .data: None,cannot parse Program Change; ignored.\n",
      "midi.base.py: WARNING: Conversion error for <MidiEvent PROGRAM_CHANGE, t=0, track=1, channel=1>: Got incorrect data for <MidiEvent PROGRAM_CHANGE, t=0, track=1, channel=1> in .data: None,cannot parse Program Change; ignored.\n"
     ]
    },
    {
     "name": "stdout",
     "output_type": "stream",
     "text": [
      "\n",
      "\n",
      "\n"
     ]
    },
    {
     "name": "stderr",
     "output_type": "stream",
     "text": [
      "midi.base.py: WARNING: Conversion error for <MidiEvent PROGRAM_CHANGE, t=0, track=1, channel=1>: Got incorrect data for <MidiEvent PROGRAM_CHANGE, t=0, track=1, channel=1> in .data: None,cannot parse Program Change; ignored.\n",
      "midi.base.py: WARNING: Conversion error for <MidiEvent PROGRAM_CHANGE, t=0, track=1, channel=1>: Got incorrect data for <MidiEvent PROGRAM_CHANGE, t=0, track=1, channel=1> in .data: None,cannot parse Program Change; ignored.\n"
     ]
    },
    {
     "name": "stdout",
     "output_type": "stream",
     "text": [
      "badly formed midi string: missing leading MTrk\n",
      "badly formated midi string, got: <!DOCTYPE HTML PUBLI\n"
     ]
    },
    {
     "name": "stderr",
     "output_type": "stream",
     "text": [
      "midi.base.py: WARNING: Conversion error for <MidiEvent PROGRAM_CHANGE, t=0, track=1, channel=1>: Got incorrect data for <MidiEvent PROGRAM_CHANGE, t=0, track=1, channel=1> in .data: None,cannot parse Program Change; ignored.\n",
      "midi.base.py: WARNING: Conversion error for <MidiEvent PROGRAM_CHANGE, t=0, track=2, channel=1>: Got incorrect data for <MidiEvent PROGRAM_CHANGE, t=0, track=2, channel=1> in .data: None,cannot parse Program Change; ignored.\n",
      "midi.base.py: WARNING: Conversion error for <MidiEvent PROGRAM_CHANGE, t=0, track=5, channel=1>: Got incorrect data for <MidiEvent PROGRAM_CHANGE, t=0, track=5, channel=1> in .data: None,cannot parse Program Change; ignored.\n"
     ]
    },
    {
     "name": "stdout",
     "output_type": "stream",
     "text": [
      "chr() arg not in range(256)\n",
      "badly formated midi string, got: RIFFv\u0007\u0000\u0000RMIDdata�\u0006\u0000\u0000\n"
     ]
    },
    {
     "name": "stderr",
     "output_type": "stream",
     "text": [
      "midi.base.py: WARNING: Conversion error for <MidiEvent PROGRAM_CHANGE, t=0, track=8, channel=2>: Got incorrect data for <MidiEvent PROGRAM_CHANGE, t=0, track=8, channel=2> in .data: None,cannot parse Program Change; ignored.\n",
      "midi.base.py: WARNING: Conversion error for <MidiEvent PROGRAM_CHANGE, t=0, track=9, channel=2>: Got incorrect data for <MidiEvent PROGRAM_CHANGE, t=0, track=9, channel=2> in .data: None,cannot parse Program Change; ignored.\n",
      "midi.base.py: WARNING: Conversion error for <MidiEvent PROGRAM_CHANGE, t=0, track=10, channel=2>: Got incorrect data for <MidiEvent PROGRAM_CHANGE, t=0, track=10, channel=2> in .data: None,cannot parse Program Change; ignored.\n",
      "midi.base.py: WARNING: Conversion error for <MidiEvent PROGRAM_CHANGE, t=0, track=12, channel=2>: Got incorrect data for <MidiEvent PROGRAM_CHANGE, t=0, track=12, channel=2> in .data: None,cannot parse Program Change; ignored.\n"
     ]
    },
    {
     "name": "stdout",
     "output_type": "stream",
     "text": [
      "badly formed midi string: missing leading MTrk\n",
      "badly formated midi string, got: <HTML>\n",
      "<!--Created \n"
     ]
    },
    {
     "name": "stderr",
     "output_type": "stream",
     "text": [
      "midi.base.py: WARNING: Conversion error for <MidiEvent PROGRAM_CHANGE, t=0, track=5, channel=4>: Got incorrect data for <MidiEvent PROGRAM_CHANGE, t=0, track=5, channel=4> in .data: None,cannot parse Program Change; ignored.\n",
      "midi.base.py: WARNING: Conversion error for <MidiEvent PROGRAM_CHANGE, t=0, track=6, channel=4>: Got incorrect data for <MidiEvent PROGRAM_CHANGE, t=0, track=6, channel=4> in .data: None,cannot parse Program Change; ignored.\n",
      "midi.base.py: WARNING: Conversion error for <MidiEvent PROGRAM_CHANGE, t=0, track=9, channel=4>: Got incorrect data for <MidiEvent PROGRAM_CHANGE, t=0, track=9, channel=4> in .data: None,cannot parse Program Change; ignored.\n",
      "midi.base.py: WARNING: Conversion error for <MidiEvent PROGRAM_CHANGE, t=0, track=10, channel=4>: Got incorrect data for <MidiEvent PROGRAM_CHANGE, t=0, track=10, channel=4> in .data: None,cannot parse Program Change; ignored.\n",
      "midi.base.py: WARNING: Conversion error for <MidiEvent PROGRAM_CHANGE, t=0, track=1, channel=1>: Got incorrect data for <MidiEvent PROGRAM_CHANGE, t=0, track=1, channel=1> in .data: None,cannot parse Program Change; ignored.\n",
      "midi.base.py: WARNING: Conversion error for <MidiEvent PROGRAM_CHANGE, t=0, track=2, channel=1>: Got incorrect data for <MidiEvent PROGRAM_CHANGE, t=0, track=2, channel=1> in .data: None,cannot parse Program Change; ignored.\n",
      "midi.base.py: WARNING: Conversion error for <MidiEvent PROGRAM_CHANGE, t=0, track=2, channel=1>: Got incorrect data for <MidiEvent PROGRAM_CHANGE, t=0, track=2, channel=1> in .data: None,cannot parse Program Change; ignored.\n",
      "midi.base.py: WARNING: Conversion error for <MidiEvent PROGRAM_CHANGE, t=0, track=4, channel=1>: Got incorrect data for <MidiEvent PROGRAM_CHANGE, t=0, track=4, channel=1> in .data: None,cannot parse Program Change; ignored.\n",
      "midi.base.py: WARNING: Conversion error for <MidiEvent PROGRAM_CHANGE, t=0, track=5, channel=1>: Got incorrect data for <MidiEvent PROGRAM_CHANGE, t=0, track=5, channel=1> in .data: None,cannot parse Program Change; ignored.\n",
      "midi.base.py: WARNING: Conversion error for <MidiEvent PROGRAM_CHANGE, t=0, track=6, channel=1>: Got incorrect data for <MidiEvent PROGRAM_CHANGE, t=0, track=6, channel=1> in .data: None,cannot parse Program Change; ignored.\n",
      "midi.base.py: WARNING: Conversion error for <MidiEvent PROGRAM_CHANGE, t=0, track=7, channel=1>: Got incorrect data for <MidiEvent PROGRAM_CHANGE, t=0, track=7, channel=1> in .data: None,cannot parse Program Change; ignored.\n",
      "midi.base.py: WARNING: Conversion error for <MidiEvent PROGRAM_CHANGE, t=0, track=1, channel=1>: Got incorrect data for <MidiEvent PROGRAM_CHANGE, t=0, track=1, channel=1> in .data: None,cannot parse Program Change; ignored.\n",
      "midi.base.py: WARNING: Conversion error for <MidiEvent PROGRAM_CHANGE, t=0, track=1, channel=1>: Got incorrect data for <MidiEvent PROGRAM_CHANGE, t=0, track=1, channel=1> in .data: None,cannot parse Program Change; ignored.\n",
      "midi.base.py: WARNING: Conversion error for <MidiEvent PROGRAM_CHANGE, t=0, track=1, channel=1>: Got incorrect data for <MidiEvent PROGRAM_CHANGE, t=0, track=1, channel=1> in .data: None,cannot parse Program Change; ignored.\n",
      "midi.base.py: WARNING: Conversion error for <MidiEvent PROGRAM_CHANGE, t=0, track=1, channel=1>: Got incorrect data for <MidiEvent PROGRAM_CHANGE, t=0, track=1, channel=1> in .data: None,cannot parse Program Change; ignored.\n",
      "midi.base.py: WARNING: Conversion error for <MidiEvent PROGRAM_CHANGE, t=0, track=3, channel=1>: Got incorrect data for <MidiEvent PROGRAM_CHANGE, t=0, track=3, channel=1> in .data: None,cannot parse Program Change; ignored.\n",
      "midi.base.py: WARNING: Conversion error for <MidiEvent PROGRAM_CHANGE, t=0, track=5, channel=1>: Got incorrect data for <MidiEvent PROGRAM_CHANGE, t=0, track=5, channel=1> in .data: None,cannot parse Program Change; ignored.\n",
      "midi.base.py: WARNING: Conversion error for <MidiEvent PROGRAM_CHANGE, t=0, track=7, channel=1>: Got incorrect data for <MidiEvent PROGRAM_CHANGE, t=0, track=7, channel=1> in .data: None,cannot parse Program Change; ignored.\n",
      "midi.base.py: WARNING: Conversion error for <MidiEvent PROGRAM_CHANGE, t=0, track=9, channel=1>: Got incorrect data for <MidiEvent PROGRAM_CHANGE, t=0, track=9, channel=1> in .data: None,cannot parse Program Change; ignored.\n",
      "midi.base.py: WARNING: Conversion error for <MidiEvent PROGRAM_CHANGE, t=0, track=11, channel=1>: Got incorrect data for <MidiEvent PROGRAM_CHANGE, t=0, track=11, channel=1> in .data: None,cannot parse Program Change; ignored.\n",
      "midi.base.py: WARNING: Conversion error for <MidiEvent PROGRAM_CHANGE, t=0, track=12, channel=1>: Got incorrect data for <MidiEvent PROGRAM_CHANGE, t=0, track=12, channel=1> in .data: None,cannot parse Program Change; ignored.\n",
      "midi.base.py: WARNING: Conversion error for <MidiEvent PROGRAM_CHANGE, t=0, track=14, channel=1>: Got incorrect data for <MidiEvent PROGRAM_CHANGE, t=0, track=14, channel=1> in .data: None,cannot parse Program Change; ignored.\n"
     ]
    },
    {
     "name": "stdout",
     "output_type": "stream",
     "text": [
      "chr() arg not in range(256)\n"
     ]
    },
    {
     "name": "stderr",
     "output_type": "stream",
     "text": [
      "midi.base.py: WARNING: Conversion error for <MidiEvent PROGRAM_CHANGE, t=0, track=1, channel=1>: Got incorrect data for <MidiEvent PROGRAM_CHANGE, t=0, track=1, channel=1> in .data: None,cannot parse Program Change; ignored.\n",
      "midi.base.py: WARNING: Conversion error for <MidiEvent PROGRAM_CHANGE, t=0, track=3, channel=1>: Got incorrect data for <MidiEvent PROGRAM_CHANGE, t=0, track=3, channel=1> in .data: None,cannot parse Program Change; ignored.\n",
      "midi.base.py: WARNING: Conversion error for <MidiEvent PROGRAM_CHANGE, t=0, track=5, channel=1>: Got incorrect data for <MidiEvent PROGRAM_CHANGE, t=0, track=5, channel=1> in .data: None,cannot parse Program Change; ignored.\n",
      "midi.base.py: WARNING: Conversion error for <MidiEvent PROGRAM_CHANGE, t=0, track=6, channel=1>: Got incorrect data for <MidiEvent PROGRAM_CHANGE, t=0, track=6, channel=1> in .data: None,cannot parse Program Change; ignored.\n",
      "midi.base.py: WARNING: Conversion error for <MidiEvent PROGRAM_CHANGE, t=0, track=7, channel=1>: Got incorrect data for <MidiEvent PROGRAM_CHANGE, t=0, track=7, channel=1> in .data: None,cannot parse Program Change; ignored.\n",
      "midi.base.py: WARNING: Conversion error for <MidiEvent PROGRAM_CHANGE, t=0, track=8, channel=1>: Got incorrect data for <MidiEvent PROGRAM_CHANGE, t=0, track=8, channel=1> in .data: None,cannot parse Program Change; ignored.\n",
      "midi.base.py: WARNING: Conversion error for <MidiEvent PROGRAM_CHANGE, t=0, track=3, channel=3>: Got incorrect data for <MidiEvent PROGRAM_CHANGE, t=0, track=3, channel=3> in .data: None,cannot parse Program Change; ignored.\n",
      "midi.base.py: WARNING: Conversion error for <MidiEvent PROGRAM_CHANGE, t=0, track=4, channel=3>: Got incorrect data for <MidiEvent PROGRAM_CHANGE, t=0, track=4, channel=3> in .data: None,cannot parse Program Change; ignored.\n",
      "midi.base.py: WARNING: Conversion error for <MidiEvent PROGRAM_CHANGE, t=0, track=1, channel=1>: Got incorrect data for <MidiEvent PROGRAM_CHANGE, t=0, track=1, channel=1> in .data: None,cannot parse Program Change; ignored.\n"
     ]
    },
    {
     "name": "stdout",
     "output_type": "stream",
     "text": [
      "badly formated midi string, got: vti_encoding:SR|utf8\n",
      "\n"
     ]
    },
    {
     "name": "stderr",
     "output_type": "stream",
     "text": [
      "midi.base.py: WARNING: Conversion error for <MidiEvent PROGRAM_CHANGE, t=0, track=1, channel=1>: Got incorrect data for <MidiEvent PROGRAM_CHANGE, t=0, track=1, channel=1> in .data: None,cannot parse Program Change; ignored.\n",
      "midi.base.py: WARNING: Conversion error for <MidiEvent PROGRAM_CHANGE, t=0, track=1, channel=1>: Got incorrect data for <MidiEvent PROGRAM_CHANGE, t=0, track=1, channel=1> in .data: None,cannot parse Program Change; ignored.\n",
      "midi.base.py: WARNING: Conversion error for <MidiEvent PROGRAM_CHANGE, t=0, track=1, channel=1>: Got incorrect data for <MidiEvent PROGRAM_CHANGE, t=0, track=1, channel=1> in .data: None,cannot parse Program Change; ignored.\n",
      "midi.base.py: WARNING: Conversion error for <MidiEvent PROGRAM_CHANGE, t=0, track=1, channel=1>: Got incorrect data for <MidiEvent PROGRAM_CHANGE, t=0, track=1, channel=1> in .data: None,cannot parse Program Change; ignored.\n",
      "midi.base.py: WARNING: Conversion error for <MidiEvent PROGRAM_CHANGE, t=0, track=1, channel=1>: Got incorrect data for <MidiEvent PROGRAM_CHANGE, t=0, track=1, channel=1> in .data: None,cannot parse Program Change; ignored.\n",
      "midi.base.py: WARNING: Conversion error for <MidiEvent PROGRAM_CHANGE, t=0, track=1, channel=1>: Got incorrect data for <MidiEvent PROGRAM_CHANGE, t=0, track=1, channel=1> in .data: None,cannot parse Program Change; ignored.\n",
      "midi.base.py: WARNING: Conversion error for <MidiEvent PROGRAM_CHANGE, t=0, track=1, channel=1>: Got incorrect data for <MidiEvent PROGRAM_CHANGE, t=0, track=1, channel=1> in .data: None,cannot parse Program Change; ignored.\n",
      "midi.base.py: WARNING: Conversion error for <MidiEvent PROGRAM_CHANGE, t=0, track=1, channel=1>: Got incorrect data for <MidiEvent PROGRAM_CHANGE, t=0, track=1, channel=1> in .data: None,cannot parse Program Change; ignored.\n"
     ]
    },
    {
     "name": "stdout",
     "output_type": "stream",
     "text": [
      "chr() arg not in range(256)\n",
      "badly formed midi string: missing leading MTrk\n"
     ]
    },
    {
     "name": "stderr",
     "output_type": "stream",
     "text": [
      "midi.base.py: WARNING: Conversion error for <MidiEvent PROGRAM_CHANGE, t=0, track=1, channel=1>: Got incorrect data for <MidiEvent PROGRAM_CHANGE, t=0, track=1, channel=1> in .data: None,cannot parse Program Change; ignored.\n"
     ]
    },
    {
     "name": "stdout",
     "output_type": "stream",
     "text": [
      "badly formated midi string, got: �:h\u0005�0f\u0000�@p\f",
      "�5y0�9f0\n",
      "badly formated midi string, got: vti_encoding:SR|utf8\n"
     ]
    },
    {
     "name": "stderr",
     "output_type": "stream",
     "text": [
      "midi.base.py: WARNING: Conversion error for <MidiEvent PROGRAM_CHANGE, t=0, track=1, channel=1>: Got incorrect data for <MidiEvent PROGRAM_CHANGE, t=0, track=1, channel=1> in .data: None,cannot parse Program Change; ignored.\n",
      "midi.base.py: WARNING: Conversion error for <MidiEvent PROGRAM_CHANGE, t=0, track=1, channel=1>: Got incorrect data for <MidiEvent PROGRAM_CHANGE, t=0, track=1, channel=1> in .data: None,cannot parse Program Change; ignored.\n",
      "midi.base.py: WARNING: Conversion error for <MidiEvent PROGRAM_CHANGE, t=0, track=1, channel=1>: Got incorrect data for <MidiEvent PROGRAM_CHANGE, t=0, track=1, channel=1> in .data: None,cannot parse Program Change; ignored.\n",
      "midi.base.py: WARNING: Conversion error for <MidiEvent PROGRAM_CHANGE, t=0, track=1, channel=1>: Got incorrect data for <MidiEvent PROGRAM_CHANGE, t=0, track=1, channel=1> in .data: None,cannot parse Program Change; ignored.\n"
     ]
    },
    {
     "name": "stdout",
     "output_type": "stream",
     "text": [
      "badly formed midi string: missing leading MTrk\n",
      "badly formed midi string: missing leading MTrk\n"
     ]
    },
    {
     "name": "stderr",
     "output_type": "stream",
     "text": [
      "midi.base.py: WARNING: Conversion error for <MidiEvent PROGRAM_CHANGE, t=0, track=1, channel=1>: Got incorrect data for <MidiEvent PROGRAM_CHANGE, t=0, track=1, channel=1> in .data: None,cannot parse Program Change; ignored.\n",
      "midi.base.py: WARNING: Conversion error for <MidiEvent PROGRAM_CHANGE, t=0, track=1, channel=1>: Got incorrect data for <MidiEvent PROGRAM_CHANGE, t=0, track=1, channel=1> in .data: None,cannot parse Program Change; ignored.\n",
      "midi.base.py: WARNING: Conversion error for <MidiEvent PROGRAM_CHANGE, t=0, track=1, channel=1>: Got incorrect data for <MidiEvent PROGRAM_CHANGE, t=0, track=1, channel=1> in .data: None,cannot parse Program Change; ignored.\n",
      "midi.base.py: WARNING: Conversion error for <MidiEvent PROGRAM_CHANGE, t=0, track=1, channel=1>: Got incorrect data for <MidiEvent PROGRAM_CHANGE, t=0, track=1, channel=1> in .data: None,cannot parse Program Change; ignored.\n",
      "midi.base.py: WARNING: Conversion error for <MidiEvent PROGRAM_CHANGE, t=0, track=1, channel=1>: Got incorrect data for <MidiEvent PROGRAM_CHANGE, t=0, track=1, channel=1> in .data: None,cannot parse Program Change; ignored.\n",
      "midi.base.py: WARNING: Conversion error for <MidiEvent PROGRAM_CHANGE, t=0, track=1, channel=1>: Got incorrect data for <MidiEvent PROGRAM_CHANGE, t=0, track=1, channel=1> in .data: None,cannot parse Program Change; ignored.\n",
      "midi.base.py: WARNING: Conversion error for <MidiEvent PROGRAM_CHANGE, t=0, track=1, channel=1>: Got incorrect data for <MidiEvent PROGRAM_CHANGE, t=0, track=1, channel=1> in .data: None,cannot parse Program Change; ignored.\n",
      "midi.base.py: WARNING: Conversion error for <MidiEvent PROGRAM_CHANGE, t=0, track=1, channel=1>: Got incorrect data for <MidiEvent PROGRAM_CHANGE, t=0, track=1, channel=1> in .data: None,cannot parse Program Change; ignored.\n",
      "midi.base.py: WARNING: Conversion error for <MidiEvent PROGRAM_CHANGE, t=0, track=1, channel=1>: Got incorrect data for <MidiEvent PROGRAM_CHANGE, t=0, track=1, channel=1> in .data: None,cannot parse Program Change; ignored.\n",
      "midi.base.py: WARNING: Conversion error for <MidiEvent PROGRAM_CHANGE, t=0, track=1, channel=1>: Got incorrect data for <MidiEvent PROGRAM_CHANGE, t=0, track=1, channel=1> in .data: None,cannot parse Program Change; ignored.\n"
     ]
    },
    {
     "name": "stdout",
     "output_type": "stream",
     "text": [
      "badly formated midi string, got: \u0000\u0000\u0000 ftypqt   \u0005\u0003\u0000qt  \n"
     ]
    },
    {
     "name": "stderr",
     "output_type": "stream",
     "text": [
      "midi.base.py: WARNING: Conversion error for <MidiEvent PROGRAM_CHANGE, t=0, track=1, channel=3>: Got incorrect data for <MidiEvent PROGRAM_CHANGE, t=0, track=1, channel=3> in .data: None,cannot parse Program Change; ignored.\n",
      "midi.base.py: WARNING: Conversion error for <MidiEvent PROGRAM_CHANGE, t=0, track=1, channel=3>: Got incorrect data for <MidiEvent PROGRAM_CHANGE, t=0, track=1, channel=3> in .data: None,cannot parse Program Change; ignored.\n",
      "midi.base.py: WARNING: Conversion error for <MidiEvent PROGRAM_CHANGE, t=0, track=1, channel=3>: Got incorrect data for <MidiEvent PROGRAM_CHANGE, t=0, track=1, channel=3> in .data: None,cannot parse Program Change; ignored.\n",
      "midi.base.py: WARNING: Conversion error for <MidiEvent PROGRAM_CHANGE, t=0, track=1, channel=3>: Got incorrect data for <MidiEvent PROGRAM_CHANGE, t=0, track=1, channel=3> in .data: None,cannot parse Program Change; ignored.\n",
      "midi.base.py: WARNING: Conversion error for <MidiEvent PROGRAM_CHANGE, t=0, track=1, channel=3>: Got incorrect data for <MidiEvent PROGRAM_CHANGE, t=0, track=1, channel=3> in .data: None,cannot parse Program Change; ignored.\n",
      "midi.base.py: WARNING: Conversion error for <MidiEvent PROGRAM_CHANGE, t=0, track=1, channel=3>: Got incorrect data for <MidiEvent PROGRAM_CHANGE, t=0, track=1, channel=3> in .data: None,cannot parse Program Change; ignored.\n",
      "midi.base.py: WARNING: Conversion error for <MidiEvent PROGRAM_CHANGE, t=0, track=1, channel=3>: Got incorrect data for <MidiEvent PROGRAM_CHANGE, t=0, track=1, channel=3> in .data: None,cannot parse Program Change; ignored.\n",
      "midi.base.py: WARNING: Conversion error for <MidiEvent PROGRAM_CHANGE, t=0, track=1, channel=3>: Got incorrect data for <MidiEvent PROGRAM_CHANGE, t=0, track=1, channel=3> in .data: None,cannot parse Program Change; ignored.\n"
     ]
    },
    {
     "name": "stdout",
     "output_type": "stream",
     "text": [
      "\n"
     ]
    },
    {
     "name": "stderr",
     "output_type": "stream",
     "text": [
      "midi.base.py: WARNING: Conversion error for <MidiEvent PROGRAM_CHANGE, t=0, track=1, channel=1>: Got incorrect data for <MidiEvent PROGRAM_CHANGE, t=0, track=1, channel=1> in .data: None,cannot parse Program Change; ignored.\n",
      "midi.base.py: WARNING: Conversion error for <MidiEvent PROGRAM_CHANGE, t=0, track=1, channel=1>: Got incorrect data for <MidiEvent PROGRAM_CHANGE, t=0, track=1, channel=1> in .data: None,cannot parse Program Change; ignored.\n",
      "midi.base.py: WARNING: Conversion error for <MidiEvent PROGRAM_CHANGE, t=0, track=1, channel=1>: Got incorrect data for <MidiEvent PROGRAM_CHANGE, t=0, track=1, channel=1> in .data: None,cannot parse Program Change; ignored.\n",
      "midi.base.py: WARNING: Conversion error for <MidiEvent PROGRAM_CHANGE, t=0, track=1, channel=1>: Got incorrect data for <MidiEvent PROGRAM_CHANGE, t=0, track=1, channel=1> in .data: None,cannot parse Program Change; ignored.\n",
      "midi.base.py: WARNING: Conversion error for <MidiEvent PROGRAM_CHANGE, t=0, track=3, channel=1>: Got incorrect data for <MidiEvent PROGRAM_CHANGE, t=0, track=3, channel=1> in .data: None,cannot parse Program Change; ignored.\n"
     ]
    },
    {
     "name": "stdout",
     "output_type": "stream",
     "text": [
      "badly formed midi string: missing leading MTrk\n"
     ]
    },
    {
     "name": "stderr",
     "output_type": "stream",
     "text": [
      "midi.base.py: WARNING: Conversion error for <MidiEvent PROGRAM_CHANGE, t=0, track=1, channel=1>: Got incorrect data for <MidiEvent PROGRAM_CHANGE, t=0, track=1, channel=1> in .data: None,cannot parse Program Change; ignored.\n",
      "midi.base.py: WARNING: Conversion error for <MidiEvent PROGRAM_CHANGE, t=0, track=1, channel=1>: Got incorrect data for <MidiEvent PROGRAM_CHANGE, t=0, track=1, channel=1> in .data: None,cannot parse Program Change; ignored.\n",
      "midi.base.py: WARNING: Conversion error for <MidiEvent PROGRAM_CHANGE, t=0, track=1, channel=1>: Got incorrect data for <MidiEvent PROGRAM_CHANGE, t=0, track=1, channel=1> in .data: None,cannot parse Program Change; ignored.\n",
      "midi.base.py: WARNING: Conversion error for <MidiEvent PROGRAM_CHANGE, t=0, track=1, channel=1>: Got incorrect data for <MidiEvent PROGRAM_CHANGE, t=0, track=1, channel=1> in .data: None,cannot parse Program Change; ignored.\n",
      "midi.base.py: WARNING: Conversion error for <MidiEvent PROGRAM_CHANGE, t=0, track=1, channel=1>: Got incorrect data for <MidiEvent PROGRAM_CHANGE, t=0, track=1, channel=1> in .data: None,cannot parse Program Change; ignored.\n"
     ]
    },
    {
     "name": "stdout",
     "output_type": "stream",
     "text": [
      "string index out of range\n"
     ]
    },
    {
     "name": "stderr",
     "output_type": "stream",
     "text": [
      "midi.base.py: WARNING: Conversion error for <MidiEvent PROGRAM_CHANGE, t=0, track=1, channel=1>: Got incorrect data for <MidiEvent PROGRAM_CHANGE, t=0, track=1, channel=1> in .data: None,cannot parse Program Change; ignored.\n",
      "midi.base.py: WARNING: Conversion error for <MidiEvent PROGRAM_CHANGE, t=0, track=1, channel=1>: Got incorrect data for <MidiEvent PROGRAM_CHANGE, t=0, track=1, channel=1> in .data: None,cannot parse Program Change; ignored.\n"
     ]
    },
    {
     "name": "stdout",
     "output_type": "stream",
     "text": [
      "badly formated midi string, got: RIFF�\u0004\u0000\u0000RMIDdata�\u0004\u0000\u0000\n"
     ]
    },
    {
     "name": "stderr",
     "output_type": "stream",
     "text": [
      "midi.base.py: WARNING: Conversion error for <MidiEvent PROGRAM_CHANGE, t=0, track=1, channel=1>: Got incorrect data for <MidiEvent PROGRAM_CHANGE, t=0, track=1, channel=1> in .data: None,cannot parse Program Change; ignored.\n",
      "midi.base.py: WARNING: Conversion error for <MidiEvent PROGRAM_CHANGE, t=0, track=3, channel=1>: Got incorrect data for <MidiEvent PROGRAM_CHANGE, t=0, track=3, channel=1> in .data: None,cannot parse Program Change; ignored.\n",
      "midi.base.py: WARNING: Conversion error for <MidiEvent PROGRAM_CHANGE, t=0, track=5, channel=1>: Got incorrect data for <MidiEvent PROGRAM_CHANGE, t=0, track=5, channel=1> in .data: None,cannot parse Program Change; ignored.\n"
     ]
    },
    {
     "name": "stdout",
     "output_type": "stream",
     "text": [
      "badly formed midi string: missing leading MTrk\n",
      "badly formated midi string, got: vti_encoding:SR|utf8\n",
      "\n",
      "badly formed midi string: missing leading MTrk\n"
     ]
    },
    {
     "name": "stderr",
     "output_type": "stream",
     "text": [
      "midi.base.py: WARNING: Conversion error for <MidiEvent PROGRAM_CHANGE, t=0, track=1, channel=1>: Got incorrect data for <MidiEvent PROGRAM_CHANGE, t=0, track=1, channel=1> in .data: None,cannot parse Program Change; ignored.\n",
      "midi.base.py: WARNING: Conversion error for <MidiEvent PROGRAM_CHANGE, t=0, track=1, channel=1>: Got incorrect data for <MidiEvent PROGRAM_CHANGE, t=0, track=1, channel=1> in .data: None,cannot parse Program Change; ignored.\n",
      "midi.base.py: WARNING: Conversion error for <MidiEvent PROGRAM_CHANGE, t=0, track=1, channel=1>: Got incorrect data for <MidiEvent PROGRAM_CHANGE, t=0, track=1, channel=1> in .data: None,cannot parse Program Change; ignored.\n",
      "midi.base.py: WARNING: Conversion error for <MidiEvent PROGRAM_CHANGE, t=0, track=1, channel=1>: Got incorrect data for <MidiEvent PROGRAM_CHANGE, t=0, track=1, channel=1> in .data: None,cannot parse Program Change; ignored.\n",
      "midi.base.py: WARNING: Conversion error for <MidiEvent PROGRAM_CHANGE, t=0, track=1, channel=1>: Got incorrect data for <MidiEvent PROGRAM_CHANGE, t=0, track=1, channel=1> in .data: None,cannot parse Program Change; ignored.\n",
      "midi.base.py: WARNING: Conversion error for <MidiEvent PROGRAM_CHANGE, t=0, track=1, channel=1>: Got incorrect data for <MidiEvent PROGRAM_CHANGE, t=0, track=1, channel=1> in .data: None,cannot parse Program Change; ignored.\n",
      "midi.base.py: WARNING: Conversion error for <MidiEvent PROGRAM_CHANGE, t=0, track=1, channel=1>: Got incorrect data for <MidiEvent PROGRAM_CHANGE, t=0, track=1, channel=1> in .data: None,cannot parse Program Change; ignored.\n",
      "midi.base.py: WARNING: Conversion error for <MidiEvent PROGRAM_CHANGE, t=0, track=2, channel=1>: Got incorrect data for <MidiEvent PROGRAM_CHANGE, t=0, track=2, channel=1> in .data: None,cannot parse Program Change; ignored.\n",
      "midi.base.py: WARNING: Conversion error for <MidiEvent PROGRAM_CHANGE, t=0, track=4, channel=1>: Got incorrect data for <MidiEvent PROGRAM_CHANGE, t=0, track=4, channel=1> in .data: None,cannot parse Program Change; ignored.\n",
      "midi.base.py: WARNING: Conversion error for <MidiEvent PROGRAM_CHANGE, t=0, track=5, channel=1>: Got incorrect data for <MidiEvent PROGRAM_CHANGE, t=0, track=5, channel=1> in .data: None,cannot parse Program Change; ignored.\n",
      "midi.base.py: WARNING: Conversion error for <MidiEvent PROGRAM_CHANGE, t=0, track=7, channel=1>: Got incorrect data for <MidiEvent PROGRAM_CHANGE, t=0, track=7, channel=1> in .data: None,cannot parse Program Change; ignored.\n",
      "midi.base.py: WARNING: Conversion error for <MidiEvent PROGRAM_CHANGE, t=0, track=8, channel=1>: Got incorrect data for <MidiEvent PROGRAM_CHANGE, t=0, track=8, channel=1> in .data: None,cannot parse Program Change; ignored.\n",
      "midi.base.py: WARNING: Conversion error for <MidiEvent PROGRAM_CHANGE, t=0, track=9, channel=1>: Got incorrect data for <MidiEvent PROGRAM_CHANGE, t=0, track=9, channel=1> in .data: None,cannot parse Program Change; ignored.\n",
      "midi.base.py: WARNING: Conversion error for <MidiEvent PROGRAM_CHANGE, t=0, track=11, channel=1>: Got incorrect data for <MidiEvent PROGRAM_CHANGE, t=0, track=11, channel=1> in .data: None,cannot parse Program Change; ignored.\n"
     ]
    },
    {
     "name": "stdout",
     "output_type": "stream",
     "text": [
      "\n",
      "badly formated midi string, got: RIFF�\u0005\u0002\u0000WAVEfmt \u0012\u0000\u0000\u0000\n"
     ]
    },
    {
     "name": "stderr",
     "output_type": "stream",
     "text": [
      "midi.base.py: WARNING: Conversion error for <MidiEvent PROGRAM_CHANGE, t=0, track=3, channel=3>: Got incorrect data for <MidiEvent PROGRAM_CHANGE, t=0, track=3, channel=3> in .data: None,cannot parse Program Change; ignored.\n",
      "midi.base.py: WARNING: Conversion error for <MidiEvent PROGRAM_CHANGE, t=0, track=4, channel=3>: Got incorrect data for <MidiEvent PROGRAM_CHANGE, t=0, track=4, channel=3> in .data: None,cannot parse Program Change; ignored.\n"
     ]
    },
    {
     "name": "stdout",
     "output_type": "stream",
     "text": [
      "badly formed midi string: missing leading MTrk\n",
      "badly formated midi string, got: vti_encoding:SR|utf8\n"
     ]
    },
    {
     "name": "stderr",
     "output_type": "stream",
     "text": [
      "midi.base.py: WARNING: Conversion error for <MidiEvent PROGRAM_CHANGE, t=0, track=1, channel=1>: Got incorrect data for <MidiEvent PROGRAM_CHANGE, t=0, track=1, channel=1> in .data: None,cannot parse Program Change; ignored.\n",
      "midi.base.py: WARNING: Conversion error for <MidiEvent PROGRAM_CHANGE, t=0, track=3, channel=1>: Got incorrect data for <MidiEvent PROGRAM_CHANGE, t=0, track=3, channel=1> in .data: None,cannot parse Program Change; ignored.\n",
      "midi.base.py: WARNING: Conversion error for <MidiEvent PROGRAM_CHANGE, t=0, track=1, channel=1>: Got incorrect data for <MidiEvent PROGRAM_CHANGE, t=0, track=1, channel=1> in .data: None,cannot parse Program Change; ignored.\n"
     ]
    },
    {
     "name": "stdout",
     "output_type": "stream",
     "text": [
      "\n",
      "badly formed midi string: missing leading MTrk\n",
      "\n"
     ]
    },
    {
     "name": "stderr",
     "output_type": "stream",
     "text": [
      "midi.base.py: WARNING: Conversion error for <MidiEvent PROGRAM_CHANGE, t=0, track=1, channel=1>: Got incorrect data for <MidiEvent PROGRAM_CHANGE, t=0, track=1, channel=1> in .data: None,cannot parse Program Change; ignored.\n",
      "midi.base.py: WARNING: Conversion error for <MidiEvent PROGRAM_CHANGE, t=0, track=1, channel=1>: Got incorrect data for <MidiEvent PROGRAM_CHANGE, t=0, track=1, channel=1> in .data: None,cannot parse Program Change; ignored.\n",
      "midi.base.py: WARNING: Conversion error for <MidiEvent PROGRAM_CHANGE, t=0, track=1, channel=1>: Got incorrect data for <MidiEvent PROGRAM_CHANGE, t=0, track=1, channel=1> in .data: None,cannot parse Program Change; ignored.\n",
      "midi.base.py: WARNING: Conversion error for <MidiEvent PROGRAM_CHANGE, t=0, track=1, channel=1>: Got incorrect data for <MidiEvent PROGRAM_CHANGE, t=0, track=1, channel=1> in .data: None,cannot parse Program Change; ignored.\n",
      "midi.base.py: WARNING: Conversion error for <MidiEvent PROGRAM_CHANGE, t=0, track=1, channel=1>: Got incorrect data for <MidiEvent PROGRAM_CHANGE, t=0, track=1, channel=1> in .data: None,cannot parse Program Change; ignored.\n",
      "midi.base.py: WARNING: Conversion error for <MidiEvent PROGRAM_CHANGE, t=0, track=1, channel=1>: Got incorrect data for <MidiEvent PROGRAM_CHANGE, t=0, track=1, channel=1> in .data: None,cannot parse Program Change; ignored.\n",
      "midi.base.py: WARNING: Conversion error for <MidiEvent PROGRAM_CHANGE, t=0, track=1, channel=1>: Got incorrect data for <MidiEvent PROGRAM_CHANGE, t=0, track=1, channel=1> in .data: None,cannot parse Program Change; ignored.\n",
      "midi.base.py: WARNING: Conversion error for <MidiEvent PROGRAM_CHANGE, t=0, track=1, channel=1>: Got incorrect data for <MidiEvent PROGRAM_CHANGE, t=0, track=1, channel=1> in .data: None,cannot parse Program Change; ignored.\n",
      "midi.base.py: WARNING: Conversion error for <MidiEvent PROGRAM_CHANGE, t=0, track=1, channel=1>: Got incorrect data for <MidiEvent PROGRAM_CHANGE, t=0, track=1, channel=1> in .data: None,cannot parse Program Change; ignored.\n",
      "midi.base.py: WARNING: Conversion error for <MidiEvent PROGRAM_CHANGE, t=0, track=1, channel=1>: Got incorrect data for <MidiEvent PROGRAM_CHANGE, t=0, track=1, channel=1> in .data: None,cannot parse Program Change; ignored.\n",
      "midi.base.py: WARNING: Conversion error for <MidiEvent PROGRAM_CHANGE, t=0, track=1, channel=1>: Got incorrect data for <MidiEvent PROGRAM_CHANGE, t=0, track=1, channel=1> in .data: None,cannot parse Program Change; ignored.\n",
      "midi.base.py: WARNING: Conversion error for <MidiEvent PROGRAM_CHANGE, t=0, track=1, channel=1>: Got incorrect data for <MidiEvent PROGRAM_CHANGE, t=0, track=1, channel=1> in .data: None,cannot parse Program Change; ignored.\n",
      "midi.base.py: WARNING: Conversion error for <MidiEvent PROGRAM_CHANGE, t=0, track=1, channel=1>: Got incorrect data for <MidiEvent PROGRAM_CHANGE, t=0, track=1, channel=1> in .data: None,cannot parse Program Change; ignored.\n",
      "midi.base.py: WARNING: Conversion error for <MidiEvent PROGRAM_CHANGE, t=0, track=1, channel=1>: Got incorrect data for <MidiEvent PROGRAM_CHANGE, t=0, track=1, channel=1> in .data: None,cannot parse Program Change; ignored.\n",
      "midi.base.py: WARNING: Conversion error for <MidiEvent PROGRAM_CHANGE, t=0, track=1, channel=1>: Got incorrect data for <MidiEvent PROGRAM_CHANGE, t=0, track=1, channel=1> in .data: None,cannot parse Program Change; ignored.\n",
      "midi.base.py: WARNING: Conversion error for <MidiEvent PROGRAM_CHANGE, t=0, track=1, channel=1>: Got incorrect data for <MidiEvent PROGRAM_CHANGE, t=0, track=1, channel=1> in .data: None,cannot parse Program Change; ignored.\n",
      "midi.base.py: WARNING: Conversion error for <MidiEvent PROGRAM_CHANGE, t=0, track=1, channel=1>: Got incorrect data for <MidiEvent PROGRAM_CHANGE, t=0, track=1, channel=1> in .data: None,cannot parse Program Change; ignored.\n",
      "midi.base.py: WARNING: Conversion error for <MidiEvent PROGRAM_CHANGE, t=0, track=1, channel=1>: Got incorrect data for <MidiEvent PROGRAM_CHANGE, t=0, track=1, channel=1> in .data: None,cannot parse Program Change; ignored.\n",
      "midi.base.py: WARNING: Conversion error for <MidiEvent PROGRAM_CHANGE, t=0, track=1, channel=1>: Got incorrect data for <MidiEvent PROGRAM_CHANGE, t=0, track=1, channel=1> in .data: None,cannot parse Program Change; ignored.\n",
      "midi.base.py: WARNING: Conversion error for <MidiEvent PROGRAM_CHANGE, t=0, track=3, channel=3>: Got incorrect data for <MidiEvent PROGRAM_CHANGE, t=0, track=3, channel=3> in .data: None,cannot parse Program Change; ignored.\n",
      "midi.base.py: WARNING: Conversion error for <MidiEvent PROGRAM_CHANGE, t=0, track=4, channel=3>: Got incorrect data for <MidiEvent PROGRAM_CHANGE, t=0, track=4, channel=3> in .data: None,cannot parse Program Change; ignored.\n",
      "midi.base.py: WARNING: Conversion error for <MidiEvent PROGRAM_CHANGE, t=0, track=5, channel=3>: Got incorrect data for <MidiEvent PROGRAM_CHANGE, t=0, track=5, channel=3> in .data: None,cannot parse Program Change; ignored.\n"
     ]
    },
    {
     "name": "stdout",
     "output_type": "stream",
     "text": [
      "badly formated midi string, got: RIFFr�\u0000\u0000RMIDdata΍\u0000\u0000\n",
      "badly formated midi string, got: vti_encoding:SR|utf8\n"
     ]
    },
    {
     "name": "stderr",
     "output_type": "stream",
     "text": [
      "midi.base.py: WARNING: Conversion error for <MidiEvent PROGRAM_CHANGE, t=0, track=1, channel=1>: Got incorrect data for <MidiEvent PROGRAM_CHANGE, t=0, track=1, channel=1> in .data: None,cannot parse Program Change; ignored.\n",
      "midi.base.py: WARNING: Conversion error for <MidiEvent PROGRAM_CHANGE, t=0, track=2, channel=1>: Got incorrect data for <MidiEvent PROGRAM_CHANGE, t=0, track=2, channel=1> in .data: None,cannot parse Program Change; ignored.\n",
      "midi.base.py: WARNING: Conversion error for <MidiEvent PROGRAM_CHANGE, t=0, track=4, channel=1>: Got incorrect data for <MidiEvent PROGRAM_CHANGE, t=0, track=4, channel=1> in .data: None,cannot parse Program Change; ignored.\n",
      "midi.base.py: WARNING: Conversion error for <MidiEvent PROGRAM_CHANGE, t=0, track=7, channel=1>: Got incorrect data for <MidiEvent PROGRAM_CHANGE, t=0, track=7, channel=1> in .data: None,cannot parse Program Change; ignored.\n",
      "midi.base.py: WARNING: Conversion error for <MidiEvent PROGRAM_CHANGE, t=0, track=8, channel=1>: Got incorrect data for <MidiEvent PROGRAM_CHANGE, t=0, track=8, channel=1> in .data: None,cannot parse Program Change; ignored.\n"
     ]
    },
    {
     "name": "stdout",
     "output_type": "stream",
     "text": [
      "badly formed midi string: missing leading MTrk\n",
      "badly formed midi string: missing leading MTrk\n"
     ]
    },
    {
     "name": "stderr",
     "output_type": "stream",
     "text": [
      "midi.base.py: WARNING: Conversion error for <MidiEvent PROGRAM_CHANGE, t=0, track=3, channel=1>: Got incorrect data for <MidiEvent PROGRAM_CHANGE, t=0, track=3, channel=1> in .data: None,cannot parse Program Change; ignored.\n",
      "midi.base.py: WARNING: Conversion error for <MidiEvent PROGRAM_CHANGE, t=0, track=4, channel=1>: Got incorrect data for <MidiEvent PROGRAM_CHANGE, t=0, track=4, channel=1> in .data: None,cannot parse Program Change; ignored.\n",
      "midi.base.py: WARNING: Conversion error for <MidiEvent PROGRAM_CHANGE, t=0, track=6, channel=1>: Got incorrect data for <MidiEvent PROGRAM_CHANGE, t=0, track=6, channel=1> in .data: None,cannot parse Program Change; ignored.\n",
      "midi.base.py: WARNING: Conversion error for <MidiEvent PROGRAM_CHANGE, t=0, track=9, channel=1>: Got incorrect data for <MidiEvent PROGRAM_CHANGE, t=0, track=9, channel=1> in .data: None,cannot parse Program Change; ignored.\n"
     ]
    },
    {
     "name": "stdout",
     "output_type": "stream",
     "text": [
      "chr() arg not in range(256)\n"
     ]
    },
    {
     "name": "stderr",
     "output_type": "stream",
     "text": [
      "midi.base.py: WARNING: Conversion error for <MidiEvent PROGRAM_CHANGE, t=0, track=1, channel=1>: Got incorrect data for <MidiEvent PROGRAM_CHANGE, t=0, track=1, channel=1> in .data: None,cannot parse Program Change; ignored.\n",
      "midi.base.py: WARNING: Conversion error for <MidiEvent PROGRAM_CHANGE, t=0, track=4, channel=1>: Got incorrect data for <MidiEvent PROGRAM_CHANGE, t=0, track=4, channel=1> in .data: None,cannot parse Program Change; ignored.\n",
      "midi.base.py: WARNING: Conversion error for <MidiEvent PROGRAM_CHANGE, t=0, track=7, channel=1>: Got incorrect data for <MidiEvent PROGRAM_CHANGE, t=0, track=7, channel=1> in .data: None,cannot parse Program Change; ignored.\n",
      "midi.base.py: WARNING: Conversion error for <MidiEvent PROGRAM_CHANGE, t=0, track=9, channel=1>: Got incorrect data for <MidiEvent PROGRAM_CHANGE, t=0, track=9, channel=1> in .data: None,cannot parse Program Change; ignored.\n"
     ]
    },
    {
     "name": "stdout",
     "output_type": "stream",
     "text": [
      "badly formated midi string, got: RIFF(H\u0000\u0000RMIDdata\u001bH\u0000\u0000\n"
     ]
    },
    {
     "name": "stderr",
     "output_type": "stream",
     "text": [
      "midi.base.py: WARNING: Conversion error for <MidiEvent PROGRAM_CHANGE, t=0, track=1, channel=1>: Got incorrect data for <MidiEvent PROGRAM_CHANGE, t=0, track=1, channel=1> in .data: None,cannot parse Program Change; ignored.\n",
      "midi.base.py: WARNING: Conversion error for <MidiEvent PROGRAM_CHANGE, t=0, track=1, channel=1>: Got incorrect data for <MidiEvent PROGRAM_CHANGE, t=0, track=1, channel=1> in .data: None,cannot parse Program Change; ignored.\n",
      "midi.base.py: WARNING: Conversion error for <MidiEvent PROGRAM_CHANGE, t=0, track=1, channel=1>: Got incorrect data for <MidiEvent PROGRAM_CHANGE, t=0, track=1, channel=1> in .data: None,cannot parse Program Change; ignored.\n",
      "midi.base.py: WARNING: Conversion error for <MidiEvent PROGRAM_CHANGE, t=0, track=1, channel=1>: Got incorrect data for <MidiEvent PROGRAM_CHANGE, t=0, track=1, channel=1> in .data: None,cannot parse Program Change; ignored.\n",
      "midi.base.py: WARNING: Conversion error for <MidiEvent PROGRAM_CHANGE, t=0, track=1, channel=1>: Got incorrect data for <MidiEvent PROGRAM_CHANGE, t=0, track=1, channel=1> in .data: None,cannot parse Program Change; ignored.\n",
      "midi.base.py: WARNING: Conversion error for <MidiEvent PROGRAM_CHANGE, t=0, track=1, channel=1>: Got incorrect data for <MidiEvent PROGRAM_CHANGE, t=0, track=1, channel=1> in .data: None,cannot parse Program Change; ignored.\n",
      "midi.base.py: WARNING: Conversion error for <MidiEvent PROGRAM_CHANGE, t=0, track=1, channel=1>: Got incorrect data for <MidiEvent PROGRAM_CHANGE, t=0, track=1, channel=1> in .data: None,cannot parse Program Change; ignored.\n",
      "midi.base.py: WARNING: Conversion error for <MidiEvent PROGRAM_CHANGE, t=0, track=2, channel=1>: Got incorrect data for <MidiEvent PROGRAM_CHANGE, t=0, track=2, channel=1> in .data: None,cannot parse Program Change; ignored.\n",
      "midi.base.py: WARNING: Conversion error for <MidiEvent PROGRAM_CHANGE, t=0, track=3, channel=1>: Got incorrect data for <MidiEvent PROGRAM_CHANGE, t=0, track=3, channel=1> in .data: None,cannot parse Program Change; ignored.\n",
      "midi.base.py: WARNING: Conversion error for <MidiEvent PROGRAM_CHANGE, t=0, track=1, channel=1>: Got incorrect data for <MidiEvent PROGRAM_CHANGE, t=0, track=1, channel=1> in .data: None,cannot parse Program Change; ignored.\n",
      "midi.base.py: WARNING: Conversion error for <MidiEvent PROGRAM_CHANGE, t=0, track=1, channel=1>: Got incorrect data for <MidiEvent PROGRAM_CHANGE, t=0, track=1, channel=1> in .data: None,cannot parse Program Change; ignored.\n"
     ]
    },
    {
     "name": "stdout",
     "output_type": "stream",
     "text": [
      "badly formed midi string: missing leading MTrk\n"
     ]
    },
    {
     "name": "stderr",
     "output_type": "stream",
     "text": [
      "midi.base.py: WARNING: Conversion error for <MidiEvent PROGRAM_CHANGE, t=0, track=1, channel=1>: Got incorrect data for <MidiEvent PROGRAM_CHANGE, t=0, track=1, channel=1> in .data: None,cannot parse Program Change; ignored.\n",
      "midi.base.py: WARNING: Conversion error for <MidiEvent PROGRAM_CHANGE, t=0, track=2, channel=1>: Got incorrect data for <MidiEvent PROGRAM_CHANGE, t=0, track=2, channel=1> in .data: None,cannot parse Program Change; ignored.\n",
      "midi.base.py: WARNING: Conversion error for <MidiEvent PROGRAM_CHANGE, t=0, track=3, channel=1>: Got incorrect data for <MidiEvent PROGRAM_CHANGE, t=0, track=3, channel=1> in .data: None,cannot parse Program Change; ignored.\n",
      "midi.base.py: WARNING: Conversion error for <MidiEvent PROGRAM_CHANGE, t=0, track=4, channel=1>: Got incorrect data for <MidiEvent PROGRAM_CHANGE, t=0, track=4, channel=1> in .data: None,cannot parse Program Change; ignored.\n",
      "midi.base.py: WARNING: Conversion error for <MidiEvent PROGRAM_CHANGE, t=0, track=3, channel=4>: Got incorrect data for <MidiEvent PROGRAM_CHANGE, t=0, track=3, channel=4> in .data: None,cannot parse Program Change; ignored.\n",
      "midi.base.py: WARNING: Conversion error for <MidiEvent PROGRAM_CHANGE, t=0, track=3, channel=4>: Got incorrect data for <MidiEvent PROGRAM_CHANGE, t=0, track=3, channel=4> in .data: None,cannot parse Program Change; ignored.\n",
      "midi.base.py: WARNING: Conversion error for <MidiEvent PROGRAM_CHANGE, t=0, track=3, channel=4>: Got incorrect data for <MidiEvent PROGRAM_CHANGE, t=0, track=3, channel=4> in .data: None,cannot parse Program Change; ignored.\n",
      "midi.base.py: WARNING: Conversion error for <MidiEvent PROGRAM_CHANGE, t=0, track=4, channel=4>: Got incorrect data for <MidiEvent PROGRAM_CHANGE, t=0, track=4, channel=4> in .data: None,cannot parse Program Change; ignored.\n",
      "midi.base.py: WARNING: Conversion error for <MidiEvent PROGRAM_CHANGE, t=0, track=4, channel=4>: Got incorrect data for <MidiEvent PROGRAM_CHANGE, t=0, track=4, channel=4> in .data: None,cannot parse Program Change; ignored.\n",
      "midi.base.py: WARNING: Conversion error for <MidiEvent PROGRAM_CHANGE, t=0, track=4, channel=4>: Got incorrect data for <MidiEvent PROGRAM_CHANGE, t=0, track=4, channel=4> in .data: None,cannot parse Program Change; ignored.\n",
      "midi.base.py: WARNING: Conversion error for <MidiEvent PROGRAM_CHANGE, t=0, track=5, channel=4>: Got incorrect data for <MidiEvent PROGRAM_CHANGE, t=0, track=5, channel=4> in .data: None,cannot parse Program Change; ignored.\n",
      "midi.base.py: WARNING: Conversion error for <MidiEvent PROGRAM_CHANGE, t=0, track=5, channel=4>: Got incorrect data for <MidiEvent PROGRAM_CHANGE, t=0, track=5, channel=4> in .data: None,cannot parse Program Change; ignored.\n",
      "midi.base.py: WARNING: Conversion error for <MidiEvent PROGRAM_CHANGE, t=0, track=5, channel=4>: Got incorrect data for <MidiEvent PROGRAM_CHANGE, t=0, track=5, channel=4> in .data: None,cannot parse Program Change; ignored.\n",
      "midi.base.py: WARNING: Conversion error for <MidiEvent PROGRAM_CHANGE, t=0, track=5, channel=4>: Got incorrect data for <MidiEvent PROGRAM_CHANGE, t=0, track=5, channel=4> in .data: None,cannot parse Program Change; ignored.\n",
      "midi.base.py: WARNING: Conversion error for <MidiEvent PROGRAM_CHANGE, t=0, track=6, channel=4>: Got incorrect data for <MidiEvent PROGRAM_CHANGE, t=0, track=6, channel=4> in .data: None,cannot parse Program Change; ignored.\n",
      "midi.base.py: WARNING: Conversion error for <MidiEvent PROGRAM_CHANGE, t=0, track=6, channel=4>: Got incorrect data for <MidiEvent PROGRAM_CHANGE, t=0, track=6, channel=4> in .data: None,cannot parse Program Change; ignored.\n",
      "midi.base.py: WARNING: Conversion error for <MidiEvent PROGRAM_CHANGE, t=0, track=7, channel=4>: Got incorrect data for <MidiEvent PROGRAM_CHANGE, t=0, track=7, channel=4> in .data: None,cannot parse Program Change; ignored.\n",
      "midi.base.py: WARNING: Conversion error for <MidiEvent PROGRAM_CHANGE, t=0, track=7, channel=4>: Got incorrect data for <MidiEvent PROGRAM_CHANGE, t=0, track=7, channel=4> in .data: None,cannot parse Program Change; ignored.\n",
      "midi.base.py: WARNING: Conversion error for <MidiEvent PROGRAM_CHANGE, t=0, track=8, channel=4>: Got incorrect data for <MidiEvent PROGRAM_CHANGE, t=0, track=8, channel=4> in .data: None,cannot parse Program Change; ignored.\n",
      "midi.base.py: WARNING: Conversion error for <MidiEvent PROGRAM_CHANGE, t=0, track=8, channel=4>: Got incorrect data for <MidiEvent PROGRAM_CHANGE, t=0, track=8, channel=4> in .data: None,cannot parse Program Change; ignored.\n",
      "midi.base.py: WARNING: Conversion error for <MidiEvent PROGRAM_CHANGE, t=0, track=8, channel=4>: Got incorrect data for <MidiEvent PROGRAM_CHANGE, t=0, track=8, channel=4> in .data: None,cannot parse Program Change; ignored.\n",
      "midi.base.py: WARNING: Conversion error for <MidiEvent PROGRAM_CHANGE, t=0, track=9, channel=4>: Got incorrect data for <MidiEvent PROGRAM_CHANGE, t=0, track=9, channel=4> in .data: None,cannot parse Program Change; ignored.\n",
      "midi.base.py: WARNING: Conversion error for <MidiEvent PROGRAM_CHANGE, t=0, track=12, channel=4>: Got incorrect data for <MidiEvent PROGRAM_CHANGE, t=0, track=12, channel=4> in .data: None,cannot parse Program Change; ignored.\n"
     ]
    },
    {
     "name": "stdout",
     "output_type": "stream",
     "text": [
      "badly formated midi string, got: Rar!\u001a\u0007\u0000ϐs\u0000\u0000\r",
      "\u0000\u0000\u0000\u0000\u0000\u0000\u0000\n"
     ]
    },
    {
     "name": "stderr",
     "output_type": "stream",
     "text": [
      "midi.base.py: WARNING: Conversion error for <MidiEvent PROGRAM_CHANGE, t=0, track=1, channel=1>: Got incorrect data for <MidiEvent PROGRAM_CHANGE, t=0, track=1, channel=1> in .data: None,cannot parse Program Change; ignored.\n",
      "midi.base.py: WARNING: Conversion error for <MidiEvent PROGRAM_CHANGE, t=0, track=3, channel=1>: Got incorrect data for <MidiEvent PROGRAM_CHANGE, t=0, track=3, channel=1> in .data: None,cannot parse Program Change; ignored.\n"
     ]
    },
    {
     "name": "stdout",
     "output_type": "stream",
     "text": [
      "badly formed midi string: missing leading MTrk\n"
     ]
    },
    {
     "name": "stderr",
     "output_type": "stream",
     "text": [
      "midi.base.py: WARNING: Conversion error for <MidiEvent PROGRAM_CHANGE, t=0, track=1, channel=1>: Got incorrect data for <MidiEvent PROGRAM_CHANGE, t=0, track=1, channel=1> in .data: None,cannot parse Program Change; ignored.\n",
      "midi.base.py: WARNING: Conversion error for <MidiEvent PROGRAM_CHANGE, t=0, track=1, channel=1>: Got incorrect data for <MidiEvent PROGRAM_CHANGE, t=0, track=1, channel=1> in .data: None,cannot parse Program Change; ignored.\n",
      "midi.base.py: WARNING: Conversion error for <MidiEvent PROGRAM_CHANGE, t=0, track=1, channel=1>: Got incorrect data for <MidiEvent PROGRAM_CHANGE, t=0, track=1, channel=1> in .data: None,cannot parse Program Change; ignored.\n"
     ]
    },
    {
     "name": "stdout",
     "output_type": "stream",
     "text": [
      "chr() arg not in range(256)\n"
     ]
    },
    {
     "name": "stderr",
     "output_type": "stream",
     "text": [
      "midi.base.py: WARNING: Conversion error for <MidiEvent PROGRAM_CHANGE, t=0, track=3, channel=3>: Got incorrect data for <MidiEvent PROGRAM_CHANGE, t=0, track=3, channel=3> in .data: None,cannot parse Program Change; ignored.\n",
      "midi.base.py: WARNING: Conversion error for <MidiEvent PROGRAM_CHANGE, t=0, track=6, channel=3>: Got incorrect data for <MidiEvent PROGRAM_CHANGE, t=0, track=6, channel=3> in .data: None,cannot parse Program Change; ignored.\n"
     ]
    },
    {
     "name": "stdout",
     "output_type": "stream",
     "text": [
      "\n"
     ]
    },
    {
     "name": "stderr",
     "output_type": "stream",
     "text": [
      "midi.base.py: WARNING: Conversion error for <MidiEvent PROGRAM_CHANGE, t=0, track=3, channel=3>: Got incorrect data for <MidiEvent PROGRAM_CHANGE, t=0, track=3, channel=3> in .data: None,cannot parse Program Change; ignored.\n",
      "midi.base.py: WARNING: Conversion error for <MidiEvent PROGRAM_CHANGE, t=0, track=4, channel=3>: Got incorrect data for <MidiEvent PROGRAM_CHANGE, t=0, track=4, channel=3> in .data: None,cannot parse Program Change; ignored.\n",
      "midi.base.py: WARNING: Conversion error for <MidiEvent PROGRAM_CHANGE, t=0, track=7, channel=3>: Got incorrect data for <MidiEvent PROGRAM_CHANGE, t=0, track=7, channel=3> in .data: None,cannot parse Program Change; ignored.\n",
      "midi.base.py: WARNING: Conversion error for <MidiEvent PROGRAM_CHANGE, t=0, track=8, channel=3>: Got incorrect data for <MidiEvent PROGRAM_CHANGE, t=0, track=8, channel=3> in .data: None,cannot parse Program Change; ignored.\n",
      "midi.base.py: WARNING: Conversion error for <MidiEvent PROGRAM_CHANGE, t=0, track=1, channel=1>: Got incorrect data for <MidiEvent PROGRAM_CHANGE, t=0, track=1, channel=1> in .data: None,cannot parse Program Change; ignored.\n",
      "midi.base.py: WARNING: Conversion error for <MidiEvent PROGRAM_CHANGE, t=0, track=1, channel=1>: Got incorrect data for <MidiEvent PROGRAM_CHANGE, t=0, track=1, channel=1> in .data: None,cannot parse Program Change; ignored.\n",
      "midi.base.py: WARNING: Conversion error for <MidiEvent PROGRAM_CHANGE, t=0, track=1, channel=1>: Got incorrect data for <MidiEvent PROGRAM_CHANGE, t=0, track=1, channel=1> in .data: None,cannot parse Program Change; ignored.\n",
      "midi.base.py: WARNING: Conversion error for <MidiEvent PROGRAM_CHANGE, t=0, track=1, channel=1>: Got incorrect data for <MidiEvent PROGRAM_CHANGE, t=0, track=1, channel=1> in .data: None,cannot parse Program Change; ignored.\n",
      "midi.base.py: WARNING: Conversion error for <MidiEvent PROGRAM_CHANGE, t=0, track=1, channel=1>: Got incorrect data for <MidiEvent PROGRAM_CHANGE, t=0, track=1, channel=1> in .data: None,cannot parse Program Change; ignored.\n",
      "midi.base.py: WARNING: Conversion error for <MidiEvent PROGRAM_CHANGE, t=0, track=2, channel=2>: Got incorrect data for <MidiEvent PROGRAM_CHANGE, t=0, track=2, channel=2> in .data: None,cannot parse Program Change; ignored.\n",
      "midi.base.py: WARNING: Conversion error for <MidiEvent PROGRAM_CHANGE, t=0, track=2, channel=2>: Got incorrect data for <MidiEvent PROGRAM_CHANGE, t=0, track=2, channel=2> in .data: None,cannot parse Program Change; ignored.\n",
      "midi.base.py: WARNING: Conversion error for <MidiEvent PROGRAM_CHANGE, t=0, track=1, channel=1>: Got incorrect data for <MidiEvent PROGRAM_CHANGE, t=0, track=1, channel=1> in .data: None,cannot parse Program Change; ignored.\n",
      "midi.base.py: WARNING: Conversion error for <MidiEvent PROGRAM_CHANGE, t=0, track=1, channel=1>: Got incorrect data for <MidiEvent PROGRAM_CHANGE, t=0, track=1, channel=1> in .data: None,cannot parse Program Change; ignored.\n",
      "midi.base.py: WARNING: Conversion error for <MidiEvent PROGRAM_CHANGE, t=0, track=1, channel=1>: Got incorrect data for <MidiEvent PROGRAM_CHANGE, t=0, track=1, channel=1> in .data: None,cannot parse Program Change; ignored.\n"
     ]
    },
    {
     "name": "stdout",
     "output_type": "stream",
     "text": [
      "badly formated midi string, got: \u0000\u0006Strav1\u0000\u0000\u0000\u0000\u0000\u0000\u0000\u0000\u0000\u0000\u0000\u0000\n",
      "badly formed midi string: missing leading MTrk\n"
     ]
    },
    {
     "name": "stderr",
     "output_type": "stream",
     "text": [
      "midi.base.py: WARNING: Conversion error for <MidiEvent PROGRAM_CHANGE, t=0, track=1, channel=1>: Got incorrect data for <MidiEvent PROGRAM_CHANGE, t=0, track=1, channel=1> in .data: None,cannot parse Program Change; ignored.\n",
      "midi.base.py: WARNING: Conversion error for <MidiEvent PROGRAM_CHANGE, t=0, track=1, channel=1>: Got incorrect data for <MidiEvent PROGRAM_CHANGE, t=0, track=1, channel=1> in .data: None,cannot parse Program Change; ignored.\n",
      "midi.base.py: WARNING: Conversion error for <MidiEvent PROGRAM_CHANGE, t=0, track=1, channel=1>: Got incorrect data for <MidiEvent PROGRAM_CHANGE, t=0, track=1, channel=1> in .data: None,cannot parse Program Change; ignored.\n",
      "midi.base.py: WARNING: Conversion error for <MidiEvent PROGRAM_CHANGE, t=0, track=1, channel=1>: Got incorrect data for <MidiEvent PROGRAM_CHANGE, t=0, track=1, channel=1> in .data: None,cannot parse Program Change; ignored.\n",
      "midi.base.py: WARNING: Conversion error for <MidiEvent PROGRAM_CHANGE, t=0, track=1, channel=1>: Got incorrect data for <MidiEvent PROGRAM_CHANGE, t=0, track=1, channel=1> in .data: None,cannot parse Program Change; ignored.\n",
      "midi.base.py: WARNING: Conversion error for <MidiEvent PROGRAM_CHANGE, t=0, track=1, channel=1>: Got incorrect data for <MidiEvent PROGRAM_CHANGE, t=0, track=1, channel=1> in .data: None,cannot parse Program Change; ignored.\n",
      "midi.base.py: WARNING: Conversion error for <MidiEvent PROGRAM_CHANGE, t=0, track=1, channel=1>: Got incorrect data for <MidiEvent PROGRAM_CHANGE, t=0, track=1, channel=1> in .data: None,cannot parse Program Change; ignored.\n",
      "midi.base.py: WARNING: Conversion error for <MidiEvent PROGRAM_CHANGE, t=0, track=1, channel=1>: Got incorrect data for <MidiEvent PROGRAM_CHANGE, t=0, track=1, channel=1> in .data: None,cannot parse Program Change; ignored.\n",
      "midi.base.py: WARNING: Conversion error for <MidiEvent PROGRAM_CHANGE, t=0, track=1, channel=1>: Got incorrect data for <MidiEvent PROGRAM_CHANGE, t=0, track=1, channel=1> in .data: None,cannot parse Program Change; ignored.\n",
      "midi.base.py: WARNING: Conversion error for <MidiEvent PROGRAM_CHANGE, t=0, track=1, channel=1>: Got incorrect data for <MidiEvent PROGRAM_CHANGE, t=0, track=1, channel=1> in .data: None,cannot parse Program Change; ignored.\n",
      "midi.base.py: WARNING: Conversion error for <MidiEvent PROGRAM_CHANGE, t=0, track=1, channel=1>: Got incorrect data for <MidiEvent PROGRAM_CHANGE, t=0, track=1, channel=1> in .data: None,cannot parse Program Change; ignored.\n",
      "midi.base.py: WARNING: Conversion error for <MidiEvent PROGRAM_CHANGE, t=0, track=1, channel=1>: Got incorrect data for <MidiEvent PROGRAM_CHANGE, t=0, track=1, channel=1> in .data: None,cannot parse Program Change; ignored.\n"
     ]
    },
    {
     "name": "stdout",
     "output_type": "stream",
     "text": [
      "badly formed midi string: missing leading MTrk\n"
     ]
    },
    {
     "name": "stderr",
     "output_type": "stream",
     "text": [
      "midi.base.py: WARNING: Conversion error for <MidiEvent PROGRAM_CHANGE, t=0, track=1, channel=1>: Got incorrect data for <MidiEvent PROGRAM_CHANGE, t=0, track=1, channel=1> in .data: None,cannot parse Program Change; ignored.\n",
      "midi.base.py: WARNING: Conversion error for <MidiEvent PROGRAM_CHANGE, t=0, track=1, channel=1>: Got incorrect data for <MidiEvent PROGRAM_CHANGE, t=0, track=1, channel=1> in .data: None,cannot parse Program Change; ignored.\n",
      "midi.base.py: WARNING: Conversion error for <MidiEvent PROGRAM_CHANGE, t=0, track=1, channel=1>: Got incorrect data for <MidiEvent PROGRAM_CHANGE, t=0, track=1, channel=1> in .data: None,cannot parse Program Change; ignored.\n",
      "midi.base.py: WARNING: Conversion error for <MidiEvent PROGRAM_CHANGE, t=0, track=1, channel=1>: Got incorrect data for <MidiEvent PROGRAM_CHANGE, t=0, track=1, channel=1> in .data: None,cannot parse Program Change; ignored.\n",
      "midi.base.py: WARNING: Conversion error for <MidiEvent PROGRAM_CHANGE, t=0, track=1, channel=1>: Got incorrect data for <MidiEvent PROGRAM_CHANGE, t=0, track=1, channel=1> in .data: None,cannot parse Program Change; ignored.\n",
      "midi.base.py: WARNING: Conversion error for <MidiEvent PROGRAM_CHANGE, t=0, track=2, channel=1>: Got incorrect data for <MidiEvent PROGRAM_CHANGE, t=0, track=2, channel=1> in .data: None,cannot parse Program Change; ignored.\n",
      "midi.base.py: WARNING: Conversion error for <MidiEvent PROGRAM_CHANGE, t=0, track=7, channel=1>: Got incorrect data for <MidiEvent PROGRAM_CHANGE, t=0, track=7, channel=1> in .data: None,cannot parse Program Change; ignored.\n",
      "midi.base.py: WARNING: Conversion error for <MidiEvent PROGRAM_CHANGE, t=0, track=7, channel=1>: Got incorrect data for <MidiEvent PROGRAM_CHANGE, t=0, track=7, channel=1> in .data: None,cannot parse Program Change; ignored.\n",
      "midi.base.py: WARNING: Conversion error for <MidiEvent PROGRAM_CHANGE, t=0, track=8, channel=1>: Got incorrect data for <MidiEvent PROGRAM_CHANGE, t=0, track=8, channel=1> in .data: None,cannot parse Program Change; ignored.\n",
      "midi.base.py: WARNING: Conversion error for <MidiEvent PROGRAM_CHANGE, t=0, track=10, channel=1>: Got incorrect data for <MidiEvent PROGRAM_CHANGE, t=0, track=10, channel=1> in .data: None,cannot parse Program Change; ignored.\n"
     ]
    },
    {
     "name": "stdout",
     "output_type": "stream",
     "text": [
      "\n"
     ]
    },
    {
     "name": "stderr",
     "output_type": "stream",
     "text": [
      "midi.base.py: WARNING: Conversion error for <MidiEvent PROGRAM_CHANGE, t=0, track=1, channel=1>: Got incorrect data for <MidiEvent PROGRAM_CHANGE, t=0, track=1, channel=1> in .data: None,cannot parse Program Change; ignored.\n",
      "midi.base.py: WARNING: Conversion error for <MidiEvent PROGRAM_CHANGE, t=0, track=1, channel=1>: Got incorrect data for <MidiEvent PROGRAM_CHANGE, t=0, track=1, channel=1> in .data: None,cannot parse Program Change; ignored.\n",
      "midi.base.py: WARNING: Conversion error for <MidiEvent PROGRAM_CHANGE, t=0, track=1, channel=1>: Got incorrect data for <MidiEvent PROGRAM_CHANGE, t=0, track=1, channel=1> in .data: None,cannot parse Program Change; ignored.\n",
      "midi.base.py: WARNING: Conversion error for <MidiEvent PROGRAM_CHANGE, t=0, track=1, channel=1>: Got incorrect data for <MidiEvent PROGRAM_CHANGE, t=0, track=1, channel=1> in .data: None,cannot parse Program Change; ignored.\n",
      "midi.base.py: WARNING: Conversion error for <MidiEvent PROGRAM_CHANGE, t=0, track=1, channel=1>: Got incorrect data for <MidiEvent PROGRAM_CHANGE, t=0, track=1, channel=1> in .data: None,cannot parse Program Change; ignored.\n",
      "midi.base.py: WARNING: Conversion error for <MidiEvent PROGRAM_CHANGE, t=0, track=1, channel=1>: Got incorrect data for <MidiEvent PROGRAM_CHANGE, t=0, track=1, channel=1> in .data: None,cannot parse Program Change; ignored.\n",
      "midi.base.py: WARNING: Conversion error for <MidiEvent PROGRAM_CHANGE, t=0, track=1, channel=1>: Got incorrect data for <MidiEvent PROGRAM_CHANGE, t=0, track=1, channel=1> in .data: None,cannot parse Program Change; ignored.\n",
      "midi.base.py: WARNING: Conversion error for <MidiEvent PROGRAM_CHANGE, t=0, track=1, channel=1>: Got incorrect data for <MidiEvent PROGRAM_CHANGE, t=0, track=1, channel=1> in .data: None,cannot parse Program Change; ignored.\n",
      "midi.base.py: WARNING: Conversion error for <MidiEvent PROGRAM_CHANGE, t=0, track=1, channel=1>: Got incorrect data for <MidiEvent PROGRAM_CHANGE, t=0, track=1, channel=1> in .data: None,cannot parse Program Change; ignored.\n",
      "midi.base.py: WARNING: Conversion error for <MidiEvent PROGRAM_CHANGE, t=0, track=1, channel=1>: Got incorrect data for <MidiEvent PROGRAM_CHANGE, t=0, track=1, channel=1> in .data: None,cannot parse Program Change; ignored.\n",
      "midi.base.py: WARNING: Conversion error for <MidiEvent PROGRAM_CHANGE, t=0, track=1, channel=1>: Got incorrect data for <MidiEvent PROGRAM_CHANGE, t=0, track=1, channel=1> in .data: None,cannot parse Program Change; ignored.\n",
      "midi.base.py: WARNING: Conversion error for <MidiEvent PROGRAM_CHANGE, t=0, track=1, channel=1>: Got incorrect data for <MidiEvent PROGRAM_CHANGE, t=0, track=1, channel=1> in .data: None,cannot parse Program Change; ignored.\n",
      "midi.base.py: WARNING: Conversion error for <MidiEvent PROGRAM_CHANGE, t=0, track=1, channel=1>: Got incorrect data for <MidiEvent PROGRAM_CHANGE, t=0, track=1, channel=1> in .data: None,cannot parse Program Change; ignored.\n",
      "midi.base.py: WARNING: Conversion error for <MidiEvent PROGRAM_CHANGE, t=0, track=1, channel=1>: Got incorrect data for <MidiEvent PROGRAM_CHANGE, t=0, track=1, channel=1> in .data: None,cannot parse Program Change; ignored.\n"
     ]
    },
    {
     "name": "stdout",
     "output_type": "stream",
     "text": [
      "string index out of range\n"
     ]
    }
   ],
   "source": [
    "pool = Pool(7)\n",
    "pool.map(wrapper, tqdm(zip(batch, range(len(batch)))))\n",
    "pool.close()"
   ]
  },
  {
   "cell_type": "code",
   "execution_count": null,
   "metadata": {
    "collapsed": true
   },
   "outputs": [],
   "source": []
  }
 ],
 "metadata": {
  "kernelspec": {
   "display_name": "Python 2",
   "language": "python",
   "name": "python2"
  },
  "language_info": {
   "codemirror_mode": {
    "name": "ipython",
    "version": 2
   },
   "file_extension": ".py",
   "mimetype": "text/x-python",
   "name": "python",
   "nbconvert_exporter": "python",
   "pygments_lexer": "ipython2",
   "version": "2.7.12"
  }
 },
 "nbformat": 4,
 "nbformat_minor": 2
}
