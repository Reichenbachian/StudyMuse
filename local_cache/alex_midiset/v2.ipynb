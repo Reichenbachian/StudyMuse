{
 "cells": [
  {
   "cell_type": "code",
   "execution_count": 1,
   "metadata": {},
   "outputs": [
    {
     "name": "stderr",
     "output_type": "stream",
     "text": [
      " \n",
      "Music21 v.4 is the last version that will support Python 2.\n",
      "Please start using Python 3 instead.\n",
      "\n",
      "Set music21.environment.UserSettings()['warnings'] = 0\n",
      "to disable this message.\n",
      "\n"
     ]
    }
   ],
   "source": [
    "import os\n",
    "import pandas as pd\n",
    "from glob2 import glob, iglob\n",
    "from tqdm import tqdm\n",
    "from music21.midi.translate import midiFilePathToStream\n",
    "from multiprocessing import Pool\n",
    "from timeout import timeout\n",
    "import hashlib\n",
    "import inspect\n",
    "import pdb\n",
    "import mido"
   ]
  },
  {
   "cell_type": "markdown",
   "metadata": {},
   "source": [
    "## Inside Label File\n",
    " - Number of instruments\n",
    " - Instrument names\n",
    " - Original file name\n",
    " - Length in seconds\n",
    " - Number of midi events"
   ]
  },
  {
   "cell_type": "code",
   "execution_count": 2,
   "metadata": {
    "scrolled": true
   },
   "outputs": [
    {
     "name": "stdout",
     "output_type": "stream",
     "text": [
      "('There are', 194416, 'in folder.')\n"
     ]
    }
   ],
   "source": [
    "batch = glob('v1/*.[mM][iI][dD]')\n",
    "print('There are', len(batch), 'in folder.')"
   ]
  },
  {
   "cell_type": "code",
   "execution_count": 3,
   "metadata": {},
   "outputs": [],
   "source": [
    "out_midi_dir = 'v2/midis/'\n",
    "out_label_dir = 'v2/labels/'"
   ]
  },
  {
   "cell_type": "code",
   "execution_count": 4,
   "metadata": {},
   "outputs": [],
   "source": [
    "errors = []\n",
    "\n",
    "def wrapper(tup):\n",
    "    path, id_ = tup\n",
    "    try:\n",
    "        process(path, id_)\n",
    "    except Exception as e:\n",
    "        errors.append(e)\n",
    "\n",
    "@timeout(50)\n",
    "def process(path, id_):\n",
    "    ##### CREATE NAMES\n",
    "    f_name = os.path.split(path)[-1]\n",
    "    hash_ = hashlib.md5(open(path, 'rb').read()).hexdigest()\n",
    "    label_out = out_label_dir+hash_+'.csv'\n",
    "    midi_out = out_midi_dir+hash_+'.mid'\n",
    "    if os.path.exists(midi_out) and os.path.exists(label_out):\n",
    "        # Return if already created\n",
    "        return\n",
    "    #### READ IN MIDIS AND GET INFO\n",
    "    mid = mido.MidiFile(path)\n",
    "    instruments = [x.name for x in mid.tracks]\n",
    "    num_tracks = len(instruments)\n",
    "    instruments = filter(lambda x: x != '', instruments)\n",
    "    label = pd.DataFrame({'instruments': [','.join([x.replace(',', '\\,') for x in instruments])],\n",
    "                          'length': [mid.length],\n",
    "                          'num_tracks': [num_tracks],\n",
    "                          'num_nonempty_tracks': [len(instruments)],\n",
    "                          'original_fname': [f_name],\n",
    "                          'num_midi_events': [max([len(x) for x in mid.tracks])],\n",
    "                          })\n",
    "    label.to_csv(label_out, index=False)\n",
    "    mid.save(midi_out)"
   ]
  },
  {
   "cell_type": "code",
   "execution_count": null,
   "metadata": {},
   "outputs": [
    {
     "name": "stderr",
     "output_type": "stream",
     "text": [
      "  4%|▍         | 7785/194416 [11:58<4:46:57, 10.84it/s]"
     ]
    }
   ],
   "source": [
    "# map(wrapper, tqdm(zip(batch, range(len(batch)))))\n",
    "p = Pool(30)\n",
    "for i, _ in tqdm(enumerate(p.imap_unordered(wrapper, zip(batch, range(len(batch))))), total=len(batch)):\n",
    "    pass\n",
    "pool.close()"
   ]
  },
  {
   "cell_type": "code",
   "execution_count": null,
   "metadata": {},
   "outputs": [],
   "source": []
  }
 ],
 "metadata": {
  "kernelspec": {
   "display_name": "Python 2",
   "language": "python",
   "name": "python2"
  },
  "language_info": {
   "codemirror_mode": {
    "name": "ipython",
    "version": 2
   },
   "file_extension": ".py",
   "mimetype": "text/x-python",
   "name": "python",
   "nbconvert_exporter": "python",
   "pygments_lexer": "ipython2",
   "version": "2.7.12"
  }
 },
 "nbformat": 4,
 "nbformat_minor": 2
}
