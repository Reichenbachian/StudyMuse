{
 "cells": [
  {
   "cell_type": "code",
   "execution_count": 1,
   "metadata": {},
   "outputs": [
    {
     "name": "stderr",
     "output_type": "stream",
     "text": [
      " \n",
      "Music21 v.4 is the last version that will support Python 2.\n",
      "Please start using Python 3 instead.\n",
      "\n",
      "Set music21.environment.UserSettings()['warnings'] = 0\n",
      "to disable this message.\n",
      "\n"
     ]
    }
   ],
   "source": [
    "import music21 as m2\n",
    "from mido import MidiFile\n",
    "from multiprocessing import Pool\n",
    "import os\n",
    "from glob2 import iglob, glob\n",
    "from timeout import timeout\n",
    "from tqdm import tqdm\n",
    "from random import shuffle"
   ]
  },
  {
   "cell_type": "code",
   "execution_count": 2,
   "metadata": {
    "collapsed": true
   },
   "outputs": [],
   "source": [
    "input_regex = '/Users/localhost/Desktop/Projects/Working/StudyMuse/local_cache/**/*.[mM][IixX][lLdD]'\n",
    "output_dir = '/Users/localhost/Desktop/Projects/Working/StudyMuse/local_cache/alex_midiset/v1/'"
   ]
  },
  {
   "cell_type": "code",
   "execution_count": 3,
   "metadata": {},
   "outputs": [
    {
     "name": "stdout",
     "output_type": "stream",
     "text": [
      "('Converting', 220171, 'midis.')\n"
     ]
    }
   ],
   "source": [
    "batch = glob(input_regex)\n",
    "shuffle(batch)\n",
    "print('Converting', len(batch), 'midis.')"
   ]
  },
  {
   "cell_type": "code",
   "execution_count": null,
   "metadata": {
    "collapsed": true
   },
   "outputs": [],
   "source": [
    "errors = []\n",
    "\n",
    "def wrapper(tup):\n",
    "    path, id_ = tup\n",
    "    try:\n",
    "        process(path, id_)\n",
    "    except:\n",
    "        errors.append('timeout on '+str(path))\n",
    "\n",
    "@timeout(2)\n",
    "def process(path, id_):\n",
    "    f_name = os.path.split(path)[-1]\n",
    "    out_path = output_dir+str(id_)+'_'+f_name\n",
    "    out_path = out_path.replace('.mxl', '.mid')\n",
    "    if os.path.exists(out_path):\n",
    "        return\n",
    "    \n",
    "    try:\n",
    "        m = MidiFile(path)\n",
    "        m.save(out_path)\n",
    "    except:\n",
    "        try:\n",
    "            m = m2.converter.parse(path)\n",
    "            m.write(fmt='midi', fp=out_path)\n",
    "        except Exception as e:\n",
    "            print(e)\n",
    "            errors.append(e)"
   ]
  },
  {
   "cell_type": "code",
   "execution_count": null,
   "metadata": {
    "scrolled": true
   },
   "outputs": [
    {
     "name": "stderr",
     "output_type": "stream",
     "text": [
      " 28%|██▊       | 61329/220171 [00:00<00:00, 299140.92it/s]"
     ]
    },
    {
     "name": "stdout",
     "output_type": "stream",
     "text": [
      "\n",
      "\n"
     ]
    },
    {
     "name": "stderr",
     "output_type": "stream",
     "text": [
      "\r",
      " 28%|██▊       | 61329/220171 [00:20<00:51, 3065.66it/s]  "
     ]
    },
    {
     "name": "stdout",
     "output_type": "stream",
     "text": [
      "\n",
      "\n"
     ]
    },
    {
     "name": "stderr",
     "output_type": "stream",
     "text": [
      "midi.base.py: WARNING: Conversion error for <MidiEvent PROGRAM_CHANGE, t=0, track=1, channel=1>: Got incorrect data for <MidiEvent PROGRAM_CHANGE, t=0, track=1, channel=1> in .data: None,cannot parse Program Change; ignored.\n",
      "midi.base.py: WARNING: Conversion error for <MidiEvent PROGRAM_CHANGE, t=0, track=1, channel=1>: Got incorrect data for <MidiEvent PROGRAM_CHANGE, t=0, track=1, channel=1> in .data: None,cannot parse Program Change; ignored.\n",
      "midi.base.py: WARNING: Conversion error for <MidiEvent PROGRAM_CHANGE, t=0, track=1, channel=1>: Got incorrect data for <MidiEvent PROGRAM_CHANGE, t=0, track=1, channel=1> in .data: None,cannot parse Program Change; ignored.\n",
      "midi.base.py: WARNING: Conversion error for <MidiEvent PROGRAM_CHANGE, t=0, track=1, channel=1>: Got incorrect data for <MidiEvent PROGRAM_CHANGE, t=0, track=1, channel=1> in .data: None,cannot parse Program Change; ignored.\n"
     ]
    },
    {
     "name": "stdout",
     "output_type": "stream",
     "text": [
      "\n",
      "\n",
      "\n",
      "badly formated midi string, got: vti_encoding:SR|utf8\n",
      "badly formated midi string, got: \u0000\u0000\u0001\u0000\u0000\u0000\u0001\u0000\u0000\u0000\u0000\u0000\u0000\u0000\u0000\u001e",
      "\u0000\u0000\u0000\u0000\n",
      "\n",
      "\n",
      "badly formed midi string: missing leading MTrk\n",
      "\n",
      "\n",
      "\n",
      "\n"
     ]
    },
    {
     "name": "stderr",
     "output_type": "stream",
     "text": [
      "midi.base.py: WARNING: Conversion error for <MidiEvent PROGRAM_CHANGE, t=0, track=1, channel=1>: Got incorrect data for <MidiEvent PROGRAM_CHANGE, t=0, track=1, channel=1> in .data: None,cannot parse Program Change; ignored.\n",
      "midi.base.py: WARNING: Conversion error for <MidiEvent PROGRAM_CHANGE, t=0, track=2, channel=2>: Got incorrect data for <MidiEvent PROGRAM_CHANGE, t=0, track=2, channel=2> in .data: None,cannot parse Program Change; ignored.\n"
     ]
    },
    {
     "name": "stdout",
     "output_type": "stream",
     "text": [
      "\n",
      "\n",
      "\n"
     ]
    },
    {
     "name": "stderr",
     "output_type": "stream",
     "text": [
      "midi.base.py: WARNING: Conversion error for <MidiEvent PROGRAM_CHANGE, t=0, track=13, channel=11>: Got incorrect data for <MidiEvent PROGRAM_CHANGE, t=0, track=13, channel=11> in .data: None,cannot parse Program Change; ignored.\n",
      "midi.base.py: WARNING: Conversion error for <MidiEvent PROGRAM_CHANGE, t=0, track=13, channel=11>: Got incorrect data for <MidiEvent PROGRAM_CHANGE, t=0, track=13, channel=11> in .data: None,cannot parse Program Change; ignored.\n",
      "midi.base.py: WARNING: Conversion error for <MidiEvent PROGRAM_CHANGE, t=0, track=13, channel=11>: Got incorrect data for <MidiEvent PROGRAM_CHANGE, t=0, track=13, channel=11> in .data: None,cannot parse Program Change; ignored.\n",
      "midi.base.py: WARNING: Conversion error for <MidiEvent PROGRAM_CHANGE, t=0, track=13, channel=11>: Got incorrect data for <MidiEvent PROGRAM_CHANGE, t=0, track=13, channel=11> in .data: None,cannot parse Program Change; ignored.\n",
      "midi.base.py: WARNING: Conversion error for <MidiEvent PROGRAM_CHANGE, t=0, track=14, channel=11>: Got incorrect data for <MidiEvent PROGRAM_CHANGE, t=0, track=14, channel=11> in .data: None,cannot parse Program Change; ignored.\n",
      "midi.base.py: WARNING: Conversion error for <MidiEvent PROGRAM_CHANGE, t=0, track=14, channel=11>: Got incorrect data for <MidiEvent PROGRAM_CHANGE, t=0, track=14, channel=11> in .data: None,cannot parse Program Change; ignored.\n",
      "midi.base.py: WARNING: Conversion error for <MidiEvent PROGRAM_CHANGE, t=0, track=14, channel=11>: Got incorrect data for <MidiEvent PROGRAM_CHANGE, t=0, track=14, channel=11> in .data: None,cannot parse Program Change; ignored.\n",
      "midi.base.py: WARNING: Conversion error for <MidiEvent PROGRAM_CHANGE, t=0, track=14, channel=11>: Got incorrect data for <MidiEvent PROGRAM_CHANGE, t=0, track=14, channel=11> in .data: None,cannot parse Program Change; ignored.\n",
      "midi.base.py: WARNING: Conversion error for <MidiEvent PROGRAM_CHANGE, t=0, track=14, channel=11>: Got incorrect data for <MidiEvent PROGRAM_CHANGE, t=0, track=14, channel=11> in .data: None,cannot parse Program Change; ignored.\n",
      "midi.base.py: WARNING: Conversion error for <MidiEvent PROGRAM_CHANGE, t=0, track=15, channel=11>: Got incorrect data for <MidiEvent PROGRAM_CHANGE, t=0, track=15, channel=11> in .data: None,cannot parse Program Change; ignored.\n",
      "midi.base.py: WARNING: Conversion error for <MidiEvent PROGRAM_CHANGE, t=0, track=15, channel=11>: Got incorrect data for <MidiEvent PROGRAM_CHANGE, t=0, track=15, channel=11> in .data: None,cannot parse Program Change; ignored.\n",
      "midi.base.py: WARNING: Conversion error for <MidiEvent PROGRAM_CHANGE, t=0, track=15, channel=11>: Got incorrect data for <MidiEvent PROGRAM_CHANGE, t=0, track=15, channel=11> in .data: None,cannot parse Program Change; ignored.\n",
      "midi.base.py: WARNING: Conversion error for <MidiEvent PROGRAM_CHANGE, t=0, track=16, channel=11>: Got incorrect data for <MidiEvent PROGRAM_CHANGE, t=0, track=16, channel=11> in .data: None,cannot parse Program Change; ignored.\n",
      "midi.base.py: WARNING: Conversion error for <MidiEvent PROGRAM_CHANGE, t=0, track=16, channel=11>: Got incorrect data for <MidiEvent PROGRAM_CHANGE, t=0, track=16, channel=11> in .data: None,cannot parse Program Change; ignored.\n",
      "midi.base.py: WARNING: Conversion error for <MidiEvent PROGRAM_CHANGE, t=0, track=16, channel=11>: Got incorrect data for <MidiEvent PROGRAM_CHANGE, t=0, track=16, channel=11> in .data: None,cannot parse Program Change; ignored.\n",
      "midi.base.py: WARNING: Conversion error for <MidiEvent PROGRAM_CHANGE, t=0, track=16, channel=11>: Got incorrect data for <MidiEvent PROGRAM_CHANGE, t=0, track=16, channel=11> in .data: None,cannot parse Program Change; ignored.\n",
      "midi.base.py: WARNING: Conversion error for <MidiEvent PROGRAM_CHANGE, t=0, track=16, channel=11>: Got incorrect data for <MidiEvent PROGRAM_CHANGE, t=0, track=16, channel=11> in .data: None,cannot parse Program Change; ignored.\n",
      "midi.base.py: WARNING: Conversion error for <MidiEvent PROGRAM_CHANGE, t=0, track=17, channel=11>: Got incorrect data for <MidiEvent PROGRAM_CHANGE, t=0, track=17, channel=11> in .data: None,cannot parse Program Change; ignored.\n",
      "midi.base.py: WARNING: Conversion error for <MidiEvent PROGRAM_CHANGE, t=0, track=17, channel=11>: Got incorrect data for <MidiEvent PROGRAM_CHANGE, t=0, track=17, channel=11> in .data: None,cannot parse Program Change; ignored.\n",
      "midi.base.py: WARNING: Conversion error for <MidiEvent PROGRAM_CHANGE, t=0, track=17, channel=11>: Got incorrect data for <MidiEvent PROGRAM_CHANGE, t=0, track=17, channel=11> in .data: None,cannot parse Program Change; ignored.\n",
      "midi.base.py: WARNING: Conversion error for <MidiEvent PROGRAM_CHANGE, t=0, track=17, channel=11>: Got incorrect data for <MidiEvent PROGRAM_CHANGE, t=0, track=17, channel=11> in .data: None,cannot parse Program Change; ignored.\n",
      "midi.base.py: WARNING: Conversion error for <MidiEvent PROGRAM_CHANGE, t=0, track=17, channel=11>: Got incorrect data for <MidiEvent PROGRAM_CHANGE, t=0, track=17, channel=11> in .data: None,cannot parse Program Change; ignored.\n",
      "midi.base.py: WARNING: Conversion error for <MidiEvent PROGRAM_CHANGE, t=0, track=17, channel=11>: Got incorrect data for <MidiEvent PROGRAM_CHANGE, t=0, track=17, channel=11> in .data: None,cannot parse Program Change; ignored.\n"
     ]
    },
    {
     "name": "stdout",
     "output_type": "stream",
     "text": [
      "\n",
      "\n",
      "\n",
      "\n"
     ]
    },
    {
     "name": "stderr",
     "output_type": "stream",
     "text": [
      "midi.base.py: WARNING: Conversion error for <MidiEvent PROGRAM_CHANGE, t=0, track=1, channel=1>: Got incorrect data for <MidiEvent PROGRAM_CHANGE, t=0, track=1, channel=1> in .data: None,cannot parse Program Change; ignored.\n",
      "midi.base.py: WARNING: Conversion error for <MidiEvent PROGRAM_CHANGE, t=0, track=2, channel=1>: Got incorrect data for <MidiEvent PROGRAM_CHANGE, t=0, track=2, channel=1> in .data: None,cannot parse Program Change; ignored.\n",
      "midi.base.py: WARNING: Conversion error for <MidiEvent PROGRAM_CHANGE, t=0, track=3, channel=1>: Got incorrect data for <MidiEvent PROGRAM_CHANGE, t=0, track=3, channel=1> in .data: None,cannot parse Program Change; ignored.\n"
     ]
    },
    {
     "name": "stdout",
     "output_type": "stream",
     "text": [
      "\n"
     ]
    },
    {
     "name": "stderr",
     "output_type": "stream",
     "text": [
      "midi.base.py: WARNING: Conversion error for <MidiEvent PROGRAM_CHANGE, t=0, track=1, channel=1>: Got incorrect data for <MidiEvent PROGRAM_CHANGE, t=0, track=1, channel=1> in .data: None,cannot parse Program Change; ignored.\n"
     ]
    },
    {
     "name": "stdout",
     "output_type": "stream",
     "text": [
      "\n",
      "\n",
      "string index out of range\n",
      "badly formed midi string: missing leading MTrk\n",
      "\n",
      "\n",
      "\n",
      "\n",
      "\n",
      "badly formated midi string, got: vti_encoding:SR|utf8\n",
      "badly formated midi string, got: RIFF�[\u0000\u0000RMIDdata�[\u0000\u0000\n",
      "badly formated midi string, got: <HEAD><TITLE>File No\n",
      "\n",
      "\n",
      "\n",
      "\n",
      "\n",
      "\n",
      "badly formated midi string, got: vti_encoding:SR|utf8\n",
      "\n",
      "\n",
      "\n",
      "list index out of range\n",
      "\n",
      "badly formated midi string, got: vti_encoding:SR|utf8\n",
      "\n",
      "\n"
     ]
    }
   ],
   "source": [
    "pool = Pool(2)\n",
    "pool.map(wrapper, tqdm(zip(batch, range(len(batch)))))\n",
    "pool.close()"
   ]
  },
  {
   "cell_type": "code",
   "execution_count": null,
   "metadata": {
    "collapsed": true
   },
   "outputs": [],
   "source": []
  }
 ],
 "metadata": {
  "kernelspec": {
   "display_name": "Python 2",
   "language": "python",
   "name": "python2"
  },
  "language_info": {
   "codemirror_mode": {
    "name": "ipython",
    "version": 2
   },
   "file_extension": ".py",
   "mimetype": "text/x-python",
   "name": "python",
   "nbconvert_exporter": "python",
   "pygments_lexer": "ipython2",
   "version": "2.7.10"
  }
 },
 "nbformat": 4,
 "nbformat_minor": 2
}
