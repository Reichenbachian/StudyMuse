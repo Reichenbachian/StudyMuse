{
 "cells": [
  {
   "cell_type": "code",
   "execution_count": 59,
   "metadata": {},
   "outputs": [],
   "source": [
    "import numpy as np\n",
    "import tensorflow as tf\n",
    "import random\n",
    "from keras.layers import *\n",
    "import pdb\n",
    "from keras.models import Model\n",
    "from functools import partial\n",
    "from tqdm import tqdm_notebook as tqdm\n",
    "\n",
    "### Data Loading\n",
    "from adlframework.processors.general_processors import crop, reshape, pdb_trace\n",
    "from adlframework.processors.lstm_processors import crop_and_label\n",
    "from adlframework.processors.midi_processors import midi_to_np, notes_to_classification, make_time_relative\n",
    "from adlframework.filters.general_filters import min_array_shape, threshold_label\n",
    "from adlframework.retrievals.BlobLocalCache import BlobLocalCache\n",
    "from adlframework.datasource import DataSource\n",
    "from adlframework.dataentity.midi_de import MidiDataEntity"
   ]
  },
  {
   "cell_type": "code",
   "execution_count": 2,
   "metadata": {},
   "outputs": [],
   "source": [
    "i = Input((100, 3))\n",
    "bn = BatchNormalization()(i)\n",
    "lstm_layer = LSTM(100)(bn)\n",
    "notes = Dense(88)(lstm_layer)\n",
    "space = Dense(12)(lstm_layer)\n",
    "duration = Dense(11)(lstm_layer)\n",
    "notes_prob = Activation('softmax')(notes)\n",
    "space_prob = Activation('softmax')(space)\n",
    "duration_prob = Activation('softmax')(duration)\n",
    "model = Model(i, [space_prob, duration_prob, notes_prob])\n",
    "model.compile('adam', 'categorical_crossentropy')"
   ]
  },
  {
   "cell_type": "code",
   "execution_count": 23,
   "metadata": {},
   "outputs": [],
   "source": [
    "def convert_to_one_hot(sample):\n",
    "    data, label = sample\n",
    "    ret = []\n",
    "    for i, v  in enumerate([12, 11, 88]):\n",
    "        z = np.zeros(v)\n",
    "        z[label[0][i]] = 1\n",
    "        ret.append(z)\n",
    "    return data, ret"
   ]
  },
  {
   "cell_type": "markdown",
   "metadata": {},
   "source": [
    "## ADLFramework Data"
   ]
  },
  {
   "cell_type": "code",
   "execution_count": 27,
   "metadata": {},
   "outputs": [
    {
     "name": "stderr",
     "output_type": "stream",
     "text": [
      "INFO:adlframework.datasource:Prefiltering entities\n",
      "WARNING:adlframework.datasource:Using split may cause datasource specific training. (For instance, overfitting on a single speaker.)\n"
     ]
    },
    {
     "name": "stdout",
     "output_type": "stream",
     "text": [
      "Retrieval not named, so won't be cached.\n"
     ]
    },
    {
     "name": "stderr",
     "output_type": "stream",
     "text": [
      "WARNING:adlframework.datasource:Using split may cause datasource specific training. (For instance, overfitting on a single speaker.)\n"
     ]
    }
   ],
   "source": [
    "### Controllers\n",
    "controllers = [partial(threshold_label, labelnames=\"num_instruments\", threshold=1, greater_than=False),\n",
    "                midi_to_np,\n",
    "                partial(min_array_shape, min_shape=(101, 4)),\n",
    "                partial(crop, shape=(101, 3)),\n",
    "                make_time_relative,\n",
    "                notes_to_classification,\n",
    "                partial(crop_and_label, num_rows=1),\n",
    "                convert_to_one_hot ## Not applied to input data, only label\n",
    "              ]\n",
    "\n",
    "### Load Data\n",
    "base = '/Users/localhost/Desktop/Projects/Working/StudyMuse/local_cache/alex_midiset/v2/'\n",
    "midi_retrieval = BlobLocalCache(base+'midis/', base+'labels/')\n",
    "midi_ds = DataSource(midi_retrieval, MidiDataEntity,\n",
    "                         verbosity=0,\n",
    "\t\t\t\t\t\tcontrollers=controllers,\n",
    "\t\t\t\t\t\tbackend='madmom',\n",
    "\t\t\t\t\t\tbatch_size=50)\n",
    "\n",
    "train_ds, temp = DataSource.split(midi_ds, split_percent=.6) # Train at .6\n",
    "val_ds, test_ds = DataSource.split(temp, split_percent=.6) # Val at .24, test at .16"
   ]
  },
  {
   "cell_type": "markdown",
   "metadata": {},
   "source": [
    "## Experiment"
   ]
  },
  {
   "cell_type": "code",
   "execution_count": 56,
   "metadata": {},
   "outputs": [],
   "source": [
    "### Hyperparameters\n",
    "epochs = 100"
   ]
  },
  {
   "cell_type": "code",
   "execution_count": null,
   "metadata": {
    "scrolled": true
   },
   "outputs": [
    {
     "name": "stderr",
     "output_type": "stream",
     "text": [
      "Widget Javascript not detected.  It may not be installed or enabled properly.\n"
     ]
    },
    {
     "data": {
      "application/vnd.jupyter.widget-view+json": {
       "model_id": "ef4a96adc2874b23a8d83bc01dd9d42b"
      }
     },
     "metadata": {},
     "output_type": "display_data"
    },
    {
     "name": "stdout",
     "output_type": "stream",
     "text": [
      "[9.3263245, 2.444927, 2.4018421, 4.4795556]\n"
     ]
    },
    {
     "name": "stderr",
     "output_type": "stream",
     "text": [
      "INFO:adlframework.datasource:Looped the datasource\n",
      "INFO:adlframework.datasource:Shuffling the datasource\n"
     ]
    },
    {
     "name": "stdout",
     "output_type": "stream",
     "text": [
      "[9.3485603, 2.4758248, 2.3823757, 4.4903593]\n",
      "[9.2823601, 2.4287977, 2.3712609, 4.4823012]\n",
      "[9.2568178, 2.4187486, 2.3625295, 4.4755397]\n",
      "[9.2724934, 2.4488504, 2.3671637, 4.4564786]\n",
      "[9.2167721, 2.4173594, 2.3296585, 4.4697547]\n",
      "[9.183672, 2.4111593, 2.3035264, 4.468986]\n"
     ]
    },
    {
     "name": "stderr",
     "output_type": "stream",
     "text": [
      "INFO:adlframework.datasource:Looped the datasource\n",
      "INFO:adlframework.datasource:Shuffling the datasource\n"
     ]
    },
    {
     "name": "stdout",
     "output_type": "stream",
     "text": [
      "[9.1398335, 2.3903506, 2.2921, 4.4573836]\n",
      "[9.1582718, 2.4030619, 2.2866931, 4.4685163]\n",
      "[9.0771217, 2.3860672, 2.2553389, 4.4357152]\n",
      "[8.9863462, 2.3236413, 2.2385538, 4.4241514]\n",
      "[8.9964104, 2.3259966, 2.2350836, 4.4353304]\n",
      "[8.9541569, 2.3297303, 2.1803341, 4.4440932]\n"
     ]
    },
    {
     "name": "stderr",
     "output_type": "stream",
     "text": [
      "INFO:adlframework.datasource:Looped the datasource\n",
      "INFO:adlframework.datasource:Shuffling the datasource\n"
     ]
    },
    {
     "name": "stdout",
     "output_type": "stream",
     "text": [
      "[8.7394085, 2.2135475, 2.0759661, 4.4498949]\n",
      "[8.8110685, 2.3330941, 2.0789814, 4.398993]\n",
      "[8.7199478, 2.2944877, 2.0059571, 4.4195027]\n",
      "[8.3665047, 2.0610561, 1.9290695, 4.3763795]\n",
      "[8.1487141, 2.0680075, 1.796735, 4.2839718]\n",
      "[7.8315549, 2.0698936, 1.4621894, 4.2994719]\n"
     ]
    },
    {
     "name": "stderr",
     "output_type": "stream",
     "text": [
      "INFO:adlframework.datasource:Looped the datasource\n",
      "INFO:adlframework.datasource:Shuffling the datasource\n"
     ]
    },
    {
     "name": "stdout",
     "output_type": "stream",
     "text": [
      "[7.9522905, 2.1248388, 1.5653327, 4.2621193]\n",
      "[7.7238731, 2.1424217, 1.34253, 4.2389216]\n",
      "[8.08885, 2.3370333, 1.4461679, 4.3056483]\n",
      "[8.3832283, 2.6048193, 1.6509399, 4.1274695]\n",
      "[7.4092894, 2.0113027, 1.3196298, 4.0783567]\n",
      "[8.0546894, 2.0261924, 1.8717151, 4.1567822]\n"
     ]
    },
    {
     "name": "stderr",
     "output_type": "stream",
     "text": [
      "INFO:adlframework.datasource:Looped the datasource\n",
      "INFO:adlframework.datasource:Shuffling the datasource\n"
     ]
    },
    {
     "name": "stdout",
     "output_type": "stream",
     "text": [
      "[7.3198733, 2.0890393, 1.1938668, 4.0369673]\n",
      "[7.8182063, 2.1832323, 1.6117973, 4.0231767]\n",
      "[7.7943373, 2.2509081, 1.3808038, 4.1626253]\n",
      "[7.3730111, 1.9375296, 1.4429625, 3.9925189]\n",
      "[7.4531088, 2.1779618, 1.3183038, 3.9568429]\n",
      "[7.437922, 1.9939035, 1.4013875, 4.0426311]\n"
     ]
    },
    {
     "name": "stderr",
     "output_type": "stream",
     "text": [
      "INFO:adlframework.datasource:Looped the datasource\n",
      "INFO:adlframework.datasource:Shuffling the datasource\n"
     ]
    },
    {
     "name": "stdout",
     "output_type": "stream",
     "text": [
      "[6.9334021, 1.7685571, 1.2562028, 3.9086425]\n",
      "[7.0026894, 1.9370705, 1.0506415, 4.0149775]\n",
      "[7.0837612, 1.9068707, 1.2213244, 3.9555662]\n",
      "[6.975575, 1.9624199, 1.2316521, 3.781503]\n",
      "[6.9623775, 1.9053193, 1.2986345, 3.758424]\n",
      "[6.9514446, 2.0915833, 1.110536, 3.7493255]\n"
     ]
    },
    {
     "name": "stderr",
     "output_type": "stream",
     "text": [
      "INFO:adlframework.datasource:Looped the datasource\n",
      "INFO:adlframework.datasource:Shuffling the datasource\n"
     ]
    },
    {
     "name": "stdout",
     "output_type": "stream",
     "text": [
      "[6.912066, 1.9339855, 1.3654119, 3.6126685]\n",
      "[6.6819115, 1.9214959, 1.1241682, 3.6362472]\n",
      "[7.0695171, 2.0787976, 1.2245027, 3.7662165]\n",
      "[6.8282681, 2.0016181, 1.1589671, 3.6676824]\n",
      "[6.9981222, 1.995556, 1.2627144, 3.7398522]\n",
      "[7.0221939, 1.8430793, 1.3761212, 3.8029935]\n"
     ]
    },
    {
     "name": "stderr",
     "output_type": "stream",
     "text": [
      "INFO:adlframework.datasource:Looped the datasource\n",
      "INFO:adlframework.datasource:Shuffling the datasource\n"
     ]
    },
    {
     "name": "stdout",
     "output_type": "stream",
     "text": [
      "[6.4313192, 1.732426, 1.2114197, 3.4874735]\n",
      "[7.0902929, 2.113374, 1.3138274, 3.6630917]\n",
      "[6.292625, 1.7951764, 0.88898832, 3.6084602]\n",
      "[6.9590197, 1.8837181, 1.3799565, 3.6953449]\n",
      "[6.5992308, 1.7468463, 1.2319371, 3.6204474]\n",
      "[6.4501743, 1.8447005, 1.0494415, 3.5560324]\n"
     ]
    },
    {
     "name": "stderr",
     "output_type": "stream",
     "text": [
      "INFO:adlframework.datasource:Looped the datasource\n",
      "INFO:adlframework.datasource:Shuffling the datasource\n"
     ]
    },
    {
     "name": "stdout",
     "output_type": "stream",
     "text": [
      "[6.7065592, 1.957803, 1.0897534, 3.659003]\n",
      "[6.8092432, 1.9070044, 1.341743, 3.5604956]\n",
      "[6.1710811, 1.7703073, 0.87474704, 3.5260267]\n",
      "[6.6526756, 1.8301919, 1.1583592, 3.6641243]\n",
      "[6.3436875, 1.9438074, 0.96905899, 3.4308212]\n",
      "[6.5602274, 1.7572143, 1.1489751, 3.6540382]\n"
     ]
    },
    {
     "name": "stderr",
     "output_type": "stream",
     "text": [
      "INFO:adlframework.datasource:Looped the datasource\n",
      "INFO:adlframework.datasource:Shuffling the datasource\n"
     ]
    },
    {
     "name": "stdout",
     "output_type": "stream",
     "text": [
      "[6.8386559, 1.9288723, 1.3485669, 3.5612168]\n",
      "[6.6427393, 1.7825077, 1.3000029, 3.5602286]\n",
      "[6.3450041, 1.7753102, 0.97048724, 3.5992069]\n",
      "[6.4010181, 1.7312255, 1.195806, 3.4739869]\n",
      "[6.4544573, 1.7763072, 1.0984871, 3.5796626]\n",
      "[6.5438347, 1.9258013, 0.99765694, 3.6203766]\n"
     ]
    },
    {
     "name": "stderr",
     "output_type": "stream",
     "text": [
      "INFO:adlframework.datasource:Looped the datasource\n",
      "INFO:adlframework.datasource:Shuffling the datasource\n"
     ]
    },
    {
     "name": "stdout",
     "output_type": "stream",
     "text": [
      "[6.3686543, 1.6512555, 1.098106, 3.619293]\n",
      "[6.5535913, 1.7421105, 1.2370963, 3.5743845]\n",
      "[6.3827314, 1.7189761, 1.1359582, 3.5277975]\n",
      "[6.6405787, 1.9736285, 1.0949388, 3.5720115]\n",
      "[6.5044241, 1.6684512, 1.2270335, 3.6089394]\n",
      "[6.334095, 1.8697486, 0.93755525, 3.5267913]\n"
     ]
    },
    {
     "name": "stderr",
     "output_type": "stream",
     "text": [
      "INFO:adlframework.datasource:Looped the datasource\n",
      "INFO:adlframework.datasource:Shuffling the datasource\n"
     ]
    },
    {
     "name": "stdout",
     "output_type": "stream",
     "text": [
      "[6.192215, 1.5499932, 1.1783724, 3.4638495]\n",
      "[6.3452415, 1.6906235, 1.1685652, 3.4860528]\n",
      "[5.9374018, 1.7005795, 0.82843095, 3.408391]\n",
      "[6.3538599, 1.7999426, 1.0735173, 3.4804001]\n",
      "[6.3433623, 1.715245, 1.266412, 3.3617053]\n",
      "[6.4285197, 1.7075016, 0.98297191, 3.7380462]\n"
     ]
    },
    {
     "name": "stderr",
     "output_type": "stream",
     "text": [
      "INFO:adlframework.datasource:Looped the datasource\n",
      "INFO:adlframework.datasource:Shuffling the datasource\n"
     ]
    },
    {
     "name": "stdout",
     "output_type": "stream",
     "text": [
      "[6.32652, 1.7561562, 1.0818114, 3.4885523]\n",
      "[6.4669876, 1.7876058, 1.2130295, 3.4663522]\n",
      "[6.2056026, 1.8000281, 1.052091, 3.3534837]\n",
      "[6.2745528, 1.5831927, 1.0885662, 3.6027939]\n",
      "[6.2997904, 1.7907014, 0.92975831, 3.5793307]\n",
      "[5.8368464, 1.5345997, 0.8509813, 3.4512656]\n"
     ]
    },
    {
     "name": "stderr",
     "output_type": "stream",
     "text": [
      "INFO:adlframework.datasource:Looped the datasource\n",
      "INFO:adlframework.datasource:Shuffling the datasource\n"
     ]
    },
    {
     "name": "stdout",
     "output_type": "stream",
     "text": [
      "[6.3196797, 1.6365561, 1.2502819, 3.4328418]\n"
     ]
    }
   ],
   "source": [
    "for i in tqdm(range(epochs)):\n",
    "    batch = train_ds.next()\n",
    "    data, labels = batch\n",
    "    labels = [np.array(list(labels[:,i])) for i in range(3)]\n",
    "    losses = model.train_on_batch(data, labels)\n",
    "    print(*zip(losses, ['MAE', 'Notes', 'Spaces', 'Durations']))"
   ]
  },
  {
   "cell_type": "code",
   "execution_count": null,
   "metadata": {},
   "outputs": [],
   "source": []
  }
 ],
 "metadata": {
  "kernelspec": {
   "display_name": "Python 2",
   "language": "python",
   "name": "python2"
  },
  "language_info": {
   "codemirror_mode": {
    "name": "ipython",
    "version": 2
   },
   "file_extension": ".py",
   "mimetype": "text/x-python",
   "name": "python",
   "nbconvert_exporter": "python",
   "pygments_lexer": "ipython2",
   "version": "2.7.10"
  }
 },
 "nbformat": 4,
 "nbformat_minor": 2
}
