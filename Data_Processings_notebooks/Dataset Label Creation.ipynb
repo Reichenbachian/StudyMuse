{
 "cells": [
  {
   "cell_type": "code",
   "execution_count": 1,
   "metadata": {},
   "outputs": [
    {
     "name": "stderr",
     "output_type": "stream",
     "text": [
      " \n",
      "Music21 v.4 is the last version that will support Python 2.\n",
      "Please start using Python 3 instead.\n",
      "\n",
      "Set music21.environment.UserSettings()['warnings'] = 0\n",
      "to disable this message.\n",
      "\n"
     ]
    }
   ],
   "source": [
    "import os\n",
    "import pandas as pd\n",
    "from glob2 import glob\n",
    "from tqdm import tqdm_notebook as tqdm\n",
    "from music21 import converter\n",
    "from multiprocessing import Pool"
   ]
  },
  {
   "cell_type": "code",
   "execution_count": 2,
   "metadata": {
    "collapsed": true
   },
   "outputs": [],
   "source": [
    "midis = glob('../local_cache/alex_midiset/*.[mM][iI][dD]', )"
   ]
  },
  {
   "cell_type": "code",
   "execution_count": null,
   "metadata": {
    "collapsed": true
   },
   "outputs": [],
   "source": [
    "def read_midi(midi):\n",
    "    try:\n",
    "        p = converter.parse(midi)\n",
    "        name = os.path.split(midi)[-1]\n",
    "        path = '/Users/localhost/Desktop/Projects/Working/StudyMuse/local_cache/alex_midiset/'+name\n",
    "        fp = s.write('midi', fp=path)\n",
    "    except:\n",
    "        return midi"
   ]
  },
  {
   "cell_type": "code",
   "execution_count": null,
   "metadata": {
    "collapsed": true
   },
   "outputs": [],
   "source": [
    "pool = mp.Pool()\n",
    "pool = Pool(processes=8)\n",
    "for _ in tqdm.tqdm(pool.imap_unordered(read_midi, midis), total=len(midis)):\n",
    "    pass\n",
    "results = pool.get()\n",
    "pool.close()\n",
    "pool.join()"
   ]
  },
  {
   "cell_type": "code",
   "execution_count": null,
   "metadata": {
    "collapsed": true
   },
   "outputs": [],
   "source": []
  }
 ],
 "metadata": {
  "kernelspec": {
   "display_name": "Python 2",
   "language": "python",
   "name": "python2"
  },
  "language_info": {
   "codemirror_mode": {
    "name": "ipython",
    "version": 2
   },
   "file_extension": ".py",
   "mimetype": "text/x-python",
   "name": "python",
   "nbconvert_exporter": "python",
   "pygments_lexer": "ipython2",
   "version": "2.7.10"
  }
 },
 "nbformat": 4,
 "nbformat_minor": 2
}
