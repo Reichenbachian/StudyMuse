{
 "cells": [
  {
   "cell_type": "code",
   "execution_count": 5,
   "metadata": {},
   "outputs": [],
   "source": [
    "import pandas as pd\n",
    "import os\n",
    "import music21 as m2\n",
    "from music21 import converter\n",
    "%matplotlib inline"
   ]
  },
  {
   "cell_type": "code",
   "execution_count": 6,
   "metadata": {},
   "outputs": [],
   "source": [
    "fp = '/Users/localhost/Desktop/Projects/Working/StudyMuse/local_cache/130000_Pop_Rock_Classical_Videogame_EDM_MIDI_Archive[6_19_15]/0/051230.MID'\n",
    "mf = m2.midi.MidiFile()\n",
    "mf.open(str(fp))\n",
    "mf.read()\n",
    "mf.close()\n",
    "s = m2.midi.translate.midiFileToStream(mf)"
   ]
  },
  {
   "cell_type": "code",
   "execution_count": 7,
   "metadata": {},
   "outputs": [],
   "source": [
    "a=m2.converter.parse('/Users/localhost/Desktop/Projects/Working/StudyMuse/local_cache/Wikifonia/yiruma - Love.mxl')"
   ]
  },
  {
   "cell_type": "code",
   "execution_count": null,
   "metadata": {},
   "outputs": [],
   "source": []
  }
 ],
 "metadata": {
  "kernelspec": {
   "display_name": "Python 2",
   "language": "python",
   "name": "python2"
  },
  "language_info": {
   "codemirror_mode": {
    "name": "ipython",
    "version": 2
   },
   "file_extension": ".py",
   "mimetype": "text/x-python",
   "name": "python",
   "nbconvert_exporter": "python",
   "pygments_lexer": "ipython2",
   "version": "2.7.10"
  }
 },
 "nbformat": 4,
 "nbformat_minor": 2
}
