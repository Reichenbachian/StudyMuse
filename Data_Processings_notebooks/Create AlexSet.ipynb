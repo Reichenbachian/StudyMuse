{
 "cells": [
  {
   "cell_type": "code",
   "execution_count": 1,
   "metadata": {},
   "outputs": [
    {
     "name": "stderr",
     "output_type": "stream",
     "text": [
      " \n",
      "Music21 v.4 is the last version that will support Python 2.\n",
      "Please start using Python 3 instead.\n",
      "\n",
      "Set music21.environment.UserSettings()['warnings'] = 0\n",
      "to disable this message.\n",
      "\n"
     ]
    }
   ],
   "source": [
    "import music21 as m2\n",
    "from mido import MidiFile\n",
    "from multiprocessing import Pool\n",
    "import os\n",
    "from glob2 import iglob, glob\n",
    "from timeout import timeout\n",
    "from tqdm import tqdm"
   ]
  },
  {
   "cell_type": "code",
   "execution_count": 2,
   "metadata": {},
   "outputs": [
    {
     "name": "stderr",
     "output_type": "stream",
     "text": [
      "Process PoolWorker-1:\n",
      "Traceback (most recent call last):\n",
      "  File \"/System/Library/Frameworks/Python.framework/Versions/2.7/lib/python2.7/multiprocessing/process.py\", line 258, in _bootstrap\n",
      "    self.run()\n",
      "  File \"/System/Library/Frameworks/Python.framework/Versions/2.7/lib/python2.7/multiprocessing/process.py\", line 114, in run\n",
      "    self._target(*self._args, **self._kwargs)\n",
      "  File \"/System/Library/Frameworks/Python.framework/Versions/2.7/lib/python2.7/multiprocessing/pool.py\", line 102, in worker\n",
      "    task = get()\n",
      "  File \"/System/Library/Frameworks/Python.framework/Versions/2.7/lib/python2.7/multiprocessing/queues.py\", line 378, in get\n",
      "    return recv()\n",
      "AttributeError: 'module' object has no attribute 'wrapper'\n",
      "Process PoolWorker-2:\n",
      "AttributeError: 'module' object has no attribute 'wrapper'\n",
      "Traceback (most recent call last):\n",
      "  File \"/System/Library/Frameworks/Python.framework/Versions/2.7/lib/python2.7/multiprocessing/process.py\", line 258, in _bootstrap\n",
      "    self.run()\n",
      "  File \"/System/Library/Frameworks/Python.framework/Versions/2.7/lib/python2.7/multiprocessing/process.py\", line 114, in run\n",
      "    self._target(*self._args, **self._kwargs)\n",
      "  File \"/System/Library/Frameworks/Python.framework/Versions/2.7/lib/python2.7/multiprocessing/pool.py\", line 102, in worker\n",
      "    task = get()\n",
      "  File \"/System/Library/Frameworks/Python.framework/Versions/2.7/lib/python2.7/multiprocessing/queues.py\", line 378, in get\n",
      "    return recv()\n"
     ]
    }
   ],
   "source": [
    "pool = Pool(2)"
   ]
  },
  {
   "cell_type": "code",
   "execution_count": null,
   "metadata": {
    "collapsed": true
   },
   "outputs": [],
   "source": [
    "input_regex = '/Users/localhost/Desktop/Projects/Working/StudyMuse/local_cache/**/*.[mM][IixX][lLdD]'\n",
    "output_dir = '/Users/localhost/Desktop/Projects/Working/StudyMuse/local_cache/alex_midiset/v1/'"
   ]
  },
  {
   "cell_type": "code",
   "execution_count": 4,
   "metadata": {},
   "outputs": [
    {
     "name": "stdout",
     "output_type": "stream",
     "text": [
      "('Converting', 197719, 'midis.')\n"
     ]
    }
   ],
   "source": [
    "batch = glob(input_regex)\n",
    "print('Converting', len(batch), 'midis.')"
   ]
  },
  {
   "cell_type": "code",
   "execution_count": 6,
   "metadata": {},
   "outputs": [],
   "source": [
    "errors = []\n",
    "\n",
    "def wrapper(tup):\n",
    "    path, id_ = tup\n",
    "#     try:\n",
    "    process(path, id_)\n",
    "#     except:\n",
    "#         errors.append('timeout on '+str(path))\n",
    "\n",
    "@timeout(2)\n",
    "def process(path, id_):\n",
    "    f_name = os.path.split(path)[-1]\n",
    "    out_path = output_dir+str(id_)+'_'+f_name\n",
    "    if os.path.exists(out_path):\n",
    "        return\n",
    "    \n",
    "    try:\n",
    "        m = MidiFile(path)\n",
    "        m.save(out_path)\n",
    "    except:\n",
    "        try:\n",
    "            m = m2.converter.parse(path)\n",
    "            m.write(out_path)\n",
    "        except Exception as e:\n",
    "            print(e)\n",
    "            errors.append(e)"
   ]
  },
  {
   "cell_type": "code",
   "execution_count": null,
   "metadata": {
    "scrolled": true
   },
   "outputs": [
    {
     "name": "stderr",
     "output_type": "stream",
     "text": [
      "100%|██████████| 197719/197719 [00:00<00:00, 1426030.18it/s]\n"
     ]
    },
    {
     "name": "stdout",
     "output_type": "stream",
     "text": [
      "\n",
      "badly formated midi string, got: vti_encoding:SR|utf8\n",
      "\n",
      "cannot support showing in this format yet: /Users/localhost/Desktop/Projects/Working/StudyMuse/local_cache/alex_midiset/v1/49567_crypt2.mid\n",
      "\n",
      "\n",
      "string index out of range\n",
      "cannot support showing in this format yet: /Users/localhost/Desktop/Projects/Working/StudyMuse/local_cache/alex_midiset/v1/74277_Hakuouki: Shinsengumi Kitan - Awai Koi.mid\n",
      "cannot support showing in this format yet: /Users/localhost/Desktop/Projects/Working/StudyMuse/local_cache/alex_midiset/v1/74279_Hakuouki: Shinsengumi Kitan - Sakurabana.mid\n",
      "\n",
      "badly formated midi string, got: vti_encoding:SR|utf8\n",
      "cannot support showing in this format yet: /Users/localhost/Desktop/Projects/Working/StudyMuse/local_cache/alex_midiset/v1/49607_csamuson.mid\n",
      "\n",
      "\n",
      "\n",
      "badly formated midi string, got: This is a multi-part\n",
      "badly formated midi string, got: vti_encoding:SR|utf8\n",
      "badly formated midi string, got: vti_encoding:SR|utf8\n",
      "badly formated midi string, got: <html>\n",
      "<header><titl\n",
      "\n",
      "\n",
      "\n",
      "cannot support showing in this format yet: /Users/localhost/Desktop/Projects/Working/StudyMuse/local_cache/alex_midiset/v1/49819_cyclone__salobre__airpole.mid\n"
     ]
    }
   ],
   "source": [
    "pool.map(wrapper, zip(tqdm(batch), range(len(batch))))"
   ]
  },
  {
   "cell_type": "code",
   "execution_count": 10,
   "metadata": {},
   "outputs": [
    {
     "data": {
      "text/plain": [
       "['timeout on /Users/localhost/Desktop/Projects/Working/StudyMuse/local_cache/scraped_midis/http:..kunstderfuge.mid.s3.amazonaws.com.12.gabrieli-g_canzoni_3_%28c%29icking-archive.mid.mid',\n",
       " 'timeout on /Users/localhost/Desktop/Projects/Working/StudyMuse/local_cache/scraped_midis/http:..kunstderfuge.mid.s3.amazonaws.com.12.gabrieli-g_canzoni_4_%28c%29icking-archive.mid.mid',\n",
       " 'timeout on /Users/localhost/Desktop/Projects/Working/StudyMuse/local_cache/scraped_midis/http:..kunstderfuge.mid.s3.amazonaws.com.2.gesualdo_vi_libro_madrigali_23_%28c%29icking-archive.mid.mid',\n",
       " 'timeout on /Users/localhost/Desktop/Projects/Working/StudyMuse/local_cache/scraped_midis/http:..kunstderfuge.mid.s3.amazonaws.com.29.raff_violin_sonata_173_1_bewegt_%28c%29yogore.mid.mid',\n",
       " 'timeout on /Users/localhost/Desktop/Projects/Working/StudyMuse/local_cache/scraped_midis/http:..www.jsbach.net.midi.1079-02.mid.mid',\n",
       " 'timeout on /Users/localhost/Desktop/Projects/Working/StudyMuse/local_cache/scraped_midis/http:..www.jsbach.net.midi.1079-03.mid.mid',\n",
       " 'timeout on /Users/localhost/Desktop/Projects/Working/StudyMuse/local_cache/scraped_midis/http:..www.jsbach.net.midi.1079-04.mid.mid',\n",
       " 'timeout on /Users/localhost/Desktop/Projects/Working/StudyMuse/local_cache/scraped_midis/http:..www.jsbach.net.midi.1079-05.mid.mid',\n",
       " 'timeout on /Users/localhost/Desktop/Projects/Working/StudyMuse/local_cache/scraped_midis/http:..www.jsbach.net.midi.1080-c01.mid.mid',\n",
       " 'timeout on /Users/localhost/Desktop/Projects/Working/StudyMuse/local_cache/scraped_midis/http:..www.jsbach.net.midi.1080-c02.mid.mid']"
      ]
     },
     "execution_count": 10,
     "metadata": {},
     "output_type": "execute_result"
    }
   ],
   "source": [
    "errors"
   ]
  },
  {
   "cell_type": "code",
   "execution_count": null,
   "metadata": {
    "collapsed": true
   },
   "outputs": [],
   "source": []
  }
 ],
 "metadata": {
  "kernelspec": {
   "display_name": "Python 2",
   "language": "python",
   "name": "python2"
  },
  "language_info": {
   "codemirror_mode": {
    "name": "ipython",
    "version": 2
   },
   "file_extension": ".py",
   "mimetype": "text/x-python",
   "name": "python",
   "nbconvert_exporter": "python",
   "pygments_lexer": "ipython2",
   "version": "2.7.10"
  }
 },
 "nbformat": 4,
 "nbformat_minor": 2
}
