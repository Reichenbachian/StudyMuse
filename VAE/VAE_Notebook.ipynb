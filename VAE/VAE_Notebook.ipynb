{
 "cells": [
  {
   "cell_type": "code",
   "execution_count": 1,
   "metadata": {},
   "outputs": [
    {
     "name": "stderr",
     "output_type": "stream",
     "text": [
      "Using TensorFlow backend.\n"
     ]
    }
   ],
   "source": [
    "import tensorflow as tf\n",
    "import pdb\n",
    "from functools import partial\n",
    "from tqdm import tqdm_notebook as tqdm\n",
    "# IPython\n",
    "from IPython.display import clear_output\n",
    "# Random\n",
    "import random\n",
    "from random import randint\n",
    "# Keras\n",
    "from keras.layers import *\n",
    "from keras.models import Model\n",
    "from keras.utils import to_categorical, plot_model\n",
    "import keras.backend as K\n",
    "from keras.optimizers import RMSprop\n",
    "from keras.callbacks import *\n",
    "# Numpy\n",
    "import numpy as np\n",
    "from numpy import array\n",
    "from numpy import argmax\n",
    "from numpy import array_equal\n",
    "### Data Loading\n",
    "from adlframework.processors.general_processors import crop, reshape, pdb_trace\n",
    "from adlframework.processors.lstm_processors import crop_and_label\n",
    "from adlframework.processors.midi_processors import midi_to_np, notes_to_classification, make_time_relative\n",
    "from adlframework.filters.general_filters import min_array_shape, threshold_label\n",
    "from adlframework.retrievals.BlobLocalCache import BlobLocalCache\n",
    "from adlframework.datasource import DataSource\n",
    "from adlframework.dataentity.midi_de import MidiDataEntity"
   ]
  },
  {
   "cell_type": "code",
   "execution_count": 2,
   "metadata": {},
   "outputs": [],
   "source": [
    "#### Set keras session\n",
    "from keras.backend.tensorflow_backend import set_session\n",
    "config = tf.ConfigProto()\n",
    "config.gpu_options.allow_growth = True\n",
    "config.gpu_options.visible_device_list = \"0\"\n",
    "set_session(tf.Session(config=config))"
   ]
  },
  {
   "cell_type": "markdown",
   "metadata": {},
   "source": [
    "## Data"
   ]
  },
  {
   "cell_type": "code",
   "execution_count": 3,
   "metadata": {},
   "outputs": [],
   "source": [
    "NUM_NOTES = 10"
   ]
  },
  {
   "cell_type": "code",
   "execution_count": 4,
   "metadata": {},
   "outputs": [],
   "source": [
    "def convert_to_one_hot(sample):\n",
    "    data, label = sample\n",
    "    timesteps = data.shape[-2]\n",
    "    ret = []\n",
    "    for i, v  in enumerate([12, 11, 88]):\n",
    "        z = np.zeros((timesteps, v))\n",
    "        for ts in range(timesteps):\n",
    "            z[ts][data[ts][i]] = 1\n",
    "        ret.append(z)\n",
    "    return label, ret"
   ]
  },
  {
   "cell_type": "code",
   "execution_count": 5,
   "metadata": {
    "scrolled": false
   },
   "outputs": [
    {
     "name": "stdout",
     "output_type": "stream",
     "text": [
      "Retrieval not named, so won't be cached.\n"
     ]
    }
   ],
   "source": [
    "### Prefilter\n",
    "prefilters = [partial(min_array_shape, min_shape=(NUM_NOTES, 4)),]\n",
    "### Controllers\n",
    "controllers = [midi_to_np,\n",
    "                partial(crop, shape=(NUM_NOTES, 3)),\n",
    "                make_time_relative,\n",
    "                notes_to_classification,\n",
    "                convert_to_one_hot\n",
    "              ]\n",
    "\n",
    "### Load Data\n",
    "base = '../local_cache/alex_midiset/v2/'\n",
    "midi_retrieval = BlobLocalCache(base+'midis/', base+'labels/')\n",
    "midi_ds = DataSource(midi_retrieval, MidiDataEntity,\n",
    "                         verbosity=0,\n",
    "\t\t\t\t\t\tcontrollers=controllers,\n",
    "\t\t\t\t\t\tbackend='madmom',\n",
    "\t\t\t\t\t\tbatch_size=50,\n",
    "                        max_mem_percent=.7,\n",
    "                        workers=6,\n",
    "                        queue_size=100\n",
    "                        )\n",
    "\n",
    "# train_ds, temp = DataSource.split(midi_ds, split_percent=.6) # Train at .6\n",
    "# val_ds, test_ds = DataSource.split(temp, split_percent=.6) # Val at .24, test at .16"
   ]
  },
  {
   "cell_type": "code",
   "execution_count": 6,
   "metadata": {},
   "outputs": [],
   "source": [
    "def get_batch(ds, bs=10):\n",
    "    while True:\n",
    "        batch = ds.next(bs)[1]\n",
    "        #### X1\n",
    "        onset = np.array(list([x[0] for x in batch]))\n",
    "        duration = np.array(list([x[1] for x in batch]))\n",
    "        note = np.array(list([x[2] for x in batch]))\n",
    "        #### X2\n",
    "        onset_offset = np.zeros(onset.shape)\n",
    "        duration_offset = np.zeros(duration.shape)\n",
    "        note_offset = np.zeros(note.shape)\n",
    "        onset_offset[:,1:] = onset[:,:-1]\n",
    "        duration_offset[:,1:] = duration[:,:-1]\n",
    "        note_offset[:,1:] = note[:,:-1]\n",
    "        #### Y\n",
    "        # Same as X1, so just repeat\n",
    "        yield ([onset, duration, note, onset_offset, duration_offset, note_offset], [onset, duration, note])"
   ]
  },
  {
   "cell_type": "markdown",
   "metadata": {
    "heading_collapsed": true
   },
   "source": [
    "### Define LSTM Model"
   ]
  },
  {
   "cell_type": "code",
   "execution_count": 15,
   "metadata": {
    "hidden": true
   },
   "outputs": [],
   "source": [
    "latent_dim=2\n",
    "epochs = 100"
   ]
  },
  {
   "cell_type": "code",
   "execution_count": 5,
   "metadata": {
    "hidden": true
   },
   "outputs": [],
   "source": [
    "# Define an input sequence and process it.\n",
    "encoder_inputs = Input(shape=(None, 3))\n",
    "encoder = LSTM(latent_dim, return_state=True)\n",
    "encoder_outputs, state_h, state_c = encoder(encoder_inputs)\n",
    "# We discard `encoder_outputs` and only keep the states.\n",
    "encoder_states = [state_h, state_c]\n",
    "\n",
    "# Set up the decoder, using `encoder_states` as initial state.\n",
    "decoder_inputs = Input(shape=(None, 3))\n",
    "# We set up our decoder to return full output sequences,\n",
    "# and to return internal states as well. We don't use the \n",
    "# return states in the training model, but we will use them in inference.\n",
    "decoder_lstm = LSTM(latent_dim, return_sequences=True, return_state=True)\n",
    "decoder_outputs, _, _ = decoder_lstm(decoder_inputs,\n",
    "                                     initial_state=encoder_states)\n",
    "decoder_dense = Dense(3, activation='relu')\n",
    "decoder_outputs = decoder_dense(decoder_outputs)\n",
    "\n",
    "# Define the model that will turn\n",
    "# `encoder_input_data` & `decoder_input_data` into `decoder_target_data`\n",
    "model = Model([encoder_inputs, decoder_inputs], decoder_outputs)"
   ]
  },
  {
   "cell_type": "code",
   "execution_count": 6,
   "metadata": {
    "hidden": true
   },
   "outputs": [],
   "source": [
    "data = train_ds.next(1000)[0].astype(float)"
   ]
  },
  {
   "cell_type": "code",
   "execution_count": 7,
   "metadata": {
    "hidden": true
   },
   "outputs": [],
   "source": [
    "data[:,:,0] = data[:,:,0]/12.0\n",
    "data[:,:,1] = data[:,:,1]/12.0\n",
    "data[:,:,2] = data[:,:,2]/88.0"
   ]
  },
  {
   "cell_type": "code",
   "execution_count": 8,
   "metadata": {
    "hidden": true,
    "scrolled": true
   },
   "outputs": [],
   "source": [
    "out = np.zeros(data.shape)"
   ]
  },
  {
   "cell_type": "code",
   "execution_count": 9,
   "metadata": {
    "hidden": true
   },
   "outputs": [],
   "source": [
    "out[:, 1:, :] = data[:, :-1, :]"
   ]
  },
  {
   "cell_type": "code",
   "execution_count": 12,
   "metadata": {
    "hidden": true,
    "scrolled": true
   },
   "outputs": [
    {
     "name": "stdout",
     "output_type": "stream",
     "text": [
      "Train on 800 samples, validate on 200 samples\n",
      "Epoch 1/100\n",
      "800/800 [==============================] - 4s - loss: 0.0543 - val_loss: 0.0543\n",
      "Epoch 2/100\n",
      "800/800 [==============================] - 4s - loss: 0.0539 - val_loss: 0.0541\n",
      "Epoch 3/100\n",
      "800/800 [==============================] - 4s - loss: 0.0537 - val_loss: 0.0538\n",
      "Epoch 4/100\n",
      "800/800 [==============================] - 4s - loss: 0.0533 - val_loss: 0.0535\n",
      "Epoch 5/100\n",
      "800/800 [==============================] - 4s - loss: 0.0530 - val_loss: 0.0533\n",
      "Epoch 6/100\n",
      "800/800 [==============================] - 4s - loss: 0.0527 - val_loss: 0.0528\n",
      "Epoch 7/100\n",
      "800/800 [==============================] - 4s - loss: 0.0522 - val_loss: 0.0524\n",
      "Epoch 8/100\n",
      "800/800 [==============================] - 4s - loss: 0.0517 - val_loss: 0.0518\n",
      "Epoch 9/100\n",
      "800/800 [==============================] - 4s - loss: 0.0513 - val_loss: 0.0515\n",
      "Epoch 10/100\n",
      "800/800 [==============================] - 4s - loss: 0.0507 - val_loss: 0.0509\n",
      "Epoch 11/100\n",
      "800/800 [==============================] - 4s - loss: 0.0503 - val_loss: 0.0505\n",
      "Epoch 12/100\n",
      "800/800 [==============================] - 4s - loss: 0.0499 - val_loss: 0.0503\n",
      "Epoch 13/100\n",
      "800/800 [==============================] - 4s - loss: 0.0495 - val_loss: 0.0497\n",
      "Epoch 14/100\n",
      "800/800 [==============================] - 4s - loss: 0.0491 - val_loss: 0.0493\n",
      "Epoch 15/100\n",
      "800/800 [==============================] - 4s - loss: 0.0489 - val_loss: 0.0491\n",
      "Epoch 16/100\n",
      "800/800 [==============================] - 4s - loss: 0.0487 - val_loss: 0.0489\n",
      "Epoch 17/100\n",
      "800/800 [==============================] - 4s - loss: 0.0484 - val_loss: 0.0486\n",
      "Epoch 18/100\n",
      "800/800 [==============================] - 4s - loss: 0.0483 - val_loss: 0.0484\n",
      "Epoch 19/100\n",
      "800/800 [==============================] - 4s - loss: 0.0481 - val_loss: 0.0484\n",
      "Epoch 20/100\n",
      "800/800 [==============================] - 4s - loss: 0.0479 - val_loss: 0.0481\n",
      "Epoch 21/100\n",
      "800/800 [==============================] - 4s - loss: 0.0477 - val_loss: 0.0479\n",
      "Epoch 22/100\n",
      "800/800 [==============================] - 4s - loss: 0.0476 - val_loss: 0.0477\n",
      "Epoch 23/100\n",
      "800/800 [==============================] - 4s - loss: 0.0474 - val_loss: 0.0475\n",
      "Epoch 24/100\n",
      "800/800 [==============================] - 4s - loss: 0.0473 - val_loss: 0.0476\n",
      "Epoch 25/100\n",
      "800/800 [==============================] - 4s - loss: 0.0471 - val_loss: 0.0472\n",
      "Epoch 26/100\n",
      "800/800 [==============================] - 4s - loss: 0.0470 - val_loss: 0.0472\n",
      "Epoch 27/100\n",
      "800/800 [==============================] - 4s - loss: 0.0468 - val_loss: 0.0469\n",
      "Epoch 28/100\n",
      "800/800 [==============================] - 4s - loss: 0.0467 - val_loss: 0.0468\n",
      "Epoch 29/100\n",
      "800/800 [==============================] - 4s - loss: 0.0465 - val_loss: 0.0466\n",
      "Epoch 30/100\n",
      "800/800 [==============================] - 4s - loss: 0.0464 - val_loss: 0.0465\n",
      "Epoch 31/100\n",
      "800/800 [==============================] - 4s - loss: 0.0462 - val_loss: 0.0463\n",
      "Epoch 32/100\n",
      "800/800 [==============================] - 4s - loss: 0.0461 - val_loss: 0.0462\n",
      "Epoch 33/100\n",
      "800/800 [==============================] - 4s - loss: 0.0459 - val_loss: 0.0460\n",
      "Epoch 34/100\n",
      "800/800 [==============================] - 4s - loss: 0.0457 - val_loss: 0.0458\n",
      "Epoch 35/100\n",
      "800/800 [==============================] - 4s - loss: 0.0456 - val_loss: 0.0457\n",
      "Epoch 36/100\n",
      "800/800 [==============================] - 4s - loss: 0.0455 - val_loss: 0.0455\n",
      "Epoch 37/100\n",
      "800/800 [==============================] - 4s - loss: 0.0453 - val_loss: 0.0453\n",
      "Epoch 38/100\n",
      "800/800 [==============================] - 4s - loss: 0.0451 - val_loss: 0.0452\n",
      "Epoch 39/100\n",
      "800/800 [==============================] - 4s - loss: 0.0450 - val_loss: 0.0450\n",
      "Epoch 40/100\n",
      "800/800 [==============================] - 4s - loss: 0.0448 - val_loss: 0.0449\n",
      "Epoch 41/100\n",
      "800/800 [==============================] - 4s - loss: 0.0447 - val_loss: 0.0447\n",
      "Epoch 42/100\n",
      "800/800 [==============================] - 4s - loss: 0.0446 - val_loss: 0.0446\n",
      "Epoch 43/100\n",
      "800/800 [==============================] - 4s - loss: 0.0444 - val_loss: 0.0445\n",
      "Epoch 44/100\n",
      "800/800 [==============================] - 4s - loss: 0.0443 - val_loss: 0.0443\n",
      "Epoch 45/100\n",
      "800/800 [==============================] - 4s - loss: 0.0442 - val_loss: 0.0444\n",
      "Epoch 46/100\n",
      "800/800 [==============================] - 4s - loss: 0.0440 - val_loss: 0.0440\n",
      "Epoch 47/100\n",
      "800/800 [==============================] - 4s - loss: 0.0439 - val_loss: 0.0440\n",
      "Epoch 48/100\n",
      "800/800 [==============================] - 4s - loss: 0.0438 - val_loss: 0.0437\n",
      "Epoch 49/100\n",
      "800/800 [==============================] - 4s - loss: 0.0437 - val_loss: 0.0437\n",
      "Epoch 50/100\n",
      "800/800 [==============================] - 4s - loss: 0.0435 - val_loss: 0.0436\n",
      "Epoch 51/100\n",
      "800/800 [==============================] - 4s - loss: 0.0434 - val_loss: 0.0435\n",
      "Epoch 52/100\n",
      "800/800 [==============================] - 4s - loss: 0.0433 - val_loss: 0.0433\n",
      "Epoch 53/100\n",
      "800/800 [==============================] - 4s - loss: 0.0432 - val_loss: 0.0432\n",
      "Epoch 54/100\n",
      "800/800 [==============================] - 4s - loss: 0.0430 - val_loss: 0.0431\n",
      "Epoch 55/100\n",
      "800/800 [==============================] - 4s - loss: 0.0429 - val_loss: 0.0430\n",
      "Epoch 56/100\n",
      "800/800 [==============================] - 4s - loss: 0.0428 - val_loss: 0.0429\n",
      "Epoch 57/100\n",
      "800/800 [==============================] - 4s - loss: 0.0427 - val_loss: 0.0427\n",
      "Epoch 58/100\n",
      "800/800 [==============================] - 4s - loss: 0.0427 - val_loss: 0.0427\n",
      "Epoch 59/100\n",
      "800/800 [==============================] - 4s - loss: 0.0425 - val_loss: 0.0425\n",
      "Epoch 60/100\n",
      "800/800 [==============================] - 4s - loss: 0.0423 - val_loss: 0.0423\n",
      "Epoch 61/100\n",
      "800/800 [==============================] - 4s - loss: 0.0422 - val_loss: 0.0422\n",
      "Epoch 62/100\n",
      "800/800 [==============================] - 4s - loss: 0.0422 - val_loss: 0.0422\n",
      "Epoch 63/100\n",
      "800/800 [==============================] - 4s - loss: 0.0420 - val_loss: 0.0421\n",
      "Epoch 64/100\n",
      "800/800 [==============================] - 4s - loss: 0.0420 - val_loss: 0.0420\n",
      "Epoch 65/100\n",
      "800/800 [==============================] - 4s - loss: 0.0418 - val_loss: 0.0418\n",
      "Epoch 66/100\n",
      "800/800 [==============================] - 4s - loss: 0.0418 - val_loss: 0.0418\n",
      "Epoch 67/100\n",
      "800/800 [==============================] - 4s - loss: 0.0416 - val_loss: 0.0417\n",
      "Epoch 68/100\n",
      "800/800 [==============================] - 4s - loss: 0.0416 - val_loss: 0.0415\n",
      "Epoch 69/100\n",
      "800/800 [==============================] - 4s - loss: 0.0415 - val_loss: 0.0416\n",
      "Epoch 70/100\n",
      "800/800 [==============================] - 4s - loss: 0.0414 - val_loss: 0.0414\n",
      "Epoch 71/100\n",
      "800/800 [==============================] - 4s - loss: 0.0412 - val_loss: 0.0413\n",
      "Epoch 72/100\n",
      "800/800 [==============================] - 4s - loss: 0.0412 - val_loss: 0.0412\n",
      "Epoch 73/100\n",
      "800/800 [==============================] - 4s - loss: 0.0411 - val_loss: 0.0412\n",
      "Epoch 74/100\n",
      "800/800 [==============================] - 4s - loss: 0.0409 - val_loss: 0.0409\n",
      "Epoch 75/100\n",
      "800/800 [==============================] - 4s - loss: 0.0409 - val_loss: 0.0410\n",
      "Epoch 76/100\n",
      "800/800 [==============================] - 4s - loss: 0.0408 - val_loss: 0.0408\n",
      "Epoch 77/100\n",
      "800/800 [==============================] - 4s - loss: 0.0407 - val_loss: 0.0408\n",
      "Epoch 78/100\n",
      "800/800 [==============================] - 4s - loss: 0.0406 - val_loss: 0.0406\n",
      "Epoch 79/100\n",
      "800/800 [==============================] - 4s - loss: 0.0405 - val_loss: 0.0405\n",
      "Epoch 80/100\n",
      "800/800 [==============================] - 4s - loss: 0.0404 - val_loss: 0.0405\n",
      "Epoch 81/100\n",
      "800/800 [==============================] - 4s - loss: 0.0403 - val_loss: 0.0403\n",
      "Epoch 82/100\n",
      "800/800 [==============================] - 4s - loss: 0.0402 - val_loss: 0.0403\n",
      "Epoch 83/100\n",
      "800/800 [==============================] - 4s - loss: 0.0401 - val_loss: 0.0402\n",
      "Epoch 84/100\n",
      "800/800 [==============================] - 4s - loss: 0.0400 - val_loss: 0.0400\n",
      "Epoch 85/100\n",
      "800/800 [==============================] - 4s - loss: 0.0399 - val_loss: 0.0399\n",
      "Epoch 86/100\n",
      "800/800 [==============================] - 4s - loss: 0.0398 - val_loss: 0.0399\n",
      "Epoch 87/100\n",
      "800/800 [==============================] - 4s - loss: 0.0397 - val_loss: 0.0397\n",
      "Epoch 88/100\n",
      "800/800 [==============================] - 4s - loss: 0.0396 - val_loss: 0.0397\n",
      "Epoch 89/100\n",
      "800/800 [==============================] - 4s - loss: 0.0395 - val_loss: 0.0396\n",
      "Epoch 90/100\n",
      "800/800 [==============================] - 4s - loss: 0.0394 - val_loss: 0.0394\n",
      "Epoch 91/100\n",
      "800/800 [==============================] - 4s - loss: 0.0393 - val_loss: 0.0394\n",
      "Epoch 92/100\n",
      "800/800 [==============================] - 4s - loss: 0.0392 - val_loss: 0.0392\n",
      "Epoch 93/100\n",
      "800/800 [==============================] - 4s - loss: 0.0391 - val_loss: 0.0392\n",
      "Epoch 94/100\n",
      "800/800 [==============================] - 4s - loss: 0.0390 - val_loss: 0.0391\n",
      "Epoch 95/100\n",
      "800/800 [==============================] - 4s - loss: 0.0389 - val_loss: 0.0391\n",
      "Epoch 96/100\n",
      "800/800 [==============================] - 4s - loss: 0.0389 - val_loss: 0.0390\n",
      "Epoch 97/100\n",
      "800/800 [==============================] - 4s - loss: 0.0387 - val_loss: 0.0388\n",
      "Epoch 98/100\n",
      "800/800 [==============================] - 4s - loss: 0.0386 - val_loss: 0.0387\n",
      "Epoch 99/100\n",
      "800/800 [==============================] - 4s - loss: 0.0386 - val_loss: 0.0386\n",
      "Epoch 100/100\n",
      "800/800 [==============================] - 4s - loss: 0.0385 - val_loss: 0.0385\n"
     ]
    },
    {
     "data": {
      "text/plain": [
       "<keras.callbacks.History at 0x7f9ba8f5b590>"
      ]
     },
     "execution_count": 12,
     "metadata": {},
     "output_type": "execute_result"
    }
   ],
   "source": [
    "model.compile(optimizer='adam', loss='mae')\n",
    "model.fit([data, data], out,\n",
    "          batch_size=10,\n",
    "          epochs=epochs,\n",
    "          validation_split=0.2)"
   ]
  },
  {
   "cell_type": "markdown",
   "metadata": {
    "heading_collapsed": true
   },
   "source": [
    "## Test Model"
   ]
  },
  {
   "cell_type": "code",
   "execution_count": 14,
   "metadata": {
    "hidden": true
   },
   "outputs": [],
   "source": [
    "test = test_ds.next(1)[0].astype(float)"
   ]
  },
  {
   "cell_type": "code",
   "execution_count": 15,
   "metadata": {
    "hidden": true,
    "scrolled": true
   },
   "outputs": [],
   "source": [
    "test[:,:,0] = test[:,:,0]/12.0\n",
    "test[:,:,1] = test[:,:,1]/12.0\n",
    "test[:,:,2] = test[:,:,2]/88.0"
   ]
  },
  {
   "cell_type": "code",
   "execution_count": 18,
   "metadata": {
    "hidden": true,
    "scrolled": false
   },
   "outputs": [
    {
     "ename": "ValueError",
     "evalue": "The model expects 2  arrays, but only received one array. Found: array with shape (1, 1, 100, 3)",
     "output_type": "error",
     "traceback": [
      "\u001b[0;31m---------------------------------------------------------------------------\u001b[0m",
      "\u001b[0;31mValueError\u001b[0m                                Traceback (most recent call last)",
      "\u001b[0;32m<ipython-input-18-706865123066>\u001b[0m in \u001b[0;36m<module>\u001b[0;34m()\u001b[0m\n\u001b[0;32m----> 1\u001b[0;31m \u001b[0mmodel\u001b[0m\u001b[0;34m.\u001b[0m\u001b[0mpredict\u001b[0m\u001b[0;34m(\u001b[0m\u001b[0mnp\u001b[0m\u001b[0;34m.\u001b[0m\u001b[0marray\u001b[0m\u001b[0;34m(\u001b[0m\u001b[0;34m[\u001b[0m\u001b[0mtest\u001b[0m\u001b[0;34m]\u001b[0m\u001b[0;34m)\u001b[0m\u001b[0;34m,\u001b[0m \u001b[0mnp\u001b[0m\u001b[0;34m.\u001b[0m\u001b[0marray\u001b[0m\u001b[0;34m(\u001b[0m\u001b[0;34m[\u001b[0m\u001b[0mtest\u001b[0m\u001b[0;34m]\u001b[0m\u001b[0;34m)\u001b[0m\u001b[0;34m)\u001b[0m\u001b[0;34m\u001b[0m\u001b[0m\n\u001b[0m",
      "\u001b[0;32m/home/localhost/Desktop/Projects/Working/StudyMuse/venv/local/lib/python2.7/site-packages/keras/engine/training.pyc\u001b[0m in \u001b[0;36mpredict\u001b[0;34m(self, x, batch_size, verbose)\u001b[0m\n\u001b[1;32m   1497\u001b[0m         x = _standardize_input_data(x, self._feed_input_names,\n\u001b[1;32m   1498\u001b[0m                                     \u001b[0mself\u001b[0m\u001b[0;34m.\u001b[0m\u001b[0m_feed_input_shapes\u001b[0m\u001b[0;34m,\u001b[0m\u001b[0;34m\u001b[0m\u001b[0m\n\u001b[0;32m-> 1499\u001b[0;31m                                     check_batch_axis=False)\n\u001b[0m\u001b[1;32m   1500\u001b[0m         \u001b[0;32mif\u001b[0m \u001b[0mself\u001b[0m\u001b[0;34m.\u001b[0m\u001b[0mstateful\u001b[0m\u001b[0;34m:\u001b[0m\u001b[0;34m\u001b[0m\u001b[0m\n\u001b[1;32m   1501\u001b[0m             \u001b[0;32mif\u001b[0m \u001b[0mx\u001b[0m\u001b[0;34m[\u001b[0m\u001b[0;36m0\u001b[0m\u001b[0;34m]\u001b[0m\u001b[0;34m.\u001b[0m\u001b[0mshape\u001b[0m\u001b[0;34m[\u001b[0m\u001b[0;36m0\u001b[0m\u001b[0;34m]\u001b[0m \u001b[0;34m>\u001b[0m \u001b[0mbatch_size\u001b[0m \u001b[0;32mand\u001b[0m \u001b[0mx\u001b[0m\u001b[0;34m[\u001b[0m\u001b[0;36m0\u001b[0m\u001b[0;34m]\u001b[0m\u001b[0;34m.\u001b[0m\u001b[0mshape\u001b[0m\u001b[0;34m[\u001b[0m\u001b[0;36m0\u001b[0m\u001b[0;34m]\u001b[0m \u001b[0;34m%\u001b[0m \u001b[0mbatch_size\u001b[0m \u001b[0;34m!=\u001b[0m \u001b[0;36m0\u001b[0m\u001b[0;34m:\u001b[0m\u001b[0;34m\u001b[0m\u001b[0m\n",
      "\u001b[0;32m/home/localhost/Desktop/Projects/Working/StudyMuse/venv/local/lib/python2.7/site-packages/keras/engine/training.pyc\u001b[0m in \u001b[0;36m_standardize_input_data\u001b[0;34m(data, names, shapes, check_batch_axis, exception_prefix)\u001b[0m\n\u001b[1;32m    105\u001b[0m                              \u001b[0mexception_prefix\u001b[0m \u001b[0;34m+\u001b[0m\u001b[0;34m\u001b[0m\u001b[0m\n\u001b[1;32m    106\u001b[0m                              \u001b[0;34m' arrays, but only received one array. '\u001b[0m\u001b[0;34m\u001b[0m\u001b[0m\n\u001b[0;32m--> 107\u001b[0;31m                              'Found: array with shape ' + str(data.shape))\n\u001b[0m\u001b[1;32m    108\u001b[0m         \u001b[0marrays\u001b[0m \u001b[0;34m=\u001b[0m \u001b[0;34m[\u001b[0m\u001b[0mdata\u001b[0m\u001b[0;34m]\u001b[0m\u001b[0;34m\u001b[0m\u001b[0m\n\u001b[1;32m    109\u001b[0m \u001b[0;34m\u001b[0m\u001b[0m\n",
      "\u001b[0;31mValueError\u001b[0m: The model expects 2  arrays, but only received one array. Found: array with shape (1, 1, 100, 3)"
     ]
    }
   ],
   "source": [
    "model.predict(np.array([test]), np.array([test]))"
   ]
  },
  {
   "cell_type": "markdown",
   "metadata": {},
   "source": [
    "## VAE Testing"
   ]
  },
  {
   "cell_type": "code",
   "execution_count": 7,
   "metadata": {},
   "outputs": [],
   "source": [
    "NUM_NOTES = 88\n",
    "NUM_DURATIONS = 11\n",
    "NUM_ENCODER_CELLS = 256\n",
    "LATENT_VECTOR_SIZE = 10"
   ]
  },
  {
   "cell_type": "code",
   "execution_count": 8,
   "metadata": {},
   "outputs": [],
   "source": [
    "#######################################\n",
    "######### Training Encoder ############\n",
    "#######################################\n",
    "# Encoder Inputs\n",
    "note_input_enc = Input(shape=(None, NUM_NOTES), name='note_enc')\n",
    "onset_input_enc = Input(shape=(None, NUM_DURATIONS+1), name='onset_enc')\n",
    "duration_input_enc = Input(shape=(None, NUM_DURATIONS), name='duration_enc')\n",
    "encoder_input = [onset_input_enc, duration_input_enc, note_input_enc]\n",
    "# LSTM Layer 1\n",
    "note_encoder = LSTM(NUM_ENCODER_CELLS, return_sequences=True, name='note_1')(note_input_enc)\n",
    "onset_encoder = LSTM(NUM_ENCODER_CELLS, return_sequences=True, name='onset_1')(onset_input_enc)\n",
    "duration_encoder = LSTM(NUM_ENCODER_CELLS, return_sequences=True, name='duration_1')(duration_input_enc)\n",
    "# Joint Network\n",
    "enc_concat = concatenate([onset_encoder, duration_encoder, note_encoder], name='concat_enc', axis=2)\n",
    "joint_encoder = LSTM(LATENT_VECTOR_SIZE, return_state=True, name='joint_enc') # Joint\n",
    "encoder_outputs, state_h, state_c = joint_encoder(enc_concat) # Seperate hidden states\n",
    "#     shp = state_h_prime = Dense(256)(state_h)\n",
    "#     scp = state_c_prime = Dense(256)(state_c)\n",
    "encoder_states = [state_h, state_c]"
   ]
  },
  {
   "cell_type": "code",
   "execution_count": 9,
   "metadata": {},
   "outputs": [],
   "source": [
    "########################################\n",
    "######### Training Decoder #############\n",
    "########################################\n",
    "# Decoder Inputs\n",
    "note_input_dec = Input(shape=(None, NUM_NOTES), name='dec_note')\n",
    "onset_input_dec = Input(shape=(None, NUM_DURATIONS+1), name='dec_onset')\n",
    "duration_input_dec = Input(shape=(None, NUM_DURATIONS), name='dec_duration')\n",
    "decoder_input = [onset_input_dec, duration_input_dec, note_input_dec]\n",
    "# LSTM Layer 1\n",
    "note_decoder = LSTM(NUM_ENCODER_CELLS, return_sequences=True, name='dec_note_1')(note_input_dec)\n",
    "onset_decoder = LSTM(NUM_ENCODER_CELLS, return_sequences=True, name='dec_onset_1')(onset_input_dec)\n",
    "duration_decoder = LSTM(NUM_ENCODER_CELLS, return_sequences=True, name='dec_duration_1')(duration_input_dec)\n",
    "# Joint Network\n",
    "dec_concat = concatenate([note_decoder, onset_decoder, duration_decoder], name='dec_concat', axis=2)\n",
    "decoder_lstm_layer = LSTM(LATENT_VECTOR_SIZE, return_sequences=True, return_state=True, name='dec_joint')\n",
    "joint_decoder, _, _ = decoder_lstm_layer(dec_concat, initial_state=encoder_states) # Joint\n",
    "note_output = Dense(NUM_NOTES, activation='softmax', name='dec_note_out')\n",
    "onset_output = Dense(NUM_DURATIONS+1, activation='softmax', name='dec_onset_out')\n",
    "duration_output = Dense(NUM_DURATIONS, activation='softmax', name='dec_duration_out')\n",
    "# Define training model\n",
    "model = Model(encoder_input+decoder_input,\n",
    "              [onset_output(joint_decoder),\n",
    "               duration_output(joint_decoder),\n",
    "               note_output(joint_decoder)])"
   ]
  },
  {
   "cell_type": "code",
   "execution_count": 10,
   "metadata": {},
   "outputs": [],
   "source": [
    "########################################\n",
    "######### Inference Encoder ############\n",
    "########################################\n",
    "# define inference encoder\n",
    "encoder_model = Model(encoder_input, encoder_states)"
   ]
  },
  {
   "cell_type": "code",
   "execution_count": 11,
   "metadata": {},
   "outputs": [],
   "source": [
    "###########################################\n",
    "############ Inference Decoder ############\n",
    "###########################################\n",
    "# define inference decoder\n",
    "decoder_state_input_h = Input(shape=(LATENT_VECTOR_SIZE,), name='dec_h')\n",
    "decoder_state_input_c = Input(shape=(LATENT_VECTOR_SIZE,), name='dec_c')\n",
    "decoder_states_inputs = [decoder_state_input_h, decoder_state_input_c]\n",
    "decoder_outputs, state_h, state_c = decoder_lstm_layer(dec_concat, initial_state=decoder_states_inputs)\n",
    "decoder_states = [state_h, state_c]\n",
    "\n",
    "# Define output model\n",
    "decoder_model = Model(decoder_input+decoder_states_inputs,\n",
    "                      [onset_output(decoder_outputs),\n",
    "                       duration_output(decoder_outputs),\n",
    "                       note_output(decoder_outputs)]+decoder_states)\n"
   ]
  },
  {
   "cell_type": "code",
   "execution_count": 12,
   "metadata": {},
   "outputs": [],
   "source": [
    "plot_model(encoder_model, to_file='enc_model.png')\n",
    "plot_model(model, to_file='model.png')\n",
    "plot_model(decoder_model, to_file='dec_model.png')"
   ]
  },
  {
   "cell_type": "markdown",
   "metadata": {},
   "source": [
    "## Define Loss"
   ]
  },
  {
   "cell_type": "code",
   "execution_count": 13,
   "metadata": {},
   "outputs": [],
   "source": [
    "def loss_across_categories(y_true, y_pred):\n",
    "    return K.categorical_crossentropy(y_true[:, 0], y_pred[:, 0]) + \\\n",
    "           K.categorical_crossentropy(y_true[:, 1], y_pred[:, 1]) + \\\n",
    "           3*K.categorical_crossentropy(y_true[:, 2], y_pred[:, 2]) # Extra weight to notes"
   ]
  },
  {
   "cell_type": "code",
   "execution_count": 14,
   "metadata": {},
   "outputs": [],
   "source": [
    "### Compile models!\n",
    "opt = RMSprop(decay=0.0001)\n",
    "encoder_model.compile(optimizer=opt, loss='categorical_crossentropy', metrics=['acc'])\n",
    "model.compile(optimizer=opt, loss='categorical_crossentropy', metrics=['acc'])\n",
    "decoder_model.compile(optimizer=opt, loss='categorical_crossentropy', metrics=['acc'])"
   ]
  },
  {
   "cell_type": "markdown",
   "metadata": {},
   "source": [
    "## Train!"
   ]
  },
  {
   "cell_type": "code",
   "execution_count": 15,
   "metadata": {},
   "outputs": [],
   "source": [
    "EPOCHS = 2000\n",
    "batch_size = 10\n",
    "steps_per_epoch = 100"
   ]
  },
  {
   "cell_type": "code",
   "execution_count": 16,
   "metadata": {},
   "outputs": [],
   "source": [
    "### Callbacks\n",
    "tb = TensorBoard(log_dir='./exp4', histogram_freq=0,  \n",
    "          write_graph=True, write_images=True)"
   ]
  },
  {
   "cell_type": "code",
   "execution_count": null,
   "metadata": {
    "scrolled": true
   },
   "outputs": [
    {
     "name": "stdout",
     "output_type": "stream",
     "text": [
      "Epoch 1/2000\n",
      "100/100 [==============================] - 20s - loss: 7.4199 - dec_onset_out_loss: 1.9715 - dec_duration_out_loss: 1.1641 - dec_note_out_loss: 4.2843 - dec_onset_out_acc: 0.4499 - dec_duration_out_acc: 0.8024 - dec_note_out_acc: 0.0360    \n",
      "Epoch 2/2000\n",
      "100/100 [==============================] - 23s - loss: 6.2572 - dec_onset_out_loss: 1.4386 - dec_duration_out_loss: 0.7873 - dec_note_out_loss: 4.0313 - dec_onset_out_acc: 0.6001 - dec_duration_out_acc: 0.8165 - dec_note_out_acc: 0.0620    \n",
      "Epoch 3/2000\n",
      " 21/100 [=====>........................] - ETA: 17s - loss: 5.9828 - dec_onset_out_loss: 1.3217 - dec_duration_out_loss: 0.6700 - dec_note_out_loss: 3.9910 - dec_onset_out_acc: 0.6219 - dec_duration_out_acc: 0.8390 - dec_note_out_acc: 0.0795"
     ]
    }
   ],
   "source": [
    "model.fit_generator(get_batch(midi_ds, batch_size),\n",
    "                    epochs=EPOCHS,\n",
    "                    steps_per_epoch=steps_per_epoch,\n",
    "                    callbacks=[tb])\n"
   ]
  },
  {
   "cell_type": "code",
   "execution_count": null,
   "metadata": {},
   "outputs": [],
   "source": []
  }
 ],
 "metadata": {
  "kernelspec": {
   "display_name": "stm-venv",
   "language": "python",
   "name": "stm-venv"
  },
  "language_info": {
   "codemirror_mode": {
    "name": "ipython",
    "version": 2
   },
   "file_extension": ".py",
   "mimetype": "text/x-python",
   "name": "python",
   "nbconvert_exporter": "python",
   "pygments_lexer": "ipython2",
   "version": "2.7.12"
  }
 },
 "nbformat": 4,
 "nbformat_minor": 2
}
